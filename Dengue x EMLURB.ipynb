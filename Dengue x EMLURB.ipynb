{
  "nbformat": 4,
  "nbformat_minor": 0,
  "metadata": {
    "colab": {
      "name": "Cópia de Project_1.ipynb",
      "provenance": [],
      "collapsed_sections": [],
      "include_colab_link": true
    },
    "kernelspec": {
      "name": "python3",
      "display_name": "Python 3"
    },
    "language_info": {
      "name": "python"
    }
  },
  "cells": [
    {
      "cell_type": "markdown",
      "metadata": {
        "id": "view-in-github",
        "colab_type": "text"
      },
      "source": [
        "<a href=\"https://colab.research.google.com/github/HiagoAD/GDI2/blob/master/Dengue%20x%20EMLURB.ipynb\" target=\"_parent\"><img src=\"https://colab.research.google.com/assets/colab-badge.svg\" alt=\"Open In Colab\"/></a>"
      ]
    },
    {
      "cell_type": "code",
      "metadata": {
        "id": "qvSv-z8qYhrz"
      },
      "source": [
        "import numpy as np\n",
        "import pandas as pd\n",
        "from scipy import stats\n",
        "import matplotlib.pyplot as plt\n",
        "import calendar"
      ],
      "execution_count": 121,
      "outputs": []
    },
    {
      "cell_type": "code",
      "metadata": {
        "id": "6HGU6r7p7T_t",
        "colab": {
          "base_uri": "https://localhost:8080/"
        },
        "outputId": "b96988b0-47a5-4eed-aac7-3487bc6e32ab"
      },
      "source": [
        "dengue = pd.read_csv(\"https://raw.githubusercontent.com/HiagoAD/GDI2/master/datasets/dengue2020.csv\", encoding =\"UTF-8\")\n",
        "emlurb = pd.read_csv(\"https://raw.githubusercontent.com/HiagoAD/GDI2/master/datasets/emlurb2020.csv\", encoding =\"UTF-8\")\n",
        "\n",
        "dengue19 = pd.read_csv(\"https://raw.githubusercontent.com/HiagoAD/GDI2/master/datasets/dengue2019.csv\", encoding =\"UTF-8\", error_bad_lines=False)\n",
        "emlurb19 = pd.read_csv(\"https://raw.githubusercontent.com/HiagoAD/GDI2/master/datasets/emlurb2019.csv\", encoding =\"UTF-8\")\n",
        "\n",
        "\n",
        "dengue18 = pd.read_csv(\"https://raw.githubusercontent.com/HiagoAD/GDI2/master/datasets/dengue2018.csv\", encoding =\"UTF-8\", error_bad_lines=False)\n",
        "emlurb18 = pd.read_csv(\"https://raw.githubusercontent.com/HiagoAD/GDI2/master/datasets/emlurb2018.csv\", encoding =\"UTF-8\")\n",
        "\n",
        "dengue17 = pd.read_csv(\"https://raw.githubusercontent.com/HiagoAD/GDI2/master/datasets/dengue2017.csv\", encoding =\"UTF-8\", error_bad_lines=False)\n",
        "emlurb17 = pd.read_csv(\"https://raw.githubusercontent.com/HiagoAD/GDI2/master/datasets/emlurb2017.csv\", encoding =\"UTF-8\")\n"
      ],
      "execution_count": 122,
      "outputs": [
        {
          "output_type": "stream",
          "text": [
            "b'Skipping line 108: expected 126 fields, saw 127\\nSkipping line 1485: expected 126 fields, saw 127\\nSkipping line 2584: expected 126 fields, saw 127\\nSkipping line 4415: expected 126 fields, saw 127\\nSkipping line 5659: expected 126 fields, saw 127\\nSkipping line 6469: expected 126 fields, saw 127\\n'\n",
            "/usr/local/lib/python3.7/dist-packages/IPython/core/interactiveshell.py:2718: DtypeWarning: Columns (8) have mixed types.Specify dtype option on import or set low_memory=False.\n",
            "  interactivity=interactivity, compiler=compiler, result=result)\n"
          ],
          "name": "stderr"
        }
      ]
    },
    {
      "cell_type": "markdown",
      "metadata": {
        "id": "RXEnqpXB_QD9"
      },
      "source": [
        "## **Detalhamento de datasets**\n"
      ]
    },
    {
      "cell_type": "code",
      "metadata": {
        "id": "BKkoMG7g_qz3",
        "outputId": "1c70e14f-bfd3-41f1-fcd4-6906846f5d0f",
        "colab": {
          "base_uri": "https://localhost:8080/",
          "height": 206
        }
      },
      "source": [
        "emlurb.head()"
      ],
      "execution_count": 123,
      "outputs": [
        {
          "output_type": "execute_result",
          "data": {
            "text/html": [
              "<div>\n",
              "<style scoped>\n",
              "    .dataframe tbody tr th:only-of-type {\n",
              "        vertical-align: middle;\n",
              "    }\n",
              "\n",
              "    .dataframe tbody tr th {\n",
              "        vertical-align: top;\n",
              "    }\n",
              "\n",
              "    .dataframe thead th {\n",
              "        text-align: right;\n",
              "    }\n",
              "</style>\n",
              "<table border=\"1\" class=\"dataframe\">\n",
              "  <thead>\n",
              "    <tr style=\"text-align: right;\">\n",
              "      <th></th>\n",
              "      <th>_id</th>\n",
              "      <th>GRUPOSERVICO_CODIGO</th>\n",
              "      <th>GRUPOSERVICO_DESCRICAO</th>\n",
              "      <th>SERVICO_CODIGO</th>\n",
              "      <th>SERVICO_DESCRICAO</th>\n",
              "      <th>LOGRADOURO</th>\n",
              "      <th>NUMERO</th>\n",
              "      <th>BAIRRO</th>\n",
              "      <th>RPA</th>\n",
              "      <th>DATA_DEMANDA</th>\n",
              "      <th>SITUACAO</th>\n",
              "      <th>DATA_ULT_SITUACAO</th>\n",
              "    </tr>\n",
              "  </thead>\n",
              "  <tbody>\n",
              "    <tr>\n",
              "      <th>0</th>\n",
              "      <td>1</td>\n",
              "      <td>7</td>\n",
              "      <td>ARBORIZAÇÃO</td>\n",
              "      <td>8</td>\n",
              "      <td>PODA DE ARVORES</td>\n",
              "      <td>1TR  JOSE MENEZES DE LYRA FILHO</td>\n",
              "      <td>34</td>\n",
              "      <td>DOIS UNIDOS</td>\n",
              "      <td>2</td>\n",
              "      <td>2020-07-08T00:00:00</td>\n",
              "      <td>ATENDIDA</td>\n",
              "      <td>2020-09-23T00:00:00</td>\n",
              "    </tr>\n",
              "    <tr>\n",
              "      <th>1</th>\n",
              "      <td>2</td>\n",
              "      <td>7</td>\n",
              "      <td>ARBORIZAÇÃO</td>\n",
              "      <td>8</td>\n",
              "      <td>PODA DE ARVORES</td>\n",
              "      <td>1TR  VIRGILIO CAMPELO</td>\n",
              "      <td>85</td>\n",
              "      <td>MADALENA</td>\n",
              "      <td>4</td>\n",
              "      <td>2020-07-30T00:00:00</td>\n",
              "      <td>ATENDIDA</td>\n",
              "      <td>2020-08-07T00:00:00</td>\n",
              "    </tr>\n",
              "    <tr>\n",
              "      <th>2</th>\n",
              "      <td>3</td>\n",
              "      <td>7</td>\n",
              "      <td>ARBORIZAÇÃO</td>\n",
              "      <td>8</td>\n",
              "      <td>PODA DE ARVORES</td>\n",
              "      <td>1TR SANTA LUCIA</td>\n",
              "      <td>412</td>\n",
              "      <td>IPUTINGA</td>\n",
              "      <td>4</td>\n",
              "      <td>2020-09-10T00:00:00</td>\n",
              "      <td>ATENDIDA</td>\n",
              "      <td>2020-11-10T00:00:00</td>\n",
              "    </tr>\n",
              "    <tr>\n",
              "      <th>3</th>\n",
              "      <td>4</td>\n",
              "      <td>7</td>\n",
              "      <td>ARBORIZAÇÃO</td>\n",
              "      <td>8</td>\n",
              "      <td>PODA DE ARVORES</td>\n",
              "      <td>2TR  REALEZA</td>\n",
              "      <td>776</td>\n",
              "      <td>SAO JOSE</td>\n",
              "      <td>1</td>\n",
              "      <td>2020-10-08T00:00:00</td>\n",
              "      <td>ATENDIDA</td>\n",
              "      <td>2020-12-10T00:00:00</td>\n",
              "    </tr>\n",
              "    <tr>\n",
              "      <th>4</th>\n",
              "      <td>5</td>\n",
              "      <td>7</td>\n",
              "      <td>ARBORIZAÇÃO</td>\n",
              "      <td>8</td>\n",
              "      <td>PODA DE ARVORES</td>\n",
              "      <td>2TR  REALEZA</td>\n",
              "      <td>776</td>\n",
              "      <td>SAO JOSE</td>\n",
              "      <td>1</td>\n",
              "      <td>2020-12-14T00:00:00</td>\n",
              "      <td>ATENDIDA</td>\n",
              "      <td>2020-12-14T00:00:00</td>\n",
              "    </tr>\n",
              "  </tbody>\n",
              "</table>\n",
              "</div>"
            ],
            "text/plain": [
              "   _id  GRUPOSERVICO_CODIGO  ...  SITUACAO    DATA_ULT_SITUACAO\n",
              "0    1                    7  ...  ATENDIDA  2020-09-23T00:00:00\n",
              "1    2                    7  ...  ATENDIDA  2020-08-07T00:00:00\n",
              "2    3                    7  ...  ATENDIDA  2020-11-10T00:00:00\n",
              "3    4                    7  ...  ATENDIDA  2020-12-10T00:00:00\n",
              "4    5                    7  ...  ATENDIDA  2020-12-14T00:00:00\n",
              "\n",
              "[5 rows x 12 columns]"
            ]
          },
          "metadata": {
            "tags": []
          },
          "execution_count": 123
        }
      ]
    },
    {
      "cell_type": "code",
      "metadata": {
        "id": "oYWpsAuz_utl",
        "outputId": "6c2ba156-0650-444b-8606-d9cc06cb255e",
        "colab": {
          "base_uri": "https://localhost:8080/",
          "height": 273
        }
      },
      "source": [
        "dengue.head()"
      ],
      "execution_count": 124,
      "outputs": [
        {
          "output_type": "execute_result",
          "data": {
            "text/html": [
              "<div>\n",
              "<style scoped>\n",
              "    .dataframe tbody tr th:only-of-type {\n",
              "        vertical-align: middle;\n",
              "    }\n",
              "\n",
              "    .dataframe tbody tr th {\n",
              "        vertical-align: top;\n",
              "    }\n",
              "\n",
              "    .dataframe thead th {\n",
              "        text-align: right;\n",
              "    }\n",
              "</style>\n",
              "<table border=\"1\" class=\"dataframe\">\n",
              "  <thead>\n",
              "    <tr style=\"text-align: right;\">\n",
              "      <th></th>\n",
              "      <th>_id</th>\n",
              "      <th>nu_notificacao</th>\n",
              "      <th>tp_notificacao</th>\n",
              "      <th>co_cid</th>\n",
              "      <th>dt_notificacao</th>\n",
              "      <th>ds_semana_notificacao</th>\n",
              "      <th>notificacao_ano</th>\n",
              "      <th>co_uf_notificacao</th>\n",
              "      <th>co_municipio_notificacao</th>\n",
              "      <th>id_regional</th>\n",
              "      <th>co_unidade_notificacao</th>\n",
              "      <th>dt_diagnostico_sintoma</th>\n",
              "      <th>ds_semana_sintoma</th>\n",
              "      <th>dt_nascimento</th>\n",
              "      <th>nu_idade</th>\n",
              "      <th>tp_sexo</th>\n",
              "      <th>tp_gestante</th>\n",
              "      <th>tp_raca_cor</th>\n",
              "      <th>tp_escolaridade</th>\n",
              "      <th>co_uf_residencia</th>\n",
              "      <th>co_municipio_residencia</th>\n",
              "      <th>co_regional_residencia</th>\n",
              "      <th>co_distrito_residencia</th>\n",
              "      <th>co_bairro_residencia</th>\n",
              "      <th>no_bairro_residencia</th>\n",
              "      <th>co_logradouro_residencia</th>\n",
              "      <th>nome_logradouro_residencia</th>\n",
              "      <th>nu_cep_residencia</th>\n",
              "      <th>tp_zona_residencia</th>\n",
              "      <th>co_pais_residencia</th>\n",
              "      <th>dt_investigacao</th>\n",
              "      <th>co_cbo_ocupacao</th>\n",
              "      <th>febre</th>\n",
              "      <th>mialgia</th>\n",
              "      <th>cefaleia</th>\n",
              "      <th>exantema</th>\n",
              "      <th>vomito</th>\n",
              "      <th>nausea</th>\n",
              "      <th>dor_costas</th>\n",
              "      <th>conjutivite</th>\n",
              "      <th>...</th>\n",
              "      <th>dt_encerramento</th>\n",
              "      <th>alrm_hipot</th>\n",
              "      <th>alrm_plaq</th>\n",
              "      <th>alrm_vom</th>\n",
              "      <th>alrm_sang</th>\n",
              "      <th>alrm_hemat</th>\n",
              "      <th>alrm_abdom</th>\n",
              "      <th>alrm_letar</th>\n",
              "      <th>alrm_hepat</th>\n",
              "      <th>alrm_liq</th>\n",
              "      <th>dt_alrm</th>\n",
              "      <th>grav_pulso</th>\n",
              "      <th>grav_conv</th>\n",
              "      <th>grav_ench</th>\n",
              "      <th>grav_insuf</th>\n",
              "      <th>grav_taqui</th>\n",
              "      <th>grav_extre</th>\n",
              "      <th>grav_hipot</th>\n",
              "      <th>grav_hemat</th>\n",
              "      <th>grav_melen</th>\n",
              "      <th>grav_metro</th>\n",
              "      <th>grav_sang</th>\n",
              "      <th>grav_ast</th>\n",
              "      <th>grav_mioc</th>\n",
              "      <th>grav_consc</th>\n",
              "      <th>grav_orgao</th>\n",
              "      <th>dt_grav</th>\n",
              "      <th>mani_hemor</th>\n",
              "      <th>epistaxe</th>\n",
              "      <th>gengivo</th>\n",
              "      <th>metro</th>\n",
              "      <th>petequias</th>\n",
              "      <th>hematura</th>\n",
              "      <th>sangram</th>\n",
              "      <th>laco_n</th>\n",
              "      <th>plasmatico</th>\n",
              "      <th>evidencia</th>\n",
              "      <th>plaq_menor</th>\n",
              "      <th>con_fhd</th>\n",
              "      <th>complica</th>\n",
              "    </tr>\n",
              "  </thead>\n",
              "  <tbody>\n",
              "    <tr>\n",
              "      <th>0</th>\n",
              "      <td>1</td>\n",
              "      <td>3519899</td>\n",
              "      <td>2</td>\n",
              "      <td>A90</td>\n",
              "      <td>2020-06-26T00:00:00</td>\n",
              "      <td>202026</td>\n",
              "      <td>2020</td>\n",
              "      <td>26</td>\n",
              "      <td>261160</td>\n",
              "      <td>1497.0</td>\n",
              "      <td>28924</td>\n",
              "      <td>2020-06-26T00:00:00</td>\n",
              "      <td>202026</td>\n",
              "      <td>1972-06</td>\n",
              "      <td>2021</td>\n",
              "      <td>M</td>\n",
              "      <td>6</td>\n",
              "      <td>9</td>\n",
              "      <td>10.0</td>\n",
              "      <td>26</td>\n",
              "      <td>261160</td>\n",
              "      <td>1497</td>\n",
              "      <td>118.0</td>\n",
              "      <td>18.0</td>\n",
              "      <td>ROSARINHO</td>\n",
              "      <td>NaN</td>\n",
              "      <td>RUA AMARO COUTINHO</td>\n",
              "      <td>52041115.0</td>\n",
              "      <td>1.0</td>\n",
              "      <td>1</td>\n",
              "      <td>2020-06-26T00:00:00</td>\n",
              "      <td>141410.0</td>\n",
              "      <td>1.0</td>\n",
              "      <td>1.0</td>\n",
              "      <td>1.0</td>\n",
              "      <td>2.0</td>\n",
              "      <td>2.0</td>\n",
              "      <td>2.0</td>\n",
              "      <td>2.0</td>\n",
              "      <td>2.0</td>\n",
              "      <td>...</td>\n",
              "      <td>NaN</td>\n",
              "      <td>NaN</td>\n",
              "      <td>NaN</td>\n",
              "      <td>NaN</td>\n",
              "      <td>NaN</td>\n",
              "      <td>NaN</td>\n",
              "      <td>NaN</td>\n",
              "      <td>NaN</td>\n",
              "      <td>NaN</td>\n",
              "      <td>NaN</td>\n",
              "      <td>NaN</td>\n",
              "      <td>NaN</td>\n",
              "      <td>NaN</td>\n",
              "      <td>NaN</td>\n",
              "      <td>NaN</td>\n",
              "      <td>NaN</td>\n",
              "      <td>NaN</td>\n",
              "      <td>NaN</td>\n",
              "      <td>NaN</td>\n",
              "      <td>NaN</td>\n",
              "      <td>NaN</td>\n",
              "      <td>NaN</td>\n",
              "      <td>NaN</td>\n",
              "      <td>NaN</td>\n",
              "      <td>NaN</td>\n",
              "      <td>NaN</td>\n",
              "      <td>NaN</td>\n",
              "      <td>NaN</td>\n",
              "      <td>NaN</td>\n",
              "      <td>NaN</td>\n",
              "      <td>NaN</td>\n",
              "      <td>NaN</td>\n",
              "      <td>NaN</td>\n",
              "      <td>NaN</td>\n",
              "      <td>NaN</td>\n",
              "      <td>NaN</td>\n",
              "      <td>NaN</td>\n",
              "      <td>NaN</td>\n",
              "      <td>NaN</td>\n",
              "      <td>NaN</td>\n",
              "    </tr>\n",
              "    <tr>\n",
              "      <th>1</th>\n",
              "      <td>2</td>\n",
              "      <td>3520984</td>\n",
              "      <td>2</td>\n",
              "      <td>A90</td>\n",
              "      <td>2020-06-22T00:00:00</td>\n",
              "      <td>202026</td>\n",
              "      <td>2020</td>\n",
              "      <td>26</td>\n",
              "      <td>261160</td>\n",
              "      <td>1497.0</td>\n",
              "      <td>6508960</td>\n",
              "      <td>2020-06-22T00:00:00</td>\n",
              "      <td>202026</td>\n",
              "      <td>1999-06</td>\n",
              "      <td>2001</td>\n",
              "      <td>F</td>\n",
              "      <td>6</td>\n",
              "      <td>9</td>\n",
              "      <td>10.0</td>\n",
              "      <td>26</td>\n",
              "      <td>261160</td>\n",
              "      <td>1497</td>\n",
              "      <td>119.0</td>\n",
              "      <td>43.0</td>\n",
              "      <td>CASA AMARELA</td>\n",
              "      <td>NaN</td>\n",
              "      <td>RUA XAVANTES</td>\n",
              "      <td>NaN</td>\n",
              "      <td>NaN</td>\n",
              "      <td>1</td>\n",
              "      <td>2020-06-22T00:00:00</td>\n",
              "      <td>NaN</td>\n",
              "      <td>2.0</td>\n",
              "      <td>2.0</td>\n",
              "      <td>2.0</td>\n",
              "      <td>1.0</td>\n",
              "      <td>2.0</td>\n",
              "      <td>2.0</td>\n",
              "      <td>2.0</td>\n",
              "      <td>2.0</td>\n",
              "      <td>...</td>\n",
              "      <td>2020-07-14T00:00:00</td>\n",
              "      <td>NaN</td>\n",
              "      <td>NaN</td>\n",
              "      <td>NaN</td>\n",
              "      <td>NaN</td>\n",
              "      <td>NaN</td>\n",
              "      <td>NaN</td>\n",
              "      <td>NaN</td>\n",
              "      <td>NaN</td>\n",
              "      <td>NaN</td>\n",
              "      <td>NaN</td>\n",
              "      <td>NaN</td>\n",
              "      <td>NaN</td>\n",
              "      <td>NaN</td>\n",
              "      <td>NaN</td>\n",
              "      <td>NaN</td>\n",
              "      <td>NaN</td>\n",
              "      <td>NaN</td>\n",
              "      <td>NaN</td>\n",
              "      <td>NaN</td>\n",
              "      <td>NaN</td>\n",
              "      <td>NaN</td>\n",
              "      <td>NaN</td>\n",
              "      <td>NaN</td>\n",
              "      <td>NaN</td>\n",
              "      <td>NaN</td>\n",
              "      <td>NaN</td>\n",
              "      <td>NaN</td>\n",
              "      <td>NaN</td>\n",
              "      <td>NaN</td>\n",
              "      <td>NaN</td>\n",
              "      <td>NaN</td>\n",
              "      <td>NaN</td>\n",
              "      <td>NaN</td>\n",
              "      <td>NaN</td>\n",
              "      <td>NaN</td>\n",
              "      <td>NaN</td>\n",
              "      <td>NaN</td>\n",
              "      <td>NaN</td>\n",
              "      <td>NaN</td>\n",
              "    </tr>\n",
              "    <tr>\n",
              "      <th>2</th>\n",
              "      <td>3</td>\n",
              "      <td>3479614</td>\n",
              "      <td>2</td>\n",
              "      <td>A90</td>\n",
              "      <td>2020-01-09T00:00:00</td>\n",
              "      <td>202002</td>\n",
              "      <td>2020</td>\n",
              "      <td>26</td>\n",
              "      <td>261160</td>\n",
              "      <td>1497.0</td>\n",
              "      <td>426</td>\n",
              "      <td>2020-01-04T00:00:00</td>\n",
              "      <td>202001</td>\n",
              "      <td>1990-05</td>\n",
              "      <td>4029</td>\n",
              "      <td>M</td>\n",
              "      <td>6</td>\n",
              "      <td>4</td>\n",
              "      <td>9.0</td>\n",
              "      <td>26</td>\n",
              "      <td>261160</td>\n",
              "      <td>1497</td>\n",
              "      <td>117.0</td>\n",
              "      <td>10.0</td>\n",
              "      <td>SANTO AMARO</td>\n",
              "      <td>NaN</td>\n",
              "      <td>RUA PRINCESA IZABEL</td>\n",
              "      <td>50050970.0</td>\n",
              "      <td>1.0</td>\n",
              "      <td>1</td>\n",
              "      <td>2020-01-09T00:00:00</td>\n",
              "      <td>NaN</td>\n",
              "      <td>1.0</td>\n",
              "      <td>1.0</td>\n",
              "      <td>1.0</td>\n",
              "      <td>1.0</td>\n",
              "      <td>1.0</td>\n",
              "      <td>1.0</td>\n",
              "      <td>2.0</td>\n",
              "      <td>1.0</td>\n",
              "      <td>...</td>\n",
              "      <td>2020-03-09T00:00:00</td>\n",
              "      <td>NaN</td>\n",
              "      <td>NaN</td>\n",
              "      <td>NaN</td>\n",
              "      <td>NaN</td>\n",
              "      <td>NaN</td>\n",
              "      <td>NaN</td>\n",
              "      <td>NaN</td>\n",
              "      <td>NaN</td>\n",
              "      <td>NaN</td>\n",
              "      <td>NaN</td>\n",
              "      <td>NaN</td>\n",
              "      <td>NaN</td>\n",
              "      <td>NaN</td>\n",
              "      <td>NaN</td>\n",
              "      <td>NaN</td>\n",
              "      <td>NaN</td>\n",
              "      <td>NaN</td>\n",
              "      <td>NaN</td>\n",
              "      <td>NaN</td>\n",
              "      <td>NaN</td>\n",
              "      <td>NaN</td>\n",
              "      <td>NaN</td>\n",
              "      <td>NaN</td>\n",
              "      <td>NaN</td>\n",
              "      <td>NaN</td>\n",
              "      <td>NaN</td>\n",
              "      <td>NaN</td>\n",
              "      <td>NaN</td>\n",
              "      <td>NaN</td>\n",
              "      <td>NaN</td>\n",
              "      <td>NaN</td>\n",
              "      <td>NaN</td>\n",
              "      <td>NaN</td>\n",
              "      <td>NaN</td>\n",
              "      <td>NaN</td>\n",
              "      <td>NaN</td>\n",
              "      <td>NaN</td>\n",
              "      <td>NaN</td>\n",
              "      <td>NaN</td>\n",
              "    </tr>\n",
              "    <tr>\n",
              "      <th>3</th>\n",
              "      <td>4</td>\n",
              "      <td>3511079</td>\n",
              "      <td>2</td>\n",
              "      <td>A90</td>\n",
              "      <td>2020-01-03T00:00:00</td>\n",
              "      <td>202001</td>\n",
              "      <td>2020</td>\n",
              "      <td>26</td>\n",
              "      <td>261160</td>\n",
              "      <td>1497.0</td>\n",
              "      <td>6657486</td>\n",
              "      <td>2019-12-31T00:00:00</td>\n",
              "      <td>202001</td>\n",
              "      <td>1980-10</td>\n",
              "      <td>4039</td>\n",
              "      <td>M</td>\n",
              "      <td>6</td>\n",
              "      <td>9</td>\n",
              "      <td>9.0</td>\n",
              "      <td>26</td>\n",
              "      <td>261160</td>\n",
              "      <td>1497</td>\n",
              "      <td>119.0</td>\n",
              "      <td>16.0</td>\n",
              "      <td>GRACAS</td>\n",
              "      <td>NaN</td>\n",
              "      <td>RUA DAS GRAAS</td>\n",
              "      <td>NaN</td>\n",
              "      <td>1.0</td>\n",
              "      <td>1</td>\n",
              "      <td>2020-01-03T00:00:00</td>\n",
              "      <td>NaN</td>\n",
              "      <td>1.0</td>\n",
              "      <td>1.0</td>\n",
              "      <td>2.0</td>\n",
              "      <td>2.0</td>\n",
              "      <td>2.0</td>\n",
              "      <td>2.0</td>\n",
              "      <td>2.0</td>\n",
              "      <td>2.0</td>\n",
              "      <td>...</td>\n",
              "      <td>2020-01-30T00:00:00</td>\n",
              "      <td>NaN</td>\n",
              "      <td>NaN</td>\n",
              "      <td>NaN</td>\n",
              "      <td>NaN</td>\n",
              "      <td>NaN</td>\n",
              "      <td>NaN</td>\n",
              "      <td>NaN</td>\n",
              "      <td>NaN</td>\n",
              "      <td>NaN</td>\n",
              "      <td>NaN</td>\n",
              "      <td>NaN</td>\n",
              "      <td>NaN</td>\n",
              "      <td>NaN</td>\n",
              "      <td>NaN</td>\n",
              "      <td>NaN</td>\n",
              "      <td>NaN</td>\n",
              "      <td>NaN</td>\n",
              "      <td>NaN</td>\n",
              "      <td>NaN</td>\n",
              "      <td>NaN</td>\n",
              "      <td>NaN</td>\n",
              "      <td>NaN</td>\n",
              "      <td>NaN</td>\n",
              "      <td>NaN</td>\n",
              "      <td>NaN</td>\n",
              "      <td>NaN</td>\n",
              "      <td>NaN</td>\n",
              "      <td>NaN</td>\n",
              "      <td>NaN</td>\n",
              "      <td>NaN</td>\n",
              "      <td>NaN</td>\n",
              "      <td>NaN</td>\n",
              "      <td>NaN</td>\n",
              "      <td>NaN</td>\n",
              "      <td>NaN</td>\n",
              "      <td>NaN</td>\n",
              "      <td>NaN</td>\n",
              "      <td>NaN</td>\n",
              "      <td>NaN</td>\n",
              "    </tr>\n",
              "    <tr>\n",
              "      <th>4</th>\n",
              "      <td>5</td>\n",
              "      <td>3551107</td>\n",
              "      <td>2</td>\n",
              "      <td>A90</td>\n",
              "      <td>2020-01-13T00:00:00</td>\n",
              "      <td>202003</td>\n",
              "      <td>2020</td>\n",
              "      <td>26</td>\n",
              "      <td>261160</td>\n",
              "      <td>1497.0</td>\n",
              "      <td>2352516</td>\n",
              "      <td>2020-01-01T00:00:00</td>\n",
              "      <td>202001</td>\n",
              "      <td>1957-10</td>\n",
              "      <td>4062</td>\n",
              "      <td>F</td>\n",
              "      <td>5</td>\n",
              "      <td>9</td>\n",
              "      <td>9.0</td>\n",
              "      <td>26</td>\n",
              "      <td>261160</td>\n",
              "      <td>1497</td>\n",
              "      <td>119.0</td>\n",
              "      <td>19.0</td>\n",
              "      <td>TAMARINEIRA</td>\n",
              "      <td>NaN</td>\n",
              "      <td>AVENIDA CONSELHEIRO ROSA E SILVA</td>\n",
              "      <td>NaN</td>\n",
              "      <td>1.0</td>\n",
              "      <td>1</td>\n",
              "      <td>2020-01-13T00:00:00</td>\n",
              "      <td>NaN</td>\n",
              "      <td>2.0</td>\n",
              "      <td>1.0</td>\n",
              "      <td>2.0</td>\n",
              "      <td>2.0</td>\n",
              "      <td>1.0</td>\n",
              "      <td>1.0</td>\n",
              "      <td>2.0</td>\n",
              "      <td>2.0</td>\n",
              "      <td>...</td>\n",
              "      <td>2020-01-30T00:00:00</td>\n",
              "      <td>NaN</td>\n",
              "      <td>NaN</td>\n",
              "      <td>NaN</td>\n",
              "      <td>NaN</td>\n",
              "      <td>NaN</td>\n",
              "      <td>NaN</td>\n",
              "      <td>NaN</td>\n",
              "      <td>NaN</td>\n",
              "      <td>NaN</td>\n",
              "      <td>NaN</td>\n",
              "      <td>NaN</td>\n",
              "      <td>NaN</td>\n",
              "      <td>NaN</td>\n",
              "      <td>NaN</td>\n",
              "      <td>NaN</td>\n",
              "      <td>NaN</td>\n",
              "      <td>NaN</td>\n",
              "      <td>NaN</td>\n",
              "      <td>NaN</td>\n",
              "      <td>NaN</td>\n",
              "      <td>NaN</td>\n",
              "      <td>NaN</td>\n",
              "      <td>NaN</td>\n",
              "      <td>NaN</td>\n",
              "      <td>NaN</td>\n",
              "      <td>NaN</td>\n",
              "      <td>NaN</td>\n",
              "      <td>NaN</td>\n",
              "      <td>NaN</td>\n",
              "      <td>NaN</td>\n",
              "      <td>NaN</td>\n",
              "      <td>NaN</td>\n",
              "      <td>NaN</td>\n",
              "      <td>NaN</td>\n",
              "      <td>NaN</td>\n",
              "      <td>NaN</td>\n",
              "      <td>NaN</td>\n",
              "      <td>NaN</td>\n",
              "      <td>NaN</td>\n",
              "    </tr>\n",
              "  </tbody>\n",
              "</table>\n",
              "<p>5 rows × 127 columns</p>\n",
              "</div>"
            ],
            "text/plain": [
              "   _id  nu_notificacao  tp_notificacao  ... plaq_menor con_fhd  complica\n",
              "0    1         3519899               2  ...        NaN     NaN       NaN\n",
              "1    2         3520984               2  ...        NaN     NaN       NaN\n",
              "2    3         3479614               2  ...        NaN     NaN       NaN\n",
              "3    4         3511079               2  ...        NaN     NaN       NaN\n",
              "4    5         3551107               2  ...        NaN     NaN       NaN\n",
              "\n",
              "[5 rows x 127 columns]"
            ]
          },
          "metadata": {
            "tags": []
          },
          "execution_count": 124
        }
      ]
    },
    {
      "cell_type": "markdown",
      "metadata": {
        "id": "PwbQXau6OnKH"
      },
      "source": [
        "## **Reorganização de Datasets e merge**"
      ]
    },
    {
      "cell_type": "markdown",
      "metadata": {
        "id": "v6srMQNY2zFU"
      },
      "source": [
        "Como o data frame com dados de dengue é muito robusto, usaremos apenas as colunas que nos interessam. E estas são: bairro e data de registro do caso. Agrupamos os casos por mês e totalizamos as ocorrências mensais. Outras análise podem ser interessantes, como agrupamento por bairro e por dia."
      ]
    },
    {
      "cell_type": "markdown",
      "metadata": {
        "id": "6wJH-198jv2Z"
      },
      "source": [
        " ## Dados de 2020\n"
      ]
    },
    {
      "cell_type": "code",
      "metadata": {
        "colab": {
          "base_uri": "https://localhost:8080/",
          "height": 379
        },
        "id": "V7iQmOamjzLK",
        "outputId": "b0528540-4a96-48e1-86af-550a06b317ea"
      },
      "source": [
        "# Utilizamos apenas as colunas de bairro e de data do registro do caso\n",
        "\n",
        "dengue_data = dengue[[\"no_bairro_residencia\", \"dt_notificacao\"]]\n",
        "dengue_data['dt_notificacao'] = pd.to_datetime(dengue_data['dt_notificacao'])\n",
        "\n",
        "# Número de casos por mês\n",
        "dengue_data = dengue_data.groupby([pd.Grouper(key=\"dt_notificacao\", freq=\"M\")]).size().reset_index(name=\"CASOS_DENGUE\")\n",
        "dengue_data = dengue_data.drop(dengue_data.index[[0]])\n",
        "\n",
        "# Número de casos por bairro\n",
        "# dengue_data.groupby(\"no_bairro_residencia\").size().sort_values(ascending=False).reset_index(name=\"CASOS_DENGUE\")\n",
        "\n",
        "# Número de casos por dia\n",
        "# dengue_data[\"dt_notificacao\"].value_counts().sort_values(ascending=False)\n",
        "\n",
        "display(dengue_data)"
      ],
      "execution_count": 125,
      "outputs": [
        {
          "output_type": "stream",
          "text": [
            "/usr/local/lib/python3.7/dist-packages/ipykernel_launcher.py:4: SettingWithCopyWarning: \n",
            "A value is trying to be set on a copy of a slice from a DataFrame.\n",
            "Try using .loc[row_indexer,col_indexer] = value instead\n",
            "\n",
            "See the caveats in the documentation: https://pandas.pydata.org/pandas-docs/stable/user_guide/indexing.html#returning-a-view-versus-a-copy\n",
            "  after removing the cwd from sys.path.\n"
          ],
          "name": "stderr"
        },
        {
          "output_type": "display_data",
          "data": {
            "text/html": [
              "<div>\n",
              "<style scoped>\n",
              "    .dataframe tbody tr th:only-of-type {\n",
              "        vertical-align: middle;\n",
              "    }\n",
              "\n",
              "    .dataframe tbody tr th {\n",
              "        vertical-align: top;\n",
              "    }\n",
              "\n",
              "    .dataframe thead th {\n",
              "        text-align: right;\n",
              "    }\n",
              "</style>\n",
              "<table border=\"1\" class=\"dataframe\">\n",
              "  <thead>\n",
              "    <tr style=\"text-align: right;\">\n",
              "      <th></th>\n",
              "      <th>dt_notificacao</th>\n",
              "      <th>CASOS_DENGUE</th>\n",
              "    </tr>\n",
              "  </thead>\n",
              "  <tbody>\n",
              "    <tr>\n",
              "      <th>1</th>\n",
              "      <td>2020-01-31</td>\n",
              "      <td>195</td>\n",
              "    </tr>\n",
              "    <tr>\n",
              "      <th>2</th>\n",
              "      <td>2020-02-29</td>\n",
              "      <td>182</td>\n",
              "    </tr>\n",
              "    <tr>\n",
              "      <th>3</th>\n",
              "      <td>2020-03-31</td>\n",
              "      <td>199</td>\n",
              "    </tr>\n",
              "    <tr>\n",
              "      <th>4</th>\n",
              "      <td>2020-04-30</td>\n",
              "      <td>69</td>\n",
              "    </tr>\n",
              "    <tr>\n",
              "      <th>5</th>\n",
              "      <td>2020-05-31</td>\n",
              "      <td>47</td>\n",
              "    </tr>\n",
              "    <tr>\n",
              "      <th>6</th>\n",
              "      <td>2020-06-30</td>\n",
              "      <td>207</td>\n",
              "    </tr>\n",
              "    <tr>\n",
              "      <th>7</th>\n",
              "      <td>2020-07-31</td>\n",
              "      <td>109</td>\n",
              "    </tr>\n",
              "  </tbody>\n",
              "</table>\n",
              "</div>"
            ],
            "text/plain": [
              "  dt_notificacao  CASOS_DENGUE\n",
              "1     2020-01-31           195\n",
              "2     2020-02-29           182\n",
              "3     2020-03-31           199\n",
              "4     2020-04-30            69\n",
              "5     2020-05-31            47\n",
              "6     2020-06-30           207\n",
              "7     2020-07-31           109"
            ]
          },
          "metadata": {
            "tags": []
          }
        }
      ]
    },
    {
      "cell_type": "code",
      "metadata": {
        "colab": {
          "base_uri": "https://localhost:8080/",
          "height": 554
        },
        "id": "fBFhoKpyj_FO",
        "outputId": "92636a14-e393-420b-ae4c-a5846026ea6b"
      },
      "source": [
        "# Utilizamos apenas as colunas de bairro, data de demanda e tipo de serviço\n",
        "\n",
        "emlurb_data = emlurb[[\"GRUPOSERVICO_DESCRICAO\", \"BAIRRO\", \"DATA_DEMANDA\"]]\n",
        "emlurb_data[\"DATA_DEMANDA\"] = pd.to_datetime(emlurb_data[\"DATA_DEMANDA\"])\n",
        "emlurb_data = emlurb_data[(emlurb_data.GRUPOSERVICO_DESCRICAO == \"DRENAGEM\")]\n",
        "\n",
        "print(\"Número de solicitações de drenagem registradas em 2020 = \" + str(len(emlurb_data.index)))\n",
        "\n",
        "# Número de solicitações por mês\n",
        "emlurb_data = emlurb_data.groupby([pd.Grouper(key=\"DATA_DEMANDA\", freq=\"M\")]).size().reset_index(name=\"CHAMADOS_EMLURB\")\n",
        "\n",
        "# Número de casos por bairro\n",
        "# emlurb_data.groupby(\"BAIRRO\").size().sort_values(ascending=False).reset_index(name=\"CASOS_DENGUE\")\n",
        "\n",
        "# Número de casos por dia\n",
        "# emlurb_data.groupby([pd.Grouper(key=\"DATA_DEMANDA\", freq=\"D\")]).size().sort_values(ascending=False).reset_index(name=\"CHAMADOS_EMLURB\")\n",
        "\n",
        "display(emlurb_data)"
      ],
      "execution_count": 126,
      "outputs": [
        {
          "output_type": "stream",
          "text": [
            "Número de solicitações de drenagem registradas em 2020 = 8340\n"
          ],
          "name": "stdout"
        },
        {
          "output_type": "stream",
          "text": [
            "/usr/local/lib/python3.7/dist-packages/ipykernel_launcher.py:4: SettingWithCopyWarning: \n",
            "A value is trying to be set on a copy of a slice from a DataFrame.\n",
            "Try using .loc[row_indexer,col_indexer] = value instead\n",
            "\n",
            "See the caveats in the documentation: https://pandas.pydata.org/pandas-docs/stable/user_guide/indexing.html#returning-a-view-versus-a-copy\n",
            "  after removing the cwd from sys.path.\n"
          ],
          "name": "stderr"
        },
        {
          "output_type": "display_data",
          "data": {
            "text/html": [
              "<div>\n",
              "<style scoped>\n",
              "    .dataframe tbody tr th:only-of-type {\n",
              "        vertical-align: middle;\n",
              "    }\n",
              "\n",
              "    .dataframe tbody tr th {\n",
              "        vertical-align: top;\n",
              "    }\n",
              "\n",
              "    .dataframe thead th {\n",
              "        text-align: right;\n",
              "    }\n",
              "</style>\n",
              "<table border=\"1\" class=\"dataframe\">\n",
              "  <thead>\n",
              "    <tr style=\"text-align: right;\">\n",
              "      <th></th>\n",
              "      <th>DATA_DEMANDA</th>\n",
              "      <th>CHAMADOS_EMLURB</th>\n",
              "    </tr>\n",
              "  </thead>\n",
              "  <tbody>\n",
              "    <tr>\n",
              "      <th>0</th>\n",
              "      <td>2020-01-31</td>\n",
              "      <td>675</td>\n",
              "    </tr>\n",
              "    <tr>\n",
              "      <th>1</th>\n",
              "      <td>2020-02-29</td>\n",
              "      <td>694</td>\n",
              "    </tr>\n",
              "    <tr>\n",
              "      <th>2</th>\n",
              "      <td>2020-03-31</td>\n",
              "      <td>902</td>\n",
              "    </tr>\n",
              "    <tr>\n",
              "      <th>3</th>\n",
              "      <td>2020-04-30</td>\n",
              "      <td>443</td>\n",
              "    </tr>\n",
              "    <tr>\n",
              "      <th>4</th>\n",
              "      <td>2020-05-31</td>\n",
              "      <td>500</td>\n",
              "    </tr>\n",
              "    <tr>\n",
              "      <th>5</th>\n",
              "      <td>2020-06-30</td>\n",
              "      <td>633</td>\n",
              "    </tr>\n",
              "    <tr>\n",
              "      <th>6</th>\n",
              "      <td>2020-07-31</td>\n",
              "      <td>950</td>\n",
              "    </tr>\n",
              "    <tr>\n",
              "      <th>7</th>\n",
              "      <td>2020-08-31</td>\n",
              "      <td>830</td>\n",
              "    </tr>\n",
              "    <tr>\n",
              "      <th>8</th>\n",
              "      <td>2020-09-30</td>\n",
              "      <td>798</td>\n",
              "    </tr>\n",
              "    <tr>\n",
              "      <th>9</th>\n",
              "      <td>2020-10-31</td>\n",
              "      <td>745</td>\n",
              "    </tr>\n",
              "    <tr>\n",
              "      <th>10</th>\n",
              "      <td>2020-11-30</td>\n",
              "      <td>665</td>\n",
              "    </tr>\n",
              "    <tr>\n",
              "      <th>11</th>\n",
              "      <td>2020-12-31</td>\n",
              "      <td>505</td>\n",
              "    </tr>\n",
              "  </tbody>\n",
              "</table>\n",
              "</div>"
            ],
            "text/plain": [
              "   DATA_DEMANDA  CHAMADOS_EMLURB\n",
              "0    2020-01-31              675\n",
              "1    2020-02-29              694\n",
              "2    2020-03-31              902\n",
              "3    2020-04-30              443\n",
              "4    2020-05-31              500\n",
              "5    2020-06-30              633\n",
              "6    2020-07-31              950\n",
              "7    2020-08-31              830\n",
              "8    2020-09-30              798\n",
              "9    2020-10-31              745\n",
              "10   2020-11-30              665\n",
              "11   2020-12-31              505"
            ]
          },
          "metadata": {
            "tags": []
          }
        }
      ]
    },
    {
      "cell_type": "markdown",
      "metadata": {
        "id": "dT-QEfwuFhGq"
      },
      "source": [
        "Agora que temos duas tabelas, **dengue_data**, com informação dos casos de dengue por mês, e **emlurb_data**, com informação dos pedidos de drenagem solicitados pela população por mês, faremos o merge das duas tabelas para unificar todos esses dados.\n"
      ]
    },
    {
      "cell_type": "code",
      "metadata": {
        "id": "K-AxnU0-KfFX",
        "outputId": "6ac1c33c-130c-4c08-ea25-54a09ecc0862",
        "colab": {
          "base_uri": "https://localhost:8080/",
          "height": 269
        }
      },
      "source": [
        "crossed_info = pd.merge(dengue_data, emlurb_data, left_on=[\"dt_notificacao\"],right_on=[\"DATA_DEMANDA\"])\n",
        "\n",
        "display(crossed_info)"
      ],
      "execution_count": 127,
      "outputs": [
        {
          "output_type": "display_data",
          "data": {
            "text/html": [
              "<div>\n",
              "<style scoped>\n",
              "    .dataframe tbody tr th:only-of-type {\n",
              "        vertical-align: middle;\n",
              "    }\n",
              "\n",
              "    .dataframe tbody tr th {\n",
              "        vertical-align: top;\n",
              "    }\n",
              "\n",
              "    .dataframe thead th {\n",
              "        text-align: right;\n",
              "    }\n",
              "</style>\n",
              "<table border=\"1\" class=\"dataframe\">\n",
              "  <thead>\n",
              "    <tr style=\"text-align: right;\">\n",
              "      <th></th>\n",
              "      <th>dt_notificacao</th>\n",
              "      <th>CASOS_DENGUE</th>\n",
              "      <th>DATA_DEMANDA</th>\n",
              "      <th>CHAMADOS_EMLURB</th>\n",
              "    </tr>\n",
              "  </thead>\n",
              "  <tbody>\n",
              "    <tr>\n",
              "      <th>0</th>\n",
              "      <td>2020-01-31</td>\n",
              "      <td>195</td>\n",
              "      <td>2020-01-31</td>\n",
              "      <td>675</td>\n",
              "    </tr>\n",
              "    <tr>\n",
              "      <th>1</th>\n",
              "      <td>2020-02-29</td>\n",
              "      <td>182</td>\n",
              "      <td>2020-02-29</td>\n",
              "      <td>694</td>\n",
              "    </tr>\n",
              "    <tr>\n",
              "      <th>2</th>\n",
              "      <td>2020-03-31</td>\n",
              "      <td>199</td>\n",
              "      <td>2020-03-31</td>\n",
              "      <td>902</td>\n",
              "    </tr>\n",
              "    <tr>\n",
              "      <th>3</th>\n",
              "      <td>2020-04-30</td>\n",
              "      <td>69</td>\n",
              "      <td>2020-04-30</td>\n",
              "      <td>443</td>\n",
              "    </tr>\n",
              "    <tr>\n",
              "      <th>4</th>\n",
              "      <td>2020-05-31</td>\n",
              "      <td>47</td>\n",
              "      <td>2020-05-31</td>\n",
              "      <td>500</td>\n",
              "    </tr>\n",
              "    <tr>\n",
              "      <th>5</th>\n",
              "      <td>2020-06-30</td>\n",
              "      <td>207</td>\n",
              "      <td>2020-06-30</td>\n",
              "      <td>633</td>\n",
              "    </tr>\n",
              "    <tr>\n",
              "      <th>6</th>\n",
              "      <td>2020-07-31</td>\n",
              "      <td>109</td>\n",
              "      <td>2020-07-31</td>\n",
              "      <td>950</td>\n",
              "    </tr>\n",
              "  </tbody>\n",
              "</table>\n",
              "</div>"
            ],
            "text/plain": [
              "  dt_notificacao  CASOS_DENGUE DATA_DEMANDA  CHAMADOS_EMLURB\n",
              "0     2020-01-31           195   2020-01-31              675\n",
              "1     2020-02-29           182   2020-02-29              694\n",
              "2     2020-03-31           199   2020-03-31              902\n",
              "3     2020-04-30            69   2020-04-30              443\n",
              "4     2020-05-31            47   2020-05-31              500\n",
              "5     2020-06-30           207   2020-06-30              633\n",
              "6     2020-07-31           109   2020-07-31              950"
            ]
          },
          "metadata": {
            "tags": []
          }
        }
      ]
    },
    {
      "cell_type": "markdown",
      "metadata": {
        "id": "jYehdeRdGBtp"
      },
      "source": [
        "Com a tabela **crossed_info**, conseguimos reunir o número de casos de dengue e o número de chamados de drenagem por mês no grande Recife. Ainda podemos cruzar as informações com outros parâmetros como bairro, diária, status de solicitação etc."
      ]
    },
    {
      "cell_type": "markdown",
      "metadata": {
        "id": "eIomzXQIQkgW"
      },
      "source": [
        "## Dados de 2019 - 2017\n",
        "\n",
        "\n",
        "Iremos fazer os mesmos tratamentos anteriores para os dados de 2019 até 2017.\n",
        "\n",
        "2016 havia sido adicionado inicialmente, mas foi um ano atípico com uma média de 10x o número de casos mensais (chegando até 6000 casos por mês), decidimos não coloca-lo"
      ]
    },
    {
      "cell_type": "code",
      "metadata": {
        "id": "30I8GCQLQn_S",
        "outputId": "c13209a0-93ac-4753-90c8-1997862cf175",
        "colab": {
          "base_uri": "https://localhost:8080/",
          "height": 1000
        }
      },
      "source": [
        "# Utilizamos apenas as colunas de bairro e de data do registro do caso\n",
        "\n",
        "dengue_data19 = dengue19[[\"no_bairro_residencia\", \"dt_notificacao\"]]\n",
        "dengue_data19['dt_notificacao'] = pd.to_datetime(dengue_data19['dt_notificacao'])\n",
        "\n",
        "dengue_data18 = dengue18[[\"no_bairro_residencia\", \"dt_notificacao\"]]\n",
        "dengue_data18['dt_notificacao'] = pd.to_datetime(dengue_data18['dt_notificacao'])\n",
        "\n",
        "dengue_data17 = dengue17[[\"no_bairro_residencia\", \"dt_notificacao\"]]\n",
        "dengue_data17['dt_notificacao'] = pd.to_datetime(dengue_data17['dt_notificacao'])\n",
        "\n",
        "# Número de casos por mês\n",
        "dengue_data19 = dengue_data19.groupby([pd.Grouper(key=\"dt_notificacao\", freq=\"M\")]).size().reset_index(name=\"CASOS_DENGUE\")\n",
        "dengue_data19 = dengue_data19.drop(dengue_data19.index[[12,13]])\n",
        "\n",
        "dengue_data18 = dengue_data18.groupby([pd.Grouper(key=\"dt_notificacao\", freq=\"M\")]).size().reset_index(name=\"CASOS_DENGUE\")\n",
        "dengue_data18 = dengue_data18.drop(index=[12,13,14,15,16,17,18,19,20,21,22,23,24,25])\n",
        "\n",
        "\n",
        "dengue_data17 = dengue_data17.groupby([pd.Grouper(key=\"dt_notificacao\", freq=\"M\")]).size().reset_index(name=\"CASOS_DENGUE\")\n",
        "dengue_data17 = dengue_data17.drop(index=[12,13,14,15,16,17,18,19,20,21,22,23,24,25,26,27,28,29,30])\n",
        "\n",
        "display(dengue_data19)\n",
        "display(dengue_data18)\n",
        "display(dengue_data17)"
      ],
      "execution_count": 128,
      "outputs": [
        {
          "output_type": "stream",
          "text": [
            "/usr/local/lib/python3.7/dist-packages/ipykernel_launcher.py:4: SettingWithCopyWarning: \n",
            "A value is trying to be set on a copy of a slice from a DataFrame.\n",
            "Try using .loc[row_indexer,col_indexer] = value instead\n",
            "\n",
            "See the caveats in the documentation: https://pandas.pydata.org/pandas-docs/stable/user_guide/indexing.html#returning-a-view-versus-a-copy\n",
            "  after removing the cwd from sys.path.\n",
            "/usr/local/lib/python3.7/dist-packages/ipykernel_launcher.py:7: SettingWithCopyWarning: \n",
            "A value is trying to be set on a copy of a slice from a DataFrame.\n",
            "Try using .loc[row_indexer,col_indexer] = value instead\n",
            "\n",
            "See the caveats in the documentation: https://pandas.pydata.org/pandas-docs/stable/user_guide/indexing.html#returning-a-view-versus-a-copy\n",
            "  import sys\n",
            "/usr/local/lib/python3.7/dist-packages/ipykernel_launcher.py:10: SettingWithCopyWarning: \n",
            "A value is trying to be set on a copy of a slice from a DataFrame.\n",
            "Try using .loc[row_indexer,col_indexer] = value instead\n",
            "\n",
            "See the caveats in the documentation: https://pandas.pydata.org/pandas-docs/stable/user_guide/indexing.html#returning-a-view-versus-a-copy\n",
            "  # Remove the CWD from sys.path while we load stuff.\n"
          ],
          "name": "stderr"
        },
        {
          "output_type": "display_data",
          "data": {
            "text/html": [
              "<div>\n",
              "<style scoped>\n",
              "    .dataframe tbody tr th:only-of-type {\n",
              "        vertical-align: middle;\n",
              "    }\n",
              "\n",
              "    .dataframe tbody tr th {\n",
              "        vertical-align: top;\n",
              "    }\n",
              "\n",
              "    .dataframe thead th {\n",
              "        text-align: right;\n",
              "    }\n",
              "</style>\n",
              "<table border=\"1\" class=\"dataframe\">\n",
              "  <thead>\n",
              "    <tr style=\"text-align: right;\">\n",
              "      <th></th>\n",
              "      <th>dt_notificacao</th>\n",
              "      <th>CASOS_DENGUE</th>\n",
              "    </tr>\n",
              "  </thead>\n",
              "  <tbody>\n",
              "    <tr>\n",
              "      <th>0</th>\n",
              "      <td>2019-01-31</td>\n",
              "      <td>91</td>\n",
              "    </tr>\n",
              "    <tr>\n",
              "      <th>1</th>\n",
              "      <td>2019-02-28</td>\n",
              "      <td>178</td>\n",
              "    </tr>\n",
              "    <tr>\n",
              "      <th>2</th>\n",
              "      <td>2019-03-31</td>\n",
              "      <td>263</td>\n",
              "    </tr>\n",
              "    <tr>\n",
              "      <th>3</th>\n",
              "      <td>2019-04-30</td>\n",
              "      <td>485</td>\n",
              "    </tr>\n",
              "    <tr>\n",
              "      <th>4</th>\n",
              "      <td>2019-05-31</td>\n",
              "      <td>972</td>\n",
              "    </tr>\n",
              "    <tr>\n",
              "      <th>5</th>\n",
              "      <td>2019-06-30</td>\n",
              "      <td>704</td>\n",
              "    </tr>\n",
              "    <tr>\n",
              "      <th>6</th>\n",
              "      <td>2019-07-31</td>\n",
              "      <td>1004</td>\n",
              "    </tr>\n",
              "    <tr>\n",
              "      <th>7</th>\n",
              "      <td>2019-08-31</td>\n",
              "      <td>868</td>\n",
              "    </tr>\n",
              "    <tr>\n",
              "      <th>8</th>\n",
              "      <td>2019-09-30</td>\n",
              "      <td>966</td>\n",
              "    </tr>\n",
              "    <tr>\n",
              "      <th>9</th>\n",
              "      <td>2019-10-31</td>\n",
              "      <td>882</td>\n",
              "    </tr>\n",
              "    <tr>\n",
              "      <th>10</th>\n",
              "      <td>2019-11-30</td>\n",
              "      <td>602</td>\n",
              "    </tr>\n",
              "    <tr>\n",
              "      <th>11</th>\n",
              "      <td>2019-12-31</td>\n",
              "      <td>262</td>\n",
              "    </tr>\n",
              "  </tbody>\n",
              "</table>\n",
              "</div>"
            ],
            "text/plain": [
              "   dt_notificacao  CASOS_DENGUE\n",
              "0      2019-01-31            91\n",
              "1      2019-02-28           178\n",
              "2      2019-03-31           263\n",
              "3      2019-04-30           485\n",
              "4      2019-05-31           972\n",
              "5      2019-06-30           704\n",
              "6      2019-07-31          1004\n",
              "7      2019-08-31           868\n",
              "8      2019-09-30           966\n",
              "9      2019-10-31           882\n",
              "10     2019-11-30           602\n",
              "11     2019-12-31           262"
            ]
          },
          "metadata": {
            "tags": []
          }
        },
        {
          "output_type": "display_data",
          "data": {
            "text/html": [
              "<div>\n",
              "<style scoped>\n",
              "    .dataframe tbody tr th:only-of-type {\n",
              "        vertical-align: middle;\n",
              "    }\n",
              "\n",
              "    .dataframe tbody tr th {\n",
              "        vertical-align: top;\n",
              "    }\n",
              "\n",
              "    .dataframe thead th {\n",
              "        text-align: right;\n",
              "    }\n",
              "</style>\n",
              "<table border=\"1\" class=\"dataframe\">\n",
              "  <thead>\n",
              "    <tr style=\"text-align: right;\">\n",
              "      <th></th>\n",
              "      <th>dt_notificacao</th>\n",
              "      <th>CASOS_DENGUE</th>\n",
              "    </tr>\n",
              "  </thead>\n",
              "  <tbody>\n",
              "    <tr>\n",
              "      <th>0</th>\n",
              "      <td>2018-01-31</td>\n",
              "      <td>73</td>\n",
              "    </tr>\n",
              "    <tr>\n",
              "      <th>1</th>\n",
              "      <td>2018-02-28</td>\n",
              "      <td>130</td>\n",
              "    </tr>\n",
              "    <tr>\n",
              "      <th>2</th>\n",
              "      <td>2018-03-31</td>\n",
              "      <td>151</td>\n",
              "    </tr>\n",
              "    <tr>\n",
              "      <th>3</th>\n",
              "      <td>2018-04-30</td>\n",
              "      <td>344</td>\n",
              "    </tr>\n",
              "    <tr>\n",
              "      <th>4</th>\n",
              "      <td>2018-05-31</td>\n",
              "      <td>419</td>\n",
              "    </tr>\n",
              "    <tr>\n",
              "      <th>5</th>\n",
              "      <td>2018-06-30</td>\n",
              "      <td>311</td>\n",
              "    </tr>\n",
              "    <tr>\n",
              "      <th>6</th>\n",
              "      <td>2018-07-31</td>\n",
              "      <td>263</td>\n",
              "    </tr>\n",
              "    <tr>\n",
              "      <th>7</th>\n",
              "      <td>2018-08-31</td>\n",
              "      <td>241</td>\n",
              "    </tr>\n",
              "    <tr>\n",
              "      <th>8</th>\n",
              "      <td>2018-09-30</td>\n",
              "      <td>166</td>\n",
              "    </tr>\n",
              "    <tr>\n",
              "      <th>9</th>\n",
              "      <td>2018-10-31</td>\n",
              "      <td>198</td>\n",
              "    </tr>\n",
              "    <tr>\n",
              "      <th>10</th>\n",
              "      <td>2018-11-30</td>\n",
              "      <td>172</td>\n",
              "    </tr>\n",
              "    <tr>\n",
              "      <th>11</th>\n",
              "      <td>2018-12-31</td>\n",
              "      <td>138</td>\n",
              "    </tr>\n",
              "  </tbody>\n",
              "</table>\n",
              "</div>"
            ],
            "text/plain": [
              "   dt_notificacao  CASOS_DENGUE\n",
              "0      2018-01-31            73\n",
              "1      2018-02-28           130\n",
              "2      2018-03-31           151\n",
              "3      2018-04-30           344\n",
              "4      2018-05-31           419\n",
              "5      2018-06-30           311\n",
              "6      2018-07-31           263\n",
              "7      2018-08-31           241\n",
              "8      2018-09-30           166\n",
              "9      2018-10-31           198\n",
              "10     2018-11-30           172\n",
              "11     2018-12-31           138"
            ]
          },
          "metadata": {
            "tags": []
          }
        },
        {
          "output_type": "display_data",
          "data": {
            "text/html": [
              "<div>\n",
              "<style scoped>\n",
              "    .dataframe tbody tr th:only-of-type {\n",
              "        vertical-align: middle;\n",
              "    }\n",
              "\n",
              "    .dataframe tbody tr th {\n",
              "        vertical-align: top;\n",
              "    }\n",
              "\n",
              "    .dataframe thead th {\n",
              "        text-align: right;\n",
              "    }\n",
              "</style>\n",
              "<table border=\"1\" class=\"dataframe\">\n",
              "  <thead>\n",
              "    <tr style=\"text-align: right;\">\n",
              "      <th></th>\n",
              "      <th>dt_notificacao</th>\n",
              "      <th>CASOS_DENGUE</th>\n",
              "    </tr>\n",
              "  </thead>\n",
              "  <tbody>\n",
              "    <tr>\n",
              "      <th>0</th>\n",
              "      <td>2017-01-31</td>\n",
              "      <td>169</td>\n",
              "    </tr>\n",
              "    <tr>\n",
              "      <th>1</th>\n",
              "      <td>2017-02-28</td>\n",
              "      <td>230</td>\n",
              "    </tr>\n",
              "    <tr>\n",
              "      <th>2</th>\n",
              "      <td>2017-03-31</td>\n",
              "      <td>333</td>\n",
              "    </tr>\n",
              "    <tr>\n",
              "      <th>3</th>\n",
              "      <td>2017-04-30</td>\n",
              "      <td>213</td>\n",
              "    </tr>\n",
              "    <tr>\n",
              "      <th>4</th>\n",
              "      <td>2017-05-31</td>\n",
              "      <td>273</td>\n",
              "    </tr>\n",
              "    <tr>\n",
              "      <th>5</th>\n",
              "      <td>2017-06-30</td>\n",
              "      <td>279</td>\n",
              "    </tr>\n",
              "    <tr>\n",
              "      <th>6</th>\n",
              "      <td>2017-07-31</td>\n",
              "      <td>115</td>\n",
              "    </tr>\n",
              "    <tr>\n",
              "      <th>7</th>\n",
              "      <td>2017-08-31</td>\n",
              "      <td>196</td>\n",
              "    </tr>\n",
              "    <tr>\n",
              "      <th>8</th>\n",
              "      <td>2017-09-30</td>\n",
              "      <td>190</td>\n",
              "    </tr>\n",
              "    <tr>\n",
              "      <th>9</th>\n",
              "      <td>2017-10-31</td>\n",
              "      <td>183</td>\n",
              "    </tr>\n",
              "    <tr>\n",
              "      <th>10</th>\n",
              "      <td>2017-11-30</td>\n",
              "      <td>123</td>\n",
              "    </tr>\n",
              "    <tr>\n",
              "      <th>11</th>\n",
              "      <td>2017-12-31</td>\n",
              "      <td>111</td>\n",
              "    </tr>\n",
              "  </tbody>\n",
              "</table>\n",
              "</div>"
            ],
            "text/plain": [
              "   dt_notificacao  CASOS_DENGUE\n",
              "0      2017-01-31           169\n",
              "1      2017-02-28           230\n",
              "2      2017-03-31           333\n",
              "3      2017-04-30           213\n",
              "4      2017-05-31           273\n",
              "5      2017-06-30           279\n",
              "6      2017-07-31           115\n",
              "7      2017-08-31           196\n",
              "8      2017-09-30           190\n",
              "9      2017-10-31           183\n",
              "10     2017-11-30           123\n",
              "11     2017-12-31           111"
            ]
          },
          "metadata": {
            "tags": []
          }
        }
      ]
    },
    {
      "cell_type": "code",
      "metadata": {
        "id": "F7cn4tzVQuIX",
        "outputId": "381dc8b4-94ed-4e95-e94b-098e4626635b",
        "colab": {
          "base_uri": "https://localhost:8080/",
          "height": 1000
        }
      },
      "source": [
        "# Utilizamos apenas as colunas de bairro, data de demanda e tipo de serviço\n",
        "\n",
        "emlurb_data19 = emlurb19[[\"GRUPOSERVICO_DESCRICAO\", \"BAIRRO\", \"DATA_DEMANDA\"]]\n",
        "emlurb_data19[\"DATA_DEMANDA\"] = pd.to_datetime(emlurb_data19[\"DATA_DEMANDA\"])\n",
        "emlurb_data19 = emlurb_data19[(emlurb_data19.GRUPOSERVICO_DESCRICAO == \"DRENAGEM\")]\n",
        "\n",
        "emlurb_data18 = emlurb18[[\"GRUPOSERVICO_DESCRICAO\", \"BAIRRO\", \"DATA_DEMANDA\"]]\n",
        "emlurb_data18[\"DATA_DEMANDA\"] = pd.to_datetime(emlurb_data18[\"DATA_DEMANDA\"])\n",
        "emlurb_data18 = emlurb_data18[(emlurb_data18.GRUPOSERVICO_DESCRICAO == \"DRENAGEM\")]\n",
        "\n",
        "emlurb_data17 = emlurb17[[\"GRUPOSERVICO_DESCRICAO\", \"BAIRRO\", \"DATA_DEMANDA\"]]\n",
        "emlurb_data17 = emlurb_data17[(emlurb_data17.GRUPOSERVICO_DESCRICAO == \"DRENAGEM\")]\n",
        "emlurb_data17[\"DATA_DEMANDA\"] = pd.to_datetime(emlurb_data17[\"DATA_DEMANDA\"])\n",
        "\n",
        "# # Número de solicitações por mês\n",
        "emlurb_data19 = emlurb_data19.groupby([pd.Grouper(key=\"DATA_DEMANDA\", freq=\"M\")]).size().reset_index(name=\"CHAMADOS_EMLURB\")\n",
        "emlurb_data18 = emlurb_data18.groupby([pd.Grouper(key=\"DATA_DEMANDA\", freq=\"M\")]).size().reset_index(name=\"CHAMADOS_EMLURB\")\n",
        "emlurb_data17 = emlurb_data17.groupby([pd.Grouper(key=\"DATA_DEMANDA\", freq=\"M\")]).size().reset_index(name=\"CHAMADOS_EMLURB\")\n",
        "\n",
        "display(emlurb_data19)\n",
        "display(emlurb_data18)\n",
        "display(emlurb_data17)"
      ],
      "execution_count": 134,
      "outputs": [
        {
          "output_type": "stream",
          "text": [
            "/usr/local/lib/python3.7/dist-packages/ipykernel_launcher.py:4: SettingWithCopyWarning: \n",
            "A value is trying to be set on a copy of a slice from a DataFrame.\n",
            "Try using .loc[row_indexer,col_indexer] = value instead\n",
            "\n",
            "See the caveats in the documentation: https://pandas.pydata.org/pandas-docs/stable/user_guide/indexing.html#returning-a-view-versus-a-copy\n",
            "  after removing the cwd from sys.path.\n",
            "/usr/local/lib/python3.7/dist-packages/ipykernel_launcher.py:8: SettingWithCopyWarning: \n",
            "A value is trying to be set on a copy of a slice from a DataFrame.\n",
            "Try using .loc[row_indexer,col_indexer] = value instead\n",
            "\n",
            "See the caveats in the documentation: https://pandas.pydata.org/pandas-docs/stable/user_guide/indexing.html#returning-a-view-versus-a-copy\n",
            "  \n"
          ],
          "name": "stderr"
        },
        {
          "output_type": "display_data",
          "data": {
            "text/html": [
              "<div>\n",
              "<style scoped>\n",
              "    .dataframe tbody tr th:only-of-type {\n",
              "        vertical-align: middle;\n",
              "    }\n",
              "\n",
              "    .dataframe tbody tr th {\n",
              "        vertical-align: top;\n",
              "    }\n",
              "\n",
              "    .dataframe thead th {\n",
              "        text-align: right;\n",
              "    }\n",
              "</style>\n",
              "<table border=\"1\" class=\"dataframe\">\n",
              "  <thead>\n",
              "    <tr style=\"text-align: right;\">\n",
              "      <th></th>\n",
              "      <th>DATA_DEMANDA</th>\n",
              "      <th>CHAMADOS_EMLURB</th>\n",
              "    </tr>\n",
              "  </thead>\n",
              "  <tbody>\n",
              "    <tr>\n",
              "      <th>0</th>\n",
              "      <td>2019-01-31</td>\n",
              "      <td>664</td>\n",
              "    </tr>\n",
              "    <tr>\n",
              "      <th>1</th>\n",
              "      <td>2019-02-28</td>\n",
              "      <td>950</td>\n",
              "    </tr>\n",
              "    <tr>\n",
              "      <th>2</th>\n",
              "      <td>2019-03-31</td>\n",
              "      <td>740</td>\n",
              "    </tr>\n",
              "    <tr>\n",
              "      <th>3</th>\n",
              "      <td>2019-04-30</td>\n",
              "      <td>1052</td>\n",
              "    </tr>\n",
              "    <tr>\n",
              "      <th>4</th>\n",
              "      <td>2019-05-31</td>\n",
              "      <td>1132</td>\n",
              "    </tr>\n",
              "    <tr>\n",
              "      <th>5</th>\n",
              "      <td>2019-06-30</td>\n",
              "      <td>933</td>\n",
              "    </tr>\n",
              "    <tr>\n",
              "      <th>6</th>\n",
              "      <td>2019-07-31</td>\n",
              "      <td>1018</td>\n",
              "    </tr>\n",
              "    <tr>\n",
              "      <th>7</th>\n",
              "      <td>2019-08-31</td>\n",
              "      <td>928</td>\n",
              "    </tr>\n",
              "    <tr>\n",
              "      <th>8</th>\n",
              "      <td>2019-09-30</td>\n",
              "      <td>884</td>\n",
              "    </tr>\n",
              "    <tr>\n",
              "      <th>9</th>\n",
              "      <td>2019-10-31</td>\n",
              "      <td>1049</td>\n",
              "    </tr>\n",
              "    <tr>\n",
              "      <th>10</th>\n",
              "      <td>2019-11-30</td>\n",
              "      <td>735</td>\n",
              "    </tr>\n",
              "    <tr>\n",
              "      <th>11</th>\n",
              "      <td>2019-12-31</td>\n",
              "      <td>568</td>\n",
              "    </tr>\n",
              "  </tbody>\n",
              "</table>\n",
              "</div>"
            ],
            "text/plain": [
              "   DATA_DEMANDA  CHAMADOS_EMLURB\n",
              "0    2019-01-31              664\n",
              "1    2019-02-28              950\n",
              "2    2019-03-31              740\n",
              "3    2019-04-30             1052\n",
              "4    2019-05-31             1132\n",
              "5    2019-06-30              933\n",
              "6    2019-07-31             1018\n",
              "7    2019-08-31              928\n",
              "8    2019-09-30              884\n",
              "9    2019-10-31             1049\n",
              "10   2019-11-30              735\n",
              "11   2019-12-31              568"
            ]
          },
          "metadata": {
            "tags": []
          }
        },
        {
          "output_type": "display_data",
          "data": {
            "text/html": [
              "<div>\n",
              "<style scoped>\n",
              "    .dataframe tbody tr th:only-of-type {\n",
              "        vertical-align: middle;\n",
              "    }\n",
              "\n",
              "    .dataframe tbody tr th {\n",
              "        vertical-align: top;\n",
              "    }\n",
              "\n",
              "    .dataframe thead th {\n",
              "        text-align: right;\n",
              "    }\n",
              "</style>\n",
              "<table border=\"1\" class=\"dataframe\">\n",
              "  <thead>\n",
              "    <tr style=\"text-align: right;\">\n",
              "      <th></th>\n",
              "      <th>DATA_DEMANDA</th>\n",
              "      <th>CHAMADOS_EMLURB</th>\n",
              "    </tr>\n",
              "  </thead>\n",
              "  <tbody>\n",
              "    <tr>\n",
              "      <th>0</th>\n",
              "      <td>2018-01-31</td>\n",
              "      <td>727</td>\n",
              "    </tr>\n",
              "    <tr>\n",
              "      <th>1</th>\n",
              "      <td>2018-02-28</td>\n",
              "      <td>894</td>\n",
              "    </tr>\n",
              "    <tr>\n",
              "      <th>2</th>\n",
              "      <td>2018-03-31</td>\n",
              "      <td>1052</td>\n",
              "    </tr>\n",
              "    <tr>\n",
              "      <th>3</th>\n",
              "      <td>2018-04-30</td>\n",
              "      <td>1245</td>\n",
              "    </tr>\n",
              "    <tr>\n",
              "      <th>4</th>\n",
              "      <td>2018-05-31</td>\n",
              "      <td>980</td>\n",
              "    </tr>\n",
              "    <tr>\n",
              "      <th>5</th>\n",
              "      <td>2018-06-30</td>\n",
              "      <td>844</td>\n",
              "    </tr>\n",
              "    <tr>\n",
              "      <th>6</th>\n",
              "      <td>2018-07-31</td>\n",
              "      <td>811</td>\n",
              "    </tr>\n",
              "    <tr>\n",
              "      <th>7</th>\n",
              "      <td>2018-08-31</td>\n",
              "      <td>834</td>\n",
              "    </tr>\n",
              "    <tr>\n",
              "      <th>8</th>\n",
              "      <td>2018-09-30</td>\n",
              "      <td>732</td>\n",
              "    </tr>\n",
              "    <tr>\n",
              "      <th>9</th>\n",
              "      <td>2018-10-31</td>\n",
              "      <td>605</td>\n",
              "    </tr>\n",
              "    <tr>\n",
              "      <th>10</th>\n",
              "      <td>2018-11-30</td>\n",
              "      <td>651</td>\n",
              "    </tr>\n",
              "    <tr>\n",
              "      <th>11</th>\n",
              "      <td>2018-12-31</td>\n",
              "      <td>544</td>\n",
              "    </tr>\n",
              "  </tbody>\n",
              "</table>\n",
              "</div>"
            ],
            "text/plain": [
              "   DATA_DEMANDA  CHAMADOS_EMLURB\n",
              "0    2018-01-31              727\n",
              "1    2018-02-28              894\n",
              "2    2018-03-31             1052\n",
              "3    2018-04-30             1245\n",
              "4    2018-05-31              980\n",
              "5    2018-06-30              844\n",
              "6    2018-07-31              811\n",
              "7    2018-08-31              834\n",
              "8    2018-09-30              732\n",
              "9    2018-10-31              605\n",
              "10   2018-11-30              651\n",
              "11   2018-12-31              544"
            ]
          },
          "metadata": {
            "tags": []
          }
        },
        {
          "output_type": "display_data",
          "data": {
            "text/html": [
              "<div>\n",
              "<style scoped>\n",
              "    .dataframe tbody tr th:only-of-type {\n",
              "        vertical-align: middle;\n",
              "    }\n",
              "\n",
              "    .dataframe tbody tr th {\n",
              "        vertical-align: top;\n",
              "    }\n",
              "\n",
              "    .dataframe thead th {\n",
              "        text-align: right;\n",
              "    }\n",
              "</style>\n",
              "<table border=\"1\" class=\"dataframe\">\n",
              "  <thead>\n",
              "    <tr style=\"text-align: right;\">\n",
              "      <th></th>\n",
              "      <th>DATA_DEMANDA</th>\n",
              "      <th>CHAMADOS_EMLURB</th>\n",
              "    </tr>\n",
              "  </thead>\n",
              "  <tbody>\n",
              "    <tr>\n",
              "      <th>0</th>\n",
              "      <td>2017-01-31</td>\n",
              "      <td>497</td>\n",
              "    </tr>\n",
              "    <tr>\n",
              "      <th>1</th>\n",
              "      <td>2017-02-28</td>\n",
              "      <td>491</td>\n",
              "    </tr>\n",
              "    <tr>\n",
              "      <th>2</th>\n",
              "      <td>2017-03-31</td>\n",
              "      <td>989</td>\n",
              "    </tr>\n",
              "    <tr>\n",
              "      <th>3</th>\n",
              "      <td>2017-04-30</td>\n",
              "      <td>804</td>\n",
              "    </tr>\n",
              "    <tr>\n",
              "      <th>4</th>\n",
              "      <td>2017-05-31</td>\n",
              "      <td>916</td>\n",
              "    </tr>\n",
              "    <tr>\n",
              "      <th>5</th>\n",
              "      <td>2017-06-30</td>\n",
              "      <td>1033</td>\n",
              "    </tr>\n",
              "    <tr>\n",
              "      <th>6</th>\n",
              "      <td>2017-07-31</td>\n",
              "      <td>1247</td>\n",
              "    </tr>\n",
              "    <tr>\n",
              "      <th>7</th>\n",
              "      <td>2017-08-31</td>\n",
              "      <td>1158</td>\n",
              "    </tr>\n",
              "    <tr>\n",
              "      <th>8</th>\n",
              "      <td>2017-09-30</td>\n",
              "      <td>719</td>\n",
              "    </tr>\n",
              "    <tr>\n",
              "      <th>9</th>\n",
              "      <td>2017-10-31</td>\n",
              "      <td>611</td>\n",
              "    </tr>\n",
              "    <tr>\n",
              "      <th>10</th>\n",
              "      <td>2017-11-30</td>\n",
              "      <td>600</td>\n",
              "    </tr>\n",
              "    <tr>\n",
              "      <th>11</th>\n",
              "      <td>2017-12-31</td>\n",
              "      <td>670</td>\n",
              "    </tr>\n",
              "  </tbody>\n",
              "</table>\n",
              "</div>"
            ],
            "text/plain": [
              "   DATA_DEMANDA  CHAMADOS_EMLURB\n",
              "0    2017-01-31              497\n",
              "1    2017-02-28              491\n",
              "2    2017-03-31              989\n",
              "3    2017-04-30              804\n",
              "4    2017-05-31              916\n",
              "5    2017-06-30             1033\n",
              "6    2017-07-31             1247\n",
              "7    2017-08-31             1158\n",
              "8    2017-09-30              719\n",
              "9    2017-10-31              611\n",
              "10   2017-11-30              600\n",
              "11   2017-12-31              670"
            ]
          },
          "metadata": {
            "tags": []
          }
        }
      ]
    },
    {
      "cell_type": "code",
      "metadata": {
        "colab": {
          "base_uri": "https://localhost:8080/",
          "height": 1000
        },
        "id": "yP3f5B00Q_0M",
        "outputId": "e6d47fd0-5dea-4f92-f650-10d91c46c2e4"
      },
      "source": [
        "crossed_info19 = pd.merge(dengue_data19, emlurb_data19, left_on=[\"dt_notificacao\"],right_on=[\"DATA_DEMANDA\"])\n",
        "display(crossed_info19)\n",
        "\n",
        "crossed_info18 = pd.merge(dengue_data18, emlurb_data18, left_on=[\"dt_notificacao\"],right_on=[\"DATA_DEMANDA\"])\n",
        "display(crossed_info18)\n",
        "\n",
        "crossed_info17 = pd.merge(dengue_data17, emlurb_data17, left_on=[\"dt_notificacao\"],right_on=[\"DATA_DEMANDA\"])\n",
        "display(crossed_info17)"
      ],
      "execution_count": 135,
      "outputs": [
        {
          "output_type": "display_data",
          "data": {
            "text/html": [
              "<div>\n",
              "<style scoped>\n",
              "    .dataframe tbody tr th:only-of-type {\n",
              "        vertical-align: middle;\n",
              "    }\n",
              "\n",
              "    .dataframe tbody tr th {\n",
              "        vertical-align: top;\n",
              "    }\n",
              "\n",
              "    .dataframe thead th {\n",
              "        text-align: right;\n",
              "    }\n",
              "</style>\n",
              "<table border=\"1\" class=\"dataframe\">\n",
              "  <thead>\n",
              "    <tr style=\"text-align: right;\">\n",
              "      <th></th>\n",
              "      <th>dt_notificacao</th>\n",
              "      <th>CASOS_DENGUE</th>\n",
              "      <th>DATA_DEMANDA</th>\n",
              "      <th>CHAMADOS_EMLURB</th>\n",
              "    </tr>\n",
              "  </thead>\n",
              "  <tbody>\n",
              "    <tr>\n",
              "      <th>0</th>\n",
              "      <td>2019-01-31</td>\n",
              "      <td>91</td>\n",
              "      <td>2019-01-31</td>\n",
              "      <td>664</td>\n",
              "    </tr>\n",
              "    <tr>\n",
              "      <th>1</th>\n",
              "      <td>2019-02-28</td>\n",
              "      <td>178</td>\n",
              "      <td>2019-02-28</td>\n",
              "      <td>950</td>\n",
              "    </tr>\n",
              "    <tr>\n",
              "      <th>2</th>\n",
              "      <td>2019-03-31</td>\n",
              "      <td>263</td>\n",
              "      <td>2019-03-31</td>\n",
              "      <td>740</td>\n",
              "    </tr>\n",
              "    <tr>\n",
              "      <th>3</th>\n",
              "      <td>2019-04-30</td>\n",
              "      <td>485</td>\n",
              "      <td>2019-04-30</td>\n",
              "      <td>1052</td>\n",
              "    </tr>\n",
              "    <tr>\n",
              "      <th>4</th>\n",
              "      <td>2019-05-31</td>\n",
              "      <td>972</td>\n",
              "      <td>2019-05-31</td>\n",
              "      <td>1132</td>\n",
              "    </tr>\n",
              "    <tr>\n",
              "      <th>5</th>\n",
              "      <td>2019-06-30</td>\n",
              "      <td>704</td>\n",
              "      <td>2019-06-30</td>\n",
              "      <td>933</td>\n",
              "    </tr>\n",
              "    <tr>\n",
              "      <th>6</th>\n",
              "      <td>2019-07-31</td>\n",
              "      <td>1004</td>\n",
              "      <td>2019-07-31</td>\n",
              "      <td>1018</td>\n",
              "    </tr>\n",
              "    <tr>\n",
              "      <th>7</th>\n",
              "      <td>2019-08-31</td>\n",
              "      <td>868</td>\n",
              "      <td>2019-08-31</td>\n",
              "      <td>928</td>\n",
              "    </tr>\n",
              "    <tr>\n",
              "      <th>8</th>\n",
              "      <td>2019-09-30</td>\n",
              "      <td>966</td>\n",
              "      <td>2019-09-30</td>\n",
              "      <td>884</td>\n",
              "    </tr>\n",
              "    <tr>\n",
              "      <th>9</th>\n",
              "      <td>2019-10-31</td>\n",
              "      <td>882</td>\n",
              "      <td>2019-10-31</td>\n",
              "      <td>1049</td>\n",
              "    </tr>\n",
              "    <tr>\n",
              "      <th>10</th>\n",
              "      <td>2019-11-30</td>\n",
              "      <td>602</td>\n",
              "      <td>2019-11-30</td>\n",
              "      <td>735</td>\n",
              "    </tr>\n",
              "    <tr>\n",
              "      <th>11</th>\n",
              "      <td>2019-12-31</td>\n",
              "      <td>262</td>\n",
              "      <td>2019-12-31</td>\n",
              "      <td>568</td>\n",
              "    </tr>\n",
              "  </tbody>\n",
              "</table>\n",
              "</div>"
            ],
            "text/plain": [
              "   dt_notificacao  CASOS_DENGUE DATA_DEMANDA  CHAMADOS_EMLURB\n",
              "0      2019-01-31            91   2019-01-31              664\n",
              "1      2019-02-28           178   2019-02-28              950\n",
              "2      2019-03-31           263   2019-03-31              740\n",
              "3      2019-04-30           485   2019-04-30             1052\n",
              "4      2019-05-31           972   2019-05-31             1132\n",
              "5      2019-06-30           704   2019-06-30              933\n",
              "6      2019-07-31          1004   2019-07-31             1018\n",
              "7      2019-08-31           868   2019-08-31              928\n",
              "8      2019-09-30           966   2019-09-30              884\n",
              "9      2019-10-31           882   2019-10-31             1049\n",
              "10     2019-11-30           602   2019-11-30              735\n",
              "11     2019-12-31           262   2019-12-31              568"
            ]
          },
          "metadata": {
            "tags": []
          }
        },
        {
          "output_type": "display_data",
          "data": {
            "text/html": [
              "<div>\n",
              "<style scoped>\n",
              "    .dataframe tbody tr th:only-of-type {\n",
              "        vertical-align: middle;\n",
              "    }\n",
              "\n",
              "    .dataframe tbody tr th {\n",
              "        vertical-align: top;\n",
              "    }\n",
              "\n",
              "    .dataframe thead th {\n",
              "        text-align: right;\n",
              "    }\n",
              "</style>\n",
              "<table border=\"1\" class=\"dataframe\">\n",
              "  <thead>\n",
              "    <tr style=\"text-align: right;\">\n",
              "      <th></th>\n",
              "      <th>dt_notificacao</th>\n",
              "      <th>CASOS_DENGUE</th>\n",
              "      <th>DATA_DEMANDA</th>\n",
              "      <th>CHAMADOS_EMLURB</th>\n",
              "    </tr>\n",
              "  </thead>\n",
              "  <tbody>\n",
              "    <tr>\n",
              "      <th>0</th>\n",
              "      <td>2018-01-31</td>\n",
              "      <td>73</td>\n",
              "      <td>2018-01-31</td>\n",
              "      <td>727</td>\n",
              "    </tr>\n",
              "    <tr>\n",
              "      <th>1</th>\n",
              "      <td>2018-02-28</td>\n",
              "      <td>130</td>\n",
              "      <td>2018-02-28</td>\n",
              "      <td>894</td>\n",
              "    </tr>\n",
              "    <tr>\n",
              "      <th>2</th>\n",
              "      <td>2018-03-31</td>\n",
              "      <td>151</td>\n",
              "      <td>2018-03-31</td>\n",
              "      <td>1052</td>\n",
              "    </tr>\n",
              "    <tr>\n",
              "      <th>3</th>\n",
              "      <td>2018-04-30</td>\n",
              "      <td>344</td>\n",
              "      <td>2018-04-30</td>\n",
              "      <td>1245</td>\n",
              "    </tr>\n",
              "    <tr>\n",
              "      <th>4</th>\n",
              "      <td>2018-05-31</td>\n",
              "      <td>419</td>\n",
              "      <td>2018-05-31</td>\n",
              "      <td>980</td>\n",
              "    </tr>\n",
              "    <tr>\n",
              "      <th>5</th>\n",
              "      <td>2018-06-30</td>\n",
              "      <td>311</td>\n",
              "      <td>2018-06-30</td>\n",
              "      <td>844</td>\n",
              "    </tr>\n",
              "    <tr>\n",
              "      <th>6</th>\n",
              "      <td>2018-07-31</td>\n",
              "      <td>263</td>\n",
              "      <td>2018-07-31</td>\n",
              "      <td>811</td>\n",
              "    </tr>\n",
              "    <tr>\n",
              "      <th>7</th>\n",
              "      <td>2018-08-31</td>\n",
              "      <td>241</td>\n",
              "      <td>2018-08-31</td>\n",
              "      <td>834</td>\n",
              "    </tr>\n",
              "    <tr>\n",
              "      <th>8</th>\n",
              "      <td>2018-09-30</td>\n",
              "      <td>166</td>\n",
              "      <td>2018-09-30</td>\n",
              "      <td>732</td>\n",
              "    </tr>\n",
              "    <tr>\n",
              "      <th>9</th>\n",
              "      <td>2018-10-31</td>\n",
              "      <td>198</td>\n",
              "      <td>2018-10-31</td>\n",
              "      <td>605</td>\n",
              "    </tr>\n",
              "    <tr>\n",
              "      <th>10</th>\n",
              "      <td>2018-11-30</td>\n",
              "      <td>172</td>\n",
              "      <td>2018-11-30</td>\n",
              "      <td>651</td>\n",
              "    </tr>\n",
              "    <tr>\n",
              "      <th>11</th>\n",
              "      <td>2018-12-31</td>\n",
              "      <td>138</td>\n",
              "      <td>2018-12-31</td>\n",
              "      <td>544</td>\n",
              "    </tr>\n",
              "  </tbody>\n",
              "</table>\n",
              "</div>"
            ],
            "text/plain": [
              "   dt_notificacao  CASOS_DENGUE DATA_DEMANDA  CHAMADOS_EMLURB\n",
              "0      2018-01-31            73   2018-01-31              727\n",
              "1      2018-02-28           130   2018-02-28              894\n",
              "2      2018-03-31           151   2018-03-31             1052\n",
              "3      2018-04-30           344   2018-04-30             1245\n",
              "4      2018-05-31           419   2018-05-31              980\n",
              "5      2018-06-30           311   2018-06-30              844\n",
              "6      2018-07-31           263   2018-07-31              811\n",
              "7      2018-08-31           241   2018-08-31              834\n",
              "8      2018-09-30           166   2018-09-30              732\n",
              "9      2018-10-31           198   2018-10-31              605\n",
              "10     2018-11-30           172   2018-11-30              651\n",
              "11     2018-12-31           138   2018-12-31              544"
            ]
          },
          "metadata": {
            "tags": []
          }
        },
        {
          "output_type": "display_data",
          "data": {
            "text/html": [
              "<div>\n",
              "<style scoped>\n",
              "    .dataframe tbody tr th:only-of-type {\n",
              "        vertical-align: middle;\n",
              "    }\n",
              "\n",
              "    .dataframe tbody tr th {\n",
              "        vertical-align: top;\n",
              "    }\n",
              "\n",
              "    .dataframe thead th {\n",
              "        text-align: right;\n",
              "    }\n",
              "</style>\n",
              "<table border=\"1\" class=\"dataframe\">\n",
              "  <thead>\n",
              "    <tr style=\"text-align: right;\">\n",
              "      <th></th>\n",
              "      <th>dt_notificacao</th>\n",
              "      <th>CASOS_DENGUE</th>\n",
              "      <th>DATA_DEMANDA</th>\n",
              "      <th>CHAMADOS_EMLURB</th>\n",
              "    </tr>\n",
              "  </thead>\n",
              "  <tbody>\n",
              "    <tr>\n",
              "      <th>0</th>\n",
              "      <td>2017-01-31</td>\n",
              "      <td>169</td>\n",
              "      <td>2017-01-31</td>\n",
              "      <td>497</td>\n",
              "    </tr>\n",
              "    <tr>\n",
              "      <th>1</th>\n",
              "      <td>2017-02-28</td>\n",
              "      <td>230</td>\n",
              "      <td>2017-02-28</td>\n",
              "      <td>491</td>\n",
              "    </tr>\n",
              "    <tr>\n",
              "      <th>2</th>\n",
              "      <td>2017-03-31</td>\n",
              "      <td>333</td>\n",
              "      <td>2017-03-31</td>\n",
              "      <td>989</td>\n",
              "    </tr>\n",
              "    <tr>\n",
              "      <th>3</th>\n",
              "      <td>2017-04-30</td>\n",
              "      <td>213</td>\n",
              "      <td>2017-04-30</td>\n",
              "      <td>804</td>\n",
              "    </tr>\n",
              "    <tr>\n",
              "      <th>4</th>\n",
              "      <td>2017-05-31</td>\n",
              "      <td>273</td>\n",
              "      <td>2017-05-31</td>\n",
              "      <td>916</td>\n",
              "    </tr>\n",
              "    <tr>\n",
              "      <th>5</th>\n",
              "      <td>2017-06-30</td>\n",
              "      <td>279</td>\n",
              "      <td>2017-06-30</td>\n",
              "      <td>1033</td>\n",
              "    </tr>\n",
              "    <tr>\n",
              "      <th>6</th>\n",
              "      <td>2017-07-31</td>\n",
              "      <td>115</td>\n",
              "      <td>2017-07-31</td>\n",
              "      <td>1247</td>\n",
              "    </tr>\n",
              "    <tr>\n",
              "      <th>7</th>\n",
              "      <td>2017-08-31</td>\n",
              "      <td>196</td>\n",
              "      <td>2017-08-31</td>\n",
              "      <td>1158</td>\n",
              "    </tr>\n",
              "    <tr>\n",
              "      <th>8</th>\n",
              "      <td>2017-09-30</td>\n",
              "      <td>190</td>\n",
              "      <td>2017-09-30</td>\n",
              "      <td>719</td>\n",
              "    </tr>\n",
              "    <tr>\n",
              "      <th>9</th>\n",
              "      <td>2017-10-31</td>\n",
              "      <td>183</td>\n",
              "      <td>2017-10-31</td>\n",
              "      <td>611</td>\n",
              "    </tr>\n",
              "    <tr>\n",
              "      <th>10</th>\n",
              "      <td>2017-11-30</td>\n",
              "      <td>123</td>\n",
              "      <td>2017-11-30</td>\n",
              "      <td>600</td>\n",
              "    </tr>\n",
              "    <tr>\n",
              "      <th>11</th>\n",
              "      <td>2017-12-31</td>\n",
              "      <td>111</td>\n",
              "      <td>2017-12-31</td>\n",
              "      <td>670</td>\n",
              "    </tr>\n",
              "  </tbody>\n",
              "</table>\n",
              "</div>"
            ],
            "text/plain": [
              "   dt_notificacao  CASOS_DENGUE DATA_DEMANDA  CHAMADOS_EMLURB\n",
              "0      2017-01-31           169   2017-01-31              497\n",
              "1      2017-02-28           230   2017-02-28              491\n",
              "2      2017-03-31           333   2017-03-31              989\n",
              "3      2017-04-30           213   2017-04-30              804\n",
              "4      2017-05-31           273   2017-05-31              916\n",
              "5      2017-06-30           279   2017-06-30             1033\n",
              "6      2017-07-31           115   2017-07-31             1247\n",
              "7      2017-08-31           196   2017-08-31             1158\n",
              "8      2017-09-30           190   2017-09-30              719\n",
              "9      2017-10-31           183   2017-10-31              611\n",
              "10     2017-11-30           123   2017-11-30              600\n",
              "11     2017-12-31           111   2017-12-31              670"
            ]
          },
          "metadata": {
            "tags": []
          }
        }
      ]
    },
    {
      "cell_type": "markdown",
      "metadata": {
        "id": "0DkjDX4cMEKy"
      },
      "source": [
        "## **Testes de Hipótese**\n",
        "\n",
        "O teste de hipótese é um método estatístico usado na tomada de decisões estatísticas usando dados de um conjunto. O teste de hipóteses é basicamente uma suposição que fazemos sobre o parâmetro do dataset.\n",
        "\n",
        "Agora, ao realizar os t-test, normalmente se tem as seguintes duas hipóteses:\n",
        "\n",
        "*   Hipóteses nulas: as médias de dois grupos são iguais\n",
        "*   Hipóteses alternativas: as médias de dois grupos são diferentes (bicaudais)"
      ]
    },
    {
      "cell_type": "code",
      "metadata": {
        "colab": {
          "base_uri": "https://localhost:8080/",
          "height": 164
        },
        "id": "qwbAeVffOUjy",
        "outputId": "f846a6d0-a852-49a5-9a56-5c037240178d"
      },
      "source": [
        "#Testes de Hipótese para dados de 2020\n",
        "\n",
        "crossed_info['mes'] = crossed_info.dt_notificacao.apply(lambda x: x.strftime('%m'))\n",
        "meses_analise = ['05', '06','07'] #meses de chuva \n",
        "dengue_data_meses = crossed_info[(crossed_info.mes.isin(meses_analise))]\n",
        "dengue_data_meses['mes'] = pd.to_numeric(dengue_data_meses['mes'])\n",
        "\n",
        "# Teste de hipótese para mês de Janeiro e Junho para casos de dengue\n",
        "th_dengue = stats.ttest_ind(dengue_data_meses['CASOS_DENGUE'], dengue_data_meses['mes'], equal_var=True)\n",
        "display(th_dengue)\n",
        "\n",
        "# Teste de hipótese para mês de Janeiro e Junho para solicitações de drenagem\n",
        "th_emlurb = stats.ttest_ind(dengue_data_meses['CHAMADOS_EMLURB'], dengue_data_meses['mes'], equal_var=True)\n",
        "display(th_emlurb)"
      ],
      "execution_count": 138,
      "outputs": [
        {
          "output_type": "stream",
          "text": [
            "/usr/local/lib/python3.7/dist-packages/ipykernel_launcher.py:6: SettingWithCopyWarning: \n",
            "A value is trying to be set on a copy of a slice from a DataFrame.\n",
            "Try using .loc[row_indexer,col_indexer] = value instead\n",
            "\n",
            "See the caveats in the documentation: https://pandas.pydata.org/pandas-docs/stable/user_guide/indexing.html#returning-a-view-versus-a-copy\n",
            "  \n"
          ],
          "name": "stderr"
        },
        {
          "output_type": "display_data",
          "data": {
            "text/plain": [
              "Ttest_indResult(statistic=2.4688876767532433, pvalue=0.06902913833408653)"
            ]
          },
          "metadata": {
            "tags": []
          }
        },
        {
          "output_type": "display_data",
          "data": {
            "text/plain": [
              "Ttest_indResult(statistic=5.156991407515991, pvalue=0.0067119513666034115)"
            ]
          },
          "metadata": {
            "tags": []
          }
        }
      ]
    },
    {
      "cell_type": "code",
      "metadata": {
        "colab": {
          "base_uri": "https://localhost:8080/",
          "height": 458
        },
        "id": "izEkGkYeRxga",
        "outputId": "cdcab27f-2890-4e5a-9765-d4b3d9f77224"
      },
      "source": [
        "#Testes de Hipótese para dados de 2019-2017\n",
        "\n",
        "crossed_info19['mes'] = crossed_info19.dt_notificacao.apply(lambda x: x.strftime('%m'))\n",
        "meses_analise = ['01', '02', '06','07'] #meses de chuva \n",
        "dengue_data19_meses = crossed_info19[(crossed_info19.mes.isin(meses_analise))]\n",
        "dengue_data19_meses['mes'] = pd.to_numeric(dengue_data19_meses['mes'])\n",
        "\n",
        "crossed_info18['mes'] = crossed_info18.dt_notificacao.apply(lambda x: x.strftime('%m'))\n",
        "meses_analise = ['01', '02', '06','07'] #meses de chuva \n",
        "dengue_data18_meses = crossed_info18[(crossed_info18.mes.isin(meses_analise))]\n",
        "dengue_data18_meses['mes'] = pd.to_numeric(dengue_data18_meses['mes'])\n",
        "\n",
        "crossed_info17['mes'] = crossed_info17.dt_notificacao.apply(lambda x: x.strftime('%m'))\n",
        "meses_analise = ['01', '02', '06','07'] #meses de chuva \n",
        "dengue_data17_meses = crossed_info17[(crossed_info17.mes.isin(meses_analise))]\n",
        "dengue_data17_meses['mes'] = pd.to_numeric(dengue_data17_meses['mes'])\n",
        "\n",
        "# Teste de hipótese para mês de Janeiro e Junho para casos de dengue\n",
        "th_dengue = stats.ttest_ind(dengue_data19_meses['CASOS_DENGUE'], dengue_data19_meses['mes'], equal_var=True)\n",
        "display(th_dengue)\n",
        "\n",
        "th_dengue = stats.ttest_ind(dengue_data18_meses['CASOS_DENGUE'], dengue_data18_meses['mes'], equal_var=True)\n",
        "display(th_dengue)\n",
        "\n",
        "th_dengue = stats.ttest_ind(dengue_data17_meses['CASOS_DENGUE'], dengue_data17_meses['mes'], equal_var=True)\n",
        "display(th_dengue)\n",
        "\n",
        "# Teste de hipótese para mês de Janeiro e Junho para solicitações de drenagem\n",
        "th_emlurb = stats.ttest_ind(dengue_data19_meses['CHAMADOS_EMLURB'], dengue_data19_meses['mes'], equal_var=True)\n",
        "display(th_emlurb)\n",
        "\n",
        "th_emlurb = stats.ttest_ind(dengue_data18_meses['CHAMADOS_EMLURB'], dengue_data18_meses['mes'], equal_var=True)\n",
        "display(th_emlurb)\n",
        "\n",
        "th_emlurb = stats.ttest_ind(dengue_data17_meses['CHAMADOS_EMLURB'], dengue_data17_meses['mes'], equal_var=True)\n",
        "display(th_emlurb)"
      ],
      "execution_count": 136,
      "outputs": [
        {
          "output_type": "stream",
          "text": [
            "/usr/local/lib/python3.7/dist-packages/ipykernel_launcher.py:6: SettingWithCopyWarning: \n",
            "A value is trying to be set on a copy of a slice from a DataFrame.\n",
            "Try using .loc[row_indexer,col_indexer] = value instead\n",
            "\n",
            "See the caveats in the documentation: https://pandas.pydata.org/pandas-docs/stable/user_guide/indexing.html#returning-a-view-versus-a-copy\n",
            "  \n",
            "/usr/local/lib/python3.7/dist-packages/ipykernel_launcher.py:11: SettingWithCopyWarning: \n",
            "A value is trying to be set on a copy of a slice from a DataFrame.\n",
            "Try using .loc[row_indexer,col_indexer] = value instead\n",
            "\n",
            "See the caveats in the documentation: https://pandas.pydata.org/pandas-docs/stable/user_guide/indexing.html#returning-a-view-versus-a-copy\n",
            "  # This is added back by InteractiveShellApp.init_path()\n",
            "/usr/local/lib/python3.7/dist-packages/ipykernel_launcher.py:16: SettingWithCopyWarning: \n",
            "A value is trying to be set on a copy of a slice from a DataFrame.\n",
            "Try using .loc[row_indexer,col_indexer] = value instead\n",
            "\n",
            "See the caveats in the documentation: https://pandas.pydata.org/pandas-docs/stable/user_guide/indexing.html#returning-a-view-versus-a-copy\n",
            "  app.launch_new_instance()\n"
          ],
          "name": "stderr"
        },
        {
          "output_type": "display_data",
          "data": {
            "text/plain": [
              "Ttest_indResult(statistic=2.2563777781667094, pvalue=0.06487016127243608)"
            ]
          },
          "metadata": {
            "tags": []
          }
        },
        {
          "output_type": "display_data",
          "data": {
            "text/plain": [
              "Ttest_indResult(statistic=3.4164054485094, pvalue=0.014206333273019229)"
            ]
          },
          "metadata": {
            "tags": []
          }
        },
        {
          "output_type": "display_data",
          "data": {
            "text/plain": [
              "Ttest_indResult(statistic=5.432858003969255, pvalue=0.0016131539532346245)"
            ]
          },
          "metadata": {
            "tags": []
          }
        },
        {
          "output_type": "display_data",
          "data": {
            "text/plain": [
              "Ttest_indResult(statistic=11.381178797673211, pvalue=2.7575959515653668e-05)"
            ]
          },
          "metadata": {
            "tags": []
          }
        },
        {
          "output_type": "display_data",
          "data": {
            "text/plain": [
              "Ttest_indResult(statistic=23.203777562371382, pvalue=4.2006444166494117e-07)"
            ]
          },
          "metadata": {
            "tags": []
          }
        },
        {
          "output_type": "display_data",
          "data": {
            "text/plain": [
              "Ttest_indResult(statistic=4.2445097980257795, pvalue=0.005412785600605046)"
            ]
          },
          "metadata": {
            "tags": []
          }
        }
      ]
    },
    {
      "cell_type": "markdown",
      "metadata": {
        "id": "htv7xYEQjYqD"
      },
      "source": [
        "O **p-value** é definido como a probabilidade de se\n",
        "observar um valor da estatística de teste maior ou\n",
        "igual ao encontrado. Tradicionalmente, o valor de corte\n",
        "para rejeitar a hipótese nula é de 0,05, o que significa\n",
        "que, quando não há nenhuma diferença, um valor tão\n",
        "extremo para a estatística de teste é esperado em menos\n",
        "de 5% das vezes"
      ]
    },
    {
      "cell_type": "markdown",
      "metadata": {
        "id": "sPkSOEV60JDZ"
      },
      "source": [
        "## **Correlações**\n",
        "\n",
        "Fazer teste de Pearson/Spillman"
      ]
    },
    {
      "cell_type": "markdown",
      "metadata": {
        "id": "W4kGNsh-MhuM"
      },
      "source": [
        "## **Análise de Gráficos**\n",
        "\n",
        "Analisaremos a tabela com dados cruzados, **crossed_info**. Coletando o número de casos de dengue e solicitações de drenagem por mês para os anos de 2020 a 2016. "
      ]
    },
    {
      "cell_type": "code",
      "metadata": {
        "id": "gm2qZBUlxQvi",
        "colab": {
          "base_uri": "https://localhost:8080/",
          "height": 759
        },
        "outputId": "ac2796ea-24d7-49e4-941e-9ea9df8e5bcd"
      },
      "source": [
        "# Análise para Casos de dengue x Meses em 2019 e 2020\n",
        "\n",
        "crossed_info['mes'] = pd.to_numeric(crossed_info['mes'])\n",
        "crossed_info19['mes'] = pd.to_numeric(crossed_info19['mes'])\n",
        "crossed_info18['mes'] = pd.to_numeric(crossed_info18['mes'])\n",
        "crossed_info17['mes'] = pd.to_numeric(crossed_info17['mes'])\n",
        "\n",
        "crossed_info['month'] = crossed_info['mes'].apply(lambda x: calendar.month_abbr[x])\n",
        "crossed_info19['month'] = crossed_info19['mes'].apply(lambda x: calendar.month_abbr[x])\n",
        "crossed_info18['month'] = crossed_info18['mes'].apply(lambda x: calendar.month_abbr[x])\n",
        "crossed_info17['month'] = crossed_info17['mes'].apply(lambda x: calendar.month_abbr[x])\n",
        "\n",
        "\n",
        "fig = plt.figure(1)\n",
        "fig.set_figheight(12) \n",
        "fig.set_figwidth(20) \n",
        "\n",
        "\n",
        "ax1 = plt.subplot(231)\n",
        "crossed_info.plot.bar(x='month', y='CASOS_DENGUE', legend=False, ax=ax1,  title='Casos de dengue em 2020', color='blue', ylabel='Nª de casos', xlabel='Mês',)\n",
        "\n",
        "ax2 = plt.subplot(232)\n",
        "crossed_info19.plot.bar(x='month', y='CASOS_DENGUE', legend=False, ax=ax2,title='Casos de dengue em 2019', color='orange', ylabel='Nª de casos', xlabel='Mês',)\n",
        "\n",
        "\n",
        "ax3 = plt.subplot(233)\n",
        "crossed_info18.plot.bar(x='month', y='CASOS_DENGUE', legend=False, ax=ax3,title='Casos de dengue em 2018', color='red', ylabel='Nª de casos', xlabel='Mês',)\n",
        "\n",
        "\n",
        "ax4 = plt.subplot(234)\n",
        "crossed_info17.plot.bar(x='month', y='CASOS_DENGUE', legend=False, ax=ax4,title='Casos de dengue em 2017', color='green', ylabel='Nª de casos', xlabel='Mês',)"
      ],
      "execution_count": 139,
      "outputs": [
        {
          "output_type": "execute_result",
          "data": {
            "text/plain": [
              "<matplotlib.axes._subplots.AxesSubplot at 0x7f08c2066b10>"
            ]
          },
          "metadata": {
            "tags": []
          },
          "execution_count": 139
        },
        {
          "output_type": "display_data",
          "data": {
            "image/png": "[encoded data removed]",
            "text/plain": [
              "<Figure size 1440x864 with 4 Axes>"
            ]
          },
          "metadata": {
            "tags": [],
            "needs_background": "light"
          }
        }
      ]
    },
    {
      "cell_type": "code",
      "metadata": {
        "colab": {
          "base_uri": "https://localhost:8080/",
          "height": 759
        },
        "id": "kqiKh-t0z3Ov",
        "outputId": "f6cab7a2-5059-4bc5-aa0f-3d1c01858a97"
      },
      "source": [
        "# Análise para Solicitações de drenagem x Meses em 2017 a 2020\n",
        "\n",
        "fig = plt.figure(1)\n",
        "fig.set_figheight(12) \n",
        "fig.set_figwidth(20) \n",
        "\n",
        "ax1 = plt.subplot(231)\n",
        "crossed_info.plot.bar(x='month', y='CHAMADOS_EMLURB', legend=False, ax=ax1,  title='Solicitações de drenagem em 2020', color='blue', ylabel='Nª de casos', xlabel='Mês',)\n",
        "\n",
        "ax2 = plt.subplot(232)\n",
        "crossed_info19.plot.bar(x='month', y='CHAMADOS_EMLURB', legend=False, ax=ax2,title='Solicitações de drenagem em 2019', color='orange', ylabel='Nª de casos', xlabel='Mês',)\n",
        "\n",
        "ax3 = plt.subplot(233)\n",
        "crossed_info18.plot.bar(x='month', y='CHAMADOS_EMLURB', legend=False, ax=ax3,title='Solicitações de drenagem em 2018', color='red', ylabel='Nª de casos', xlabel='Mês',)\n",
        "\n",
        "ax3 = plt.subplot(234)\n",
        "crossed_info17.plot.bar(x='month', y='CHAMADOS_EMLURB', legend=False, ax=ax3,title='Solicitações de drenagem em 2017', color='green', ylabel='Nª de casos', xlabel='Mês',)"
      ],
      "execution_count": 141,
      "outputs": [
        {
          "output_type": "execute_result",
          "data": {
            "text/plain": [
              "<matplotlib.axes._subplots.AxesSubplot at 0x7f08c1dbfb50>"
            ]
          },
          "metadata": {
            "tags": []
          },
          "execution_count": 141
        },
        {
          "output_type": "display_data",
          "data": {
            "image/png": "[encoded data removed]",
            "text/plain": [
              "<Figure size 1440x864 with 4 Axes>"
            ]
          },
          "metadata": {
            "tags": [],
            "needs_background": "light"
          }
        }
      ]
    },
    {
      "cell_type": "code",
      "metadata": {
        "colab": {
          "base_uri": "https://localhost:8080/",
          "height": 749
        },
        "id": "cLKJZyRS0cVO",
        "outputId": "917f7efa-0f1b-46b0-9b33-ac3ade78dec7"
      },
      "source": [
        "# Gráfico tipo scatter relacionando Casos dengue x Solicitações de drenagens em 2019 e 2020\n",
        "\n",
        "fig = plt.figure(1)\n",
        "fig.set_figheight(12) \n",
        "fig.set_figwidth(20) \n",
        "\n",
        "ax1 = plt.subplot(231)\n",
        "crossed_info.plot.scatter(x = 'CHAMADOS_EMLURB', y = 'CASOS_DENGUE', legend=False, ax=ax1,  title='Dengue x Drenagem 2020', color='blue',grid=True)\n",
        "\n",
        "ax2 = plt.subplot(232)\n",
        "crossed_info19.plot.scatter(x = 'CHAMADOS_EMLURB', y = 'CASOS_DENGUE', legend=False, ax=ax2,title='Dengue x Drenagem 2019', color='orange',grid=True)\n",
        "\n",
        "ax3 = plt.subplot(233)\n",
        "crossed_info18.plot.scatter(x = 'CHAMADOS_EMLURB', y = 'CASOS_DENGUE', legend=False, ax=ax3,title='Dengue x Drenagem 2018', color='red',grid=True)\n",
        "\n",
        "ax4 = plt.subplot(234)\n",
        "crossed_info17.plot.scatter(x = 'CHAMADOS_EMLURB', y = 'CASOS_DENGUE', legend=False, ax=ax4,title='Dengue x Drenagem 2017', color='green',grid=True)"
      ],
      "execution_count": 144,
      "outputs": [
        {
          "output_type": "execute_result",
          "data": {
            "text/plain": [
              "<matplotlib.axes._subplots.AxesSubplot at 0x7f08c17f7b90>"
            ]
          },
          "metadata": {
            "tags": []
          },
          "execution_count": 144
        },
        {
          "output_type": "display_data",
          "data": {
            "image/png": "[encoded data removed]",
            "text/plain": [
              "<Figure size 1440x864 with 4 Axes>"
            ]
          },
          "metadata": {
            "tags": [],
            "needs_background": "light"
          }
        }
      ]
    },
    {
      "cell_type": "code",
      "metadata": {
        "id": "i9sUwseQ1Tb3",
        "colab": {
          "base_uri": "https://localhost:8080/",
          "height": 297
        },
        "outputId": "1f640afe-776b-405a-d99f-f6bbf72d1a7b"
      },
      "source": [
        "# Comparação de casos de dengue para anos de 2020 e 2019\n",
        "\n",
        "ax = crossed_info.plot(x='month', y = 'CASOS_DENGUE', ylabel='Casos de dengue', xlabel='Mês', kind = 'line', color='blue', label='Casos 2020')\n",
        "crossed_info19.plot(x='month', y = 'CASOS_DENGUE', kind = 'line', ax=ax, color='orange', label='Casos 2019')\n",
        "crossed_info18.plot(x='month', y = 'CASOS_DENGUE', kind = 'line', ax=ax, color='red', label='Casos 2018')\n",
        "crossed_info17.plot(x='month', y = 'CASOS_DENGUE', kind = 'line', ax=ax, color='green', label='Casos 2017')"
      ],
      "execution_count": 147,
      "outputs": [
        {
          "output_type": "execute_result",
          "data": {
            "text/plain": [
              "<matplotlib.axes._subplots.AxesSubplot at 0x7f08c28f9fd0>"
            ]
          },
          "metadata": {
            "tags": []
          },
          "execution_count": 147
        },
        {
          "output_type": "display_data",
          "data": {
            "image/png": "[encoded data removed]",
            "text/plain": [
              "<Figure size 432x288 with 1 Axes>"
            ]
          },
          "metadata": {
            "tags": [],
            "needs_background": "light"
          }
        }
      ]
    },
    {
      "cell_type": "code",
      "metadata": {
        "id": "covLCYk54jDX",
        "colab": {
          "base_uri": "https://localhost:8080/",
          "height": 297
        },
        "outputId": "1821ef8e-2a4e-4aae-e100-caf15cea91a3"
      },
      "source": [
        "# Comparação de solicitações de drenagem para anos de 2020 e 2019\n",
        "\n",
        "ax = crossed_info.plot(x='month', y = 'CHAMADOS_EMLURB', ylabel='Solicitações de drenagem', xlabel='Mês', kind = 'line', color='blue', label='Casos 2020')\n",
        "crossed_info19.plot(x='month', y = 'CHAMADOS_EMLURB', kind = 'line', ax=ax, color='orange', label='Casos 2019')\n",
        "crossed_info18.plot(x='month', y = 'CHAMADOS_EMLURB', kind = 'line', ax=ax, color='red', label='Casos 2018')\n",
        "crossed_info17.plot(x='month', y = 'CHAMADOS_EMLURB', kind = 'line', ax=ax, color='green', label='Casos 2017')"
      ],
      "execution_count": 148,
      "outputs": [
        {
          "output_type": "execute_result",
          "data": {
            "text/plain": [
              "<matplotlib.axes._subplots.AxesSubplot at 0x7f08c2a08cd0>"
            ]
          },
          "metadata": {
            "tags": []
          },
          "execution_count": 148
        },
        {
          "output_type": "display_data",
          "data": {
            "image/png": "[encoded data removed]",
            "text/plain": [
              "<Figure size 432x288 with 1 Axes>"
            ]
          },
          "metadata": {
            "tags": [],
            "needs_background": "light"
          }
        }
      ]
    },
    {
      "cell_type": "markdown",
      "metadata": {
        "id": "GvtjhYM8tBPb"
      },
      "source": [
        ""
      ]
    },
    {
      "cell_type": "markdown",
      "metadata": {
        "id": "Hs_ITf0ams6x"
      },
      "source": [
        "## **Boxplots e Outliers**\n",
        "\n",
        "O boxplot tem como objetivo estudar as medidas estatística do conjunto de dados, como variabilidade, média, e outliers."
      ]
    },
    {
      "cell_type": "code",
      "metadata": {
        "id": "qn5YnYQ-ueQB",
        "colab": {
          "base_uri": "https://localhost:8080/",
          "height": 558
        },
        "outputId": "eb5481a1-b748-4dd0-a1be-77e2061c61fe"
      },
      "source": [
        "#agrupar casos mensais em diferentes anos\n",
        "\n",
        "#4 anos\n",
        "months=['jan', 'jan','jan', 'jan', 'feb', 'feb','feb', 'feb', 'mar', 'mar','mar', 'mar']\n",
        "cases=[188, 285,25,310, 420, 100,150,264,225,421,314,12]\n",
        "\n",
        "df = pd.DataFrame({'Date':months ,\n",
        "                   'Cases': cases})\n",
        "\n",
        "print(df)\n",
        "\n",
        "df.boxplot(column=['Cases'],by=\"Date\")\n",
        "\n"
      ],
      "execution_count": 65,
      "outputs": [
        {
          "output_type": "stream",
          "text": [
            "   Date  Cases\n",
            "0   jan    188\n",
            "1   jan    285\n",
            "2   jan     25\n",
            "3   jan    310\n",
            "4   feb    420\n",
            "5   feb    100\n",
            "6   feb    150\n",
            "7   feb    264\n",
            "8   mar    225\n",
            "9   mar    421\n",
            "10  mar    314\n",
            "11  mar     12\n"
          ],
          "name": "stdout"
        },
        {
          "output_type": "execute_result",
          "data": {
            "text/plain": [
              "<matplotlib.axes._subplots.AxesSubplot at 0x7f08c57e5690>"
            ]
          },
          "metadata": {
            "tags": []
          },
          "execution_count": 65
        },
        {
          "output_type": "display_data",
          "data": {
            "image/png": "[encoded data removed]",
            "text/plain": [
              "<Figure size 432x288 with 1 Axes>"
            ]
          },
          "metadata": {
            "tags": [],
            "needs_background": "light"
          }
        }
      ]
    },
    {
      "cell_type": "markdown",
      "metadata": {
        "id": "bpvAHk0bsAS0"
      },
      "source": [
        "# **Análise de chamados de drenagem não atendidos pela EMLURB x Casos de Dengue**"
      ]
    },
    {
      "cell_type": "code",
      "metadata": {
        "id": "n0vnL91RsHqU",
        "outputId": "eab7b486-8bac-472a-8129-612314a11d54",
        "colab": {
          "base_uri": "https://localhost:8080/"
        }
      },
      "source": [
        "dengue_data = dengue[[\"no_bairro_residencia\", \"dt_notificacao\"]]\n",
        "dengue_data[\"no_bairro_residencia\"].value_counts()"
      ],
      "execution_count": 66,
      "outputs": [
        {
          "output_type": "execute_result",
          "data": {
            "text/plain": [
              "IBURA            186\n",
              "COHAB             63\n",
              "AFOGADOS          31\n",
              "AREIAS            31\n",
              "BOA VIAGEM        31\n",
              "                ... \n",
              "TORREAO            1\n",
              "NOVO CAXANGA       1\n",
              "VARZIA             1\n",
              "JAQUEIRA           1\n",
              "VASCO DA GOMA      1\n",
              "Name: no_bairro_residencia, Length: 95, dtype: int64"
            ]
          },
          "metadata": {
            "tags": []
          },
          "execution_count": 66
        }
      ]
    },
    {
      "cell_type": "code",
      "metadata": {
        "id": "KEgOMWfEsMy8",
        "outputId": "434fff87-18dd-4383-a06c-5c41a28e6888",
        "colab": {
          "base_uri": "https://localhost:8080/",
          "height": 316
        }
      },
      "source": [
        "dengue_data[\"dt_notificacao\"] = pd.to_datetime(dengue_data[\"dt_notificacao\"])\n",
        "\n",
        "dengue_data = dengue_data.groupby([\"no_bairro_residencia\", \"dt_notificacao\"]).size().reset_index(name=\"CASOS_DENGUE\")\n",
        "\n",
        "dengue_data.head()"
      ],
      "execution_count": 67,
      "outputs": [
        {
          "output_type": "stream",
          "text": [
            "/usr/local/lib/python3.7/dist-packages/ipykernel_launcher.py:1: SettingWithCopyWarning: \n",
            "A value is trying to be set on a copy of a slice from a DataFrame.\n",
            "Try using .loc[row_indexer,col_indexer] = value instead\n",
            "\n",
            "See the caveats in the documentation: https://pandas.pydata.org/pandas-docs/stable/user_guide/indexing.html#returning-a-view-versus-a-copy\n",
            "  \"\"\"Entry point for launching an IPython kernel.\n"
          ],
          "name": "stderr"
        },
        {
          "output_type": "execute_result",
          "data": {
            "text/html": [
              "<div>\n",
              "<style scoped>\n",
              "    .dataframe tbody tr th:only-of-type {\n",
              "        vertical-align: middle;\n",
              "    }\n",
              "\n",
              "    .dataframe tbody tr th {\n",
              "        vertical-align: top;\n",
              "    }\n",
              "\n",
              "    .dataframe thead th {\n",
              "        text-align: right;\n",
              "    }\n",
              "</style>\n",
              "<table border=\"1\" class=\"dataframe\">\n",
              "  <thead>\n",
              "    <tr style=\"text-align: right;\">\n",
              "      <th></th>\n",
              "      <th>no_bairro_residencia</th>\n",
              "      <th>dt_notificacao</th>\n",
              "      <th>CASOS_DENGUE</th>\n",
              "    </tr>\n",
              "  </thead>\n",
              "  <tbody>\n",
              "    <tr>\n",
              "      <th>0</th>\n",
              "      <td>AFOGADOS</td>\n",
              "      <td>2020-01-13</td>\n",
              "      <td>1</td>\n",
              "    </tr>\n",
              "    <tr>\n",
              "      <th>1</th>\n",
              "      <td>AFOGADOS</td>\n",
              "      <td>2020-01-23</td>\n",
              "      <td>1</td>\n",
              "    </tr>\n",
              "    <tr>\n",
              "      <th>2</th>\n",
              "      <td>AFOGADOS</td>\n",
              "      <td>2020-01-24</td>\n",
              "      <td>2</td>\n",
              "    </tr>\n",
              "    <tr>\n",
              "      <th>3</th>\n",
              "      <td>AFOGADOS</td>\n",
              "      <td>2020-01-29</td>\n",
              "      <td>1</td>\n",
              "    </tr>\n",
              "    <tr>\n",
              "      <th>4</th>\n",
              "      <td>AFOGADOS</td>\n",
              "      <td>2020-02-03</td>\n",
              "      <td>1</td>\n",
              "    </tr>\n",
              "  </tbody>\n",
              "</table>\n",
              "</div>"
            ],
            "text/plain": [
              "  no_bairro_residencia dt_notificacao  CASOS_DENGUE\n",
              "0             AFOGADOS     2020-01-13             1\n",
              "1             AFOGADOS     2020-01-23             1\n",
              "2             AFOGADOS     2020-01-24             2\n",
              "3             AFOGADOS     2020-01-29             1\n",
              "4             AFOGADOS     2020-02-03             1"
            ]
          },
          "metadata": {
            "tags": []
          },
          "execution_count": 67
        }
      ]
    },
    {
      "cell_type": "code",
      "metadata": {
        "id": "vdbuFATdsRdu",
        "outputId": "40c89d86-8cfb-4de6-e1cf-74559328f97e",
        "colab": {
          "base_uri": "https://localhost:8080/",
          "height": 206
        }
      },
      "source": [
        "emlurb_data = emlurb[[\"GRUPOSERVICO_DESCRICAO\", \"BAIRRO\", \"DATA_DEMANDA\", \"SITUACAO\"]]\n",
        "\n",
        "servicos = [\"DRENAGEM\"]\n",
        "emlurb_data = emlurb_data[emlurb_data.GRUPOSERVICO_DESCRICAO.isin(servicos)]\n",
        "emlurb_data = emlurb_data[(emlurb_data.SITUACAO != \"ATENDIDA\")]\n",
        "emlurb_data[\"DATA_DEMANDA\"] = pd.to_datetime(emlurb_data[\"DATA_DEMANDA\"])\n",
        "\n",
        "emlurb_data.head()"
      ],
      "execution_count": 68,
      "outputs": [
        {
          "output_type": "execute_result",
          "data": {
            "text/html": [
              "<div>\n",
              "<style scoped>\n",
              "    .dataframe tbody tr th:only-of-type {\n",
              "        vertical-align: middle;\n",
              "    }\n",
              "\n",
              "    .dataframe tbody tr th {\n",
              "        vertical-align: top;\n",
              "    }\n",
              "\n",
              "    .dataframe thead th {\n",
              "        text-align: right;\n",
              "    }\n",
              "</style>\n",
              "<table border=\"1\" class=\"dataframe\">\n",
              "  <thead>\n",
              "    <tr style=\"text-align: right;\">\n",
              "      <th></th>\n",
              "      <th>GRUPOSERVICO_DESCRICAO</th>\n",
              "      <th>BAIRRO</th>\n",
              "      <th>DATA_DEMANDA</th>\n",
              "      <th>SITUACAO</th>\n",
              "    </tr>\n",
              "  </thead>\n",
              "  <tbody>\n",
              "    <tr>\n",
              "      <th>12107</th>\n",
              "      <td>DRENAGEM</td>\n",
              "      <td>TORROES</td>\n",
              "      <td>2020-06-22</td>\n",
              "      <td>CADASTRADA</td>\n",
              "    </tr>\n",
              "    <tr>\n",
              "      <th>12108</th>\n",
              "      <td>DRENAGEM</td>\n",
              "      <td>VARZEA</td>\n",
              "      <td>2020-10-27</td>\n",
              "      <td>CADASTRADA</td>\n",
              "    </tr>\n",
              "    <tr>\n",
              "      <th>12109</th>\n",
              "      <td>DRENAGEM</td>\n",
              "      <td>MANGUEIRA</td>\n",
              "      <td>2020-08-24</td>\n",
              "      <td>CADASTRADA</td>\n",
              "    </tr>\n",
              "    <tr>\n",
              "      <th>12110</th>\n",
              "      <td>DRENAGEM</td>\n",
              "      <td>BOMBA DO HEMETERIO</td>\n",
              "      <td>2020-06-18</td>\n",
              "      <td>CADASTRADA</td>\n",
              "    </tr>\n",
              "    <tr>\n",
              "      <th>12111</th>\n",
              "      <td>DRENAGEM</td>\n",
              "      <td>DOIS UNIDOS</td>\n",
              "      <td>2020-03-11</td>\n",
              "      <td>CADASTRADA</td>\n",
              "    </tr>\n",
              "  </tbody>\n",
              "</table>\n",
              "</div>"
            ],
            "text/plain": [
              "      GRUPOSERVICO_DESCRICAO              BAIRRO DATA_DEMANDA    SITUACAO\n",
              "12107               DRENAGEM             TORROES   2020-06-22  CADASTRADA\n",
              "12108               DRENAGEM              VARZEA   2020-10-27  CADASTRADA\n",
              "12109               DRENAGEM           MANGUEIRA   2020-08-24  CADASTRADA\n",
              "12110               DRENAGEM  BOMBA DO HEMETERIO   2020-06-18  CADASTRADA\n",
              "12111               DRENAGEM         DOIS UNIDOS   2020-03-11  CADASTRADA"
            ]
          },
          "metadata": {
            "tags": []
          },
          "execution_count": 68
        }
      ]
    },
    {
      "cell_type": "code",
      "metadata": {
        "id": "2vRoFB8Xsah0",
        "colab": {
          "base_uri": "https://localhost:8080/",
          "height": 206
        },
        "outputId": "ba579f83-149d-4c2d-f4be-be629c055089"
      },
      "source": [
        "emlurb_data = emlurb_data.groupby([\"BAIRRO\", \"DATA_DEMANDA\"]).size().reset_index(name=\"CHAMADOS_EMLURB\")\n",
        "emlurb_data.head()\n"
      ],
      "execution_count": 69,
      "outputs": [
        {
          "output_type": "execute_result",
          "data": {
            "text/html": [
              "<div>\n",
              "<style scoped>\n",
              "    .dataframe tbody tr th:only-of-type {\n",
              "        vertical-align: middle;\n",
              "    }\n",
              "\n",
              "    .dataframe tbody tr th {\n",
              "        vertical-align: top;\n",
              "    }\n",
              "\n",
              "    .dataframe thead th {\n",
              "        text-align: right;\n",
              "    }\n",
              "</style>\n",
              "<table border=\"1\" class=\"dataframe\">\n",
              "  <thead>\n",
              "    <tr style=\"text-align: right;\">\n",
              "      <th></th>\n",
              "      <th>BAIRRO</th>\n",
              "      <th>DATA_DEMANDA</th>\n",
              "      <th>CHAMADOS_EMLURB</th>\n",
              "    </tr>\n",
              "  </thead>\n",
              "  <tbody>\n",
              "    <tr>\n",
              "      <th>0</th>\n",
              "      <td>AFLITOS</td>\n",
              "      <td>2020-01-15</td>\n",
              "      <td>1</td>\n",
              "    </tr>\n",
              "    <tr>\n",
              "      <th>1</th>\n",
              "      <td>AFLITOS</td>\n",
              "      <td>2020-03-03</td>\n",
              "      <td>1</td>\n",
              "    </tr>\n",
              "    <tr>\n",
              "      <th>2</th>\n",
              "      <td>AFLITOS</td>\n",
              "      <td>2020-03-04</td>\n",
              "      <td>1</td>\n",
              "    </tr>\n",
              "    <tr>\n",
              "      <th>3</th>\n",
              "      <td>AFLITOS</td>\n",
              "      <td>2020-04-17</td>\n",
              "      <td>1</td>\n",
              "    </tr>\n",
              "    <tr>\n",
              "      <th>4</th>\n",
              "      <td>AFLITOS</td>\n",
              "      <td>2020-05-07</td>\n",
              "      <td>1</td>\n",
              "    </tr>\n",
              "  </tbody>\n",
              "</table>\n",
              "</div>"
            ],
            "text/plain": [
              "    BAIRRO DATA_DEMANDA  CHAMADOS_EMLURB\n",
              "0  AFLITOS   2020-01-15                1\n",
              "1  AFLITOS   2020-03-03                1\n",
              "2  AFLITOS   2020-03-04                1\n",
              "3  AFLITOS   2020-04-17                1\n",
              "4  AFLITOS   2020-05-07                1"
            ]
          },
          "metadata": {
            "tags": []
          },
          "execution_count": 69
        }
      ]
    },
    {
      "cell_type": "code",
      "metadata": {
        "id": "C7aeIc4kswC4",
        "outputId": "3d47ea94-a4fb-40bd-a393-163c528b4905",
        "colab": {
          "base_uri": "https://localhost:8080/",
          "height": 206
        }
      },
      "source": [
        "crossed_info = pd.merge(dengue_data, emlurb_data, left_on=[\"no_bairro_residencia\",\"dt_notificacao\"],right_on=[\"BAIRRO\", \"DATA_DEMANDA\"])\n",
        "crossed_info.head()"
      ],
      "execution_count": 70,
      "outputs": [
        {
          "output_type": "execute_result",
          "data": {
            "text/html": [
              "<div>\n",
              "<style scoped>\n",
              "    .dataframe tbody tr th:only-of-type {\n",
              "        vertical-align: middle;\n",
              "    }\n",
              "\n",
              "    .dataframe tbody tr th {\n",
              "        vertical-align: top;\n",
              "    }\n",
              "\n",
              "    .dataframe thead th {\n",
              "        text-align: right;\n",
              "    }\n",
              "</style>\n",
              "<table border=\"1\" class=\"dataframe\">\n",
              "  <thead>\n",
              "    <tr style=\"text-align: right;\">\n",
              "      <th></th>\n",
              "      <th>no_bairro_residencia</th>\n",
              "      <th>dt_notificacao</th>\n",
              "      <th>CASOS_DENGUE</th>\n",
              "      <th>BAIRRO</th>\n",
              "      <th>DATA_DEMANDA</th>\n",
              "      <th>CHAMADOS_EMLURB</th>\n",
              "    </tr>\n",
              "  </thead>\n",
              "  <tbody>\n",
              "    <tr>\n",
              "      <th>0</th>\n",
              "      <td>AFOGADOS</td>\n",
              "      <td>2020-01-13</td>\n",
              "      <td>1</td>\n",
              "      <td>AFOGADOS</td>\n",
              "      <td>2020-01-13</td>\n",
              "      <td>4</td>\n",
              "    </tr>\n",
              "    <tr>\n",
              "      <th>1</th>\n",
              "      <td>AFOGADOS</td>\n",
              "      <td>2020-01-23</td>\n",
              "      <td>1</td>\n",
              "      <td>AFOGADOS</td>\n",
              "      <td>2020-01-23</td>\n",
              "      <td>1</td>\n",
              "    </tr>\n",
              "    <tr>\n",
              "      <th>2</th>\n",
              "      <td>AFOGADOS</td>\n",
              "      <td>2020-01-29</td>\n",
              "      <td>1</td>\n",
              "      <td>AFOGADOS</td>\n",
              "      <td>2020-01-29</td>\n",
              "      <td>1</td>\n",
              "    </tr>\n",
              "    <tr>\n",
              "      <th>3</th>\n",
              "      <td>AFOGADOS</td>\n",
              "      <td>2020-02-03</td>\n",
              "      <td>1</td>\n",
              "      <td>AFOGADOS</td>\n",
              "      <td>2020-02-03</td>\n",
              "      <td>1</td>\n",
              "    </tr>\n",
              "    <tr>\n",
              "      <th>4</th>\n",
              "      <td>AFOGADOS</td>\n",
              "      <td>2020-02-05</td>\n",
              "      <td>4</td>\n",
              "      <td>AFOGADOS</td>\n",
              "      <td>2020-02-05</td>\n",
              "      <td>2</td>\n",
              "    </tr>\n",
              "  </tbody>\n",
              "</table>\n",
              "</div>"
            ],
            "text/plain": [
              "  no_bairro_residencia dt_notificacao  ...  DATA_DEMANDA CHAMADOS_EMLURB\n",
              "0             AFOGADOS     2020-01-13  ...    2020-01-13               4\n",
              "1             AFOGADOS     2020-01-23  ...    2020-01-23               1\n",
              "2             AFOGADOS     2020-01-29  ...    2020-01-29               1\n",
              "3             AFOGADOS     2020-02-03  ...    2020-02-03               1\n",
              "4             AFOGADOS     2020-02-05  ...    2020-02-05               2\n",
              "\n",
              "[5 rows x 6 columns]"
            ]
          },
          "metadata": {
            "tags": []
          },
          "execution_count": 70
        }
      ]
    },
    {
      "cell_type": "code",
      "metadata": {
        "colab": {
          "base_uri": "https://localhost:8080/"
        },
        "id": "pplDad4kYORH",
        "outputId": "5ca4f1d0-f632-48a6-faf9-16c313497242"
      },
      "source": [
        "crossed_info.size"
      ],
      "execution_count": 71,
      "outputs": [
        {
          "output_type": "execute_result",
          "data": {
            "text/plain": [
              "1374"
            ]
          },
          "metadata": {
            "tags": []
          },
          "execution_count": 71
        }
      ]
    },
    {
      "cell_type": "code",
      "metadata": {
        "id": "k_LiQe_cscf7",
        "colab": {
          "base_uri": "https://localhost:8080/"
        },
        "outputId": "5ab11d12-fd1a-44fa-fa24-bd73ef0aa6b7"
      },
      "source": [
        "# Analise da correlação\n",
        "\n",
        "from scipy import stats\n",
        "stats.ttest_rel(crossed_info['CASOS_DENGUE'], crossed_info['CHAMADOS_EMLURB'])"
      ],
      "execution_count": 72,
      "outputs": [
        {
          "output_type": "execute_result",
          "data": {
            "text/plain": [
              "Ttest_relResult(statistic=-0.8150945908464697, pvalue=0.4158687761557307)"
            ]
          },
          "metadata": {
            "tags": []
          },
          "execution_count": 72
        }
      ]
    },
    {
      "cell_type": "markdown",
      "metadata": {
        "id": "5ICFubm1sjr1"
      },
      "source": [
        "Há **forte** correlação entre casos diários de dengue com chamados de drenagem não atendidos pela EMLURB no ano de 2020.\n",
        "\n",
        "Próximos passos:\n",
        "  * Analizar novamente casos gerais, porém na escala de um mês em vez de diária"
      ]
    },
    {
      "cell_type": "markdown",
      "metadata": {
        "id": "zPbgZTEQdey4"
      },
      "source": [
        "## Estudo de gráficos (cenário 2)\n",
        "\n",
        "Primeiro, analisamos as tabelas com os dados originais. Coletando o número de casos de dengue e solicitações de drenagem por bairro. Em seguida, utilizamos a tabela com informações cruzadas."
      ]
    },
    {
      "cell_type": "code",
      "metadata": {
        "colab": {
          "base_uri": "https://localhost:8080/",
          "height": 388
        },
        "id": "llZDFe3wd9lW",
        "outputId": "1fd54d19-ff99-4852-9e61-a925b66f530a"
      },
      "source": [
        "# Análise para Casos de dengue x Bairros (para mais de 10 casos de dengue)\n",
        "\n",
        "dengue_filter = dengue_data.groupby(\"no_bairro_residencia\").filter(lambda x: len(x) > 10)\n",
        "dengue_filter['no_bairro_residencia'].value_counts().plot(kind='bar', ylabel='Casos de dengue', xlabel='Bairros')"
      ],
      "execution_count": 73,
      "outputs": [
        {
          "output_type": "execute_result",
          "data": {
            "text/plain": [
              "<matplotlib.axes._subplots.AxesSubplot at 0x7f08cb14f390>"
            ]
          },
          "metadata": {
            "tags": []
          },
          "execution_count": 73
        },
        {
          "output_type": "display_data",
          "data": {
            "image/png": "[encoded data removed]",
            "text/plain": [
              "<Figure size 432x288 with 1 Axes>"
            ]
          },
          "metadata": {
            "tags": [],
            "needs_background": "light"
          }
        }
      ]
    },
    {
      "cell_type": "code",
      "metadata": {
        "colab": {
          "base_uri": "https://localhost:8080/",
          "height": 395
        },
        "id": "FrFphleZe2Nw",
        "outputId": "2847cc3f-e97c-415a-f076-8c10335b32b6"
      },
      "source": [
        "# Análise para Solicitações não atendidas de drenagem x Bairros (para mais de 35 chamados não atendidos)\n",
        "\n",
        "emlurb_filter = emlurb_data.groupby(\"BAIRRO\").filter(lambda x: len(x) > 35)\n",
        "emlurb_filter['BAIRRO'].value_counts().plot(kind='bar', ylabel='Solicitações não atendidas de drenagem', xlabel='Bairros')"
      ],
      "execution_count": 74,
      "outputs": [
        {
          "output_type": "execute_result",
          "data": {
            "text/plain": [
              "<matplotlib.axes._subplots.AxesSubplot at 0x7f08c9f023d0>"
            ]
          },
          "metadata": {
            "tags": []
          },
          "execution_count": 74
        },
        {
          "output_type": "display_data",
          "data": {
            "image/png": "[encoded data removed]",
            "text/plain": [
              "<Figure size 432x288 with 1 Axes>"
            ]
          },
          "metadata": {
            "tags": [],
            "needs_background": "light"
          }
        }
      ]
    },
    {
      "cell_type": "code",
      "metadata": {
        "colab": {
          "base_uri": "https://localhost:8080/",
          "height": 386
        },
        "id": "vy5YM49YcwWH",
        "outputId": "812f75e7-0d55-4fb0-d754-64270ec0baa5"
      },
      "source": [
        "# Análise para Casos de dengue com solicitações não atendidas de drenagem x Bairros (mais de 5 casos)\n",
        "\n",
        "crossed_info_filter = crossed_info.groupby(\"no_bairro_residencia\").filter(lambda x: len(x) > 5)\n",
        "crossed_info_filter['no_bairro_residencia'].value_counts().plot(kind='bar', ylabel='Casos de dengue, solicitações não atendidas', xlabel='Bairros')"
      ],
      "execution_count": 75,
      "outputs": [
        {
          "output_type": "execute_result",
          "data": {
            "text/plain": [
              "<matplotlib.axes._subplots.AxesSubplot at 0x7f08c556c250>"
            ]
          },
          "metadata": {
            "tags": []
          },
          "execution_count": 75
        },
        {
          "output_type": "display_data",
          "data": {
            "image/png": "[encoded data removed]",
            "text/plain": [
              "<Figure size 432x288 with 1 Axes>"
            ]
          },
          "metadata": {
            "tags": [],
            "needs_background": "light"
          }
        }
      ]
    }
  ]
}