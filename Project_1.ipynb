{
  "nbformat": 4,
  "nbformat_minor": 0,
  "metadata": {
    "colab": {
      "name": "Project_1.ipynb",
      "provenance": [],
      "collapsed_sections": [],
      "include_colab_link": true
    },
    "kernelspec": {
      "name": "python3",
      "display_name": "Python 3"
    },
    "language_info": {
      "name": "python"
    }
  },
  "cells": [
    {
      "cell_type": "markdown",
      "metadata": {
        "id": "view-in-github",
        "colab_type": "text"
      },
      "source": [
        "<a href=\"https://colab.research.google.com/github/HiagoAD/GDI2/blob/master/Project_1.ipynb\" target=\"_parent\"><img src=\"https://colab.research.google.com/assets/colab-badge.svg\" alt=\"Open In Colab\"/></a>"
      ]
    },
    {
      "cell_type": "code",
      "metadata": {
        "id": "qvSv-z8qYhrz"
      },
      "source": [
        "import numpy as np\n",
        "import pandas as pd\n",
        "\n",
        "dengue = pd.read_csv(\"https://raw.githubusercontent.com/HiagoAD/GDI2/master/datasets/dengue.csv\", encoding =\"UTF-8\")\n",
        "emlurb = pd.read_csv(\"https://raw.githubusercontent.com/HiagoAD/GDI2/master/datasets/emlurb.csv\", encoding =\"UTF-8\")\n",
        "\n"
      ],
      "execution_count": 3,
      "outputs": []
    },
    {
      "cell_type": "code",
      "metadata": {
        "id": "_AgOPZ0mY19_",
        "colab": {
          "base_uri": "https://localhost:8080/"
        },
        "outputId": "1e133b99-e14e-4178-9f7e-bf06ec188183"
      },
      "source": [
        "dengue[\"no_bairro_residencia\"] = dengue[\"no_bairro_residencia\"].astype('category')\n",
        "dengue[\"no_bairro_residencia\"].value_counts()"
      ],
      "execution_count": 4,
      "outputs": [
        {
          "output_type": "execute_result",
          "data": {
            "text/plain": [
              "IBURA                186\n",
              "COHAB                 63\n",
              "AREIAS                31\n",
              "BOA VIAGEM            31\n",
              "AFOGADOS              31\n",
              "                    ... \n",
              "JARDIM PETROPOLIS      1\n",
              "JOANA BEZERRA          1\n",
              "POCO DA PANELA         1\n",
              "JORDAO BAIXO           1\n",
              "DERBY                  1\n",
              "Name: no_bairro_residencia, Length: 95, dtype: int64"
            ]
          },
          "metadata": {
            "tags": []
          },
          "execution_count": 4
        }
      ]
    },
    {
      "cell_type": "code",
      "metadata": {
        "id": "OCziPXDTBUuc",
        "colab": {
          "base_uri": "https://localhost:8080/",
          "height": 289
        },
        "outputId": "83e95f95-5c34-42a1-94a9-6558876a85ea"
      },
      "source": [
        "emlurb.head()"
      ],
      "execution_count": 5,
      "outputs": [
        {
          "output_type": "execute_result",
          "data": {
            "text/html": [
              "<div>\n",
              "<style scoped>\n",
              "    .dataframe tbody tr th:only-of-type {\n",
              "        vertical-align: middle;\n",
              "    }\n",
              "\n",
              "    .dataframe tbody tr th {\n",
              "        vertical-align: top;\n",
              "    }\n",
              "\n",
              "    .dataframe thead th {\n",
              "        text-align: right;\n",
              "    }\n",
              "</style>\n",
              "<table border=\"1\" class=\"dataframe\">\n",
              "  <thead>\n",
              "    <tr style=\"text-align: right;\">\n",
              "      <th></th>\n",
              "      <th>_id</th>\n",
              "      <th>GRUPOSERVICO_CODIGO</th>\n",
              "      <th>GRUPOSERVICO_DESCRICAO</th>\n",
              "      <th>SERVICO_CODIGO</th>\n",
              "      <th>SERVICO_DESCRICAO</th>\n",
              "      <th>LOGRADOURO</th>\n",
              "      <th>NUMERO</th>\n",
              "      <th>BAIRRO</th>\n",
              "      <th>RPA</th>\n",
              "      <th>DATA_DEMANDA</th>\n",
              "      <th>SITUACAO</th>\n",
              "      <th>DATA_ULT_SITUACAO</th>\n",
              "    </tr>\n",
              "  </thead>\n",
              "  <tbody>\n",
              "    <tr>\n",
              "      <th>0</th>\n",
              "      <td>1</td>\n",
              "      <td>7</td>\n",
              "      <td>ARBORIZAÇÃO</td>\n",
              "      <td>8</td>\n",
              "      <td>PODA DE ARVORES</td>\n",
              "      <td>1TR  JOSE MENEZES DE LYRA FILHO</td>\n",
              "      <td>34</td>\n",
              "      <td>DOIS UNIDOS</td>\n",
              "      <td>2</td>\n",
              "      <td>2020-07-08T00:00:00</td>\n",
              "      <td>ATENDIDA</td>\n",
              "      <td>2020-09-23T00:00:00</td>\n",
              "    </tr>\n",
              "    <tr>\n",
              "      <th>1</th>\n",
              "      <td>2</td>\n",
              "      <td>7</td>\n",
              "      <td>ARBORIZAÇÃO</td>\n",
              "      <td>8</td>\n",
              "      <td>PODA DE ARVORES</td>\n",
              "      <td>1TR  VIRGILIO CAMPELO</td>\n",
              "      <td>85</td>\n",
              "      <td>MADALENA</td>\n",
              "      <td>4</td>\n",
              "      <td>2020-07-30T00:00:00</td>\n",
              "      <td>ATENDIDA</td>\n",
              "      <td>2020-08-07T00:00:00</td>\n",
              "    </tr>\n",
              "    <tr>\n",
              "      <th>2</th>\n",
              "      <td>3</td>\n",
              "      <td>7</td>\n",
              "      <td>ARBORIZAÇÃO</td>\n",
              "      <td>8</td>\n",
              "      <td>PODA DE ARVORES</td>\n",
              "      <td>1TR SANTA LUCIA</td>\n",
              "      <td>412</td>\n",
              "      <td>IPUTINGA</td>\n",
              "      <td>4</td>\n",
              "      <td>2020-09-10T00:00:00</td>\n",
              "      <td>ATENDIDA</td>\n",
              "      <td>2020-11-10T00:00:00</td>\n",
              "    </tr>\n",
              "    <tr>\n",
              "      <th>3</th>\n",
              "      <td>4</td>\n",
              "      <td>7</td>\n",
              "      <td>ARBORIZAÇÃO</td>\n",
              "      <td>8</td>\n",
              "      <td>PODA DE ARVORES</td>\n",
              "      <td>2TR  REALEZA</td>\n",
              "      <td>776</td>\n",
              "      <td>SAO JOSE</td>\n",
              "      <td>1</td>\n",
              "      <td>2020-10-08T00:00:00</td>\n",
              "      <td>ATENDIDA</td>\n",
              "      <td>2020-12-10T00:00:00</td>\n",
              "    </tr>\n",
              "    <tr>\n",
              "      <th>4</th>\n",
              "      <td>5</td>\n",
              "      <td>7</td>\n",
              "      <td>ARBORIZAÇÃO</td>\n",
              "      <td>8</td>\n",
              "      <td>PODA DE ARVORES</td>\n",
              "      <td>2TR  REALEZA</td>\n",
              "      <td>776</td>\n",
              "      <td>SAO JOSE</td>\n",
              "      <td>1</td>\n",
              "      <td>2020-12-14T00:00:00</td>\n",
              "      <td>ATENDIDA</td>\n",
              "      <td>2020-12-14T00:00:00</td>\n",
              "    </tr>\n",
              "  </tbody>\n",
              "</table>\n",
              "</div>"
            ],
            "text/plain": [
              "   _id  GRUPOSERVICO_CODIGO  ...  SITUACAO    DATA_ULT_SITUACAO\n",
              "0    1                    7  ...  ATENDIDA  2020-09-23T00:00:00\n",
              "1    2                    7  ...  ATENDIDA  2020-08-07T00:00:00\n",
              "2    3                    7  ...  ATENDIDA  2020-11-10T00:00:00\n",
              "3    4                    7  ...  ATENDIDA  2020-12-10T00:00:00\n",
              "4    5                    7  ...  ATENDIDA  2020-12-14T00:00:00\n",
              "\n",
              "[5 rows x 12 columns]"
            ]
          },
          "metadata": {
            "tags": []
          },
          "execution_count": 5
        }
      ]
    },
    {
      "cell_type": "code",
      "metadata": {
        "colab": {
          "base_uri": "https://localhost:8080/"
        },
        "id": "-JGze3iA9E9G",
        "outputId": "9d1df83b-d315-4cfc-fb53-0047b4a8c08d"
      },
      "source": [
        "emlurb[\"BAIRRO\"] = emlurb[\"BAIRRO\"].astype('category')\n",
        "emlurb['GRUPOSERVICO_DESCRICAO'] = emlurb['GRUPOSERVICO_DESCRICAO'].astype('category')\n",
        "emlurb[enlurb['GRUPOSERVICO_DESCRICAO'] == 'DRENAGEM']['BAIRRO'].value_counts()"
      ],
      "execution_count": 6,
      "outputs": [
        {
          "output_type": "execute_result",
          "data": {
            "text/plain": [
              "SANTO AMARO             436\n",
              "BOA VIAGEM              382\n",
              "AFOGADOS                328\n",
              "CORDEIRO                325\n",
              "SAO JOSE                290\n",
              "                       ... \n",
              "CIDADE UNIVERSITARIA      6\n",
              "JAQUEIRA                  5\n",
              "SOLEDADE                  3\n",
              "PEIXINHOS                 3\n",
              "PAU FERRO                 0\n",
              "Name: BAIRRO, Length: 94, dtype: int64"
            ]
          },
          "metadata": {
            "tags": []
          },
          "execution_count": 6
        }
      ]
    },
    {
      "cell_type": "code",
      "metadata": {
        "id": "t7uHz2PjaYDq"
      },
      "source": [
        "from scipy import stats\n",
        "\n",
        "merge=pd.merge(emlurb,dengue,left_on='BAIRRO',right_on='no_bairro_residencia')"
      ],
      "execution_count": 7,
      "outputs": []
    },
    {
      "cell_type": "markdown",
      "metadata": {
        "id": "cuOgGOMntdH1"
      },
      "source": [
        "Tentando ver como mudar o tipo de bairro para poder rodar os testes de hipótese"
      ]
    },
    {
      "cell_type": "code",
      "metadata": {
        "id": "RVIECFdCmdqq"
      },
      "source": [
        "merge[\"BAIRRO\"] = merge[\"BAIRRO\"].astype('category')\n",
        "#merge[\"BAIRRO\"].cat.codes()"
      ],
      "execution_count": null,
      "outputs": []
    }
  ]
}