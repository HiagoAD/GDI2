{
  "nbformat": 4,
  "nbformat_minor": 0,
  "metadata": {
    "colab": {
      "name": "Project_1.ipynb",
      "provenance": [],
      "collapsed_sections": [],
      "include_colab_link": true
    },
    "kernelspec": {
      "name": "python3",
      "display_name": "Python 3"
    },
    "language_info": {
      "name": "python"
    }
  },
  "cells": [
    {
      "cell_type": "markdown",
      "metadata": {
        "id": "view-in-github",
        "colab_type": "text"
      },
      "source": [
        "<a href=\"https://colab.research.google.com/github/HiagoAD/GDI2/blob/master/Project_1.ipynb\" target=\"_parent\"><img src=\"https://colab.research.google.com/assets/colab-badge.svg\" alt=\"Open In Colab\"/></a>"
      ]
    },
    {
      "cell_type": "code",
      "metadata": {
        "colab": {
          "base_uri": "https://localhost:8080/"
        },
        "id": "qvSv-z8qYhrz",
        "outputId": "8697d932-6c90-4852-a444-456f637ef12d"
      },
      "source": [
        "import numpy as np\n",
        "import pandas as pd\n",
        "\n",
        "dengue = pd.read_csv(\"https://raw.githubusercontent.com/HiagoAD/GDI2/master/datasets/dengue.csv\", encoding =\"UTF-8\")\n",
        "enlurb = pd.read_csv(\"https://raw.githubusercontent.com/HiagoAD/GDI2/master/datasets/emlurb.csv\", encoding =\"UTF-8\")\n",
        "\n",
        "minha_lista = [1,2,3,4,5]\n",
        "a = np.array(minha_lista)\n",
        "a\n",
        "\n",
        "np.arange(0,10)"
      ],
      "execution_count": 19,
      "outputs": [
        {
          "output_type": "execute_result",
          "data": {
            "text/plain": [
              "array([0, 1, 2, 3, 4, 5, 6, 7, 8, 9])"
            ]
          },
          "metadata": {
            "tags": []
          },
          "execution_count": 19
        }
      ]
    },
    {
      "cell_type": "code",
      "metadata": {
        "id": "_AgOPZ0mY19_",
        "colab": {
          "base_uri": "https://localhost:8080/"
        },
        "outputId": "72753e17-7bf0-4cf7-f37f-9d3446bbcce0"
      },
      "source": [
        "dengue[\"no_bairro_residencia\"] = dengue[\"no_bairro_residencia\"].astype('category')\n",
        "dengue[\"no_bairro_residencia\"].value_counts()"
      ],
      "execution_count": 30,
      "outputs": [
        {
          "output_type": "execute_result",
          "data": {
            "text/plain": [
              "IBURA                186\n",
              "COHAB                 63\n",
              "AREIAS                31\n",
              "BOA VIAGEM            31\n",
              "AFOGADOS              31\n",
              "                    ... \n",
              "JARDIM PETROPOLIS      1\n",
              "JOANA BEZERRA          1\n",
              "POCO DA PANELA         1\n",
              "JORDAO BAIXO           1\n",
              "DERBY                  1\n",
              "Name: no_bairro_residencia, Length: 95, dtype: int64"
            ]
          },
          "metadata": {
            "tags": []
          },
          "execution_count": 30
        }
      ]
    },
    {
      "cell_type": "code",
      "metadata": {
        "id": "OCziPXDTBUuc",
        "outputId": "5162d194-6100-4f4b-abf0-3a1195769dc8",
        "colab": {
          "base_uri": "https://localhost:8080/",
          "height": 206
        }
      },
      "source": [
        "enlurb.head()"
      ],
      "execution_count": 32,
      "outputs": [
        {
          "output_type": "execute_result",
          "data": {
            "text/html": [
              "<div>\n",
              "<style scoped>\n",
              "    .dataframe tbody tr th:only-of-type {\n",
              "        vertical-align: middle;\n",
              "    }\n",
              "\n",
              "    .dataframe tbody tr th {\n",
              "        vertical-align: top;\n",
              "    }\n",
              "\n",
              "    .dataframe thead th {\n",
              "        text-align: right;\n",
              "    }\n",
              "</style>\n",
              "<table border=\"1\" class=\"dataframe\">\n",
              "  <thead>\n",
              "    <tr style=\"text-align: right;\">\n",
              "      <th></th>\n",
              "      <th>_id</th>\n",
              "      <th>GRUPOSERVICO_CODIGO</th>\n",
              "      <th>GRUPOSERVICO_DESCRICAO</th>\n",
              "      <th>SERVICO_CODIGO</th>\n",
              "      <th>SERVICO_DESCRICAO</th>\n",
              "      <th>LOGRADOURO</th>\n",
              "      <th>NUMERO</th>\n",
              "      <th>BAIRRO</th>\n",
              "      <th>RPA</th>\n",
              "      <th>DATA_DEMANDA</th>\n",
              "      <th>SITUACAO</th>\n",
              "      <th>DATA_ULT_SITUACAO</th>\n",
              "    </tr>\n",
              "  </thead>\n",
              "  <tbody>\n",
              "    <tr>\n",
              "      <th>0</th>\n",
              "      <td>1</td>\n",
              "      <td>7</td>\n",
              "      <td>ARBORIZAÇÃO</td>\n",
              "      <td>8</td>\n",
              "      <td>PODA DE ARVORES</td>\n",
              "      <td>1TR  JOSE MENEZES DE LYRA FILHO</td>\n",
              "      <td>34</td>\n",
              "      <td>DOIS UNIDOS</td>\n",
              "      <td>2</td>\n",
              "      <td>2020-07-08T00:00:00</td>\n",
              "      <td>ATENDIDA</td>\n",
              "      <td>2020-09-23T00:00:00</td>\n",
              "    </tr>\n",
              "    <tr>\n",
              "      <th>1</th>\n",
              "      <td>2</td>\n",
              "      <td>7</td>\n",
              "      <td>ARBORIZAÇÃO</td>\n",
              "      <td>8</td>\n",
              "      <td>PODA DE ARVORES</td>\n",
              "      <td>1TR  VIRGILIO CAMPELO</td>\n",
              "      <td>85</td>\n",
              "      <td>MADALENA</td>\n",
              "      <td>4</td>\n",
              "      <td>2020-07-30T00:00:00</td>\n",
              "      <td>ATENDIDA</td>\n",
              "      <td>2020-08-07T00:00:00</td>\n",
              "    </tr>\n",
              "    <tr>\n",
              "      <th>2</th>\n",
              "      <td>3</td>\n",
              "      <td>7</td>\n",
              "      <td>ARBORIZAÇÃO</td>\n",
              "      <td>8</td>\n",
              "      <td>PODA DE ARVORES</td>\n",
              "      <td>1TR SANTA LUCIA</td>\n",
              "      <td>412</td>\n",
              "      <td>IPUTINGA</td>\n",
              "      <td>4</td>\n",
              "      <td>2020-09-10T00:00:00</td>\n",
              "      <td>ATENDIDA</td>\n",
              "      <td>2020-11-10T00:00:00</td>\n",
              "    </tr>\n",
              "    <tr>\n",
              "      <th>3</th>\n",
              "      <td>4</td>\n",
              "      <td>7</td>\n",
              "      <td>ARBORIZAÇÃO</td>\n",
              "      <td>8</td>\n",
              "      <td>PODA DE ARVORES</td>\n",
              "      <td>2TR  REALEZA</td>\n",
              "      <td>776</td>\n",
              "      <td>SAO JOSE</td>\n",
              "      <td>1</td>\n",
              "      <td>2020-10-08T00:00:00</td>\n",
              "      <td>ATENDIDA</td>\n",
              "      <td>2020-12-10T00:00:00</td>\n",
              "    </tr>\n",
              "    <tr>\n",
              "      <th>4</th>\n",
              "      <td>5</td>\n",
              "      <td>7</td>\n",
              "      <td>ARBORIZAÇÃO</td>\n",
              "      <td>8</td>\n",
              "      <td>PODA DE ARVORES</td>\n",
              "      <td>2TR  REALEZA</td>\n",
              "      <td>776</td>\n",
              "      <td>SAO JOSE</td>\n",
              "      <td>1</td>\n",
              "      <td>2020-12-14T00:00:00</td>\n",
              "      <td>ATENDIDA</td>\n",
              "      <td>2020-12-14T00:00:00</td>\n",
              "    </tr>\n",
              "  </tbody>\n",
              "</table>\n",
              "</div>"
            ],
            "text/plain": [
              "   _id  GRUPOSERVICO_CODIGO  ...  SITUACAO    DATA_ULT_SITUACAO\n",
              "0    1                    7  ...  ATENDIDA  2020-09-23T00:00:00\n",
              "1    2                    7  ...  ATENDIDA  2020-08-07T00:00:00\n",
              "2    3                    7  ...  ATENDIDA  2020-11-10T00:00:00\n",
              "3    4                    7  ...  ATENDIDA  2020-12-10T00:00:00\n",
              "4    5                    7  ...  ATENDIDA  2020-12-14T00:00:00\n",
              "\n",
              "[5 rows x 12 columns]"
            ]
          },
          "metadata": {
            "tags": []
          },
          "execution_count": 32
        }
      ]
    },
    {
      "cell_type": "code",
      "metadata": {
        "colab": {
          "base_uri": "https://localhost:8080/"
        },
        "id": "-JGze3iA9E9G",
        "outputId": "a106fddd-1e0d-4831-ee98-6276edc956fa"
      },
      "source": [
        "enlurb[\"BAIRRO\"] = enlurb[\"BAIRRO\"].astype('category')\n",
        "enlurb['GRUPOSERVICO_DESCRICAO'] = enlurb['GRUPOSERVICO_DESCRICAO'].astype('category')\n",
        "enlurb[enlurb['GRUPOSERVICO_DESCRICAO'] == 'DRENAGEM']['BAIRRO'].value_counts()"
      ],
      "execution_count": 40,
      "outputs": [
        {
          "output_type": "execute_result",
          "data": {
            "text/plain": [
              "SANTO AMARO             436\n",
              "BOA VIAGEM              382\n",
              "AFOGADOS                328\n",
              "CORDEIRO                325\n",
              "SAO JOSE                290\n",
              "                       ... \n",
              "CIDADE UNIVERSITARIA      6\n",
              "JAQUEIRA                  5\n",
              "SOLEDADE                  3\n",
              "PEIXINHOS                 3\n",
              "PAU FERRO                 0\n",
              "Name: BAIRRO, Length: 94, dtype: int64"
            ]
          },
          "metadata": {
            "tags": []
          },
          "execution_count": 40
        }
      ]
    }
  ]
}