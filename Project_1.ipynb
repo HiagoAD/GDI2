{
  "nbformat": 4,
  "nbformat_minor": 0,
  "metadata": {
    "colab": {
      "name": "Cópia de Project_1.ipynb",
      "provenance": [],
      "collapsed_sections": [],
      "include_colab_link": true
    },
    "kernelspec": {
      "name": "python3",
      "display_name": "Python 3"
    },
    "language_info": {
      "name": "python"
    }
  },
  "cells": [
    {
      "cell_type": "markdown",
      "metadata": {
        "id": "view-in-github",
        "colab_type": "text"
      },
      "source": [
        "<a href=\"https://colab.research.google.com/github/HiagoAD/GDI2/blob/master/Project_1.ipynb\" target=\"_parent\"><img src=\"https://colab.research.google.com/assets/colab-badge.svg\" alt=\"Open In Colab\"/></a>"
      ]
    },
    {
      "cell_type": "code",
      "metadata": {
        "id": "qvSv-z8qYhrz"
      },
      "source": [
        "import numpy as np\n",
        "import pandas as pd\n"
      ],
      "execution_count": 1,
      "outputs": []
    },
    {
      "cell_type": "markdown",
      "metadata": {
        "id": "XNyYEoUn7WWs"
      },
      "source": [
        "## **Datasets**\n"
      ]
    },
    {
      "cell_type": "code",
      "metadata": {
        "id": "6HGU6r7p7T_t"
      },
      "source": [
        "dengue = pd.read_csv(\"https://raw.githubusercontent.com/HiagoAD/GDI2/master/datasets/dengue.csv\", encoding =\"UTF-8\")\n",
        "emlurb = pd.read_csv(\"https://raw.githubusercontent.com/HiagoAD/GDI2/master/datasets/emlurb.csv\", encoding =\"UTF-8\")\n"
      ],
      "execution_count": 81,
      "outputs": []
    },
    {
      "cell_type": "markdown",
      "metadata": {
        "id": "RXEnqpXB_QD9"
      },
      "source": [
        "## **Detalhamento de datasets**\n"
      ]
    },
    {
      "cell_type": "code",
      "metadata": {
        "colab": {
          "base_uri": "https://localhost:8080/"
        },
        "id": "jJg24QSvdNOS",
        "outputId": "2bdccec8-c13f-446b-acaf-2b25663b770f"
      },
      "source": [
        "pd.to_datetime(\"2020-07-08T00:00:00\")"
      ],
      "execution_count": 82,
      "outputs": [
        {
          "output_type": "execute_result",
          "data": {
            "text/plain": [
              "Timestamp('2020-07-08 00:00:00')"
            ]
          },
          "metadata": {
            "tags": []
          },
          "execution_count": 82
        }
      ]
    },
    {
      "cell_type": "code",
      "metadata": {
        "id": "BKkoMG7g_qz3"
      },
      "source": [
        "emlurb.head()"
      ],
      "execution_count": null,
      "outputs": []
    },
    {
      "cell_type": "code",
      "metadata": {
        "id": "oYWpsAuz_utl"
      },
      "source": [
        "dengue.describe()"
      ],
      "execution_count": null,
      "outputs": []
    },
    {
      "cell_type": "markdown",
      "metadata": {
        "id": "PwbQXau6OnKH"
      },
      "source": [
        "## **Reorganização de Datasets**"
      ]
    },
    {
      "cell_type": "code",
      "metadata": {
        "id": "FnVSLbsPCJ2U"
      },
      "source": [
        "dengue_data = dengue[[\"no_bairro_residencia\", \"dt_notificacao\"]]\n",
        "dengue_data[\"no_bairro_residencia\"].value_counts()"
      ],
      "execution_count": null,
      "outputs": []
    },
    {
      "cell_type": "code",
      "metadata": {
        "id": "0in2Z0NKVfXV"
      },
      "source": [
        "dengue_data[\"dt_notificacao\"] = pd.to_datetime(dengue_data[\"dt_notificacao\"])\n",
        "dengue_data = dengue_data.groupby([\"no_bairro_residencia\", \"dt_notificacao\"]).size().reset_index(name=\"CASOS_DENGUE\")\n",
        "\n",
        "dengue_data.head()"
      ],
      "execution_count": null,
      "outputs": []
    },
    {
      "cell_type": "code",
      "metadata": {
        "id": "-JGze3iA9E9G"
      },
      "source": [
        "emlurb_data = emlurb[[\"GRUPOSERVICO_DESCRICAO\", \"BAIRRO\", \"DATA_DEMANDA\"]]\n",
        "emlurb_data = emlurb_data[(emlurb_data.GRUPOSERVICO_DESCRICAO == \"DRENAGEM\")]\n",
        "emlurb_data[\"DATA_DEMANDA\"] = pd.to_datetime(emlurb_data[\"DATA_DEMANDA\"])"
      ],
      "execution_count": 85,
      "outputs": []
    },
    {
      "cell_type": "code",
      "metadata": {
        "colab": {
          "base_uri": "https://localhost:8080/",
          "height": 204
        },
        "id": "so2pC2rafJRA",
        "outputId": "76fb9555-a620-41d2-96ba-461e5aa3f2af"
      },
      "source": [
        "emlurb_data = emlurb_data.groupby([\"BAIRRO\", \"DATA_DEMANDA\"]).size().reset_index(name=\"CHAMADOS_EMLURB\")\n",
        "emlurb_data.head()\n"
      ],
      "execution_count": 86,
      "outputs": [
        {
          "output_type": "execute_result",
          "data": {
            "text/html": [
              "<div>\n",
              "<style scoped>\n",
              "    .dataframe tbody tr th:only-of-type {\n",
              "        vertical-align: middle;\n",
              "    }\n",
              "\n",
              "    .dataframe tbody tr th {\n",
              "        vertical-align: top;\n",
              "    }\n",
              "\n",
              "    .dataframe thead th {\n",
              "        text-align: right;\n",
              "    }\n",
              "</style>\n",
              "<table border=\"1\" class=\"dataframe\">\n",
              "  <thead>\n",
              "    <tr style=\"text-align: right;\">\n",
              "      <th></th>\n",
              "      <th>BAIRRO</th>\n",
              "      <th>DATA_DEMANDA</th>\n",
              "      <th>CHAMADOS_EMLURB</th>\n",
              "    </tr>\n",
              "  </thead>\n",
              "  <tbody>\n",
              "    <tr>\n",
              "      <th>0</th>\n",
              "      <td>AFLITOS</td>\n",
              "      <td>2020-01-15</td>\n",
              "      <td>1</td>\n",
              "    </tr>\n",
              "    <tr>\n",
              "      <th>1</th>\n",
              "      <td>AFLITOS</td>\n",
              "      <td>2020-03-03</td>\n",
              "      <td>1</td>\n",
              "    </tr>\n",
              "    <tr>\n",
              "      <th>2</th>\n",
              "      <td>AFLITOS</td>\n",
              "      <td>2020-03-04</td>\n",
              "      <td>1</td>\n",
              "    </tr>\n",
              "    <tr>\n",
              "      <th>3</th>\n",
              "      <td>AFLITOS</td>\n",
              "      <td>2020-04-16</td>\n",
              "      <td>1</td>\n",
              "    </tr>\n",
              "    <tr>\n",
              "      <th>4</th>\n",
              "      <td>AFLITOS</td>\n",
              "      <td>2020-04-17</td>\n",
              "      <td>1</td>\n",
              "    </tr>\n",
              "  </tbody>\n",
              "</table>\n",
              "</div>"
            ],
            "text/plain": [
              "    BAIRRO DATA_DEMANDA  CHAMADOS_EMLURB\n",
              "0  AFLITOS   2020-01-15                1\n",
              "1  AFLITOS   2020-03-03                1\n",
              "2  AFLITOS   2020-03-04                1\n",
              "3  AFLITOS   2020-04-16                1\n",
              "4  AFLITOS   2020-04-17                1"
            ]
          },
          "metadata": {
            "tags": []
          },
          "execution_count": 86
        }
      ]
    },
    {
      "cell_type": "code",
      "metadata": {
        "colab": {
          "base_uri": "https://localhost:8080/",
          "height": 204
        },
        "id": "K-AxnU0-KfFX",
        "outputId": "db3b166a-1616-42d6-d7f1-fc934e498f43"
      },
      "source": [
        "crossed_info = pd.merge(dengue_data, emlurb_data, left_on=[\"no_bairro_residencia\",\"dt_notificacao\"],right_on=[\"BAIRRO\", \"DATA_DEMANDA\"])\n",
        "crossed_info.head()"
      ],
      "execution_count": 87,
      "outputs": [
        {
          "output_type": "execute_result",
          "data": {
            "text/html": [
              "<div>\n",
              "<style scoped>\n",
              "    .dataframe tbody tr th:only-of-type {\n",
              "        vertical-align: middle;\n",
              "    }\n",
              "\n",
              "    .dataframe tbody tr th {\n",
              "        vertical-align: top;\n",
              "    }\n",
              "\n",
              "    .dataframe thead th {\n",
              "        text-align: right;\n",
              "    }\n",
              "</style>\n",
              "<table border=\"1\" class=\"dataframe\">\n",
              "  <thead>\n",
              "    <tr style=\"text-align: right;\">\n",
              "      <th></th>\n",
              "      <th>no_bairro_residencia</th>\n",
              "      <th>dt_notificacao</th>\n",
              "      <th>CASOS_DENGUE</th>\n",
              "      <th>BAIRRO</th>\n",
              "      <th>DATA_DEMANDA</th>\n",
              "      <th>CHAMADOS_EMLURB</th>\n",
              "    </tr>\n",
              "  </thead>\n",
              "  <tbody>\n",
              "    <tr>\n",
              "      <th>0</th>\n",
              "      <td>AFOGADOS</td>\n",
              "      <td>2020-01-13</td>\n",
              "      <td>1</td>\n",
              "      <td>AFOGADOS</td>\n",
              "      <td>2020-01-13</td>\n",
              "      <td>4</td>\n",
              "    </tr>\n",
              "    <tr>\n",
              "      <th>1</th>\n",
              "      <td>AFOGADOS</td>\n",
              "      <td>2020-01-23</td>\n",
              "      <td>1</td>\n",
              "      <td>AFOGADOS</td>\n",
              "      <td>2020-01-23</td>\n",
              "      <td>1</td>\n",
              "    </tr>\n",
              "    <tr>\n",
              "      <th>2</th>\n",
              "      <td>AFOGADOS</td>\n",
              "      <td>2020-01-29</td>\n",
              "      <td>1</td>\n",
              "      <td>AFOGADOS</td>\n",
              "      <td>2020-01-29</td>\n",
              "      <td>1</td>\n",
              "    </tr>\n",
              "    <tr>\n",
              "      <th>3</th>\n",
              "      <td>AFOGADOS</td>\n",
              "      <td>2020-02-03</td>\n",
              "      <td>1</td>\n",
              "      <td>AFOGADOS</td>\n",
              "      <td>2020-02-03</td>\n",
              "      <td>1</td>\n",
              "    </tr>\n",
              "    <tr>\n",
              "      <th>4</th>\n",
              "      <td>AFOGADOS</td>\n",
              "      <td>2020-02-05</td>\n",
              "      <td>4</td>\n",
              "      <td>AFOGADOS</td>\n",
              "      <td>2020-02-05</td>\n",
              "      <td>2</td>\n",
              "    </tr>\n",
              "  </tbody>\n",
              "</table>\n",
              "</div>"
            ],
            "text/plain": [
              "  no_bairro_residencia dt_notificacao  ...  DATA_DEMANDA CHAMADOS_EMLURB\n",
              "0             AFOGADOS     2020-01-13  ...    2020-01-13               4\n",
              "1             AFOGADOS     2020-01-23  ...    2020-01-23               1\n",
              "2             AFOGADOS     2020-01-29  ...    2020-01-29               1\n",
              "3             AFOGADOS     2020-02-03  ...    2020-02-03               1\n",
              "4             AFOGADOS     2020-02-05  ...    2020-02-05               2\n",
              "\n",
              "[5 rows x 6 columns]"
            ]
          },
          "metadata": {
            "tags": []
          },
          "execution_count": 87
        }
      ]
    },
    {
      "cell_type": "code",
      "metadata": {
        "id": "XPbG1hMvReoR"
      },
      "source": [
        "pd.set_option('display.max_rows', None)\n",
        "print(crossed_info)"
      ],
      "execution_count": null,
      "outputs": []
    },
    {
      "cell_type": "code",
      "metadata": {
        "colab": {
          "base_uri": "https://localhost:8080/"
        },
        "id": "IQzElQiHH_-W",
        "outputId": "13cf282d-baaf-48f7-ddf6-81ebd8285e98"
      },
      "source": [
        "from scipy import stats\n",
        "stats.ttest_rel(crossed_info['CASOS_DENGUE'], crossed_info['CHAMADOS_EMLURB'])"
      ],
      "execution_count": 88,
      "outputs": [
        {
          "output_type": "execute_result",
          "data": {
            "text/plain": [
              "Ttest_relResult(statistic=-2.049378462269129, pvalue=0.04146883067279564)"
            ]
          },
          "metadata": {
            "tags": []
          },
          "execution_count": 88
        }
      ]
    },
    {
      "cell_type": "markdown",
      "metadata": {
        "id": "_siEHOI9pRJ-"
      },
      "source": [
        "\n",
        "\n",
        "Aparentemente, não há forte correlação diária entre os pedidos de drenagem e os casos de dengue, mas há indícios de. \n",
        "\n",
        "\n",
        "\n",
        "Próximos passos\n",
        "  * Analizar chamados não atendidos"
      ]
    },
    {
      "cell_type": "markdown",
      "metadata": {
        "id": "bpvAHk0bsAS0"
      },
      "source": [
        "# **Análise de chamados de drenagem não atendidos pela EMLURB x Casos de Dengue**"
      ]
    },
    {
      "cell_type": "code",
      "metadata": {
        "id": "n0vnL91RsHqU"
      },
      "source": [
        "dengue_data = dengue[[\"no_bairro_residencia\", \"dt_notificacao\"]]\n",
        "dengue_data[\"no_bairro_residencia\"].value_counts()"
      ],
      "execution_count": null,
      "outputs": []
    },
    {
      "cell_type": "code",
      "metadata": {
        "id": "KEgOMWfEsMy8"
      },
      "source": [
        "dengue_data[\"dt_notificacao\"] = pd.to_datetime(dengue_data[\"dt_notificacao\"])\n",
        "\n",
        "dengue_data = dengue_data.groupby([\"no_bairro_residencia\", \"dt_notificacao\"]).size().reset_index(name=\"CASOS_DENGUE\")\n",
        "\n",
        "dengue_data.head()"
      ],
      "execution_count": null,
      "outputs": []
    },
    {
      "cell_type": "code",
      "metadata": {
        "id": "vdbuFATdsRdu"
      },
      "source": [
        "emlurb_data = emlurb[[\"GRUPOSERVICO_DESCRICAO\", \"BAIRRO\", \"DATA_DEMANDA\", \"SITUACAO\"]]\n",
        "emlurb_data = emlurb_data[(emlurb_data.GRUPOSERVICO_DESCRICAO == \"DRENAGEM\")]\n",
        "emlurb_data = emlurb_data[(emlurb_data.SITUACAO != \"ATENDIDA\")]\n",
        "emlurb_data[\"DATA_DEMANDA\"] = pd.to_datetime(emlurb_data[\"DATA_DEMANDA\"])\n",
        "\n",
        "emlurb_data.head()"
      ],
      "execution_count": null,
      "outputs": []
    },
    {
      "cell_type": "code",
      "metadata": {
        "id": "2vRoFB8Xsah0"
      },
      "source": [
        "emlurb_data = emlurb_data.groupby([\"BAIRRO\", \"DATA_DEMANDA\"]).size().reset_index(name=\"CHAMADOS_EMLURB\")\n",
        "emlurb_data.head()\n"
      ],
      "execution_count": null,
      "outputs": []
    },
    {
      "cell_type": "code",
      "metadata": {
        "id": "C7aeIc4kswC4",
        "colab": {
          "base_uri": "https://localhost:8080/",
          "height": 204
        },
        "outputId": "785adc0c-84dd-4ade-e9b4-0ce99509d767"
      },
      "source": [
        "crossed_info = pd.merge(dengue_data, emlurb_data, left_on=[\"no_bairro_residencia\",\"dt_notificacao\"],right_on=[\"BAIRRO\", \"DATA_DEMANDA\"])\n",
        "crossed_info.head()"
      ],
      "execution_count": 116,
      "outputs": [
        {
          "output_type": "execute_result",
          "data": {
            "text/html": [
              "<div>\n",
              "<style scoped>\n",
              "    .dataframe tbody tr th:only-of-type {\n",
              "        vertical-align: middle;\n",
              "    }\n",
              "\n",
              "    .dataframe tbody tr th {\n",
              "        vertical-align: top;\n",
              "    }\n",
              "\n",
              "    .dataframe thead th {\n",
              "        text-align: right;\n",
              "    }\n",
              "</style>\n",
              "<table border=\"1\" class=\"dataframe\">\n",
              "  <thead>\n",
              "    <tr style=\"text-align: right;\">\n",
              "      <th></th>\n",
              "      <th>no_bairro_residencia</th>\n",
              "      <th>dt_notificacao</th>\n",
              "      <th>CASOS_DENGUE</th>\n",
              "      <th>BAIRRO</th>\n",
              "      <th>DATA_DEMANDA</th>\n",
              "      <th>CHAMADOS_EMLURB</th>\n",
              "    </tr>\n",
              "  </thead>\n",
              "  <tbody>\n",
              "    <tr>\n",
              "      <th>0</th>\n",
              "      <td>AFOGADOS</td>\n",
              "      <td>2020-01-13</td>\n",
              "      <td>1</td>\n",
              "      <td>AFOGADOS</td>\n",
              "      <td>2020-01-13</td>\n",
              "      <td>4</td>\n",
              "    </tr>\n",
              "    <tr>\n",
              "      <th>1</th>\n",
              "      <td>AFOGADOS</td>\n",
              "      <td>2020-01-23</td>\n",
              "      <td>1</td>\n",
              "      <td>AFOGADOS</td>\n",
              "      <td>2020-01-23</td>\n",
              "      <td>1</td>\n",
              "    </tr>\n",
              "    <tr>\n",
              "      <th>2</th>\n",
              "      <td>AFOGADOS</td>\n",
              "      <td>2020-01-29</td>\n",
              "      <td>1</td>\n",
              "      <td>AFOGADOS</td>\n",
              "      <td>2020-01-29</td>\n",
              "      <td>1</td>\n",
              "    </tr>\n",
              "    <tr>\n",
              "      <th>3</th>\n",
              "      <td>AFOGADOS</td>\n",
              "      <td>2020-02-03</td>\n",
              "      <td>1</td>\n",
              "      <td>AFOGADOS</td>\n",
              "      <td>2020-02-03</td>\n",
              "      <td>1</td>\n",
              "    </tr>\n",
              "    <tr>\n",
              "      <th>4</th>\n",
              "      <td>AFOGADOS</td>\n",
              "      <td>2020-02-05</td>\n",
              "      <td>4</td>\n",
              "      <td>AFOGADOS</td>\n",
              "      <td>2020-02-05</td>\n",
              "      <td>2</td>\n",
              "    </tr>\n",
              "  </tbody>\n",
              "</table>\n",
              "</div>"
            ],
            "text/plain": [
              "  no_bairro_residencia dt_notificacao  ...  DATA_DEMANDA CHAMADOS_EMLURB\n",
              "0             AFOGADOS     2020-01-13  ...    2020-01-13               4\n",
              "1             AFOGADOS     2020-01-23  ...    2020-01-23               1\n",
              "2             AFOGADOS     2020-01-29  ...    2020-01-29               1\n",
              "3             AFOGADOS     2020-02-03  ...    2020-02-03               1\n",
              "4             AFOGADOS     2020-02-05  ...    2020-02-05               2\n",
              "\n",
              "[5 rows x 6 columns]"
            ]
          },
          "metadata": {
            "tags": []
          },
          "execution_count": 116
        }
      ]
    },
    {
      "cell_type": "code",
      "metadata": {
        "id": "pplDad4kYORH",
        "outputId": "d65b67e2-75bc-4fab-bf72-fa862cc5ee3c",
        "colab": {
          "base_uri": "https://localhost:8080/"
        }
      },
      "source": [
        "crossed_info.size"
      ],
      "execution_count": 114,
      "outputs": [
        {
          "output_type": "execute_result",
          "data": {
            "text/plain": [
              "1374"
            ]
          },
          "metadata": {
            "tags": []
          },
          "execution_count": 114
        }
      ]
    },
    {
      "cell_type": "code",
      "metadata": {
        "id": "k_LiQe_cscf7",
        "colab": {
          "base_uri": "https://localhost:8080/"
        },
        "outputId": "d8819979-c611-4191-cabe-b0da49569098"
      },
      "source": [
        "# Analise da correlação\n",
        "\n",
        "from scipy import stats\n",
        "stats.ttest_rel(crossed_info['CASOS_DENGUE'], crossed_info['CHAMADOS_EMLURB'])"
      ],
      "execution_count": 115,
      "outputs": [
        {
          "output_type": "execute_result",
          "data": {
            "text/plain": [
              "Ttest_relResult(statistic=-0.8150945908464697, pvalue=0.4158687761557307)"
            ]
          },
          "metadata": {
            "tags": []
          },
          "execution_count": 115
        }
      ]
    },
    {
      "cell_type": "markdown",
      "metadata": {
        "id": "5ICFubm1sjr1"
      },
      "source": [
        "Há **forte** correlação entre casos diários de dengue com chamados de drenagem não atendidos pela EMLURB no ano de 2020.\n",
        "\n",
        "Próximos passos:\n",
        "  * Analizar novamente casos gerais, porém na escala de um mês em vez de diária"
      ]
    },
    {
      "cell_type": "markdown",
      "metadata": {
        "id": "zPbgZTEQdey4"
      },
      "source": [
        "## Estudo de gráficos"
      ]
    },
    {
      "cell_type": "markdown",
      "metadata": {
        "id": "AlsMOmGddjYU"
      },
      "source": [
        "Primeiro, analisamos as tabelas com os dados originais. Coletando o número de casos de dengue e solicitações de drenagem por bairro. Em seguida, utilizamos a tabela com informações cruzadas."
      ]
    },
    {
      "cell_type": "code",
      "metadata": {
        "id": "llZDFe3wd9lW",
        "outputId": "af59a05e-ea41-47e0-fa9a-8bd1b19b74b3",
        "colab": {
          "base_uri": "https://localhost:8080/",
          "height": 387
        }
      },
      "source": [
        "# Análise para Casos de dengue x Bairros (para mais de 10 casos de dengue)\n",
        "\n",
        "dengue_filter = dengue_data.groupby(\"no_bairro_residencia\").filter(lambda x: len(x) > 10)\n",
        "dengue_filter['no_bairro_residencia'].value_counts().plot(kind='bar', ylabel='Casos de dengue', xlabel='Bairros')"
      ],
      "execution_count": 136,
      "outputs": [
        {
          "output_type": "execute_result",
          "data": {
            "text/plain": [
              "<matplotlib.axes._subplots.AxesSubplot at 0x7fd6d1c63890>"
            ]
          },
          "metadata": {
            "tags": []
          },
          "execution_count": 136
        },
        {
          "output_type": "display_data",
          "data": {
            "image/png": "[encoded data removed]",
            "text/plain": [
              "<Figure size 432x288 with 1 Axes>"
            ]
          },
          "metadata": {
            "tags": [],
            "needs_background": "light"
          }
        }
      ]
    },
    {
      "cell_type": "code",
      "metadata": {
        "id": "FrFphleZe2Nw",
        "outputId": "a6d36ac7-bbc2-4f9b-fb1d-cc93bcbf3f83",
        "colab": {
          "base_uri": "https://localhost:8080/",
          "height": 394
        }
      },
      "source": [
        "# Análise para Solicitações não atendidas de drenagem x Bairros (para mais de 35 chamados não atendidos)\n",
        "\n",
        "emlurb_filter = emlurb_data.groupby(\"BAIRRO\").filter(lambda x: len(x) > 35)\n",
        "emlurb_filter['BAIRRO'].value_counts().plot(kind='bar', ylabel='Solicitações não atendidas de drenagem', xlabel='Bairros')"
      ],
      "execution_count": 137,
      "outputs": [
        {
          "output_type": "execute_result",
          "data": {
            "text/plain": [
              "<matplotlib.axes._subplots.AxesSubplot at 0x7fd6d1bb7c50>"
            ]
          },
          "metadata": {
            "tags": []
          },
          "execution_count": 137
        },
        {
          "output_type": "display_data",
          "data": {
            "image/png": "[encoded data removed]",
            "text/plain": [
              "<Figure size 432x288 with 1 Axes>"
            ]
          },
          "metadata": {
            "tags": [],
            "needs_background": "light"
          }
        }
      ]
    },
    {
      "cell_type": "code",
      "metadata": {
        "id": "vy5YM49YcwWH",
        "outputId": "13d97e05-526c-421c-9e61-7699a213dd0a",
        "colab": {
          "base_uri": "https://localhost:8080/",
          "height": 385
        }
      },
      "source": [
        "# Análise para Casos de dengue com solicitações não atendidas de drenagem x Bairros (mais de 5 casos)\n",
        "\n",
        "crossed_info_filter = crossed_info.groupby(\"no_bairro_residencia\").filter(lambda x: len(x) > 5)\n",
        "crossed_info_filter['no_bairro_residencia'].value_counts().plot(kind='bar', ylabel='Casos de dengue, solicitações não atendidas', xlabel='Bairros')"
      ],
      "execution_count": 139,
      "outputs": [
        {
          "output_type": "execute_result",
          "data": {
            "text/plain": [
              "<matplotlib.axes._subplots.AxesSubplot at 0x7fd6d2641d90>"
            ]
          },
          "metadata": {
            "tags": []
          },
          "execution_count": 139
        },
        {
          "output_type": "display_data",
          "data": {
            "image/png": "[encoded data removed]",
            "text/plain": [
              "<Figure size 432x288 with 1 Axes>"
            ]
          },
          "metadata": {
            "tags": [],
            "needs_background": "light"
          }
        }
      ]
    },
    {
      "cell_type": "markdown",
      "metadata": {
        "id": "MugHIXH8tbRG"
      },
      "source": [
        "# **Análise de chamados de drenagem  x Casos de Dengue (Mensal)**"
      ]
    },
    {
      "cell_type": "code",
      "metadata": {
        "id": "BCikupZ84wmv",
        "colab": {
          "base_uri": "https://localhost:8080/",
          "height": 204
        },
        "outputId": "a9f92db2-2c01-49a4-ab7d-813572c3864a"
      },
      "source": [
        "dengue_data = dengue[[\"no_bairro_residencia\", \"dt_notificacao\"]]\n",
        "dengue_data.head()"
      ],
      "execution_count": 18,
      "outputs": [
        {
          "output_type": "execute_result",
          "data": {
            "text/html": [
              "<div>\n",
              "<style scoped>\n",
              "    .dataframe tbody tr th:only-of-type {\n",
              "        vertical-align: middle;\n",
              "    }\n",
              "\n",
              "    .dataframe tbody tr th {\n",
              "        vertical-align: top;\n",
              "    }\n",
              "\n",
              "    .dataframe thead th {\n",
              "        text-align: right;\n",
              "    }\n",
              "</style>\n",
              "<table border=\"1\" class=\"dataframe\">\n",
              "  <thead>\n",
              "    <tr style=\"text-align: right;\">\n",
              "      <th></th>\n",
              "      <th>no_bairro_residencia</th>\n",
              "      <th>dt_notificacao</th>\n",
              "    </tr>\n",
              "  </thead>\n",
              "  <tbody>\n",
              "    <tr>\n",
              "      <th>0</th>\n",
              "      <td>ROSARINHO</td>\n",
              "      <td>2020-06-26T00:00:00</td>\n",
              "    </tr>\n",
              "    <tr>\n",
              "      <th>1</th>\n",
              "      <td>CASA AMARELA</td>\n",
              "      <td>2020-06-22T00:00:00</td>\n",
              "    </tr>\n",
              "    <tr>\n",
              "      <th>2</th>\n",
              "      <td>SANTO AMARO</td>\n",
              "      <td>2020-01-09T00:00:00</td>\n",
              "    </tr>\n",
              "    <tr>\n",
              "      <th>3</th>\n",
              "      <td>GRACAS</td>\n",
              "      <td>2020-01-03T00:00:00</td>\n",
              "    </tr>\n",
              "    <tr>\n",
              "      <th>4</th>\n",
              "      <td>TAMARINEIRA</td>\n",
              "      <td>2020-01-13T00:00:00</td>\n",
              "    </tr>\n",
              "  </tbody>\n",
              "</table>\n",
              "</div>"
            ],
            "text/plain": [
              "  no_bairro_residencia       dt_notificacao\n",
              "0            ROSARINHO  2020-06-26T00:00:00\n",
              "1         CASA AMARELA  2020-06-22T00:00:00\n",
              "2          SANTO AMARO  2020-01-09T00:00:00\n",
              "3               GRACAS  2020-01-03T00:00:00\n",
              "4          TAMARINEIRA  2020-01-13T00:00:00"
            ]
          },
          "metadata": {
            "tags": []
          },
          "execution_count": 18
        }
      ]
    },
    {
      "cell_type": "code",
      "metadata": {
        "id": "-89KL5H_yYBF",
        "colab": {
          "base_uri": "https://localhost:8080/",
          "height": 399
        },
        "outputId": "952f1ccf-ded6-491c-ed56-adf08a392954"
      },
      "source": [
        "dengue_data[\"dt_notificacao\"] = pd.to_datetime(dengue[\"dt_notificacao\"], infer_datetime_format=True)\n",
        "\n",
        "dengue_data=dengue_data.groupby([pd.Grouper(key=\"dt_notificacao\", freq=\"M\"), \"no_bairro_residencia\"]).size().reset_index(name=\"CASOS_DENGUE\")\n",
        "dengue_data.describe()"
      ],
      "execution_count": 19,
      "outputs": [
        {
          "output_type": "stream",
          "text": [
            "/usr/local/lib/python3.7/dist-packages/ipykernel_launcher.py:1: SettingWithCopyWarning: \n",
            "A value is trying to be set on a copy of a slice from a DataFrame.\n",
            "Try using .loc[row_indexer,col_indexer] = value instead\n",
            "\n",
            "See the caveats in the documentation: https://pandas.pydata.org/pandas-docs/stable/user_guide/indexing.html#returning-a-view-versus-a-copy\n",
            "  \"\"\"Entry point for launching an IPython kernel.\n"
          ],
          "name": "stderr"
        },
        {
          "output_type": "execute_result",
          "data": {
            "text/html": [
              "<div>\n",
              "<style scoped>\n",
              "    .dataframe tbody tr th:only-of-type {\n",
              "        vertical-align: middle;\n",
              "    }\n",
              "\n",
              "    .dataframe tbody tr th {\n",
              "        vertical-align: top;\n",
              "    }\n",
              "\n",
              "    .dataframe thead th {\n",
              "        text-align: right;\n",
              "    }\n",
              "</style>\n",
              "<table border=\"1\" class=\"dataframe\">\n",
              "  <thead>\n",
              "    <tr style=\"text-align: right;\">\n",
              "      <th></th>\n",
              "      <th>CASOS_DENGUE</th>\n",
              "    </tr>\n",
              "  </thead>\n",
              "  <tbody>\n",
              "    <tr>\n",
              "      <th>count</th>\n",
              "      <td>321.000000</td>\n",
              "    </tr>\n",
              "    <tr>\n",
              "      <th>mean</th>\n",
              "      <td>3.099688</td>\n",
              "    </tr>\n",
              "    <tr>\n",
              "      <th>std</th>\n",
              "      <td>6.548571</td>\n",
              "    </tr>\n",
              "    <tr>\n",
              "      <th>min</th>\n",
              "      <td>1.000000</td>\n",
              "    </tr>\n",
              "    <tr>\n",
              "      <th>25%</th>\n",
              "      <td>1.000000</td>\n",
              "    </tr>\n",
              "    <tr>\n",
              "      <th>50%</th>\n",
              "      <td>2.000000</td>\n",
              "    </tr>\n",
              "    <tr>\n",
              "      <th>75%</th>\n",
              "      <td>3.000000</td>\n",
              "    </tr>\n",
              "    <tr>\n",
              "      <th>max</th>\n",
              "      <td>106.000000</td>\n",
              "    </tr>\n",
              "  </tbody>\n",
              "</table>\n",
              "</div>"
            ],
            "text/plain": [
              "       CASOS_DENGUE\n",
              "count    321.000000\n",
              "mean       3.099688\n",
              "std        6.548571\n",
              "min        1.000000\n",
              "25%        1.000000\n",
              "50%        2.000000\n",
              "75%        3.000000\n",
              "max      106.000000"
            ]
          },
          "metadata": {
            "tags": []
          },
          "execution_count": 19
        }
      ]
    },
    {
      "cell_type": "code",
      "metadata": {
        "id": "QwdGXiT_tkVV",
        "colab": {
          "base_uri": "https://localhost:8080/",
          "height": 289
        },
        "outputId": "5dfd491c-9cc7-4179-ba77-a82255c2daac"
      },
      "source": [
        "emlurb_data = emlurb[[\"GRUPOSERVICO_DESCRICAO\", \"BAIRRO\", \"DATA_DEMANDA\"]]\n",
        "emlurb_data = emlurb_data[(emlurb_data.GRUPOSERVICO_DESCRICAO == \"DRENAGEM\")]\n",
        "emlurb_data[\"DATA_DEMANDA\"] = pd.to_datetime(emlurb_data[\"DATA_DEMANDA\"], infer_datetime_format=True)\n",
        "\n",
        "emlurb_data.describe()"
      ],
      "execution_count": 20,
      "outputs": [
        {
          "output_type": "stream",
          "text": [
            "/usr/local/lib/python3.7/dist-packages/ipykernel_launcher.py:5: FutureWarning: Treating datetime data as categorical rather than numeric in `.describe` is deprecated and will be removed in a future version of pandas. Specify `datetime_is_numeric=True` to silence this warning and adopt the future behavior now.\n",
            "  \"\"\"\n"
          ],
          "name": "stderr"
        },
        {
          "output_type": "execute_result",
          "data": {
            "text/html": [
              "<div>\n",
              "<style scoped>\n",
              "    .dataframe tbody tr th:only-of-type {\n",
              "        vertical-align: middle;\n",
              "    }\n",
              "\n",
              "    .dataframe tbody tr th {\n",
              "        vertical-align: top;\n",
              "    }\n",
              "\n",
              "    .dataframe thead th {\n",
              "        text-align: right;\n",
              "    }\n",
              "</style>\n",
              "<table border=\"1\" class=\"dataframe\">\n",
              "  <thead>\n",
              "    <tr style=\"text-align: right;\">\n",
              "      <th></th>\n",
              "      <th>GRUPOSERVICO_DESCRICAO</th>\n",
              "      <th>BAIRRO</th>\n",
              "      <th>DATA_DEMANDA</th>\n",
              "    </tr>\n",
              "  </thead>\n",
              "  <tbody>\n",
              "    <tr>\n",
              "      <th>count</th>\n",
              "      <td>8340</td>\n",
              "      <td>8340</td>\n",
              "      <td>8340</td>\n",
              "    </tr>\n",
              "    <tr>\n",
              "      <th>unique</th>\n",
              "      <td>1</td>\n",
              "      <td>93</td>\n",
              "      <td>349</td>\n",
              "    </tr>\n",
              "    <tr>\n",
              "      <th>top</th>\n",
              "      <td>DRENAGEM</td>\n",
              "      <td>SANTO AMARO</td>\n",
              "      <td>2020-03-16 00:00:00</td>\n",
              "    </tr>\n",
              "    <tr>\n",
              "      <th>freq</th>\n",
              "      <td>8340</td>\n",
              "      <td>436</td>\n",
              "      <td>117</td>\n",
              "    </tr>\n",
              "    <tr>\n",
              "      <th>first</th>\n",
              "      <td>NaN</td>\n",
              "      <td>NaN</td>\n",
              "      <td>2020-01-01 00:00:00</td>\n",
              "    </tr>\n",
              "    <tr>\n",
              "      <th>last</th>\n",
              "      <td>NaN</td>\n",
              "      <td>NaN</td>\n",
              "      <td>2020-12-25 00:00:00</td>\n",
              "    </tr>\n",
              "  </tbody>\n",
              "</table>\n",
              "</div>"
            ],
            "text/plain": [
              "       GRUPOSERVICO_DESCRICAO       BAIRRO         DATA_DEMANDA\n",
              "count                    8340         8340                 8340\n",
              "unique                      1           93                  349\n",
              "top                  DRENAGEM  SANTO AMARO  2020-03-16 00:00:00\n",
              "freq                     8340          436                  117\n",
              "first                     NaN          NaN  2020-01-01 00:00:00\n",
              "last                      NaN          NaN  2020-12-25 00:00:00"
            ]
          },
          "metadata": {
            "tags": []
          },
          "execution_count": 20
        }
      ]
    },
    {
      "cell_type": "code",
      "metadata": {
        "id": "kLfQ8H7EwHqO",
        "colab": {
          "base_uri": "https://localhost:8080/",
          "height": 297
        },
        "outputId": "9990940d-63e3-48a2-9994-1ca78ab9c8ad"
      },
      "source": [
        "emlurb_data = emlurb_data.groupby([pd.Grouper(key=\"DATA_DEMANDA\", freq=\"M\"), \"BAIRRO\"]).size().reset_index(name=\"CHAMADOS_EMLURB\")\n",
        "emlurb_data.describe()"
      ],
      "execution_count": 21,
      "outputs": [
        {
          "output_type": "execute_result",
          "data": {
            "text/html": [
              "<div>\n",
              "<style scoped>\n",
              "    .dataframe tbody tr th:only-of-type {\n",
              "        vertical-align: middle;\n",
              "    }\n",
              "\n",
              "    .dataframe tbody tr th {\n",
              "        vertical-align: top;\n",
              "    }\n",
              "\n",
              "    .dataframe thead th {\n",
              "        text-align: right;\n",
              "    }\n",
              "</style>\n",
              "<table border=\"1\" class=\"dataframe\">\n",
              "  <thead>\n",
              "    <tr style=\"text-align: right;\">\n",
              "      <th></th>\n",
              "      <th>CHAMADOS_EMLURB</th>\n",
              "    </tr>\n",
              "  </thead>\n",
              "  <tbody>\n",
              "    <tr>\n",
              "      <th>count</th>\n",
              "      <td>960.000000</td>\n",
              "    </tr>\n",
              "    <tr>\n",
              "      <th>mean</th>\n",
              "      <td>8.687500</td>\n",
              "    </tr>\n",
              "    <tr>\n",
              "      <th>std</th>\n",
              "      <td>9.932318</td>\n",
              "    </tr>\n",
              "    <tr>\n",
              "      <th>min</th>\n",
              "      <td>1.000000</td>\n",
              "    </tr>\n",
              "    <tr>\n",
              "      <th>25%</th>\n",
              "      <td>2.000000</td>\n",
              "    </tr>\n",
              "    <tr>\n",
              "      <th>50%</th>\n",
              "      <td>5.000000</td>\n",
              "    </tr>\n",
              "    <tr>\n",
              "      <th>75%</th>\n",
              "      <td>12.000000</td>\n",
              "    </tr>\n",
              "    <tr>\n",
              "      <th>max</th>\n",
              "      <td>70.000000</td>\n",
              "    </tr>\n",
              "  </tbody>\n",
              "</table>\n",
              "</div>"
            ],
            "text/plain": [
              "       CHAMADOS_EMLURB\n",
              "count       960.000000\n",
              "mean          8.687500\n",
              "std           9.932318\n",
              "min           1.000000\n",
              "25%           2.000000\n",
              "50%           5.000000\n",
              "75%          12.000000\n",
              "max          70.000000"
            ]
          },
          "metadata": {
            "tags": []
          },
          "execution_count": 21
        }
      ]
    },
    {
      "cell_type": "code",
      "metadata": {
        "id": "SPhMpnsG5CRN",
        "colab": {
          "base_uri": "https://localhost:8080/",
          "height": 204
        },
        "outputId": "f92e4151-f028-4cd8-9c37-76d8637ddf4f"
      },
      "source": [
        "crossed_info = pd.merge(dengue_data, emlurb_data, left_on=[\"no_bairro_residencia\",\"dt_notificacao\"],right_on=[\"BAIRRO\", \"DATA_DEMANDA\"])\n",
        "crossed_info.head()"
      ],
      "execution_count": 22,
      "outputs": [
        {
          "output_type": "execute_result",
          "data": {
            "text/html": [
              "<div>\n",
              "<style scoped>\n",
              "    .dataframe tbody tr th:only-of-type {\n",
              "        vertical-align: middle;\n",
              "    }\n",
              "\n",
              "    .dataframe tbody tr th {\n",
              "        vertical-align: top;\n",
              "    }\n",
              "\n",
              "    .dataframe thead th {\n",
              "        text-align: right;\n",
              "    }\n",
              "</style>\n",
              "<table border=\"1\" class=\"dataframe\">\n",
              "  <thead>\n",
              "    <tr style=\"text-align: right;\">\n",
              "      <th></th>\n",
              "      <th>dt_notificacao</th>\n",
              "      <th>no_bairro_residencia</th>\n",
              "      <th>CASOS_DENGUE</th>\n",
              "      <th>DATA_DEMANDA</th>\n",
              "      <th>BAIRRO</th>\n",
              "      <th>CHAMADOS_EMLURB</th>\n",
              "    </tr>\n",
              "  </thead>\n",
              "  <tbody>\n",
              "    <tr>\n",
              "      <th>0</th>\n",
              "      <td>2020-01-31</td>\n",
              "      <td>AFOGADOS</td>\n",
              "      <td>5</td>\n",
              "      <td>2020-01-31</td>\n",
              "      <td>AFOGADOS</td>\n",
              "      <td>24</td>\n",
              "    </tr>\n",
              "    <tr>\n",
              "      <th>1</th>\n",
              "      <td>2020-01-31</td>\n",
              "      <td>AGUA FRIA</td>\n",
              "      <td>4</td>\n",
              "      <td>2020-01-31</td>\n",
              "      <td>AGUA FRIA</td>\n",
              "      <td>13</td>\n",
              "    </tr>\n",
              "    <tr>\n",
              "      <th>2</th>\n",
              "      <td>2020-01-31</td>\n",
              "      <td>ALTO DO MANDU</td>\n",
              "      <td>2</td>\n",
              "      <td>2020-01-31</td>\n",
              "      <td>ALTO DO MANDU</td>\n",
              "      <td>2</td>\n",
              "    </tr>\n",
              "    <tr>\n",
              "      <th>3</th>\n",
              "      <td>2020-01-31</td>\n",
              "      <td>ALTO JOSE BONIFACIO</td>\n",
              "      <td>2</td>\n",
              "      <td>2020-01-31</td>\n",
              "      <td>ALTO JOSE BONIFACIO</td>\n",
              "      <td>2</td>\n",
              "    </tr>\n",
              "    <tr>\n",
              "      <th>4</th>\n",
              "      <td>2020-01-31</td>\n",
              "      <td>ALTO JOSE DO PINHO</td>\n",
              "      <td>5</td>\n",
              "      <td>2020-01-31</td>\n",
              "      <td>ALTO JOSE DO PINHO</td>\n",
              "      <td>3</td>\n",
              "    </tr>\n",
              "  </tbody>\n",
              "</table>\n",
              "</div>"
            ],
            "text/plain": [
              "  dt_notificacao no_bairro_residencia  ...               BAIRRO CHAMADOS_EMLURB\n",
              "0     2020-01-31             AFOGADOS  ...             AFOGADOS              24\n",
              "1     2020-01-31            AGUA FRIA  ...            AGUA FRIA              13\n",
              "2     2020-01-31        ALTO DO MANDU  ...        ALTO DO MANDU               2\n",
              "3     2020-01-31  ALTO JOSE BONIFACIO  ...  ALTO JOSE BONIFACIO               2\n",
              "4     2020-01-31   ALTO JOSE DO PINHO  ...   ALTO JOSE DO PINHO               3\n",
              "\n",
              "[5 rows x 6 columns]"
            ]
          },
          "metadata": {
            "tags": []
          },
          "execution_count": 22
        }
      ]
    },
    {
      "cell_type": "code",
      "metadata": {
        "id": "6vW42qKp5EaF",
        "colab": {
          "base_uri": "https://localhost:8080/"
        },
        "outputId": "7ba8b05f-cf8e-4080-eb5a-4f5ea98d821e"
      },
      "source": [
        "# Analise da correlação\n",
        "\n",
        "from scipy import stats\n",
        "stats.ttest_rel(crossed_info['CASOS_DENGUE'], crossed_info['CHAMADOS_EMLURB'])"
      ],
      "execution_count": 23,
      "outputs": [
        {
          "output_type": "execute_result",
          "data": {
            "text/plain": [
              "Ttest_relResult(statistic=-11.40880858770702, pvalue=4.678854372548063e-25)"
            ]
          },
          "metadata": {
            "tags": []
          },
          "execution_count": 23
        }
      ]
    },
    {
      "cell_type": "markdown",
      "metadata": {
        "id": "HnB_Kq1u8aWp"
      },
      "source": [
        "Há **fraca** correlação entre casos mensais de dengue com chamados de drenagem não atendidos pela EMLURB no ano de 2020.\n"
      ]
    },
    {
      "cell_type": "code",
      "metadata": {
        "id": "3Fl8LC1Bjq1K"
      },
      "source": [
        ""
      ],
      "execution_count": null,
      "outputs": []
    }
  ]
}