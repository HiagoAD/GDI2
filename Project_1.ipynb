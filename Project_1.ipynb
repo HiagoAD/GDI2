{
  "nbformat": 4,
  "nbformat_minor": 0,
  "metadata": {
    "colab": {
      "name": "Cópia de Project_1.ipynb",
      "provenance": [],
      "collapsed_sections": [],
      "include_colab_link": true
    },
    "kernelspec": {
      "name": "python3",
      "display_name": "Python 3"
    },
    "language_info": {
      "name": "python"
    }
  },
  "cells": [
    {
      "cell_type": "markdown",
      "metadata": {
        "id": "view-in-github",
        "colab_type": "text"
      },
      "source": [
        "<a href=\"https://colab.research.google.com/github/HiagoAD/GDI2/blob/master/Project_1.ipynb\" target=\"_parent\"><img src=\"https://colab.research.google.com/assets/colab-badge.svg\" alt=\"Open In Colab\"/></a>"
      ]
    },
    {
      "cell_type": "code",
      "metadata": {
        "id": "qvSv-z8qYhrz"
      },
      "source": [
        "import numpy as np\n",
        "import pandas as pd\n",
        "from scipy import stats\n",
        "import matplotlib.pyplot as plt\n",
        "import calendar"
      ],
      "execution_count": 3,
      "outputs": []
    },
    {
      "cell_type": "code",
      "metadata": {
        "id": "6HGU6r7p7T_t",
        "colab": {
          "base_uri": "https://localhost:8080/"
        },
        "outputId": "e1dc13db-d8f2-4ee4-cdad-64326c1db095"
      },
      "source": [
        "dengue = pd.read_csv(\"https://raw.githubusercontent.com/HiagoAD/GDI2/master/datasets/dengue.csv\", encoding =\"UTF-8\")\n",
        "emlurb = pd.read_csv(\"https://raw.githubusercontent.com/HiagoAD/GDI2/master/datasets/emlurb.csv\", encoding =\"UTF-8\")\n",
        "\n",
        "dengue19 = pd.read_csv(\"https://raw.githubusercontent.com/HiagoAD/GDI2/master/datasets/dengue2019.csv\", encoding =\"UTF-8\", error_bad_lines=False)\n",
        "emlurb19 = pd.read_csv(\"https://raw.githubusercontent.com/HiagoAD/GDI2/master/datasets/emlurb2019.csv\", encoding =\"UTF-8\")\n"
      ],
      "execution_count": 68,
      "outputs": [
        {
          "output_type": "stream",
          "text": [
            "b'Skipping line 108: expected 126 fields, saw 127\\nSkipping line 1485: expected 126 fields, saw 127\\nSkipping line 2584: expected 126 fields, saw 127\\nSkipping line 4415: expected 126 fields, saw 127\\nSkipping line 5659: expected 126 fields, saw 127\\nSkipping line 6469: expected 126 fields, saw 127\\n'\n"
          ],
          "name": "stderr"
        }
      ]
    },
    {
      "cell_type": "markdown",
      "metadata": {
        "id": "RXEnqpXB_QD9"
      },
      "source": [
        "## **Detalhamento de datasets**\n"
      ]
    },
    {
      "cell_type": "code",
      "metadata": {
        "id": "BKkoMG7g_qz3"
      },
      "source": [
        "emlurb.head()"
      ],
      "execution_count": null,
      "outputs": []
    },
    {
      "cell_type": "code",
      "metadata": {
        "id": "oYWpsAuz_utl"
      },
      "source": [
        "dengue.head()"
      ],
      "execution_count": null,
      "outputs": []
    },
    {
      "cell_type": "markdown",
      "metadata": {
        "id": "PwbQXau6OnKH"
      },
      "source": [
        "## **Reorganização de Datasets e merge**"
      ]
    },
    {
      "cell_type": "markdown",
      "metadata": {
        "id": "v6srMQNY2zFU"
      },
      "source": [
        "Como o data frame com dados de dengue é muito robusto, usaremos apenas as colunas que nos interessam. E estas são: bairro e data de registro do caso. Agrupamos os casos por mês e totalizamos as ocorrências mensais. Outras análise podem ser interessantes, como agrupamento por bairro e por dia."
      ]
    },
    {
      "cell_type": "markdown",
      "metadata": {
        "id": "6wJH-198jv2Z"
      },
      "source": [
        " ## Dados de 2020\n"
      ]
    },
    {
      "cell_type": "code",
      "metadata": {
        "colab": {
          "base_uri": "https://localhost:8080/",
          "height": 368
        },
        "id": "V7iQmOamjzLK",
        "outputId": "66ad908c-b3df-48c5-92ad-429a0a33c341"
      },
      "source": [
        "# Utilizamos apenas as colunas de bairro e de data do registro do caso\n",
        "\n",
        "dengue_data = dengue[[\"no_bairro_residencia\", \"dt_notificacao\"]]\n",
        "dengue_data['dt_notificacao'] = pd.to_datetime(dengue_data['dt_notificacao'])\n",
        "\n",
        "# Número de casos por mês\n",
        "dengue_data = dengue_data.groupby([pd.Grouper(key=\"dt_notificacao\", freq=\"M\")]).size().reset_index(name=\"CASOS_DENGUE\")\n",
        "dengue_data = dengue_data.drop(dengue_data.index[[0]])\n",
        "\n",
        "# Número de casos por bairro\n",
        "# dengue_data.groupby(\"no_bairro_residencia\").size().sort_values(ascending=False).reset_index(name=\"CASOS_DENGUE\")\n",
        "\n",
        "# Número de casos por dia\n",
        "# dengue_data[\"dt_notificacao\"].value_counts().sort_values(ascending=False)\n",
        "\n",
        "display(dengue_data)"
      ],
      "execution_count": 70,
      "outputs": [
        {
          "output_type": "stream",
          "text": [
            "/usr/local/lib/python3.7/dist-packages/ipykernel_launcher.py:4: SettingWithCopyWarning: \n",
            "A value is trying to be set on a copy of a slice from a DataFrame.\n",
            "Try using .loc[row_indexer,col_indexer] = value instead\n",
            "\n",
            "See the caveats in the documentation: https://pandas.pydata.org/pandas-docs/stable/user_guide/indexing.html#returning-a-view-versus-a-copy\n",
            "  after removing the cwd from sys.path.\n"
          ],
          "name": "stderr"
        },
        {
          "output_type": "display_data",
          "data": {
            "text/html": [
              "<div>\n",
              "<style scoped>\n",
              "    .dataframe tbody tr th:only-of-type {\n",
              "        vertical-align: middle;\n",
              "    }\n",
              "\n",
              "    .dataframe tbody tr th {\n",
              "        vertical-align: top;\n",
              "    }\n",
              "\n",
              "    .dataframe thead th {\n",
              "        text-align: right;\n",
              "    }\n",
              "</style>\n",
              "<table border=\"1\" class=\"dataframe\">\n",
              "  <thead>\n",
              "    <tr style=\"text-align: right;\">\n",
              "      <th></th>\n",
              "      <th>dt_notificacao</th>\n",
              "      <th>CASOS_DENGUE</th>\n",
              "    </tr>\n",
              "  </thead>\n",
              "  <tbody>\n",
              "    <tr>\n",
              "      <th>1</th>\n",
              "      <td>2020-01-31</td>\n",
              "      <td>195</td>\n",
              "    </tr>\n",
              "    <tr>\n",
              "      <th>2</th>\n",
              "      <td>2020-02-29</td>\n",
              "      <td>182</td>\n",
              "    </tr>\n",
              "    <tr>\n",
              "      <th>3</th>\n",
              "      <td>2020-03-31</td>\n",
              "      <td>199</td>\n",
              "    </tr>\n",
              "    <tr>\n",
              "      <th>4</th>\n",
              "      <td>2020-04-30</td>\n",
              "      <td>69</td>\n",
              "    </tr>\n",
              "    <tr>\n",
              "      <th>5</th>\n",
              "      <td>2020-05-31</td>\n",
              "      <td>47</td>\n",
              "    </tr>\n",
              "    <tr>\n",
              "      <th>6</th>\n",
              "      <td>2020-06-30</td>\n",
              "      <td>207</td>\n",
              "    </tr>\n",
              "    <tr>\n",
              "      <th>7</th>\n",
              "      <td>2020-07-31</td>\n",
              "      <td>109</td>\n",
              "    </tr>\n",
              "  </tbody>\n",
              "</table>\n",
              "</div>"
            ],
            "text/plain": [
              "  dt_notificacao  CASOS_DENGUE\n",
              "1     2020-01-31           195\n",
              "2     2020-02-29           182\n",
              "3     2020-03-31           199\n",
              "4     2020-04-30            69\n",
              "5     2020-05-31            47\n",
              "6     2020-06-30           207\n",
              "7     2020-07-31           109"
            ]
          },
          "metadata": {
            "tags": []
          }
        }
      ]
    },
    {
      "cell_type": "code",
      "metadata": {
        "colab": {
          "base_uri": "https://localhost:8080/",
          "height": 231
        },
        "id": "fBFhoKpyj_FO",
        "outputId": "cedcc5c5-3614-4d9c-de17-3b0d08b95bec"
      },
      "source": [
        "# Utilizamos apenas as colunas de bairro, data de demanda e tipo de serviço\n",
        "\n",
        "emlurb_data = emlurb[[\"GRUPOSERVICO_DESCRICAO\", \"BAIRRO\", \"DATA_DEMANDA\"]]\n",
        "emlurb_data[\"DATA_DEMANDA\"] = pd.to_datetime(emlurb_data[\"DATA_DEMANDA\"])\n",
        "emlurb_data = emlurb_data[(emlurb_data.GRUPOSERVICO_DESCRICAO == \"DRENAGEM\")]\n",
        "\n",
        "print(\"Número de solicitações de drenagem registradas em 2020 = \" + str(len(emlurb_data.index)))\n",
        "\n",
        "# Número de solicitações por mês\n",
        "emlurb_data = emlurb_data.groupby([pd.Grouper(key=\"DATA_DEMANDA\", freq=\"M\")]).size().reset_index(name=\"CHAMADOS_EMLURB\")\n",
        "\n",
        "# Número de casos por bairro\n",
        "# emlurb_data.groupby(\"BAIRRO\").size().sort_values(ascending=False).reset_index(name=\"CASOS_DENGUE\")\n",
        "\n",
        "# Número de casos por dia\n",
        "# emlurb_data.groupby([pd.Grouper(key=\"DATA_DEMANDA\", freq=\"D\")]).size().sort_values(ascending=False).reset_index(name=\"CHAMADOS_EMLURB\")\n",
        "\n",
        "display(emlurb_data)"
      ],
      "execution_count": 66,
      "outputs": [
        {
          "output_type": "error",
          "ename": "NameError",
          "evalue": "ignored",
          "traceback": [
            "\u001b[0;31m---------------------------------------------------------------------------\u001b[0m",
            "\u001b[0;31mNameError\u001b[0m                                 Traceback (most recent call last)",
            "\u001b[0;32m<ipython-input-66-8627e826b79e>\u001b[0m in \u001b[0;36m<module>\u001b[0;34m()\u001b[0m\n\u001b[1;32m      1\u001b[0m \u001b[0;31m# Utilizamos apenas as colunas de bairro, data de demanda e tipo de serviço\u001b[0m\u001b[0;34m\u001b[0m\u001b[0;34m\u001b[0m\u001b[0;34m\u001b[0m\u001b[0m\n\u001b[1;32m      2\u001b[0m \u001b[0;34m\u001b[0m\u001b[0m\n\u001b[0;32m----> 3\u001b[0;31m \u001b[0memlurb_data\u001b[0m \u001b[0;34m=\u001b[0m \u001b[0memlurb\u001b[0m\u001b[0;34m[\u001b[0m\u001b[0;34m[\u001b[0m\u001b[0;34m\"GRUPOSERVICO_DESCRICAO\"\u001b[0m\u001b[0;34m,\u001b[0m \u001b[0;34m\"BAIRRO\"\u001b[0m\u001b[0;34m,\u001b[0m \u001b[0;34m\"DATA_DEMANDA\"\u001b[0m\u001b[0;34m]\u001b[0m\u001b[0;34m]\u001b[0m\u001b[0;34m\u001b[0m\u001b[0;34m\u001b[0m\u001b[0m\n\u001b[0m\u001b[1;32m      4\u001b[0m \u001b[0memlurb_data\u001b[0m\u001b[0;34m[\u001b[0m\u001b[0;34m\"DATA_DEMANDA\"\u001b[0m\u001b[0;34m]\u001b[0m \u001b[0;34m=\u001b[0m \u001b[0mpd\u001b[0m\u001b[0;34m.\u001b[0m\u001b[0mto_datetime\u001b[0m\u001b[0;34m(\u001b[0m\u001b[0memlurb_data\u001b[0m\u001b[0;34m[\u001b[0m\u001b[0;34m\"DATA_DEMANDA\"\u001b[0m\u001b[0;34m]\u001b[0m\u001b[0;34m)\u001b[0m\u001b[0;34m\u001b[0m\u001b[0;34m\u001b[0m\u001b[0m\n\u001b[1;32m      5\u001b[0m \u001b[0memlurb_data\u001b[0m \u001b[0;34m=\u001b[0m \u001b[0memlurb_data\u001b[0m\u001b[0;34m[\u001b[0m\u001b[0;34m(\u001b[0m\u001b[0memlurb_data\u001b[0m\u001b[0;34m.\u001b[0m\u001b[0mGRUPOSERVICO_DESCRICAO\u001b[0m \u001b[0;34m==\u001b[0m \u001b[0;34m\"DRENAGEM\"\u001b[0m\u001b[0;34m)\u001b[0m\u001b[0;34m]\u001b[0m\u001b[0;34m\u001b[0m\u001b[0;34m\u001b[0m\u001b[0m\n",
            "\u001b[0;31mNameError\u001b[0m: name 'emlurb' is not defined"
          ]
        }
      ]
    },
    {
      "cell_type": "markdown",
      "metadata": {
        "id": "dT-QEfwuFhGq"
      },
      "source": [
        "Agora que temos duas tabelas, **dengue_data**, com informação dos casos de dengue por mês, e **emlurb_data**, com informação dos pedidos de drenagem solicitados pela população por mês, faremos o merge das duas tabelas para unificar todos esses dados.\n"
      ]
    },
    {
      "cell_type": "code",
      "metadata": {
        "id": "K-AxnU0-KfFX"
      },
      "source": [
        "crossed_info = pd.merge(dengue_data, emlurb_data, left_on=[\"dt_notificacao\"],right_on=[\"DATA_DEMANDA\"])\n",
        "\n",
        "display(crossed_info)"
      ],
      "execution_count": null,
      "outputs": []
    },
    {
      "cell_type": "markdown",
      "metadata": {
        "id": "jYehdeRdGBtp"
      },
      "source": [
        "Com a tabela **crossed_info**, conseguimos reunir o número de casos de dengue e o número de chamados de drenagem por mês no grande Recife. Ainda podemos cruzar as informações com outros parâmetros como bairro, diária, status de solicitação etc."
      ]
    },
    {
      "cell_type": "markdown",
      "metadata": {
        "id": "eIomzXQIQkgW"
      },
      "source": [
        "## Dados de 2019"
      ]
    },
    {
      "cell_type": "code",
      "metadata": {
        "id": "30I8GCQLQn_S"
      },
      "source": [
        "# Utilizamos apenas as colunas de bairro e de data do registro do caso\n",
        "\n",
        "dengue_data19 = dengue19[[\"no_bairro_residencia\", \"dt_notificacao\"]]\n",
        "dengue_data19['dt_notificacao'] = pd.to_datetime(dengue_data19['dt_notificacao'])\n",
        "\n",
        "# Número de casos por mês\n",
        "dengue_data19 = dengue_data19.groupby([pd.Grouper(key=\"dt_notificacao\", freq=\"M\")]).size().reset_index(name=\"CASOS_DENGUE\")\n",
        "dengue_data19 = dengue_data19.drop(dengue_data19.index[[12,13]])\n",
        "\n",
        "display(dengue_data19)"
      ],
      "execution_count": null,
      "outputs": []
    },
    {
      "cell_type": "code",
      "metadata": {
        "id": "F7cn4tzVQuIX"
      },
      "source": [
        "# Utilizamos apenas as colunas de bairro, data de demanda e tipo de serviço\n",
        "\n",
        "emlurb_data19 = emlurb19[[\"GRUPOSERVICO_DESCRICAO\", \"BAIRRO\", \"DATA_DEMANDA\"]]\n",
        "emlurb_data19[\"DATA_DEMANDA\"] = pd.to_datetime(emlurb_data19[\"DATA_DEMANDA\"])\n",
        "emlurb_data19 = emlurb_data19[(emlurb_data19.GRUPOSERVICO_DESCRICAO == \"DRENAGEM\")]\n",
        "\n",
        "# Número de solicitações por mês\n",
        "emlurb_data19 = emlurb_data19.groupby([pd.Grouper(key=\"DATA_DEMANDA\", freq=\"M\")]).size().reset_index(name=\"CHAMADOS_EMLURB\")\n",
        "\n",
        "display(emlurb_data19)"
      ],
      "execution_count": null,
      "outputs": []
    },
    {
      "cell_type": "code",
      "metadata": {
        "colab": {
          "base_uri": "https://localhost:8080/",
          "height": 0
        },
        "id": "yP3f5B00Q_0M",
        "outputId": "86b3991f-ee58-4a98-d54f-7d3d960ec806"
      },
      "source": [
        "crossed_info19 = pd.merge(dengue_data19, emlurb_data19, left_on=[\"dt_notificacao\"],right_on=[\"DATA_DEMANDA\"])\n",
        "display(crossed_info19)"
      ],
      "execution_count": 425,
      "outputs": [
        {
          "output_type": "display_data",
          "data": {
            "text/html": [
              "<div>\n",
              "<style scoped>\n",
              "    .dataframe tbody tr th:only-of-type {\n",
              "        vertical-align: middle;\n",
              "    }\n",
              "\n",
              "    .dataframe tbody tr th {\n",
              "        vertical-align: top;\n",
              "    }\n",
              "\n",
              "    .dataframe thead th {\n",
              "        text-align: right;\n",
              "    }\n",
              "</style>\n",
              "<table border=\"1\" class=\"dataframe\">\n",
              "  <thead>\n",
              "    <tr style=\"text-align: right;\">\n",
              "      <th></th>\n",
              "      <th>dt_notificacao</th>\n",
              "      <th>CASOS_DENGUE</th>\n",
              "      <th>DATA_DEMANDA</th>\n",
              "      <th>CHAMADOS_EMLURB</th>\n",
              "    </tr>\n",
              "  </thead>\n",
              "  <tbody>\n",
              "    <tr>\n",
              "      <th>0</th>\n",
              "      <td>2019-01-31</td>\n",
              "      <td>91</td>\n",
              "      <td>2019-01-31</td>\n",
              "      <td>664</td>\n",
              "    </tr>\n",
              "    <tr>\n",
              "      <th>1</th>\n",
              "      <td>2019-02-28</td>\n",
              "      <td>178</td>\n",
              "      <td>2019-02-28</td>\n",
              "      <td>950</td>\n",
              "    </tr>\n",
              "    <tr>\n",
              "      <th>2</th>\n",
              "      <td>2019-03-31</td>\n",
              "      <td>263</td>\n",
              "      <td>2019-03-31</td>\n",
              "      <td>740</td>\n",
              "    </tr>\n",
              "    <tr>\n",
              "      <th>3</th>\n",
              "      <td>2019-04-30</td>\n",
              "      <td>485</td>\n",
              "      <td>2019-04-30</td>\n",
              "      <td>1052</td>\n",
              "    </tr>\n",
              "    <tr>\n",
              "      <th>4</th>\n",
              "      <td>2019-05-31</td>\n",
              "      <td>972</td>\n",
              "      <td>2019-05-31</td>\n",
              "      <td>1132</td>\n",
              "    </tr>\n",
              "    <tr>\n",
              "      <th>5</th>\n",
              "      <td>2019-06-30</td>\n",
              "      <td>704</td>\n",
              "      <td>2019-06-30</td>\n",
              "      <td>933</td>\n",
              "    </tr>\n",
              "    <tr>\n",
              "      <th>6</th>\n",
              "      <td>2019-07-31</td>\n",
              "      <td>1004</td>\n",
              "      <td>2019-07-31</td>\n",
              "      <td>1018</td>\n",
              "    </tr>\n",
              "    <tr>\n",
              "      <th>7</th>\n",
              "      <td>2019-08-31</td>\n",
              "      <td>868</td>\n",
              "      <td>2019-08-31</td>\n",
              "      <td>928</td>\n",
              "    </tr>\n",
              "    <tr>\n",
              "      <th>8</th>\n",
              "      <td>2019-09-30</td>\n",
              "      <td>966</td>\n",
              "      <td>2019-09-30</td>\n",
              "      <td>884</td>\n",
              "    </tr>\n",
              "    <tr>\n",
              "      <th>9</th>\n",
              "      <td>2019-10-31</td>\n",
              "      <td>882</td>\n",
              "      <td>2019-10-31</td>\n",
              "      <td>1049</td>\n",
              "    </tr>\n",
              "    <tr>\n",
              "      <th>10</th>\n",
              "      <td>2019-11-30</td>\n",
              "      <td>602</td>\n",
              "      <td>2019-11-30</td>\n",
              "      <td>735</td>\n",
              "    </tr>\n",
              "    <tr>\n",
              "      <th>11</th>\n",
              "      <td>2019-12-31</td>\n",
              "      <td>262</td>\n",
              "      <td>2019-12-31</td>\n",
              "      <td>568</td>\n",
              "    </tr>\n",
              "  </tbody>\n",
              "</table>\n",
              "</div>"
            ],
            "text/plain": [
              "   dt_notificacao  CASOS_DENGUE DATA_DEMANDA  CHAMADOS_EMLURB\n",
              "0      2019-01-31            91   2019-01-31              664\n",
              "1      2019-02-28           178   2019-02-28              950\n",
              "2      2019-03-31           263   2019-03-31              740\n",
              "3      2019-04-30           485   2019-04-30             1052\n",
              "4      2019-05-31           972   2019-05-31             1132\n",
              "5      2019-06-30           704   2019-06-30              933\n",
              "6      2019-07-31          1004   2019-07-31             1018\n",
              "7      2019-08-31           868   2019-08-31              928\n",
              "8      2019-09-30           966   2019-09-30              884\n",
              "9      2019-10-31           882   2019-10-31             1049\n",
              "10     2019-11-30           602   2019-11-30              735\n",
              "11     2019-12-31           262   2019-12-31              568"
            ]
          },
          "metadata": {
            "tags": []
          }
        }
      ]
    },
    {
      "cell_type": "markdown",
      "metadata": {
        "id": "0DkjDX4cMEKy"
      },
      "source": [
        "## **Testes de Hipótese**\n",
        "\n",
        "O teste de hipótese é um método estatístico usado na tomada de decisões estatísticas usando dados de um conjunto. O teste de hipóteses é basicamente uma suposição que fazemos sobre o parâmetro do dataset.\n",
        "\n",
        "Agora, ao realizar os t-test, normalmente se tem as seguintes duas hipóteses:\n",
        "\n",
        "*   Hipóteses nulas: as médias de dois grupos são iguais\n",
        "*   Hipóteses alternativas: as médias de dois grupos são diferentes (bicaudais)"
      ]
    },
    {
      "cell_type": "code",
      "metadata": {
        "colab": {
          "base_uri": "https://localhost:8080/",
          "height": 0
        },
        "id": "qwbAeVffOUjy",
        "outputId": "2a06ffa0-513f-4e69-f359-5e3543d83910"
      },
      "source": [
        "#Testes de Hipótese para dados de 2020\n",
        "\n",
        "crossed_info['mes'] = crossed_info.dt_notificacao.apply(lambda x: x.strftime('%m'))\n",
        "meses_analise = ['05', '06','07'] #meses de chuva \n",
        "dengue_data_meses = crossed_info[(crossed_info.mes.isin(meses_analise))]\n",
        "dengue_data_meses['mes'] = pd.to_numeric(dengue_data_meses['mes'])\n",
        "\n",
        "# Teste de hipótese para mês de Janeiro e Junho para casos de dengue\n",
        "th_dengue = stats.ttest_ind(dengue_data_meses['CASOS_DENGUE'], dengue_data_meses['mes'], equal_var=True)\n",
        "display(th_dengue)\n",
        "\n",
        "# Teste de hipótese para mês de Janeiro e Junho para solicitações de drenagem\n",
        "th_emlurb = stats.ttest_ind(dengue_data_meses['CHAMADOS_EMLURB'], dengue_data_meses['mes'], equal_var=True)\n",
        "display(th_emlurb)"
      ],
      "execution_count": 447,
      "outputs": [
        {
          "output_type": "stream",
          "text": [
            "/usr/local/lib/python3.7/dist-packages/ipykernel_launcher.py:6: SettingWithCopyWarning: \n",
            "A value is trying to be set on a copy of a slice from a DataFrame.\n",
            "Try using .loc[row_indexer,col_indexer] = value instead\n",
            "\n",
            "See the caveats in the documentation: https://pandas.pydata.org/pandas-docs/stable/user_guide/indexing.html#returning-a-view-versus-a-copy\n",
            "  \n"
          ],
          "name": "stderr"
        },
        {
          "output_type": "display_data",
          "data": {
            "text/plain": [
              "Ttest_indResult(statistic=2.4688876767532433, pvalue=0.06902913833408653)"
            ]
          },
          "metadata": {
            "tags": []
          }
        },
        {
          "output_type": "display_data",
          "data": {
            "text/plain": [
              "Ttest_indResult(statistic=5.156991407515991, pvalue=0.0067119513666034115)"
            ]
          },
          "metadata": {
            "tags": []
          }
        }
      ]
    },
    {
      "cell_type": "code",
      "metadata": {
        "colab": {
          "base_uri": "https://localhost:8080/",
          "height": 0
        },
        "id": "izEkGkYeRxga",
        "outputId": "d1fc2c95-8999-4ee0-c527-82ad8900f617"
      },
      "source": [
        "#Testes de Hipótese para dados de 2019\n",
        "\n",
        "crossed_info19['mes'] = crossed_info19.dt_notificacao.apply(lambda x: x.strftime('%m'))\n",
        "meses_analise = ['01', '02', '06','07'] #meses de chuva \n",
        "dengue_data19_meses = crossed_info19[(crossed_info19.mes.isin(meses_analise))]\n",
        "dengue_data19_meses['mes'] = pd.to_numeric(dengue_data19_meses['mes'])\n",
        "\n",
        "# Teste de hipótese para mês de Janeiro e Junho para casos de dengue\n",
        "th_dengue = stats.ttest_ind(dengue_data19_meses['CASOS_DENGUE'], dengue_data19_meses['mes'], equal_var=True)\n",
        "display(th_dengue)\n",
        "\n",
        "# Teste de hipótese para mês de Janeiro e Junho para solicitações de drenagem\n",
        "th_emlurb = stats.ttest_ind(dengue_data19_meses['CHAMADOS_EMLURB'], dengue_data19_meses['mes'], equal_var=True)\n",
        "display(th_emlurb)"
      ],
      "execution_count": 448,
      "outputs": [
        {
          "output_type": "stream",
          "text": [
            "/usr/local/lib/python3.7/dist-packages/ipykernel_launcher.py:6: SettingWithCopyWarning: \n",
            "A value is trying to be set on a copy of a slice from a DataFrame.\n",
            "Try using .loc[row_indexer,col_indexer] = value instead\n",
            "\n",
            "See the caveats in the documentation: https://pandas.pydata.org/pandas-docs/stable/user_guide/indexing.html#returning-a-view-versus-a-copy\n",
            "  \n"
          ],
          "name": "stderr"
        },
        {
          "output_type": "display_data",
          "data": {
            "text/plain": [
              "Ttest_indResult(statistic=2.2563777781667094, pvalue=0.06487016127243608)"
            ]
          },
          "metadata": {
            "tags": []
          }
        },
        {
          "output_type": "display_data",
          "data": {
            "text/plain": [
              "Ttest_indResult(statistic=11.381178797673211, pvalue=2.7575959515653668e-05)"
            ]
          },
          "metadata": {
            "tags": []
          }
        }
      ]
    },
    {
      "cell_type": "markdown",
      "metadata": {
        "id": "htv7xYEQjYqD"
      },
      "source": [
        "O **p-value** é definido como a probabilidade de se\n",
        "observar um valor da estatística de teste maior ou\n",
        "igual ao encontrado. Tradicionalmente, o valor de corte\n",
        "para rejeitar a hipótese nula é de 0,05, o que significa\n",
        "que, quando não há nenhuma diferença, um valor tão\n",
        "extremo para a estatística de teste é esperado em menos\n",
        "de 5% das vezes"
      ]
    },
    {
      "cell_type": "markdown",
      "metadata": {
        "id": "sPkSOEV60JDZ"
      },
      "source": [
        "## **Correlações**\n",
        "\n",
        "Fazer teste de Pearson/Spillman"
      ]
    },
    {
      "cell_type": "markdown",
      "metadata": {
        "id": "W4kGNsh-MhuM"
      },
      "source": [
        "## **Análise de Gráficos**\n",
        "\n",
        "Analisaremos a tabela com dados cruzados, **crossed_info**. Coletando o número de casos de dengue e solicitações de drenagem por mês para os anos de 2020 e 2019. "
      ]
    },
    {
      "cell_type": "code",
      "metadata": {
        "id": "gm2qZBUlxQvi",
        "colab": {
          "base_uri": "https://localhost:8080/",
          "height": 303
        },
        "outputId": "a665ac10-b4ab-4510-f70e-ce9120d84419"
      },
      "source": [
        "# Análise para Casos de dengue x Meses em 2019 e 2020\n",
        "\n",
        "crossed_info['mes'] = pd.to_numeric(crossed_info['mes'])\n",
        "crossed_info19['mes'] = pd.to_numeric(crossed_info19['mes'])\n",
        "\n",
        "crossed_info['month'] = crossed_info['mes'].apply(lambda x: calendar.month_abbr[x])\n",
        "crossed_info19['month'] = crossed_info19['mes'].apply(lambda x: calendar.month_abbr[x])\n",
        "\n",
        "\n",
        "fig = plt.figure(1)\n",
        "fig.set_figheight(8) \n",
        "fig.set_figwidth(12) \n",
        "\n",
        "ax1 = plt.subplot(221)\n",
        "crossed_info19.plot.bar(x='month', y='CASOS_DENGUE', legend=False, ax=ax1,title='Casos de dengue em 2019', color='orange', ylabel='Nª de casos', xlabel='Mês',)\n",
        "\n",
        "ax2 = plt.subplot(222)\n",
        "crossed_info.plot.bar(x='month', y='CASOS_DENGUE', legend=False, ax=ax2,  title='Casos de dengue em 2020', ylabel='Nª de casos', xlabel='Mês',)"
      ],
      "execution_count": 459,
      "outputs": [
        {
          "output_type": "execute_result",
          "data": {
            "text/plain": [
              "<matplotlib.axes._subplots.AxesSubplot at 0x7ff176c4e690>"
            ]
          },
          "metadata": {
            "tags": []
          },
          "execution_count": 459
        },
        {
          "output_type": "display_data",
          "data": {
            "image/png": "[encoded data removed]",
            "text/plain": [
              "<Figure size 864x576 with 2 Axes>"
            ]
          },
          "metadata": {
            "tags": [],
            "needs_background": "light"
          }
        }
      ]
    },
    {
      "cell_type": "code",
      "metadata": {
        "colab": {
          "base_uri": "https://localhost:8080/",
          "height": 303
        },
        "id": "kqiKh-t0z3Ov",
        "outputId": "7f1bd0fd-fb88-43a0-e19a-9f1112fda618"
      },
      "source": [
        "# Análise para Solicitações de drenagem x Meses em 2019 e 2020\n",
        "\n",
        "fig = plt.figure(1)\n",
        "fig.set_figheight(8) \n",
        "fig.set_figwidth(12) \n",
        "\n",
        "ax1 = plt.subplot(221)\n",
        "crossed_info19.plot.bar(x='month', y='CHAMADOS_EMLURB', legend=False, ax=ax1,title='Solicitações de drenagem em 2019', color='green', ylabel='Nª de casos', xlabel='Mês',)\n",
        "\n",
        "ax2 = plt.subplot(222)\n",
        "crossed_info.plot.bar(x='month', y='CHAMADOS_EMLURB', legend=False, ax=ax2,  title='Solicitações de drenagem em 2020', color='purple', ylabel='Nª de casos', xlabel='Mês',)"
      ],
      "execution_count": 460,
      "outputs": [
        {
          "output_type": "execute_result",
          "data": {
            "text/plain": [
              "<matplotlib.axes._subplots.AxesSubplot at 0x7ff1769f1b50>"
            ]
          },
          "metadata": {
            "tags": []
          },
          "execution_count": 460
        },
        {
          "output_type": "display_data",
          "data": {
            "image/png": "[encoded data removed]",
            "text/plain": [
              "<Figure size 864x576 with 2 Axes>"
            ]
          },
          "metadata": {
            "tags": [],
            "needs_background": "light"
          }
        }
      ]
    },
    {
      "cell_type": "code",
      "metadata": {
        "colab": {
          "base_uri": "https://localhost:8080/",
          "height": 293
        },
        "id": "cLKJZyRS0cVO",
        "outputId": "8f1f5873-66f6-4505-c302-830006ad2e35"
      },
      "source": [
        "# Gráfico tipo scatter relacionando Casos dengue x Solicitações de drenagens em 2019 e 2020\n",
        "\n",
        "fig = plt.figure(1)\n",
        "fig.set_figheight(8) \n",
        "fig.set_figwidth(12) \n",
        "\n",
        "ax1 = plt.subplot(221)\n",
        "crossed_info19.plot.scatter(x = 'CHAMADOS_EMLURB', y = 'CASOS_DENGUE', legend=False, ax=ax1,title='Dengue x Drenagem 2019', color='red',grid=True)\n",
        "\n",
        "ax2 = plt.subplot(222)\n",
        "crossed_info.plot.scatter(x = 'CHAMADOS_EMLURB', y = 'CASOS_DENGUE', legend=False, ax=ax2,  title='Dengue x Drenagem 2020', color='blue',grid=True)"
      ],
      "execution_count": 392,
      "outputs": [
        {
          "output_type": "execute_result",
          "data": {
            "text/plain": [
              "<matplotlib.axes._subplots.AxesSubplot at 0x7ff176d8a710>"
            ]
          },
          "metadata": {
            "tags": []
          },
          "execution_count": 392
        },
        {
          "output_type": "display_data",
          "data": {
            "image/png": "[encoded data removed]",
            "text/plain": [
              "<Figure size 864x576 with 2 Axes>"
            ]
          },
          "metadata": {
            "tags": [],
            "needs_background": "light"
          }
        }
      ]
    },
    {
      "cell_type": "code",
      "metadata": {
        "id": "i9sUwseQ1Tb3",
        "colab": {
          "base_uri": "https://localhost:8080/",
          "height": 351
        },
        "outputId": "dc1a540f-5868-467f-a052-0d13f989843c"
      },
      "source": [
        "# Comparação de casos de dengue para anos de 2020 e 2019\n",
        "\n",
        "ax = crossed_info.plot(x='month', y = 'CASOS_DENGUE', ylabel='Casos de dengue', xlabel='Mês', kind = 'line', label='Casos 2020')\n",
        "crossed_info19.plot(x='month', y = 'CASOS_DENGUE', kind = 'line', ax=ax, label='Casos 2019')"
      ],
      "execution_count": 461,
      "outputs": [
        {
          "output_type": "execute_result",
          "data": {
            "text/plain": [
              "<matplotlib.axes._subplots.AxesSubplot at 0x7ff1769d8550>"
            ]
          },
          "metadata": {
            "tags": []
          },
          "execution_count": 461
        },
        {
          "output_type": "display_data",
          "data": {
            "image/png": "[encoded data removed]",
            "text/plain": [
              "<Figure size 720x360 with 1 Axes>"
            ]
          },
          "metadata": {
            "tags": [],
            "needs_background": "light"
          }
        }
      ]
    },
    {
      "cell_type": "code",
      "metadata": {
        "id": "covLCYk54jDX",
        "colab": {
          "base_uri": "https://localhost:8080/",
          "height": 351
        },
        "outputId": "e90abcef-6ba1-4155-bb15-dfbcbde19244"
      },
      "source": [
        "# Comparação de solicitações de drenagem para anos de 2020 e 2019\n",
        "\n",
        "ax = crossed_info.plot(x='month', y = 'CHAMADOS_EMLURB', ylabel='Solicitações de drenagem', xlabel='Mês', kind = 'line', label='Casos 2020')\n",
        "crossed_info19.plot(x='month', y = 'CHAMADOS_EMLURB', kind = 'line', ax=ax, label='Casos 2019')"
      ],
      "execution_count": 462,
      "outputs": [
        {
          "output_type": "execute_result",
          "data": {
            "text/plain": [
              "<matplotlib.axes._subplots.AxesSubplot at 0x7ff176886690>"
            ]
          },
          "metadata": {
            "tags": []
          },
          "execution_count": 462
        },
        {
          "output_type": "display_data",
          "data": {
            "image/png": "[encoded data removed]",
            "text/plain": [
              "<Figure size 720x360 with 1 Axes>"
            ]
          },
          "metadata": {
            "tags": [],
            "needs_background": "light"
          }
        }
      ]
    },
    {
      "cell_type": "markdown",
      "metadata": {
        "id": "GvtjhYM8tBPb"
      },
      "source": [
        ""
      ]
    },
    {
      "cell_type": "markdown",
      "metadata": {
        "id": "Hs_ITf0ams6x"
      },
      "source": [
        "## **Boxplots e Outliers**\n",
        "\n",
        "O boxplot tem como objetivo estudar as medidas estatística do conjunto de dados, como variabilidade, média, e outliers."
      ]
    },
    {
      "cell_type": "code",
      "metadata": {
        "id": "qn5YnYQ-ueQB",
        "outputId": "0fbf3bff-0874-401b-ae4f-2427f846c7b5",
        "colab": {
          "base_uri": "https://localhost:8080/"
        }
      },
      "source": [
        "#agrupar casos mensais em diferentes anos\n",
        "\n",
        "#4 anos\n",
        "months=['jan', 'jan','jan', 'jan', 'feb', 'feb','feb', 'feb', 'mar', 'mar','mar', 'mar']\n",
        "cases=[188, 285,25,310, 420, 100,150,264,225,421,314,12]\n",
        "\n",
        "df = pd.DataFrame({'Date':months ,\n",
        "                   'Cases': cases})\n",
        "\n",
        "print(df)\n",
        "\n",
        "df.boxplot(column=['Cases'],by=\"Date\")\n",
        "\n"
      ],
      "execution_count": 89,
      "outputs": [
        {
          "output_type": "execute_result",
          "data": {
            "text/plain": [
              "2020-06-12T00:00:00    34\n",
              "2020-03-17T00:00:00    29\n",
              "2020-06-16T00:00:00    25\n",
              "2020-02-19T00:00:00    20\n",
              "2020-01-17T00:00:00    20\n",
              "Name: dt_notificacao, dtype: int64"
            ]
          },
          "metadata": {
            "tags": []
          },
          "execution_count": 89
        }
      ]
    },
    {
      "cell_type": "markdown",
      "metadata": {
        "id": "bpvAHk0bsAS0"
      },
      "source": [
        "# **Análise de chamados de drenagem não atendidos pela EMLURB x Casos de Dengue**"
      ]
    },
    {
      "cell_type": "code",
      "metadata": {
        "id": "n0vnL91RsHqU"
      },
      "source": [
        "dengue_data = dengue[[\"no_bairro_residencia\", \"dt_notificacao\"]]\n",
        "dengue_data[\"no_bairro_residencia\"].value_counts()"
      ],
      "execution_count": null,
      "outputs": []
    },
    {
      "cell_type": "code",
      "metadata": {
        "id": "KEgOMWfEsMy8"
      },
      "source": [
        "dengue_data[\"dt_notificacao\"] = pd.to_datetime(dengue_data[\"dt_notificacao\"])\n",
        "\n",
        "dengue_data = dengue_data.groupby([\"no_bairro_residencia\", \"dt_notificacao\"]).size().reset_index(name=\"CASOS_DENGUE\")\n",
        "\n",
        "dengue_data.head()"
      ],
      "execution_count": null,
      "outputs": []
    },
    {
      "cell_type": "code",
      "metadata": {
        "id": "vdbuFATdsRdu"
      },
      "source": [
        "emlurb_data = emlurb[[\"GRUPOSERVICO_DESCRICAO\", \"BAIRRO\", \"DATA_DEMANDA\", \"SITUACAO\"]]\n",
        "\n",
        "servicos = [\"DRENAGEM\"]\n",
        "emlurb_data = emlurb_data[emlurb_data.GRUPOSERVICO_DESCRICAO.isin(servicos)]\n",
        "emlurb_data = emlurb_data[(emlurb_data.SITUACAO != \"ATENDIDA\")]\n",
        "emlurb_data[\"DATA_DEMANDA\"] = pd.to_datetime(emlurb_data[\"DATA_DEMANDA\"])\n",
        "\n",
        "emlurb_data.head()"
      ],
      "execution_count": null,
      "outputs": []
    },
    {
      "cell_type": "code",
      "metadata": {
        "id": "2vRoFB8Xsah0",
        "colab": {
          "base_uri": "https://localhost:8080/",
          "height": 0
        },
        "outputId": "886caf95-58b4-4b02-96b6-2885fa7d396a"
      },
      "source": [
        "emlurb_data = emlurb_data.groupby([\"BAIRRO\", \"DATA_DEMANDA\"]).size().reset_index(name=\"CHAMADOS_EMLURB\")\n",
        "emlurb_data.head()\n"
      ],
      "execution_count": 185,
      "outputs": [
        {
          "output_type": "execute_result",
          "data": {
            "text/html": [
              "<div>\n",
              "<style scoped>\n",
              "    .dataframe tbody tr th:only-of-type {\n",
              "        vertical-align: middle;\n",
              "    }\n",
              "\n",
              "    .dataframe tbody tr th {\n",
              "        vertical-align: top;\n",
              "    }\n",
              "\n",
              "    .dataframe thead th {\n",
              "        text-align: right;\n",
              "    }\n",
              "</style>\n",
              "<table border=\"1\" class=\"dataframe\">\n",
              "  <thead>\n",
              "    <tr style=\"text-align: right;\">\n",
              "      <th></th>\n",
              "      <th>BAIRRO</th>\n",
              "      <th>DATA_DEMANDA</th>\n",
              "      <th>CHAMADOS_EMLURB</th>\n",
              "    </tr>\n",
              "  </thead>\n",
              "  <tbody>\n",
              "    <tr>\n",
              "      <th>0</th>\n",
              "      <td>AFLITOS</td>\n",
              "      <td>2020-01-15</td>\n",
              "      <td>1</td>\n",
              "    </tr>\n",
              "    <tr>\n",
              "      <th>1</th>\n",
              "      <td>AFLITOS</td>\n",
              "      <td>2020-03-03</td>\n",
              "      <td>1</td>\n",
              "    </tr>\n",
              "    <tr>\n",
              "      <th>2</th>\n",
              "      <td>AFLITOS</td>\n",
              "      <td>2020-03-04</td>\n",
              "      <td>1</td>\n",
              "    </tr>\n",
              "    <tr>\n",
              "      <th>3</th>\n",
              "      <td>AFLITOS</td>\n",
              "      <td>2020-04-17</td>\n",
              "      <td>1</td>\n",
              "    </tr>\n",
              "    <tr>\n",
              "      <th>4</th>\n",
              "      <td>AFLITOS</td>\n",
              "      <td>2020-05-07</td>\n",
              "      <td>1</td>\n",
              "    </tr>\n",
              "  </tbody>\n",
              "</table>\n",
              "</div>"
            ],
            "text/plain": [
              "    BAIRRO DATA_DEMANDA  CHAMADOS_EMLURB\n",
              "0  AFLITOS   2020-01-15                1\n",
              "1  AFLITOS   2020-03-03                1\n",
              "2  AFLITOS   2020-03-04                1\n",
              "3  AFLITOS   2020-04-17                1\n",
              "4  AFLITOS   2020-05-07                1"
            ]
          },
          "metadata": {
            "tags": []
          },
          "execution_count": 185
        }
      ]
    },
    {
      "cell_type": "code",
      "metadata": {
        "id": "C7aeIc4kswC4"
      },
      "source": [
        "crossed_info = pd.merge(dengue_data, emlurb_data, left_on=[\"no_bairro_residencia\",\"dt_notificacao\"],right_on=[\"BAIRRO\", \"DATA_DEMANDA\"])\n",
        "crossed_info.head()"
      ],
      "execution_count": null,
      "outputs": []
    },
    {
      "cell_type": "code",
      "metadata": {
        "colab": {
          "base_uri": "https://localhost:8080/"
        },
        "id": "pplDad4kYORH",
        "outputId": "865290d5-5a98-4d8b-c83a-6d8538a7ad5a"
      },
      "source": [
        "crossed_info.size"
      ],
      "execution_count": 187,
      "outputs": [
        {
          "output_type": "execute_result",
          "data": {
            "text/plain": [
              "1374"
            ]
          },
          "metadata": {
            "tags": []
          },
          "execution_count": 187
        }
      ]
    },
    {
      "cell_type": "code",
      "metadata": {
        "id": "k_LiQe_cscf7",
        "colab": {
          "base_uri": "https://localhost:8080/"
        },
        "outputId": "800d7b4e-edc9-42fd-f3d3-6c49d625a8b3"
      },
      "source": [
        "# Analise da correlação\n",
        "\n",
        "from scipy import stats\n",
        "stats.ttest_rel(crossed_info['CASOS_DENGUE'], crossed_info['CHAMADOS_EMLURB'])"
      ],
      "execution_count": 188,
      "outputs": [
        {
          "output_type": "execute_result",
          "data": {
            "text/plain": [
              "Ttest_relResult(statistic=-0.8150945908464697, pvalue=0.4158687761557307)"
            ]
          },
          "metadata": {
            "tags": []
          },
          "execution_count": 188
        }
      ]
    },
    {
      "cell_type": "markdown",
      "metadata": {
        "id": "5ICFubm1sjr1"
      },
      "source": [
        "Há **forte** correlação entre casos diários de dengue com chamados de drenagem não atendidos pela EMLURB no ano de 2020.\n",
        "\n",
        "Próximos passos:\n",
        "  * Analizar novamente casos gerais, porém na escala de um mês em vez de diária"
      ]
    },
    {
      "cell_type": "markdown",
      "metadata": {
        "id": "zPbgZTEQdey4"
      },
      "source": [
        "## Estudo de gráficos (cenário 2)\n",
        "\n",
        "Primeiro, analisamos as tabelas com os dados originais. Coletando o número de casos de dengue e solicitações de drenagem por bairro. Em seguida, utilizamos a tabela com informações cruzadas."
      ]
    },
    {
      "cell_type": "code",
      "metadata": {
        "colab": {
          "base_uri": "https://localhost:8080/",
          "height": 0
        },
        "id": "llZDFe3wd9lW",
        "outputId": "d40b3708-7092-41f5-ef97-9140c0210925"
      },
      "source": [
        "# Análise para Casos de dengue x Bairros (para mais de 10 casos de dengue)\n",
        "\n",
        "dengue_filter = dengue_data.groupby(\"no_bairro_residencia\").filter(lambda x: len(x) > 10)\n",
        "dengue_filter['no_bairro_residencia'].value_counts().plot(kind='bar', ylabel='Casos de dengue', xlabel='Bairros')"
      ],
      "execution_count": 399,
      "outputs": [
        {
          "output_type": "error",
          "ename": "IndexError",
          "evalue": "ignored",
          "traceback": [
            "\u001b[0;31m---------------------------------------------------------------------------\u001b[0m",
            "\u001b[0;31mIndexError\u001b[0m                                Traceback (most recent call last)",
            "\u001b[0;32m<ipython-input-399-d9773a318e26>\u001b[0m in \u001b[0;36m<module>\u001b[0;34m()\u001b[0m\n\u001b[1;32m      2\u001b[0m \u001b[0;34m\u001b[0m\u001b[0m\n\u001b[1;32m      3\u001b[0m \u001b[0mdengue_filter\u001b[0m \u001b[0;34m=\u001b[0m \u001b[0mdengue_data\u001b[0m\u001b[0;34m.\u001b[0m\u001b[0mgroupby\u001b[0m\u001b[0;34m(\u001b[0m\u001b[0;34m\"no_bairro_residencia\"\u001b[0m\u001b[0;34m)\u001b[0m\u001b[0;34m.\u001b[0m\u001b[0mfilter\u001b[0m\u001b[0;34m(\u001b[0m\u001b[0;32mlambda\u001b[0m \u001b[0mx\u001b[0m\u001b[0;34m:\u001b[0m \u001b[0mlen\u001b[0m\u001b[0;34m(\u001b[0m\u001b[0mx\u001b[0m\u001b[0;34m)\u001b[0m \u001b[0;34m>\u001b[0m \u001b[0;36m10\u001b[0m\u001b[0;34m)\u001b[0m\u001b[0;34m\u001b[0m\u001b[0;34m\u001b[0m\u001b[0m\n\u001b[0;32m----> 4\u001b[0;31m \u001b[0mdengue_filter\u001b[0m\u001b[0;34m[\u001b[0m\u001b[0;34m'no_bairro_residencia'\u001b[0m\u001b[0;34m]\u001b[0m\u001b[0;34m.\u001b[0m\u001b[0mvalue_counts\u001b[0m\u001b[0;34m(\u001b[0m\u001b[0;34m)\u001b[0m\u001b[0;34m.\u001b[0m\u001b[0mplot\u001b[0m\u001b[0;34m(\u001b[0m\u001b[0mkind\u001b[0m\u001b[0;34m=\u001b[0m\u001b[0;34m'bar'\u001b[0m\u001b[0;34m,\u001b[0m \u001b[0mylabel\u001b[0m\u001b[0;34m=\u001b[0m\u001b[0;34m'Casos de dengue'\u001b[0m\u001b[0;34m,\u001b[0m \u001b[0mxlabel\u001b[0m\u001b[0;34m=\u001b[0m\u001b[0;34m'Bairros'\u001b[0m\u001b[0;34m)\u001b[0m\u001b[0;34m\u001b[0m\u001b[0;34m\u001b[0m\u001b[0m\n\u001b[0m",
            "\u001b[0;32m/usr/local/lib/python3.7/dist-packages/pandas/plotting/_core.py\u001b[0m in \u001b[0;36m__call__\u001b[0;34m(self, *args, **kwargs)\u001b[0m\n\u001b[1;32m    947\u001b[0m                     \u001b[0mdata\u001b[0m\u001b[0;34m.\u001b[0m\u001b[0mcolumns\u001b[0m \u001b[0;34m=\u001b[0m \u001b[0mlabel_name\u001b[0m\u001b[0;34m\u001b[0m\u001b[0;34m\u001b[0m\u001b[0m\n\u001b[1;32m    948\u001b[0m \u001b[0;34m\u001b[0m\u001b[0m\n\u001b[0;32m--> 949\u001b[0;31m         \u001b[0;32mreturn\u001b[0m \u001b[0mplot_backend\u001b[0m\u001b[0;34m.\u001b[0m\u001b[0mplot\u001b[0m\u001b[0;34m(\u001b[0m\u001b[0mdata\u001b[0m\u001b[0;34m,\u001b[0m \u001b[0mkind\u001b[0m\u001b[0;34m=\u001b[0m\u001b[0mkind\u001b[0m\u001b[0;34m,\u001b[0m \u001b[0;34m**\u001b[0m\u001b[0mkwargs\u001b[0m\u001b[0;34m)\u001b[0m\u001b[0;34m\u001b[0m\u001b[0;34m\u001b[0m\u001b[0m\n\u001b[0m\u001b[1;32m    950\u001b[0m \u001b[0;34m\u001b[0m\u001b[0m\n\u001b[1;32m    951\u001b[0m     \u001b[0m__call__\u001b[0m\u001b[0;34m.\u001b[0m\u001b[0m__doc__\u001b[0m \u001b[0;34m=\u001b[0m \u001b[0m__doc__\u001b[0m\u001b[0;34m\u001b[0m\u001b[0;34m\u001b[0m\u001b[0m\n",
            "\u001b[0;32m/usr/local/lib/python3.7/dist-packages/pandas/plotting/_matplotlib/__init__.py\u001b[0m in \u001b[0;36mplot\u001b[0;34m(data, kind, **kwargs)\u001b[0m\n\u001b[1;32m     59\u001b[0m             \u001b[0mkwargs\u001b[0m\u001b[0;34m[\u001b[0m\u001b[0;34m\"ax\"\u001b[0m\u001b[0;34m]\u001b[0m \u001b[0;34m=\u001b[0m \u001b[0mgetattr\u001b[0m\u001b[0;34m(\u001b[0m\u001b[0max\u001b[0m\u001b[0;34m,\u001b[0m \u001b[0;34m\"left_ax\"\u001b[0m\u001b[0;34m,\u001b[0m \u001b[0max\u001b[0m\u001b[0;34m)\u001b[0m\u001b[0;34m\u001b[0m\u001b[0;34m\u001b[0m\u001b[0m\n\u001b[1;32m     60\u001b[0m     \u001b[0mplot_obj\u001b[0m \u001b[0;34m=\u001b[0m \u001b[0mPLOT_CLASSES\u001b[0m\u001b[0;34m[\u001b[0m\u001b[0mkind\u001b[0m\u001b[0;34m]\u001b[0m\u001b[0;34m(\u001b[0m\u001b[0mdata\u001b[0m\u001b[0;34m,\u001b[0m \u001b[0;34m**\u001b[0m\u001b[0mkwargs\u001b[0m\u001b[0;34m)\u001b[0m\u001b[0;34m\u001b[0m\u001b[0;34m\u001b[0m\u001b[0m\n\u001b[0;32m---> 61\u001b[0;31m     \u001b[0mplot_obj\u001b[0m\u001b[0;34m.\u001b[0m\u001b[0mgenerate\u001b[0m\u001b[0;34m(\u001b[0m\u001b[0;34m)\u001b[0m\u001b[0;34m\u001b[0m\u001b[0;34m\u001b[0m\u001b[0m\n\u001b[0m\u001b[1;32m     62\u001b[0m     \u001b[0mplot_obj\u001b[0m\u001b[0;34m.\u001b[0m\u001b[0mdraw\u001b[0m\u001b[0;34m(\u001b[0m\u001b[0;34m)\u001b[0m\u001b[0;34m\u001b[0m\u001b[0;34m\u001b[0m\u001b[0m\n\u001b[1;32m     63\u001b[0m     \u001b[0;32mreturn\u001b[0m \u001b[0mplot_obj\u001b[0m\u001b[0;34m.\u001b[0m\u001b[0mresult\u001b[0m\u001b[0;34m\u001b[0m\u001b[0;34m\u001b[0m\u001b[0m\n",
            "\u001b[0;32m/usr/local/lib/python3.7/dist-packages/pandas/plotting/_matplotlib/core.py\u001b[0m in \u001b[0;36mgenerate\u001b[0;34m(self)\u001b[0m\n\u001b[1;32m    276\u001b[0m         \u001b[0;32mfor\u001b[0m \u001b[0max\u001b[0m \u001b[0;32min\u001b[0m \u001b[0mself\u001b[0m\u001b[0;34m.\u001b[0m\u001b[0maxes\u001b[0m\u001b[0;34m:\u001b[0m\u001b[0;34m\u001b[0m\u001b[0;34m\u001b[0m\u001b[0m\n\u001b[1;32m    277\u001b[0m             \u001b[0mself\u001b[0m\u001b[0;34m.\u001b[0m\u001b[0m_post_plot_logic_common\u001b[0m\u001b[0;34m(\u001b[0m\u001b[0max\u001b[0m\u001b[0;34m,\u001b[0m \u001b[0mself\u001b[0m\u001b[0;34m.\u001b[0m\u001b[0mdata\u001b[0m\u001b[0;34m)\u001b[0m\u001b[0;34m\u001b[0m\u001b[0;34m\u001b[0m\u001b[0m\n\u001b[0;32m--> 278\u001b[0;31m             \u001b[0mself\u001b[0m\u001b[0;34m.\u001b[0m\u001b[0m_post_plot_logic\u001b[0m\u001b[0;34m(\u001b[0m\u001b[0max\u001b[0m\u001b[0;34m,\u001b[0m \u001b[0mself\u001b[0m\u001b[0;34m.\u001b[0m\u001b[0mdata\u001b[0m\u001b[0;34m)\u001b[0m\u001b[0;34m\u001b[0m\u001b[0;34m\u001b[0m\u001b[0m\n\u001b[0m\u001b[1;32m    279\u001b[0m \u001b[0;34m\u001b[0m\u001b[0m\n\u001b[1;32m    280\u001b[0m     \u001b[0;32mdef\u001b[0m \u001b[0m_args_adjust\u001b[0m\u001b[0;34m(\u001b[0m\u001b[0mself\u001b[0m\u001b[0;34m)\u001b[0m\u001b[0;34m:\u001b[0m\u001b[0;34m\u001b[0m\u001b[0;34m\u001b[0m\u001b[0m\n",
            "\u001b[0;32m/usr/local/lib/python3.7/dist-packages/pandas/plotting/_matplotlib/core.py\u001b[0m in \u001b[0;36m_post_plot_logic\u001b[0;34m(self, ax, data)\u001b[0m\n\u001b[1;32m   1459\u001b[0m         \u001b[0mname\u001b[0m \u001b[0;34m=\u001b[0m \u001b[0mself\u001b[0m\u001b[0;34m.\u001b[0m\u001b[0m_get_index_name\u001b[0m\u001b[0;34m(\u001b[0m\u001b[0;34m)\u001b[0m\u001b[0;34m\u001b[0m\u001b[0;34m\u001b[0m\u001b[0m\n\u001b[1;32m   1460\u001b[0m \u001b[0;34m\u001b[0m\u001b[0m\n\u001b[0;32m-> 1461\u001b[0;31m         \u001b[0ms_edge\u001b[0m \u001b[0;34m=\u001b[0m \u001b[0mself\u001b[0m\u001b[0;34m.\u001b[0m\u001b[0max_pos\u001b[0m\u001b[0;34m[\u001b[0m\u001b[0;36m0\u001b[0m\u001b[0;34m]\u001b[0m \u001b[0;34m-\u001b[0m \u001b[0;36m0.25\u001b[0m \u001b[0;34m+\u001b[0m \u001b[0mself\u001b[0m\u001b[0;34m.\u001b[0m\u001b[0mlim_offset\u001b[0m\u001b[0;34m\u001b[0m\u001b[0;34m\u001b[0m\u001b[0m\n\u001b[0m\u001b[1;32m   1462\u001b[0m         \u001b[0me_edge\u001b[0m \u001b[0;34m=\u001b[0m \u001b[0mself\u001b[0m\u001b[0;34m.\u001b[0m\u001b[0max_pos\u001b[0m\u001b[0;34m[\u001b[0m\u001b[0;34m-\u001b[0m\u001b[0;36m1\u001b[0m\u001b[0;34m]\u001b[0m \u001b[0;34m+\u001b[0m \u001b[0;36m0.25\u001b[0m \u001b[0;34m+\u001b[0m \u001b[0mself\u001b[0m\u001b[0;34m.\u001b[0m\u001b[0mbar_width\u001b[0m \u001b[0;34m+\u001b[0m \u001b[0mself\u001b[0m\u001b[0;34m.\u001b[0m\u001b[0mlim_offset\u001b[0m\u001b[0;34m\u001b[0m\u001b[0;34m\u001b[0m\u001b[0m\n\u001b[1;32m   1463\u001b[0m \u001b[0;34m\u001b[0m\u001b[0m\n",
            "\u001b[0;31mIndexError\u001b[0m: index 0 is out of bounds for axis 0 with size 0"
          ]
        },
        {
          "output_type": "display_data",
          "data": {
            "image/png": "[encoded data removed]",
            "text/plain": [
              "<Figure size 432x288 with 1 Axes>"
            ]
          },
          "metadata": {
            "tags": [],
            "needs_background": "light"
          }
        }
      ]
    },
    {
      "cell_type": "code",
      "metadata": {
        "colab": {
          "base_uri": "https://localhost:8080/",
          "height": 0
        },
        "id": "FrFphleZe2Nw",
        "outputId": "a6d36ac7-bbc2-4f9b-fb1d-cc93bcbf3f83"
      },
      "source": [
        "# Análise para Solicitações não atendidas de drenagem x Bairros (para mais de 35 chamados não atendidos)\n",
        "\n",
        "emlurb_filter = emlurb_data.groupby(\"BAIRRO\").filter(lambda x: len(x) > 35)\n",
        "emlurb_filter['BAIRRO'].value_counts().plot(kind='bar', ylabel='Solicitações não atendidas de drenagem', xlabel='Bairros')"
      ],
      "execution_count": 137,
      "outputs": [
        {
          "output_type": "execute_result",
          "data": {
            "text/plain": [
              "<matplotlib.axes._subplots.AxesSubplot at 0x7fd6d1bb7c50>"
            ]
          },
          "metadata": {
            "tags": []
          },
          "execution_count": 137
        },
        {
          "output_type": "display_data",
          "data": {
            "image/png": "[encoded data removed]",
            "text/plain": [
              "<Figure size 432x288 with 1 Axes>"
            ]
          },
          "metadata": {
            "tags": [],
            "needs_background": "light"
          }
        }
      ]
    },
    {
      "cell_type": "code",
      "metadata": {
        "colab": {
          "base_uri": "https://localhost:8080/",
          "height": 0
        },
        "id": "vy5YM49YcwWH",
        "outputId": "13d97e05-526c-421c-9e61-7699a213dd0a"
      },
      "source": [
        "# Análise para Casos de dengue com solicitações não atendidas de drenagem x Bairros (mais de 5 casos)\n",
        "\n",
        "crossed_info_filter = crossed_info.groupby(\"no_bairro_residencia\").filter(lambda x: len(x) > 5)\n",
        "crossed_info_filter['no_bairro_residencia'].value_counts().plot(kind='bar', ylabel='Casos de dengue, solicitações não atendidas', xlabel='Bairros')"
      ],
      "execution_count": 139,
      "outputs": [
        {
          "output_type": "execute_result",
          "data": {
            "text/plain": [
              "<matplotlib.axes._subplots.AxesSubplot at 0x7fd6d2641d90>"
            ]
          },
          "metadata": {
            "tags": []
          },
          "execution_count": 139
        },
        {
          "output_type": "display_data",
          "data": {
            "image/png": "[encoded data removed]",
            "text/plain": [
              "<Figure size 432x288 with 1 Axes>"
            ]
          },
          "metadata": {
            "tags": [],
            "needs_background": "light"
          }
        }
      ]
    }
  ]
}