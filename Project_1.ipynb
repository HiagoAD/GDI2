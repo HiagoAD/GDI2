{
  "nbformat": 4,
  "nbformat_minor": 0,
  "metadata": {
    "colab": {
      "name": "Cópia de Project_1.ipynb",
      "provenance": [],
      "collapsed_sections": [],
      "include_colab_link": true
    },
    "kernelspec": {
      "name": "python3",
      "display_name": "Python 3"
    },
    "language_info": {
      "name": "python"
    }
  },
  "cells": [
    {
      "cell_type": "markdown",
      "metadata": {
        "id": "view-in-github",
        "colab_type": "text"
      },
      "source": [
        "<a href=\"https://colab.research.google.com/github/HiagoAD/GDI2/blob/master/Project_1.ipynb\" target=\"_parent\"><img src=\"https://colab.research.google.com/assets/colab-badge.svg\" alt=\"Open In Colab\"/></a>"
      ]
    },
    {
      "cell_type": "code",
      "metadata": {
        "id": "qvSv-z8qYhrz"
      },
      "source": [
        "import numpy as np\n",
        "import pandas as pd\n",
        "from scipy import stats"
      ],
      "execution_count": 199,
      "outputs": []
    },
    {
      "cell_type": "code",
      "metadata": {
        "id": "6HGU6r7p7T_t"
      },
      "source": [
        "dengue = pd.read_csv(\"https://raw.githubusercontent.com/HiagoAD/GDI2/master/datasets/dengue.csv\", encoding =\"UTF-8\")\n",
        "emlurb = pd.read_csv(\"https://raw.githubusercontent.com/HiagoAD/GDI2/master/datasets/emlurb.csv\", encoding =\"UTF-8\")\n"
      ],
      "execution_count": 216,
      "outputs": []
    },
    {
      "cell_type": "markdown",
      "metadata": {
        "id": "RXEnqpXB_QD9"
      },
      "source": [
        "## **Detalhamento de datasets**\n"
      ]
    },
    {
      "cell_type": "code",
      "metadata": {
        "id": "BKkoMG7g_qz3"
      },
      "source": [
        "emlurb.head()"
      ],
      "execution_count": null,
      "outputs": []
    },
    {
      "cell_type": "code",
      "metadata": {
        "id": "oYWpsAuz_utl"
      },
      "source": [
        "dengue.head()"
      ],
      "execution_count": null,
      "outputs": []
    },
    {
      "cell_type": "markdown",
      "metadata": {
        "id": "PwbQXau6OnKH"
      },
      "source": [
        "## **Reorganização de Datasets e merge**"
      ]
    },
    {
      "cell_type": "markdown",
      "metadata": {
        "id": "v6srMQNY2zFU"
      },
      "source": [
        "Como o data frame com dados de dengue é muito robusto, usaremos apenas as colunas que nos interessam. E estas são: bairro e data de registro do caso. Agrupamos os casos por mês e totalizamos as ocorrências mensais. Outras análise podem ser interessantes, como agrupamento por bairro e por dia."
      ]
    },
    {
      "cell_type": "code",
      "metadata": {
        "colab": {
          "base_uri": "https://localhost:8080/"
        },
        "id": "FnVSLbsPCJ2U",
        "outputId": "9c549360-a157-4bad-e41d-975cb7b1f681"
      },
      "source": [
        "# Utilizamos apenas as colunas de bairro e de data do registro do caso\n",
        "\n",
        "dengue_data = dengue[[\"no_bairro_residencia\", \"dt_notificacao\"]]\n",
        "dengue_data['dt_notificacao'] = pd.to_datetime(dengue_data['dt_notificacao'])\n",
        "# dengue_data[\"dt_notificacao\"].value_counts().sort_values(ascending=False)\n",
        "\n",
        "print(\"Número de casos de Dengue registrados em 2020 = \" + str(len(dengue_data.index)))\n",
        "\n",
        "# Número de casos por mês\n",
        "dengue_data = dengue_data.groupby([pd.Grouper(key=\"dt_notificacao\", freq=\"M\")]).size().reset_index(name=\"CASOS_DENGUE\")\n",
        "\n",
        "# Número de casos por bairro\n",
        "# dengue_data.groupby(\"no_bairro_residencia\").size().sort_values(ascending=False).reset_index(name=\"CASOS_DENGUE\")\n",
        "\n",
        "# Número de casos por dia\n",
        "# dengue_data[\"dt_notificacao\"].value_counts().sort_values(ascending=False)\n",
        "\n",
        "print(dengue_data)"
      ],
      "execution_count": 232,
      "outputs": [
        {
          "output_type": "stream",
          "text": [
            "Número de casos de Dengue registrados em 2020 = 1009\n",
            "  dt_notificacao  CASOS_DENGUE\n",
            "0     2019-12-31             1\n",
            "1     2020-01-31           195\n",
            "2     2020-02-29           182\n",
            "3     2020-03-31           199\n",
            "4     2020-04-30            69\n",
            "5     2020-05-31            47\n",
            "6     2020-06-30           207\n",
            "7     2020-07-31           109\n"
          ],
          "name": "stdout"
        },
        {
          "output_type": "stream",
          "text": [
            "/usr/local/lib/python3.7/dist-packages/ipykernel_launcher.py:4: SettingWithCopyWarning: \n",
            "A value is trying to be set on a copy of a slice from a DataFrame.\n",
            "Try using .loc[row_indexer,col_indexer] = value instead\n",
            "\n",
            "See the caveats in the documentation: https://pandas.pydata.org/pandas-docs/stable/user_guide/indexing.html#returning-a-view-versus-a-copy\n",
            "  after removing the cwd from sys.path.\n"
          ],
          "name": "stderr"
        }
      ]
    },
    {
      "cell_type": "code",
      "metadata": {
        "colab": {
          "base_uri": "https://localhost:8080/"
        },
        "id": "HfxZzU8qGK8C",
        "outputId": "38ec59c5-3bfe-4995-971d-1de9c5b4bf44"
      },
      "source": [
        "# Utilizamos apenas as colunas de bairro, data de demanda e tipo de serviço\n",
        "\n",
        "emlurb_data = emlurb[[\"GRUPOSERVICO_DESCRICAO\", \"BAIRRO\", \"DATA_DEMANDA\"]]\n",
        "emlurb_data[\"DATA_DEMANDA\"] = pd.to_datetime(emlurb_data[\"DATA_DEMANDA\"])\n",
        "emlurb_data = emlurb_data[(emlurb_data.GRUPOSERVICO_DESCRICAO == \"DRENAGEM\")]\n",
        "\n",
        "print(\"Número de solicitações de drenagem registradas em 2020 = \" + str(len(emlurb_data.index)))\n",
        "\n",
        "# Número de solicitações por mês\n",
        "emlurb_data = emlurb_data.groupby([pd.Grouper(key=\"DATA_DEMANDA\", freq=\"M\")]).size().reset_index(name=\"CHAMADOS_EMLURB\")\n",
        "\n",
        "# Número de casos por bairro\n",
        "# emlurb_data.groupby(\"BAIRRO\").size().sort_values(ascending=False).reset_index(name=\"CASOS_DENGUE\")\n",
        "\n",
        "# Número de casos por dia\n",
        "# emlurb_data.groupby([pd.Grouper(key=\"DATA_DEMANDA\", freq=\"D\")]).size().sort_values(ascending=False).reset_index(name=\"CHAMADOS_EMLURB\")\n",
        "\n",
        "print(emlurb_data)"
      ],
      "execution_count": 234,
      "outputs": [
        {
          "output_type": "stream",
          "text": [
            "Número de solicitações de drenagem registradas em 2020 = 8340\n",
            "   DATA_DEMANDA  CHAMADOS_EMLURB\n",
            "0    2020-01-31              675\n",
            "1    2020-02-29              694\n",
            "2    2020-03-31              902\n",
            "3    2020-04-30              443\n",
            "4    2020-05-31              500\n",
            "5    2020-06-30              633\n",
            "6    2020-07-31              950\n",
            "7    2020-08-31              830\n",
            "8    2020-09-30              798\n",
            "9    2020-10-31              745\n",
            "10   2020-11-30              665\n",
            "11   2020-12-31              505\n"
          ],
          "name": "stdout"
        },
        {
          "output_type": "stream",
          "text": [
            "/usr/local/lib/python3.7/dist-packages/ipykernel_launcher.py:4: SettingWithCopyWarning: \n",
            "A value is trying to be set on a copy of a slice from a DataFrame.\n",
            "Try using .loc[row_indexer,col_indexer] = value instead\n",
            "\n",
            "See the caveats in the documentation: https://pandas.pydata.org/pandas-docs/stable/user_guide/indexing.html#returning-a-view-versus-a-copy\n",
            "  after removing the cwd from sys.path.\n"
          ],
          "name": "stderr"
        }
      ]
    },
    {
      "cell_type": "markdown",
      "metadata": {
        "id": "dT-QEfwuFhGq"
      },
      "source": [
        "Agora que temos duas tabelas, **dengue_data**, com informação dos casos de dengue por mês, e **emlurb_data**, com informação dos pedidos de drenagem solicitados pela população por mês, faremos o merge das duas tabelas para unificar todos esses dados.\n"
      ]
    },
    {
      "cell_type": "code",
      "metadata": {
        "colab": {
          "base_uri": "https://localhost:8080/",
          "height": 204
        },
        "id": "K-AxnU0-KfFX",
        "outputId": "634b95c3-fba2-4918-a2e4-6bac0c7f4774"
      },
      "source": [
        "crossed_info = pd.merge(dengue_data, emlurb_data, left_on=[\"dt_notificacao\"],right_on=[\"DATA_DEMANDA\"])\n",
        "crossed_info.head()"
      ],
      "execution_count": 235,
      "outputs": [
        {
          "output_type": "execute_result",
          "data": {
            "text/html": [
              "<div>\n",
              "<style scoped>\n",
              "    .dataframe tbody tr th:only-of-type {\n",
              "        vertical-align: middle;\n",
              "    }\n",
              "\n",
              "    .dataframe tbody tr th {\n",
              "        vertical-align: top;\n",
              "    }\n",
              "\n",
              "    .dataframe thead th {\n",
              "        text-align: right;\n",
              "    }\n",
              "</style>\n",
              "<table border=\"1\" class=\"dataframe\">\n",
              "  <thead>\n",
              "    <tr style=\"text-align: right;\">\n",
              "      <th></th>\n",
              "      <th>dt_notificacao</th>\n",
              "      <th>CASOS_DENGUE</th>\n",
              "      <th>DATA_DEMANDA</th>\n",
              "      <th>CHAMADOS_EMLURB</th>\n",
              "    </tr>\n",
              "  </thead>\n",
              "  <tbody>\n",
              "    <tr>\n",
              "      <th>0</th>\n",
              "      <td>2020-01-31</td>\n",
              "      <td>195</td>\n",
              "      <td>2020-01-31</td>\n",
              "      <td>675</td>\n",
              "    </tr>\n",
              "    <tr>\n",
              "      <th>1</th>\n",
              "      <td>2020-02-29</td>\n",
              "      <td>182</td>\n",
              "      <td>2020-02-29</td>\n",
              "      <td>694</td>\n",
              "    </tr>\n",
              "    <tr>\n",
              "      <th>2</th>\n",
              "      <td>2020-03-31</td>\n",
              "      <td>199</td>\n",
              "      <td>2020-03-31</td>\n",
              "      <td>902</td>\n",
              "    </tr>\n",
              "    <tr>\n",
              "      <th>3</th>\n",
              "      <td>2020-04-30</td>\n",
              "      <td>69</td>\n",
              "      <td>2020-04-30</td>\n",
              "      <td>443</td>\n",
              "    </tr>\n",
              "    <tr>\n",
              "      <th>4</th>\n",
              "      <td>2020-05-31</td>\n",
              "      <td>47</td>\n",
              "      <td>2020-05-31</td>\n",
              "      <td>500</td>\n",
              "    </tr>\n",
              "  </tbody>\n",
              "</table>\n",
              "</div>"
            ],
            "text/plain": [
              "  dt_notificacao  CASOS_DENGUE DATA_DEMANDA  CHAMADOS_EMLURB\n",
              "0     2020-01-31           195   2020-01-31              675\n",
              "1     2020-02-29           182   2020-02-29              694\n",
              "2     2020-03-31           199   2020-03-31              902\n",
              "3     2020-04-30            69   2020-04-30              443\n",
              "4     2020-05-31            47   2020-05-31              500"
            ]
          },
          "metadata": {
            "tags": []
          },
          "execution_count": 235
        }
      ]
    },
    {
      "cell_type": "markdown",
      "metadata": {
        "id": "jYehdeRdGBtp"
      },
      "source": [
        "Com a tabela **crossed_info**, conseguimos reunir o número de casos de dengue e o número de chamados de drenagem por mês no grande Recife. Ainda podemos cruzar as informações com outros parâmetros como bairro, diária, status de solicitação etc."
      ]
    },
    {
      "cell_type": "markdown",
      "metadata": {
        "id": "0DkjDX4cMEKy"
      },
      "source": [
        "## **Testes de Hipótese**\n",
        "\n",
        "O teste de hipótese é um método estatístico usado na tomada de decisões estatísticas usando dados de um conjunto. O teste de hipóteses é basicamente uma suposição que fazemos sobre o parâmetro do dataset.\n",
        "\n",
        "Agora, ao realizar os t-test, normalmente se tem as seguintes duas hipóteses:\n",
        "\n",
        "*   Hipóteses nulas: as médias de dois grupos são iguais\n",
        "*   Hipóteses alternativas: as médias de dois grupos são diferentes (bicaudais)"
      ]
    },
    {
      "cell_type": "code",
      "metadata": {
        "colab": {
          "base_uri": "https://localhost:8080/",
          "height": 51
        },
        "id": "qwbAeVffOUjy",
        "outputId": "c44a206f-cedd-4de7-cfc0-5edfa077b902"
      },
      "source": [
        "crossed_info['mes'] = crossed_info.dt_notificacao.apply(lambda x: x.strftime('%m'))\n",
        "meses_analise = ['01', '06']\n",
        "dengue_data_meses = crossed_info[(crossed_info.mes.isin(meses_analise))]\n",
        "\n",
        "# Teste de hipótese para mês de Janeiro e Junho para casos de dengue\n",
        "th_dengue = stats.ttest_ind(dengue_data_meses['CASOS_DENGUE'], df['mes'], equal_var=True)\n",
        "display(th_dengue)\n",
        "\n",
        "# Teste de hipótese para mês de Janeiro e Junho para solicitações de drenagem\n",
        "th_emlurb = stats.ttest_ind(dengue_data_meses['CHAMADOS_EMLURB'], df['mes'], equal_var=True)\n",
        "display(th_emlurb)"
      ],
      "execution_count": 236,
      "outputs": [
        {
          "output_type": "display_data",
          "data": {
            "text/plain": [
              "Ttest_indResult(statistic=24.83915470698182, pvalue=0.0016168587873381197)"
            ]
          },
          "metadata": {
            "tags": []
          }
        },
        {
          "output_type": "display_data",
          "data": {
            "text/plain": [
              "Ttest_indResult(statistic=29.97169623340154, pvalue=0.0011113552423764191)"
            ]
          },
          "metadata": {
            "tags": []
          }
        }
      ]
    },
    {
      "cell_type": "markdown",
      "metadata": {
        "id": "htv7xYEQjYqD"
      },
      "source": [
        "O valor do p-value para casos de dengue nos meses analisado é 0.0016, que é menor do que o nível de significância alfa (0.05). Além disso, isso significa que podemos concluir que os casos de dengue em Janeiro, em média,é estatisticamente diferente dos de Junho. O mesmo se aplica ao p-value dos chamados de drenagem."
      ]
    },
    {
      "cell_type": "markdown",
      "metadata": {
        "id": "sPkSOEV60JDZ"
      },
      "source": [
        "## **Correlações**\n",
        "\n",
        "Fazer teste de Pearson/Spillman"
      ]
    },
    {
      "cell_type": "markdown",
      "metadata": {
        "id": "W4kGNsh-MhuM"
      },
      "source": [
        "## **Análise de Gráficos**\n",
        "\n",
        "Analisaremos a tabela com dados cruzados, **crossed_info**. Coletando o número de casos de dengue e solicitações de drenagem por mês. "
      ]
    },
    {
      "cell_type": "code",
      "metadata": {
        "id": "zb6CmYrBnH38",
        "outputId": "83d8150d-e387-449c-bf13-46126521b88b",
        "colab": {
          "base_uri": "https://localhost:8080/",
          "height": 307
        }
      },
      "source": [
        "# Análise para Casos de dengue x Meses \n",
        "\n",
        "crossed_info['month'] = crossed_info['dt_notificacao'].dt.strftime('%b')\n",
        "crossed_info.plot(x='month', y='CASOS_DENGUE', kind='bar', legend=False, ylabel='Casos de dengue', xlabel='Mês')\n"
      ],
      "execution_count": 250,
      "outputs": [
        {
          "output_type": "execute_result",
          "data": {
            "text/plain": [
              "<matplotlib.axes._subplots.AxesSubplot at 0x7f6c15de5950>"
            ]
          },
          "metadata": {
            "tags": []
          },
          "execution_count": 250
        },
        {
          "output_type": "display_data",
          "data": {
            "image/png": "[encoded data removed]",
            "text/plain": [
              "<Figure size 432x288 with 1 Axes>"
            ]
          },
          "metadata": {
            "tags": [],
            "needs_background": "light"
          }
        }
      ]
    },
    {
      "cell_type": "code",
      "metadata": {
        "id": "N2V0mYoitxxu",
        "outputId": "14fd7727-6286-4b8b-a370-964c5e86cd68",
        "colab": {
          "base_uri": "https://localhost:8080/",
          "height": 307
        }
      },
      "source": [
        "# Análise para solicitações de Drenagem x Meses \n",
        "\n",
        "crossed_info.plot(x='month', y='CHAMADOS_EMLURB', kind='bar', legend=False, ylabel='Solicitações de drenagem', xlabel='Mês')\n"
      ],
      "execution_count": 252,
      "outputs": [
        {
          "output_type": "execute_result",
          "data": {
            "text/plain": [
              "<matplotlib.axes._subplots.AxesSubplot at 0x7f6c16b33290>"
            ]
          },
          "metadata": {
            "tags": []
          },
          "execution_count": 252
        },
        {
          "output_type": "display_data",
          "data": {
            "image/png": "[encoded data removed]",
            "text/plain": [
              "<Figure size 432x288 with 1 Axes>"
            ]
          },
          "metadata": {
            "tags": [],
            "needs_background": "light"
          }
        }
      ]
    },
    {
      "cell_type": "code",
      "metadata": {
        "id": "bazMShEZ0o3f"
      },
      "source": [
        "# gráfico scatter casos dengue x drenagens"
      ],
      "execution_count": 253,
      "outputs": []
    },
    {
      "cell_type": "markdown",
      "metadata": {
        "id": "bpvAHk0bsAS0"
      },
      "source": [
        "# **Análise de chamados de drenagem não atendidos pela EMLURB x Casos de Dengue**"
      ]
    },
    {
      "cell_type": "code",
      "metadata": {
        "id": "n0vnL91RsHqU"
      },
      "source": [
        "dengue_data = dengue[[\"no_bairro_residencia\", \"dt_notificacao\"]]\n",
        "dengue_data[\"no_bairro_residencia\"].value_counts()"
      ],
      "execution_count": null,
      "outputs": []
    },
    {
      "cell_type": "code",
      "metadata": {
        "id": "KEgOMWfEsMy8"
      },
      "source": [
        "dengue_data[\"dt_notificacao\"] = pd.to_datetime(dengue_data[\"dt_notificacao\"])\n",
        "\n",
        "dengue_data = dengue_data.groupby([\"no_bairro_residencia\", \"dt_notificacao\"]).size().reset_index(name=\"CASOS_DENGUE\")\n",
        "\n",
        "dengue_data.head()"
      ],
      "execution_count": null,
      "outputs": []
    },
    {
      "cell_type": "code",
      "metadata": {
        "id": "vdbuFATdsRdu"
      },
      "source": [
        "emlurb_data = emlurb[[\"GRUPOSERVICO_DESCRICAO\", \"BAIRRO\", \"DATA_DEMANDA\", \"SITUACAO\"]]\n",
        "\n",
        "servicos = [\"DRENAGEM\"]\n",
        "emlurb_data = emlurb_data[emlurb_data.GRUPOSERVICO_DESCRICAO.isin(servicos)]\n",
        "emlurb_data = emlurb_data[(emlurb_data.SITUACAO != \"ATENDIDA\")]\n",
        "emlurb_data[\"DATA_DEMANDA\"] = pd.to_datetime(emlurb_data[\"DATA_DEMANDA\"])\n",
        "\n",
        "emlurb_data.head()"
      ],
      "execution_count": null,
      "outputs": []
    },
    {
      "cell_type": "code",
      "metadata": {
        "id": "2vRoFB8Xsah0",
        "colab": {
          "base_uri": "https://localhost:8080/",
          "height": 204
        },
        "outputId": "886caf95-58b4-4b02-96b6-2885fa7d396a"
      },
      "source": [
        "emlurb_data = emlurb_data.groupby([\"BAIRRO\", \"DATA_DEMANDA\"]).size().reset_index(name=\"CHAMADOS_EMLURB\")\n",
        "emlurb_data.head()\n"
      ],
      "execution_count": 185,
      "outputs": [
        {
          "output_type": "execute_result",
          "data": {
            "text/html": [
              "<div>\n",
              "<style scoped>\n",
              "    .dataframe tbody tr th:only-of-type {\n",
              "        vertical-align: middle;\n",
              "    }\n",
              "\n",
              "    .dataframe tbody tr th {\n",
              "        vertical-align: top;\n",
              "    }\n",
              "\n",
              "    .dataframe thead th {\n",
              "        text-align: right;\n",
              "    }\n",
              "</style>\n",
              "<table border=\"1\" class=\"dataframe\">\n",
              "  <thead>\n",
              "    <tr style=\"text-align: right;\">\n",
              "      <th></th>\n",
              "      <th>BAIRRO</th>\n",
              "      <th>DATA_DEMANDA</th>\n",
              "      <th>CHAMADOS_EMLURB</th>\n",
              "    </tr>\n",
              "  </thead>\n",
              "  <tbody>\n",
              "    <tr>\n",
              "      <th>0</th>\n",
              "      <td>AFLITOS</td>\n",
              "      <td>2020-01-15</td>\n",
              "      <td>1</td>\n",
              "    </tr>\n",
              "    <tr>\n",
              "      <th>1</th>\n",
              "      <td>AFLITOS</td>\n",
              "      <td>2020-03-03</td>\n",
              "      <td>1</td>\n",
              "    </tr>\n",
              "    <tr>\n",
              "      <th>2</th>\n",
              "      <td>AFLITOS</td>\n",
              "      <td>2020-03-04</td>\n",
              "      <td>1</td>\n",
              "    </tr>\n",
              "    <tr>\n",
              "      <th>3</th>\n",
              "      <td>AFLITOS</td>\n",
              "      <td>2020-04-17</td>\n",
              "      <td>1</td>\n",
              "    </tr>\n",
              "    <tr>\n",
              "      <th>4</th>\n",
              "      <td>AFLITOS</td>\n",
              "      <td>2020-05-07</td>\n",
              "      <td>1</td>\n",
              "    </tr>\n",
              "  </tbody>\n",
              "</table>\n",
              "</div>"
            ],
            "text/plain": [
              "    BAIRRO DATA_DEMANDA  CHAMADOS_EMLURB\n",
              "0  AFLITOS   2020-01-15                1\n",
              "1  AFLITOS   2020-03-03                1\n",
              "2  AFLITOS   2020-03-04                1\n",
              "3  AFLITOS   2020-04-17                1\n",
              "4  AFLITOS   2020-05-07                1"
            ]
          },
          "metadata": {
            "tags": []
          },
          "execution_count": 185
        }
      ]
    },
    {
      "cell_type": "code",
      "metadata": {
        "id": "C7aeIc4kswC4"
      },
      "source": [
        "crossed_info = pd.merge(dengue_data, emlurb_data, left_on=[\"no_bairro_residencia\",\"dt_notificacao\"],right_on=[\"BAIRRO\", \"DATA_DEMANDA\"])\n",
        "crossed_info.head()"
      ],
      "execution_count": null,
      "outputs": []
    },
    {
      "cell_type": "code",
      "metadata": {
        "colab": {
          "base_uri": "https://localhost:8080/"
        },
        "id": "pplDad4kYORH",
        "outputId": "865290d5-5a98-4d8b-c83a-6d8538a7ad5a"
      },
      "source": [
        "crossed_info.size"
      ],
      "execution_count": 187,
      "outputs": [
        {
          "output_type": "execute_result",
          "data": {
            "text/plain": [
              "1374"
            ]
          },
          "metadata": {
            "tags": []
          },
          "execution_count": 187
        }
      ]
    },
    {
      "cell_type": "code",
      "metadata": {
        "id": "k_LiQe_cscf7",
        "colab": {
          "base_uri": "https://localhost:8080/"
        },
        "outputId": "800d7b4e-edc9-42fd-f3d3-6c49d625a8b3"
      },
      "source": [
        "# Analise da correlação\n",
        "\n",
        "from scipy import stats\n",
        "stats.ttest_rel(crossed_info['CASOS_DENGUE'], crossed_info['CHAMADOS_EMLURB'])"
      ],
      "execution_count": 188,
      "outputs": [
        {
          "output_type": "execute_result",
          "data": {
            "text/plain": [
              "Ttest_relResult(statistic=-0.8150945908464697, pvalue=0.4158687761557307)"
            ]
          },
          "metadata": {
            "tags": []
          },
          "execution_count": 188
        }
      ]
    },
    {
      "cell_type": "markdown",
      "metadata": {
        "id": "5ICFubm1sjr1"
      },
      "source": [
        "Há **forte** correlação entre casos diários de dengue com chamados de drenagem não atendidos pela EMLURB no ano de 2020.\n",
        "\n",
        "Próximos passos:\n",
        "  * Analizar novamente casos gerais, porém na escala de um mês em vez de diária"
      ]
    },
    {
      "cell_type": "markdown",
      "metadata": {
        "id": "zPbgZTEQdey4"
      },
      "source": [
        "## Estudo de gráficos (cenário 2)\n",
        "\n",
        "Primeiro, analisamos as tabelas com os dados originais. Coletando o número de casos de dengue e solicitações de drenagem por bairro. Em seguida, utilizamos a tabela com informações cruzadas."
      ]
    },
    {
      "cell_type": "code",
      "metadata": {
        "colab": {
          "base_uri": "https://localhost:8080/",
          "height": 609
        },
        "id": "llZDFe3wd9lW",
        "outputId": "d40b3708-7092-41f5-ef97-9140c0210925"
      },
      "source": [
        "# Análise para Casos de dengue x Bairros (para mais de 10 casos de dengue)\n",
        "\n",
        "dengue_filter = dengue_data.groupby(\"no_bairro_residencia\").filter(lambda x: len(x) > 10)\n",
        "dengue_filter['no_bairro_residencia'].value_counts().plot(kind='bar', ylabel='Casos de dengue', xlabel='Bairros')"
      ],
      "execution_count": 399,
      "outputs": [
        {
          "output_type": "error",
          "ename": "IndexError",
          "evalue": "ignored",
          "traceback": [
            "\u001b[0;31m---------------------------------------------------------------------------\u001b[0m",
            "\u001b[0;31mIndexError\u001b[0m                                Traceback (most recent call last)",
            "\u001b[0;32m<ipython-input-399-d9773a318e26>\u001b[0m in \u001b[0;36m<module>\u001b[0;34m()\u001b[0m\n\u001b[1;32m      2\u001b[0m \u001b[0;34m\u001b[0m\u001b[0m\n\u001b[1;32m      3\u001b[0m \u001b[0mdengue_filter\u001b[0m \u001b[0;34m=\u001b[0m \u001b[0mdengue_data\u001b[0m\u001b[0;34m.\u001b[0m\u001b[0mgroupby\u001b[0m\u001b[0;34m(\u001b[0m\u001b[0;34m\"no_bairro_residencia\"\u001b[0m\u001b[0;34m)\u001b[0m\u001b[0;34m.\u001b[0m\u001b[0mfilter\u001b[0m\u001b[0;34m(\u001b[0m\u001b[0;32mlambda\u001b[0m \u001b[0mx\u001b[0m\u001b[0;34m:\u001b[0m \u001b[0mlen\u001b[0m\u001b[0;34m(\u001b[0m\u001b[0mx\u001b[0m\u001b[0;34m)\u001b[0m \u001b[0;34m>\u001b[0m \u001b[0;36m10\u001b[0m\u001b[0;34m)\u001b[0m\u001b[0;34m\u001b[0m\u001b[0;34m\u001b[0m\u001b[0m\n\u001b[0;32m----> 4\u001b[0;31m \u001b[0mdengue_filter\u001b[0m\u001b[0;34m[\u001b[0m\u001b[0;34m'no_bairro_residencia'\u001b[0m\u001b[0;34m]\u001b[0m\u001b[0;34m.\u001b[0m\u001b[0mvalue_counts\u001b[0m\u001b[0;34m(\u001b[0m\u001b[0;34m)\u001b[0m\u001b[0;34m.\u001b[0m\u001b[0mplot\u001b[0m\u001b[0;34m(\u001b[0m\u001b[0mkind\u001b[0m\u001b[0;34m=\u001b[0m\u001b[0;34m'bar'\u001b[0m\u001b[0;34m,\u001b[0m \u001b[0mylabel\u001b[0m\u001b[0;34m=\u001b[0m\u001b[0;34m'Casos de dengue'\u001b[0m\u001b[0;34m,\u001b[0m \u001b[0mxlabel\u001b[0m\u001b[0;34m=\u001b[0m\u001b[0;34m'Bairros'\u001b[0m\u001b[0;34m)\u001b[0m\u001b[0;34m\u001b[0m\u001b[0;34m\u001b[0m\u001b[0m\n\u001b[0m",
            "\u001b[0;32m/usr/local/lib/python3.7/dist-packages/pandas/plotting/_core.py\u001b[0m in \u001b[0;36m__call__\u001b[0;34m(self, *args, **kwargs)\u001b[0m\n\u001b[1;32m    947\u001b[0m                     \u001b[0mdata\u001b[0m\u001b[0;34m.\u001b[0m\u001b[0mcolumns\u001b[0m \u001b[0;34m=\u001b[0m \u001b[0mlabel_name\u001b[0m\u001b[0;34m\u001b[0m\u001b[0;34m\u001b[0m\u001b[0m\n\u001b[1;32m    948\u001b[0m \u001b[0;34m\u001b[0m\u001b[0m\n\u001b[0;32m--> 949\u001b[0;31m         \u001b[0;32mreturn\u001b[0m \u001b[0mplot_backend\u001b[0m\u001b[0;34m.\u001b[0m\u001b[0mplot\u001b[0m\u001b[0;34m(\u001b[0m\u001b[0mdata\u001b[0m\u001b[0;34m,\u001b[0m \u001b[0mkind\u001b[0m\u001b[0;34m=\u001b[0m\u001b[0mkind\u001b[0m\u001b[0;34m,\u001b[0m \u001b[0;34m**\u001b[0m\u001b[0mkwargs\u001b[0m\u001b[0;34m)\u001b[0m\u001b[0;34m\u001b[0m\u001b[0;34m\u001b[0m\u001b[0m\n\u001b[0m\u001b[1;32m    950\u001b[0m \u001b[0;34m\u001b[0m\u001b[0m\n\u001b[1;32m    951\u001b[0m     \u001b[0m__call__\u001b[0m\u001b[0;34m.\u001b[0m\u001b[0m__doc__\u001b[0m \u001b[0;34m=\u001b[0m \u001b[0m__doc__\u001b[0m\u001b[0;34m\u001b[0m\u001b[0;34m\u001b[0m\u001b[0m\n",
            "\u001b[0;32m/usr/local/lib/python3.7/dist-packages/pandas/plotting/_matplotlib/__init__.py\u001b[0m in \u001b[0;36mplot\u001b[0;34m(data, kind, **kwargs)\u001b[0m\n\u001b[1;32m     59\u001b[0m             \u001b[0mkwargs\u001b[0m\u001b[0;34m[\u001b[0m\u001b[0;34m\"ax\"\u001b[0m\u001b[0;34m]\u001b[0m \u001b[0;34m=\u001b[0m \u001b[0mgetattr\u001b[0m\u001b[0;34m(\u001b[0m\u001b[0max\u001b[0m\u001b[0;34m,\u001b[0m \u001b[0;34m\"left_ax\"\u001b[0m\u001b[0;34m,\u001b[0m \u001b[0max\u001b[0m\u001b[0;34m)\u001b[0m\u001b[0;34m\u001b[0m\u001b[0;34m\u001b[0m\u001b[0m\n\u001b[1;32m     60\u001b[0m     \u001b[0mplot_obj\u001b[0m \u001b[0;34m=\u001b[0m \u001b[0mPLOT_CLASSES\u001b[0m\u001b[0;34m[\u001b[0m\u001b[0mkind\u001b[0m\u001b[0;34m]\u001b[0m\u001b[0;34m(\u001b[0m\u001b[0mdata\u001b[0m\u001b[0;34m,\u001b[0m \u001b[0;34m**\u001b[0m\u001b[0mkwargs\u001b[0m\u001b[0;34m)\u001b[0m\u001b[0;34m\u001b[0m\u001b[0;34m\u001b[0m\u001b[0m\n\u001b[0;32m---> 61\u001b[0;31m     \u001b[0mplot_obj\u001b[0m\u001b[0;34m.\u001b[0m\u001b[0mgenerate\u001b[0m\u001b[0;34m(\u001b[0m\u001b[0;34m)\u001b[0m\u001b[0;34m\u001b[0m\u001b[0;34m\u001b[0m\u001b[0m\n\u001b[0m\u001b[1;32m     62\u001b[0m     \u001b[0mplot_obj\u001b[0m\u001b[0;34m.\u001b[0m\u001b[0mdraw\u001b[0m\u001b[0;34m(\u001b[0m\u001b[0;34m)\u001b[0m\u001b[0;34m\u001b[0m\u001b[0;34m\u001b[0m\u001b[0m\n\u001b[1;32m     63\u001b[0m     \u001b[0;32mreturn\u001b[0m \u001b[0mplot_obj\u001b[0m\u001b[0;34m.\u001b[0m\u001b[0mresult\u001b[0m\u001b[0;34m\u001b[0m\u001b[0;34m\u001b[0m\u001b[0m\n",
            "\u001b[0;32m/usr/local/lib/python3.7/dist-packages/pandas/plotting/_matplotlib/core.py\u001b[0m in \u001b[0;36mgenerate\u001b[0;34m(self)\u001b[0m\n\u001b[1;32m    276\u001b[0m         \u001b[0;32mfor\u001b[0m \u001b[0max\u001b[0m \u001b[0;32min\u001b[0m \u001b[0mself\u001b[0m\u001b[0;34m.\u001b[0m\u001b[0maxes\u001b[0m\u001b[0;34m:\u001b[0m\u001b[0;34m\u001b[0m\u001b[0;34m\u001b[0m\u001b[0m\n\u001b[1;32m    277\u001b[0m             \u001b[0mself\u001b[0m\u001b[0;34m.\u001b[0m\u001b[0m_post_plot_logic_common\u001b[0m\u001b[0;34m(\u001b[0m\u001b[0max\u001b[0m\u001b[0;34m,\u001b[0m \u001b[0mself\u001b[0m\u001b[0;34m.\u001b[0m\u001b[0mdata\u001b[0m\u001b[0;34m)\u001b[0m\u001b[0;34m\u001b[0m\u001b[0;34m\u001b[0m\u001b[0m\n\u001b[0;32m--> 278\u001b[0;31m             \u001b[0mself\u001b[0m\u001b[0;34m.\u001b[0m\u001b[0m_post_plot_logic\u001b[0m\u001b[0;34m(\u001b[0m\u001b[0max\u001b[0m\u001b[0;34m,\u001b[0m \u001b[0mself\u001b[0m\u001b[0;34m.\u001b[0m\u001b[0mdata\u001b[0m\u001b[0;34m)\u001b[0m\u001b[0;34m\u001b[0m\u001b[0;34m\u001b[0m\u001b[0m\n\u001b[0m\u001b[1;32m    279\u001b[0m \u001b[0;34m\u001b[0m\u001b[0m\n\u001b[1;32m    280\u001b[0m     \u001b[0;32mdef\u001b[0m \u001b[0m_args_adjust\u001b[0m\u001b[0;34m(\u001b[0m\u001b[0mself\u001b[0m\u001b[0;34m)\u001b[0m\u001b[0;34m:\u001b[0m\u001b[0;34m\u001b[0m\u001b[0;34m\u001b[0m\u001b[0m\n",
            "\u001b[0;32m/usr/local/lib/python3.7/dist-packages/pandas/plotting/_matplotlib/core.py\u001b[0m in \u001b[0;36m_post_plot_logic\u001b[0;34m(self, ax, data)\u001b[0m\n\u001b[1;32m   1459\u001b[0m         \u001b[0mname\u001b[0m \u001b[0;34m=\u001b[0m \u001b[0mself\u001b[0m\u001b[0;34m.\u001b[0m\u001b[0m_get_index_name\u001b[0m\u001b[0;34m(\u001b[0m\u001b[0;34m)\u001b[0m\u001b[0;34m\u001b[0m\u001b[0;34m\u001b[0m\u001b[0m\n\u001b[1;32m   1460\u001b[0m \u001b[0;34m\u001b[0m\u001b[0m\n\u001b[0;32m-> 1461\u001b[0;31m         \u001b[0ms_edge\u001b[0m \u001b[0;34m=\u001b[0m \u001b[0mself\u001b[0m\u001b[0;34m.\u001b[0m\u001b[0max_pos\u001b[0m\u001b[0;34m[\u001b[0m\u001b[0;36m0\u001b[0m\u001b[0;34m]\u001b[0m \u001b[0;34m-\u001b[0m \u001b[0;36m0.25\u001b[0m \u001b[0;34m+\u001b[0m \u001b[0mself\u001b[0m\u001b[0;34m.\u001b[0m\u001b[0mlim_offset\u001b[0m\u001b[0;34m\u001b[0m\u001b[0;34m\u001b[0m\u001b[0m\n\u001b[0m\u001b[1;32m   1462\u001b[0m         \u001b[0me_edge\u001b[0m \u001b[0;34m=\u001b[0m \u001b[0mself\u001b[0m\u001b[0;34m.\u001b[0m\u001b[0max_pos\u001b[0m\u001b[0;34m[\u001b[0m\u001b[0;34m-\u001b[0m\u001b[0;36m1\u001b[0m\u001b[0;34m]\u001b[0m \u001b[0;34m+\u001b[0m \u001b[0;36m0.25\u001b[0m \u001b[0;34m+\u001b[0m \u001b[0mself\u001b[0m\u001b[0;34m.\u001b[0m\u001b[0mbar_width\u001b[0m \u001b[0;34m+\u001b[0m \u001b[0mself\u001b[0m\u001b[0;34m.\u001b[0m\u001b[0mlim_offset\u001b[0m\u001b[0;34m\u001b[0m\u001b[0;34m\u001b[0m\u001b[0m\n\u001b[1;32m   1463\u001b[0m \u001b[0;34m\u001b[0m\u001b[0m\n",
            "\u001b[0;31mIndexError\u001b[0m: index 0 is out of bounds for axis 0 with size 0"
          ]
        },
        {
          "output_type": "display_data",
          "data": {
            "image/png": "[encoded data removed]",
            "text/plain": [
              "<Figure size 432x288 with 1 Axes>"
            ]
          },
          "metadata": {
            "tags": [],
            "needs_background": "light"
          }
        }
      ]
    },
    {
      "cell_type": "code",
      "metadata": {
        "colab": {
          "base_uri": "https://localhost:8080/",
          "height": 394
        },
        "id": "FrFphleZe2Nw",
        "outputId": "a6d36ac7-bbc2-4f9b-fb1d-cc93bcbf3f83"
      },
      "source": [
        "# Análise para Solicitações não atendidas de drenagem x Bairros (para mais de 35 chamados não atendidos)\n",
        "\n",
        "emlurb_filter = emlurb_data.groupby(\"BAIRRO\").filter(lambda x: len(x) > 35)\n",
        "emlurb_filter['BAIRRO'].value_counts().plot(kind='bar', ylabel='Solicitações não atendidas de drenagem', xlabel='Bairros')"
      ],
      "execution_count": 137,
      "outputs": [
        {
          "output_type": "execute_result",
          "data": {
            "text/plain": [
              "<matplotlib.axes._subplots.AxesSubplot at 0x7fd6d1bb7c50>"
            ]
          },
          "metadata": {
            "tags": []
          },
          "execution_count": 137
        },
        {
          "output_type": "display_data",
          "data": {
            "image/png": "[encoded data removed]",
            "text/plain": [
              "<Figure size 432x288 with 1 Axes>"
            ]
          },
          "metadata": {
            "tags": [],
            "needs_background": "light"
          }
        }
      ]
    },
    {
      "cell_type": "code",
      "metadata": {
        "colab": {
          "base_uri": "https://localhost:8080/",
          "height": 385
        },
        "id": "vy5YM49YcwWH",
        "outputId": "13d97e05-526c-421c-9e61-7699a213dd0a"
      },
      "source": [
        "# Análise para Casos de dengue com solicitações não atendidas de drenagem x Bairros (mais de 5 casos)\n",
        "\n",
        "crossed_info_filter = crossed_info.groupby(\"no_bairro_residencia\").filter(lambda x: len(x) > 5)\n",
        "crossed_info_filter['no_bairro_residencia'].value_counts().plot(kind='bar', ylabel='Casos de dengue, solicitações não atendidas', xlabel='Bairros')"
      ],
      "execution_count": 139,
      "outputs": [
        {
          "output_type": "execute_result",
          "data": {
            "text/plain": [
              "<matplotlib.axes._subplots.AxesSubplot at 0x7fd6d2641d90>"
            ]
          },
          "metadata": {
            "tags": []
          },
          "execution_count": 139
        },
        {
          "output_type": "display_data",
          "data": {
            "image/png": "[encoded data removed]",
            "text/plain": [
              "<Figure size 432x288 with 1 Axes>"
            ]
          },
          "metadata": {
            "tags": [],
            "needs_background": "light"
          }
        }
      ]
    },
    {
      "cell_type": "markdown",
      "metadata": {
        "id": "MugHIXH8tbRG"
      },
      "source": [
        "# **Análise de chamados de drenagem  x Casos de Dengue (Mensal)**"
      ]
    },
    {
      "cell_type": "code",
      "metadata": {
        "id": "BCikupZ84wmv"
      },
      "source": [
        "dengue_data = dengue[[\"no_bairro_residencia\", \"dt_notificacao\"]]\n",
        "dengue_data.head()"
      ],
      "execution_count": null,
      "outputs": []
    },
    {
      "cell_type": "code",
      "metadata": {
        "id": "-89KL5H_yYBF"
      },
      "source": [
        "dengue_data[\"dt_notificacao\"] = pd.to_datetime(dengue[\"dt_notificacao\"], infer_datetime_format=True)\n",
        "\n",
        "dengue_data=dengue_data.groupby([pd.Grouper(key=\"dt_notificacao\", freq=\"M\"), \"no_bairro_residencia\"]).size().reset_index(name=\"CASOS_DENGUE\")\n",
        "dengue_data.describe()"
      ],
      "execution_count": null,
      "outputs": []
    },
    {
      "cell_type": "code",
      "metadata": {
        "id": "QwdGXiT_tkVV"
      },
      "source": [
        "emlurb_data = emlurb[[\"GRUPOSERVICO_DESCRICAO\", \"BAIRRO\", \"DATA_DEMANDA\"]]\n",
        "emlurb_data = emlurb_data[(emlurb_data.GRUPOSERVICO_DESCRICAO == \"DRENAGEM\")]\n",
        "emlurb_data[\"DATA_DEMANDA\"] = pd.to_datetime(emlurb_data[\"DATA_DEMANDA\"], infer_datetime_format=True)\n",
        "\n",
        "emlurb_data.describe()"
      ],
      "execution_count": null,
      "outputs": []
    },
    {
      "cell_type": "code",
      "metadata": {
        "id": "kLfQ8H7EwHqO",
        "colab": {
          "base_uri": "https://localhost:8080/",
          "height": 204
        },
        "outputId": "bad350df-5f78-4b48-f1a8-ef16e70b311e"
      },
      "source": [
        "emlurb_data = emlurb_data.groupby([pd.Grouper(key=\"DATA_DEMANDA\", freq=\"M\"), \"BAIRRO\"]).size().reset_index(name=\"CHAMADOS_EMLURB\")\n",
        "emlurb_data.head()"
      ],
      "execution_count": 398,
      "outputs": [
        {
          "output_type": "execute_result",
          "data": {
            "text/html": [
              "<div>\n",
              "<style scoped>\n",
              "    .dataframe tbody tr th:only-of-type {\n",
              "        vertical-align: middle;\n",
              "    }\n",
              "\n",
              "    .dataframe tbody tr th {\n",
              "        vertical-align: top;\n",
              "    }\n",
              "\n",
              "    .dataframe thead th {\n",
              "        text-align: right;\n",
              "    }\n",
              "</style>\n",
              "<table border=\"1\" class=\"dataframe\">\n",
              "  <thead>\n",
              "    <tr style=\"text-align: right;\">\n",
              "      <th></th>\n",
              "      <th>DATA_DEMANDA</th>\n",
              "      <th>BAIRRO</th>\n",
              "      <th>CHAMADOS_EMLURB</th>\n",
              "    </tr>\n",
              "  </thead>\n",
              "  <tbody>\n",
              "    <tr>\n",
              "      <th>0</th>\n",
              "      <td>2020-01-31</td>\n",
              "      <td>AFLITOS</td>\n",
              "      <td>1</td>\n",
              "    </tr>\n",
              "    <tr>\n",
              "      <th>1</th>\n",
              "      <td>2020-01-31</td>\n",
              "      <td>AFOGADOS</td>\n",
              "      <td>1</td>\n",
              "    </tr>\n",
              "    <tr>\n",
              "      <th>2</th>\n",
              "      <td>2020-01-31</td>\n",
              "      <td>AGUA FRIA</td>\n",
              "      <td>1</td>\n",
              "    </tr>\n",
              "    <tr>\n",
              "      <th>3</th>\n",
              "      <td>2020-01-31</td>\n",
              "      <td>ALTO DO MANDU</td>\n",
              "      <td>1</td>\n",
              "    </tr>\n",
              "    <tr>\n",
              "      <th>4</th>\n",
              "      <td>2020-01-31</td>\n",
              "      <td>ALTO JOSE BONIFACIO</td>\n",
              "      <td>1</td>\n",
              "    </tr>\n",
              "  </tbody>\n",
              "</table>\n",
              "</div>"
            ],
            "text/plain": [
              "  DATA_DEMANDA               BAIRRO  CHAMADOS_EMLURB\n",
              "0   2020-01-31              AFLITOS                1\n",
              "1   2020-01-31             AFOGADOS                1\n",
              "2   2020-01-31            AGUA FRIA                1\n",
              "3   2020-01-31        ALTO DO MANDU                1\n",
              "4   2020-01-31  ALTO JOSE BONIFACIO                1"
            ]
          },
          "metadata": {
            "tags": []
          },
          "execution_count": 398
        }
      ]
    },
    {
      "cell_type": "code",
      "metadata": {
        "id": "SPhMpnsG5CRN"
      },
      "source": [
        "crossed_info = pd.merge(dengue_data, emlurb_data, left_on=[\"no_bairro_residencia\",\"dt_notificacao\"],right_on=[\"BAIRRO\", \"DATA_DEMANDA\"])\n",
        "crossed_info.head()"
      ],
      "execution_count": null,
      "outputs": []
    },
    {
      "cell_type": "code",
      "metadata": {
        "id": "6vW42qKp5EaF"
      },
      "source": [
        "# Analise da correlação\n",
        "\n",
        "from scipy import stats\n",
        "stats.ttest_rel(crossed_info['CASOS_DENGUE'], crossed_info['CHAMADOS_EMLURB'])"
      ],
      "execution_count": null,
      "outputs": []
    },
    {
      "cell_type": "markdown",
      "metadata": {
        "id": "HnB_Kq1u8aWp"
      },
      "source": [
        "Há **fraca** correlação entre casos mensais de dengue com chamados de drenagem não atendidos pela EMLURB no ano de 2020.\n"
      ]
    }
  ]
}