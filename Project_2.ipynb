{
  "nbformat": 4,
  "nbformat_minor": 0,
  "metadata": {
    "colab": {
      "name": "Project_2.ipynb",
      "provenance": [],
      "collapsed_sections": [],
      "include_colab_link": true
    },
    "kernelspec": {
      "name": "python3",
      "display_name": "Python 3"
    },
    "language_info": {
      "name": "python"
    },
    "accelerator": "TPU"
  },
  "cells": [
    {
      "cell_type": "markdown",
      "metadata": {
        "id": "view-in-github",
        "colab_type": "text"
      },
      "source": [
        "<a href=\"https://colab.research.google.com/github/HiagoAD/GDI2/blob/master/Project_2.ipynb\" target=\"_parent\"><img src=\"https://colab.research.google.com/assets/colab-badge.svg\" alt=\"Open In Colab\"/></a>"
      ]
    },
    {
      "cell_type": "code",
      "metadata": {
        "id": "qvSv-z8qYhrz"
      },
      "source": [
        "import numpy as np\n",
        "import pandas as pd\n",
        "from scipy import stats\n",
        "import seaborn as sns\n",
        "import matplotlib.pyplot as plt\n",
        "\n",
        "from sklearn.tree import DecisionTreeClassifier\n",
        "from sklearn.ensemble import RandomForestClassifier\n",
        "from sklearn.svm import SVC\n",
        "from sklearn.model_selection import train_test_split, cross_val_score\n",
        "from sklearn.naive_bayes import GaussianNB\n",
        "from sklearn.metrics import accuracy_score, confusion_matrix, roc_auc_score\n",
        "from sklearn.neighbors import KNeighborsClassifier\n",
        "from sklearn.neural_network import MLPClassifier"
      ],
      "execution_count": 46,
      "outputs": []
    },
    {
      "cell_type": "markdown",
      "metadata": {
        "id": "j7slQpPpsLN1"
      },
      "source": [
        "## Load datasets\n"
      ]
    },
    {
      "cell_type": "code",
      "metadata": {
        "id": "6HGU6r7p7T_t",
        "colab": {
          "base_uri": "https://localhost:8080/"
        },
        "outputId": "244adc42-f779-4c56-d763-c65fc60a1f5c"
      },
      "source": [
        "dengue = pd.read_csv(\"https://raw.githubusercontent.com/HiagoAD/GDI2/master/datasets/dengue2020.csv\", encoding =\"UTF-8\")\n",
        "emlurb = pd.read_csv(\"https://raw.githubusercontent.com/HiagoAD/GDI2/master/datasets/emlurb2020.csv\", encoding =\"UTF-8\")\n",
        "\n",
        "dengue19 = pd.read_csv(\"https://raw.githubusercontent.com/HiagoAD/GDI2/master/datasets/dengue2019.csv\", encoding =\"UTF-8\", error_bad_lines=False)\n",
        "emlurb19 = pd.read_csv(\"https://raw.githubusercontent.com/HiagoAD/GDI2/master/datasets/emlurb2019.csv\", encoding =\"UTF-8\")\n",
        "\n",
        "dengue18 = pd.read_csv(\"https://raw.githubusercontent.com/HiagoAD/GDI2/master/datasets/dengue2018.csv\", encoding =\"UTF-8\", error_bad_lines=False)\n",
        "emlurb18 = pd.read_csv(\"https://raw.githubusercontent.com/HiagoAD/GDI2/master/datasets/emlurb2018.csv\", encoding =\"UTF-8\")\n",
        "\n",
        "dengue17 = pd.read_csv(\"https://raw.githubusercontent.com/HiagoAD/GDI2/master/datasets/dengue2017.csv\", encoding =\"UTF-8\", error_bad_lines=False)\n",
        "emlurb17 = pd.read_csv(\"https://raw.githubusercontent.com/HiagoAD/GDI2/master/datasets/emlurb2017.csv\", encoding =\"UTF-8\")\n",
        "\n",
        "dengue16 = pd.read_csv(\"https://raw.githubusercontent.com/HiagoAD/GDI2/master/datasets/dengue2016.csv\", encoding =\"UTF-8\", error_bad_lines=False)\n",
        "emlurb16 = pd.read_csv(\"https://raw.githubusercontent.com/HiagoAD/GDI2/master/datasets/emlurb2016.csv\", encoding =\"UTF-8\")\n"
      ],
      "execution_count": 47,
      "outputs": [
        {
          "output_type": "stream",
          "text": [
            "b'Skipping line 108: expected 126 fields, saw 127\\nSkipping line 1485: expected 126 fields, saw 127\\nSkipping line 2584: expected 126 fields, saw 127\\nSkipping line 4415: expected 126 fields, saw 127\\nSkipping line 5659: expected 126 fields, saw 127\\nSkipping line 6469: expected 126 fields, saw 127\\n'\n",
            "/usr/local/lib/python3.7/dist-packages/IPython/core/interactiveshell.py:2718: DtypeWarning:\n",
            "\n",
            "Columns (8) have mixed types.Specify dtype option on import or set low_memory=False.\n",
            "\n",
            "/usr/local/lib/python3.7/dist-packages/IPython/core/interactiveshell.py:2718: DtypeWarning:\n",
            "\n",
            "Columns (55,113) have mixed types.Specify dtype option on import or set low_memory=False.\n",
            "\n"
          ],
          "name": "stderr"
        }
      ]
    },
    {
      "cell_type": "markdown",
      "metadata": {
        "id": "eIomzXQIQkgW"
      },
      "source": [
        "## Dados de 2020 - 2016\n",
        "\n",
        "\n",
        "Iremos fazer os mesmos tratamentos anteriores para os dados de 2019 até 2016."
      ]
    },
    {
      "cell_type": "code",
      "metadata": {
        "id": "30I8GCQLQn_S",
        "colab": {
          "base_uri": "https://localhost:8080/",
          "height": 424
        },
        "outputId": "59f41ead-b27a-4c17-c4ac-69d73dee6b1f"
      },
      "source": [
        "# Dados Dengue\n",
        "\n",
        "merge_dengue = dengue.append([dengue19,dengue18,dengue17,dengue16], ignore_index = True)\n",
        "merge_dengue = merge_dengue[[\"febre\", \"mialgia\",'vomito', \"dt_notificacao\",'nu_idade','nausea','cefaleia','dor_costas','diabetes','renal']]\n",
        "merge_dengue['dt_notificacao'] = pd.to_datetime(merge_dengue['dt_notificacao'])\n",
        "\n",
        "# Agrupamos por número de casos por dia\n",
        "\n",
        "#merge_dengue = merge_dengue.groupby([pd.Grouper(key=\"dt_notificacao\", freq=\"D\")]).size().reset_index(name=\"CASOS_DENGUE\")\n",
        "\n",
        "\n",
        "# Dados Emlurb\n",
        "\n",
        "merge_emlurb = emlurb.append([emlurb19,emlurb18,emlurb17,emlurb16], ignore_index = True)\n",
        "merge_emlurb = merge_emlurb[[\"GRUPOSERVICO_CODIGO\", \"DATA_DEMANDA\"]]\n",
        "merge_emlurb = merge_emlurb[(merge_emlurb.GRUPOSERVICO_CODIGO == 11)]\n",
        "merge_emlurb[\"DATA_DEMANDA\"] = pd.to_datetime(merge_emlurb[\"DATA_DEMANDA\"],errors='coerce')\n",
        "\n",
        "# Agrupamos por número de solicitações por dia\n",
        "\n",
        "#merge_emlurb = merge_emlurb.groupby([pd.Grouper(key=\"DATA_DEMANDA\", freq=\"D\")]).size().reset_index(name=\"CHAMAD0S_EMLURB\")\n",
        "\n",
        "#year_filter = merge_emlurb[(merge_emlurb['DATA_DEMANDA'].dt.year == 2018)]\n",
        "\n",
        "\n",
        "merge_dengue = merge_dengue.dropna()\n",
        "merge_dengue['febre'] = merge_dengue['febre'].astype('int')\n",
        "merge_dengue['mialgia'] = merge_dengue['mialgia'].astype('int')\n",
        "merge_dengue['vomito'] = merge_dengue['vomito'].astype('int')\n",
        "merge_dengue['nausea'] = merge_dengue['nausea'].astype('int')\n",
        "merge_dengue['cefaleia'] = merge_dengue['cefaleia'].astype('int')\n",
        "merge_dengue['dor_costas'] = merge_dengue['dor_costas'].astype('int')\n",
        "merge_dengue['diabetes'] = merge_dengue['diabetes'].astype('int')\n",
        "merge_dengue['renal'] = merge_dengue['renal'].astype('int')\n",
        "merge_dengue = merge_dengue.sort_values('dt_notificacao')\n",
        "merge_dengue"
      ],
      "execution_count": 48,
      "outputs": [
        {
          "output_type": "execute_result",
          "data": {
            "text/html": [
              "<div>\n",
              "<style scoped>\n",
              "    .dataframe tbody tr th:only-of-type {\n",
              "        vertical-align: middle;\n",
              "    }\n",
              "\n",
              "    .dataframe tbody tr th {\n",
              "        vertical-align: top;\n",
              "    }\n",
              "\n",
              "    .dataframe thead th {\n",
              "        text-align: right;\n",
              "    }\n",
              "</style>\n",
              "<table border=\"1\" class=\"dataframe\">\n",
              "  <thead>\n",
              "    <tr style=\"text-align: right;\">\n",
              "      <th></th>\n",
              "      <th>febre</th>\n",
              "      <th>mialgia</th>\n",
              "      <th>vomito</th>\n",
              "      <th>dt_notificacao</th>\n",
              "      <th>nu_idade</th>\n",
              "      <th>nausea</th>\n",
              "      <th>cefaleia</th>\n",
              "      <th>dor_costas</th>\n",
              "      <th>diabetes</th>\n",
              "      <th>renal</th>\n",
              "    </tr>\n",
              "  </thead>\n",
              "  <tbody>\n",
              "    <tr>\n",
              "      <th>14367</th>\n",
              "      <td>1</td>\n",
              "      <td>1</td>\n",
              "      <td>2</td>\n",
              "      <td>2016-01-03</td>\n",
              "      <td>4024</td>\n",
              "      <td>2</td>\n",
              "      <td>2</td>\n",
              "      <td>2</td>\n",
              "      <td>2</td>\n",
              "      <td>2</td>\n",
              "    </tr>\n",
              "    <tr>\n",
              "      <th>13813</th>\n",
              "      <td>2</td>\n",
              "      <td>2</td>\n",
              "      <td>2</td>\n",
              "      <td>2016-01-03</td>\n",
              "      <td>4059</td>\n",
              "      <td>2</td>\n",
              "      <td>2</td>\n",
              "      <td>2</td>\n",
              "      <td>2</td>\n",
              "      <td>2</td>\n",
              "    </tr>\n",
              "    <tr>\n",
              "      <th>13658</th>\n",
              "      <td>1</td>\n",
              "      <td>1</td>\n",
              "      <td>2</td>\n",
              "      <td>2016-01-04</td>\n",
              "      <td>4017</td>\n",
              "      <td>1</td>\n",
              "      <td>1</td>\n",
              "      <td>2</td>\n",
              "      <td>2</td>\n",
              "      <td>2</td>\n",
              "    </tr>\n",
              "    <tr>\n",
              "      <th>13595</th>\n",
              "      <td>1</td>\n",
              "      <td>1</td>\n",
              "      <td>2</td>\n",
              "      <td>2016-01-04</td>\n",
              "      <td>4031</td>\n",
              "      <td>2</td>\n",
              "      <td>1</td>\n",
              "      <td>2</td>\n",
              "      <td>2</td>\n",
              "      <td>2</td>\n",
              "    </tr>\n",
              "    <tr>\n",
              "      <th>13781</th>\n",
              "      <td>1</td>\n",
              "      <td>1</td>\n",
              "      <td>2</td>\n",
              "      <td>2016-01-04</td>\n",
              "      <td>4054</td>\n",
              "      <td>2</td>\n",
              "      <td>1</td>\n",
              "      <td>2</td>\n",
              "      <td>2</td>\n",
              "      <td>2</td>\n",
              "    </tr>\n",
              "    <tr>\n",
              "      <th>...</th>\n",
              "      <td>...</td>\n",
              "      <td>...</td>\n",
              "      <td>...</td>\n",
              "      <td>...</td>\n",
              "      <td>...</td>\n",
              "      <td>...</td>\n",
              "      <td>...</td>\n",
              "      <td>...</td>\n",
              "      <td>...</td>\n",
              "      <td>...</td>\n",
              "    </tr>\n",
              "    <tr>\n",
              "      <th>975</th>\n",
              "      <td>1</td>\n",
              "      <td>1</td>\n",
              "      <td>1</td>\n",
              "      <td>2020-07-16</td>\n",
              "      <td>4008</td>\n",
              "      <td>1</td>\n",
              "      <td>1</td>\n",
              "      <td>2</td>\n",
              "      <td>2</td>\n",
              "      <td>2</td>\n",
              "    </tr>\n",
              "    <tr>\n",
              "      <th>1007</th>\n",
              "      <td>1</td>\n",
              "      <td>1</td>\n",
              "      <td>2</td>\n",
              "      <td>2020-07-17</td>\n",
              "      <td>4017</td>\n",
              "      <td>2</td>\n",
              "      <td>1</td>\n",
              "      <td>2</td>\n",
              "      <td>2</td>\n",
              "      <td>2</td>\n",
              "    </tr>\n",
              "    <tr>\n",
              "      <th>1005</th>\n",
              "      <td>1</td>\n",
              "      <td>2</td>\n",
              "      <td>2</td>\n",
              "      <td>2020-07-19</td>\n",
              "      <td>4010</td>\n",
              "      <td>2</td>\n",
              "      <td>2</td>\n",
              "      <td>2</td>\n",
              "      <td>2</td>\n",
              "      <td>2</td>\n",
              "    </tr>\n",
              "    <tr>\n",
              "      <th>1003</th>\n",
              "      <td>1</td>\n",
              "      <td>1</td>\n",
              "      <td>2</td>\n",
              "      <td>2020-07-20</td>\n",
              "      <td>3001</td>\n",
              "      <td>2</td>\n",
              "      <td>2</td>\n",
              "      <td>2</td>\n",
              "      <td>2</td>\n",
              "      <td>2</td>\n",
              "    </tr>\n",
              "    <tr>\n",
              "      <th>1000</th>\n",
              "      <td>1</td>\n",
              "      <td>1</td>\n",
              "      <td>1</td>\n",
              "      <td>2020-07-20</td>\n",
              "      <td>4003</td>\n",
              "      <td>1</td>\n",
              "      <td>1</td>\n",
              "      <td>2</td>\n",
              "      <td>2</td>\n",
              "      <td>2</td>\n",
              "    </tr>\n",
              "  </tbody>\n",
              "</table>\n",
              "<p>25913 rows × 10 columns</p>\n",
              "</div>"
            ],
            "text/plain": [
              "       febre  mialgia  vomito  ... dor_costas  diabetes  renal\n",
              "14367      1        1       2  ...          2         2      2\n",
              "13813      2        2       2  ...          2         2      2\n",
              "13658      1        1       2  ...          2         2      2\n",
              "13595      1        1       2  ...          2         2      2\n",
              "13781      1        1       2  ...          2         2      2\n",
              "...      ...      ...     ...  ...        ...       ...    ...\n",
              "975        1        1       1  ...          2         2      2\n",
              "1007       1        1       2  ...          2         2      2\n",
              "1005       1        2       2  ...          2         2      2\n",
              "1003       1        1       2  ...          2         2      2\n",
              "1000       1        1       1  ...          2         2      2\n",
              "\n",
              "[25913 rows x 10 columns]"
            ]
          },
          "metadata": {
            "tags": []
          },
          "execution_count": 48
        }
      ]
    },
    {
      "cell_type": "markdown",
      "metadata": {
        "id": "lS7-iA53qFvv"
      },
      "source": [
        "## Feature de predição\n",
        "\n",
        "1.   Número de casos de dengue por dia.\n",
        "2.   Número de solicitações de drenagem por dia.\n",
        "\n"
      ]
    },
    {
      "cell_type": "markdown",
      "metadata": {
        "id": "uuyRRD5LrM_N"
      },
      "source": [
        "## Separação de dados: Treino, Validação e Teste\n",
        "\n",
        "Texto."
      ]
    },
    {
      "cell_type": "code",
      "metadata": {
        "id": "iz0VMrj9SQ7v"
      },
      "source": [
        "def split_values(df, column_name):\n",
        "  X = df.drop(columns=[column_name,'dt_notificacao']).values\n",
        "  y = df[column_name].values\n",
        "\n",
        "  return X, y"
      ],
      "execution_count": 49,
      "outputs": []
    },
    {
      "cell_type": "code",
      "metadata": {
        "id": "i941ZX3x_zrH",
        "colab": {
          "base_uri": "https://localhost:8080/"
        },
        "outputId": "5fd72191-7de5-46a0-910e-99034d8abae0"
      },
      "source": [
        "features_results = merge_dengue.drop(columns=['febre','dt_notificacao']).values\n",
        "labels_results = merge_dengue['febre'].values\n",
        "\n",
        "feature_train, feature_test, label_train, label_test = train_test_split(features_results, labels_results, test_size=0.25, shuffle=False)\n",
        "feature_train, feature_validation, label_train, label_validation =  train_test_split(feature_train, label_train, test_size=(1/3), shuffle=False)\n",
        "\n",
        "print(features_results.shape)\n",
        "print(feature_train.shape)\n",
        "print(feature_test.shape)\n",
        "print(feature_validation.shape)"
      ],
      "execution_count": 50,
      "outputs": [
        {
          "output_type": "stream",
          "text": [
            "(25913, 8)\n",
            "(12956, 8)\n",
            "(6479, 8)\n",
            "(6478, 8)\n"
          ],
          "name": "stdout"
        }
      ]
    },
    {
      "cell_type": "code",
      "metadata": {
        "id": "uSWTzBPhZtvX"
      },
      "source": [
        "# train, validation, test = np.split(merge_dengue.sample(frac=1, random_state=42), [int(.6*len(merge_dengue)), int(.8*len(merge_dengue))])\n",
        "\n",
        "# column_name = 'febre'\n",
        "\n",
        "# X_train, y_train = split_values(train, column_name)\n",
        "# X_valid, y_valid = split_values(validation, column_name)\n",
        "# X_test,  y_test  = split_values(test, column_name)\n",
        "\n",
        "X_train, y_train = feature_train, label_train\n",
        "X_valid, y_valid = feature_validation, label_validation\n",
        "X_test, y_test = feature_test, label_test"
      ],
      "execution_count": 51,
      "outputs": []
    },
    {
      "cell_type": "code",
      "metadata": {
        "id": "Q8S8UimEc9tP",
        "colab": {
          "base_uri": "https://localhost:8080/"
        },
        "outputId": "a1d67414-aa57-45cd-ff75-68690f950ac8"
      },
      "source": [
        "print(X_train.shape)\n",
        "print(X_test.shape)\n",
        "print(X_valid.shape)"
      ],
      "execution_count": 52,
      "outputs": [
        {
          "output_type": "stream",
          "text": [
            "(12956, 8)\n",
            "(6479, 8)\n",
            "(6478, 8)\n"
          ],
          "name": "stdout"
        }
      ]
    },
    {
      "cell_type": "markdown",
      "metadata": {
        "id": "TD9pFirere46"
      },
      "source": [
        "## Escolha de Algoritmos\n",
        "\n",
        "*   Decision Tree\n",
        "*   Random Forest\n",
        "*   Naive Bayes\n",
        "*   MLP\n",
        "*   KNN\n",
        "\n"
      ]
    },
    {
      "cell_type": "code",
      "metadata": {
        "id": "ZPPTtX4wiaQb"
      },
      "source": [
        "decision_tree = DecisionTreeClassifier()\n",
        "random_forest = RandomForestClassifier()\n",
        "naive_bayes   = GaussianNB()\n",
        "ml_perceptron = MLPClassifier()\n",
        "\n",
        "decision_tree.fit(X_train, y_train)\n",
        "y_decision_tree_train = decision_tree.predict(X_train)\n",
        "y_decision_tree_test  = decision_tree.predict(X_test)\n",
        "\n",
        "random_forest.fit(X_train, y_train)\n",
        "y_random_forest_train = random_forest.predict(X_train)\n",
        "y_random_forest_test  = random_forest.predict(X_test)\n",
        "\n",
        "naive_bayes.fit(X_train, y_train)\n",
        "y_naive_bayes_train = naive_bayes.predict(X_train)\n",
        "y_naive_bayes_test  = naive_bayes.predict(X_test)\n",
        "\n",
        "ml_perceptron.fit(X_train, y_train)\n",
        "y_ml_perceptron_train = ml_perceptron.predict(X_train)\n",
        "y_ml_perceptron_test  = ml_perceptron.predict(X_test)"
      ],
      "execution_count": 53,
      "outputs": []
    },
    {
      "cell_type": "code",
      "metadata": {
        "colab": {
          "base_uri": "https://localhost:8080/"
        },
        "id": "ZiLtX5Vtl5UQ",
        "outputId": "a69da2c5-ebb9-452c-b6f8-ef78ffa73ccd"
      },
      "source": [
        "print(\"=== Precisão Testes === \\n\\n\")\n",
        "\n",
        "print(\"Precisão Decision Tree:\", accuracy_score(y_test, y_decision_tree_test))\n",
        "print(\"Precisão Random Forest:\", accuracy_score(y_test, y_random_forest_test))\n",
        "print(\"Precisão Naive Bayes:\" , accuracy_score(y_test, y_naive_bayes_test))\n",
        "print(\"Precisão MLP: \", accuracy_score(y_test, y_ml_perceptron_test))\n",
        "\n",
        "print(\"\\n\\n=== Precisão Treino === \\n\\n\")\n",
        "\n",
        "print(\"Precisão Decision Tree:\", accuracy_score(y_train, y_decision_tree_train))\n",
        "print(\"Precisão Random Forest:\", accuracy_score(y_train, y_random_forest_train))\n",
        "print(\"Precisão Naive Bayes:\" , accuracy_score(y_train, y_naive_bayes_train))\n",
        "print(\"Precisão MLP: \", accuracy_score(y_train, y_ml_perceptron_train))"
      ],
      "execution_count": 54,
      "outputs": [
        {
          "output_type": "stream",
          "text": [
            "=== Precisão Testes === \n",
            "\n",
            "\n",
            "Precisão Decision Tree: 0.8793023614755363\n",
            "Precisão Random Forest: 0.8789936718629419\n",
            "Precisão Naive Bayes: 0.735144312393888\n",
            "Precisão MLP:  0.8203426454699799\n",
            "\n",
            "\n",
            "=== Precisão Treino === \n",
            "\n",
            "\n",
            "Precisão Decision Tree: 0.8809817845013893\n",
            "Precisão Random Forest: 0.8809817845013893\n",
            "Precisão Naive Bayes: 0.7185087990120408\n",
            "Precisão MLP:  0.8430842852732324\n"
          ],
          "name": "stdout"
        }
      ]
    },
    {
      "cell_type": "markdown",
      "metadata": {
        "id": "kLnDsQ1Xv2Rf"
      },
      "source": [
        "## MLFlow e Hiper-parâmetros\n",
        "\n",
        "Nessa etapa, adicionaremos o MLFlow e o Optuna para seleção de hiper-parâmetros sobre o conjunto de validação."
      ]
    },
    {
      "cell_type": "code",
      "metadata": {
        "id": "xTlRf22XOeBJ"
      },
      "source": [
        "!pip install mlflow --quiet\n",
        "!pip install optuna --quiet\n",
        "\n",
        "import mlflow\n",
        "import optuna"
      ],
      "execution_count": 55,
      "outputs": []
    },
    {
      "cell_type": "markdown",
      "metadata": {
        "id": "ounAhK61U9zL"
      },
      "source": [
        "### Decision Tree"
      ]
    },
    {
      "cell_type": "code",
      "metadata": {
        "id": "BUYekF1AVB3V",
        "colab": {
          "base_uri": "https://localhost:8080/"
        },
        "outputId": "08da7715-41f9-417c-f950-c3e0f72bb287"
      },
      "source": [
        "def objective_decisionTree(trial):\n",
        "    max_depth = trial.suggest_int(\"max_depth\", 1, 15, 1)\n",
        "    split     = trial.suggest_int('min_samples_split', 3, 15, 1)\n",
        "    leaf      = trial.suggest_int('min_samples_leaf', 3, 15, 1)\n",
        "\n",
        "    decisionTree_selection = DecisionTreeClassifier(max_depth=max_depth, min_samples_leaf=leaf, min_samples_split=split)\n",
        "    decisionTree_selection.fit(X_train, y_train)\n",
        "    \n",
        "    prediction_validation = decisionTree_selection.predict(X_valid)\n",
        "    accuracy_validation = accuracy_score(y_valid, prediction_validation)\n",
        "\n",
        "    return accuracy_validation\n",
        "\n",
        "study_dt = optuna.create_study(direction=\"maximize\")\n",
        "study_dt.optimize(objective_decisionTree, n_trials=50)\n",
        "print(study_dt.best_trial)"
      ],
      "execution_count": 56,
      "outputs": [
        {
          "output_type": "stream",
          "text": [
            "\u001b[32m[I 2021-08-15 16:59:21,230]\u001b[0m A new study created in memory with name: no-name-eac3595f-57eb-46af-80cf-3c645017aa60\u001b[0m\n",
            "\u001b[32m[I 2021-08-15 16:59:21,250]\u001b[0m Trial 0 finished with value: 0.8965730163630751 and parameters: {'max_depth': 12, 'min_samples_split': 15, 'min_samples_leaf': 9}. Best is trial 0 with value: 0.8965730163630751.\u001b[0m\n",
            "\u001b[32m[I 2021-08-15 16:59:21,260]\u001b[0m Trial 1 finished with value: 0.8484100030873727 and parameters: {'max_depth': 2, 'min_samples_split': 15, 'min_samples_leaf': 13}. Best is trial 0 with value: 0.8965730163630751.\u001b[0m\n",
            "\u001b[32m[I 2021-08-15 16:59:21,272]\u001b[0m Trial 2 finished with value: 0.891015745600494 and parameters: {'max_depth': 4, 'min_samples_split': 7, 'min_samples_leaf': 5}. Best is trial 0 with value: 0.8965730163630751.\u001b[0m\n",
            "\u001b[32m[I 2021-08-15 16:59:21,286]\u001b[0m Trial 3 finished with value: 0.8971904908922507 and parameters: {'max_depth': 7, 'min_samples_split': 12, 'min_samples_leaf': 6}. Best is trial 3 with value: 0.8971904908922507.\u001b[0m\n",
            "\u001b[32m[I 2021-08-15 16:59:21,302]\u001b[0m Trial 4 finished with value: 0.8965730163630751 and parameters: {'max_depth': 9, 'min_samples_split': 4, 'min_samples_leaf': 8}. Best is trial 3 with value: 0.8971904908922507.\u001b[0m\n",
            "\u001b[32m[I 2021-08-15 16:59:21,319]\u001b[0m Trial 5 finished with value: 0.8965730163630751 and parameters: {'max_depth': 13, 'min_samples_split': 12, 'min_samples_leaf': 12}. Best is trial 3 with value: 0.8971904908922507.\u001b[0m\n",
            "\u001b[32m[I 2021-08-15 16:59:21,336]\u001b[0m Trial 6 finished with value: 0.8954924359370176 and parameters: {'max_depth': 10, 'min_samples_split': 5, 'min_samples_leaf': 3}. Best is trial 3 with value: 0.8971904908922507.\u001b[0m\n",
            "\u001b[32m[I 2021-08-15 16:59:21,352]\u001b[0m Trial 7 finished with value: 0.8965730163630751 and parameters: {'max_depth': 10, 'min_samples_split': 7, 'min_samples_leaf': 13}. Best is trial 3 with value: 0.8971904908922507.\u001b[0m\n",
            "\u001b[32m[I 2021-08-15 16:59:21,364]\u001b[0m Trial 8 finished with value: 0.8877740043223217 and parameters: {'max_depth': 3, 'min_samples_split': 10, 'min_samples_leaf': 6}. Best is trial 3 with value: 0.8971904908922507.\u001b[0m\n",
            "\u001b[32m[I 2021-08-15 16:59:21,376]\u001b[0m Trial 9 finished with value: 0.8484100030873727 and parameters: {'max_depth': 2, 'min_samples_split': 4, 'min_samples_leaf': 8}. Best is trial 3 with value: 0.8971904908922507.\u001b[0m\n",
            "\u001b[32m[I 2021-08-15 16:59:21,397]\u001b[0m Trial 10 finished with value: 0.8970361222599568 and parameters: {'max_depth': 6, 'min_samples_split': 12, 'min_samples_leaf': 3}. Best is trial 3 with value: 0.8971904908922507.\u001b[0m\n",
            "\u001b[32m[I 2021-08-15 16:59:21,422]\u001b[0m Trial 11 finished with value: 0.8970361222599568 and parameters: {'max_depth': 6, 'min_samples_split': 12, 'min_samples_leaf': 3}. Best is trial 3 with value: 0.8971904908922507.\u001b[0m\n",
            "\u001b[32m[I 2021-08-15 16:59:21,442]\u001b[0m Trial 12 finished with value: 0.8970361222599568 and parameters: {'max_depth': 6, 'min_samples_split': 12, 'min_samples_leaf': 5}. Best is trial 3 with value: 0.8971904908922507.\u001b[0m\n",
            "\u001b[32m[I 2021-08-15 16:59:21,459]\u001b[0m Trial 13 finished with value: 0.8970361222599568 and parameters: {'max_depth': 6, 'min_samples_split': 10, 'min_samples_leaf': 6}. Best is trial 3 with value: 0.8971904908922507.\u001b[0m\n",
            "\u001b[32m[I 2021-08-15 16:59:21,485]\u001b[0m Trial 14 finished with value: 0.8950293300401359 and parameters: {'max_depth': 15, 'min_samples_split': 13, 'min_samples_leaf': 3}. Best is trial 3 with value: 0.8971904908922507.\u001b[0m\n",
            "\u001b[32m[I 2021-08-15 16:59:21,504]\u001b[0m Trial 15 finished with value: 0.8971904908922507 and parameters: {'max_depth': 8, 'min_samples_split': 9, 'min_samples_leaf': 11}. Best is trial 3 with value: 0.8971904908922507.\u001b[0m\n",
            "\u001b[32m[I 2021-08-15 16:59:21,525]\u001b[0m Trial 16 finished with value: 0.8971904908922507 and parameters: {'max_depth': 8, 'min_samples_split': 8, 'min_samples_leaf': 11}. Best is trial 3 with value: 0.8971904908922507.\u001b[0m\n",
            "\u001b[32m[I 2021-08-15 16:59:21,545]\u001b[0m Trial 17 finished with value: 0.8971904908922507 and parameters: {'max_depth': 8, 'min_samples_split': 8, 'min_samples_leaf': 15}. Best is trial 3 with value: 0.8971904908922507.\u001b[0m\n",
            "\u001b[32m[I 2021-08-15 16:59:21,567]\u001b[0m Trial 18 finished with value: 0.8965730163630751 and parameters: {'max_depth': 12, 'min_samples_split': 9, 'min_samples_leaf': 15}. Best is trial 3 with value: 0.8971904908922507.\u001b[0m\n",
            "\u001b[32m[I 2021-08-15 16:59:21,585]\u001b[0m Trial 19 finished with value: 0.891015745600494 and parameters: {'max_depth': 4, 'min_samples_split': 6, 'min_samples_leaf': 11}. Best is trial 3 with value: 0.8971904908922507.\u001b[0m\n",
            "\u001b[32m[I 2021-08-15 16:59:21,608]\u001b[0m Trial 20 finished with value: 0.8965730163630751 and parameters: {'max_depth': 9, 'min_samples_split': 8, 'min_samples_leaf': 15}. Best is trial 3 with value: 0.8971904908922507.\u001b[0m\n",
            "\u001b[32m[I 2021-08-15 16:59:21,635]\u001b[0m Trial 21 finished with value: 0.8971904908922507 and parameters: {'max_depth': 8, 'min_samples_split': 10, 'min_samples_leaf': 10}. Best is trial 3 with value: 0.8971904908922507.\u001b[0m\n",
            "\u001b[32m[I 2021-08-15 16:59:21,657]\u001b[0m Trial 22 finished with value: 0.8971904908922507 and parameters: {'max_depth': 8, 'min_samples_split': 10, 'min_samples_leaf': 10}. Best is trial 3 with value: 0.8971904908922507.\u001b[0m\n",
            "\u001b[32m[I 2021-08-15 16:59:21,681]\u001b[0m Trial 23 finished with value: 0.8965730163630751 and parameters: {'max_depth': 11, 'min_samples_split': 8, 'min_samples_leaf': 14}. Best is trial 3 with value: 0.8971904908922507.\u001b[0m\n",
            "\u001b[32m[I 2021-08-15 16:59:21,705]\u001b[0m Trial 24 finished with value: 0.8971904908922507 and parameters: {'max_depth': 7, 'min_samples_split': 11, 'min_samples_leaf': 7}. Best is trial 3 with value: 0.8971904908922507.\u001b[0m\n",
            "\u001b[32m[I 2021-08-15 16:59:21,726]\u001b[0m Trial 25 finished with value: 0.891015745600494 and parameters: {'max_depth': 5, 'min_samples_split': 10, 'min_samples_leaf': 9}. Best is trial 3 with value: 0.8971904908922507.\u001b[0m\n",
            "\u001b[32m[I 2021-08-15 16:59:21,747]\u001b[0m Trial 26 finished with value: 0.8971904908922507 and parameters: {'max_depth': 7, 'min_samples_split': 14, 'min_samples_leaf': 10}. Best is trial 3 with value: 0.8971904908922507.\u001b[0m\n",
            "\u001b[32m[I 2021-08-15 16:59:21,768]\u001b[0m Trial 27 finished with value: 0.8971904908922507 and parameters: {'max_depth': 7, 'min_samples_split': 14, 'min_samples_leaf': 8}. Best is trial 3 with value: 0.8971904908922507.\u001b[0m\n",
            "\u001b[32m[I 2021-08-15 16:59:21,784]\u001b[0m Trial 28 finished with value: 0.8672429762272307 and parameters: {'max_depth': 1, 'min_samples_split': 14, 'min_samples_leaf': 8}. Best is trial 3 with value: 0.8971904908922507.\u001b[0m\n",
            "\u001b[32m[I 2021-08-15 16:59:21,803]\u001b[0m Trial 29 finished with value: 0.891015745600494 and parameters: {'max_depth': 5, 'min_samples_split': 15, 'min_samples_leaf': 6}. Best is trial 3 with value: 0.8971904908922507.\u001b[0m\n",
            "\u001b[32m[I 2021-08-15 16:59:21,822]\u001b[0m Trial 30 finished with value: 0.8971904908922507 and parameters: {'max_depth': 7, 'min_samples_split': 14, 'min_samples_leaf': 9}. Best is trial 3 with value: 0.8971904908922507.\u001b[0m\n",
            "\u001b[32m[I 2021-08-15 16:59:21,844]\u001b[0m Trial 31 finished with value: 0.8971904908922507 and parameters: {'max_depth': 7, 'min_samples_split': 14, 'min_samples_leaf': 7}. Best is trial 3 with value: 0.8971904908922507.\u001b[0m\n",
            "\u001b[32m[I 2021-08-15 16:59:21,865]\u001b[0m Trial 32 finished with value: 0.8965730163630751 and parameters: {'max_depth': 9, 'min_samples_split': 13, 'min_samples_leaf': 10}. Best is trial 3 with value: 0.8971904908922507.\u001b[0m\n",
            "\u001b[32m[I 2021-08-15 16:59:21,887]\u001b[0m Trial 33 finished with value: 0.8965730163630751 and parameters: {'max_depth': 10, 'min_samples_split': 9, 'min_samples_leaf': 11}. Best is trial 3 with value: 0.8971904908922507.\u001b[0m\n",
            "\u001b[32m[I 2021-08-15 16:59:21,912]\u001b[0m Trial 34 finished with value: 0.8971904908922507 and parameters: {'max_depth': 8, 'min_samples_split': 11, 'min_samples_leaf': 12}. Best is trial 3 with value: 0.8971904908922507.\u001b[0m\n",
            "\u001b[32m[I 2021-08-15 16:59:21,930]\u001b[0m Trial 35 finished with value: 0.891015745600494 and parameters: {'max_depth': 5, 'min_samples_split': 15, 'min_samples_leaf': 7}. Best is trial 3 with value: 0.8971904908922507.\u001b[0m\n",
            "\u001b[32m[I 2021-08-15 16:59:21,953]\u001b[0m Trial 36 finished with value: 0.8965730163630751 and parameters: {'max_depth': 9, 'min_samples_split': 7, 'min_samples_leaf': 13}. Best is trial 3 with value: 0.8971904908922507.\u001b[0m\n",
            "\u001b[32m[I 2021-08-15 16:59:21,976]\u001b[0m Trial 37 finished with value: 0.8965730163630751 and parameters: {'max_depth': 11, 'min_samples_split': 8, 'min_samples_leaf': 14}. Best is trial 3 with value: 0.8971904908922507.\u001b[0m\n",
            "\u001b[32m[I 2021-08-15 16:59:21,997]\u001b[0m Trial 38 finished with value: 0.8971904908922507 and parameters: {'max_depth': 8, 'min_samples_split': 7, 'min_samples_leaf': 12}. Best is trial 3 with value: 0.8971904908922507.\u001b[0m\n",
            "\u001b[32m[I 2021-08-15 16:59:22,025]\u001b[0m Trial 39 finished with value: 0.8965730163630751 and parameters: {'max_depth': 11, 'min_samples_split': 6, 'min_samples_leaf': 12}. Best is trial 3 with value: 0.8971904908922507.\u001b[0m\n",
            "\u001b[32m[I 2021-08-15 16:59:22,047]\u001b[0m Trial 40 finished with value: 0.891015745600494 and parameters: {'max_depth': 4, 'min_samples_split': 11, 'min_samples_leaf': 4}. Best is trial 3 with value: 0.8971904908922507.\u001b[0m\n",
            "\u001b[32m[I 2021-08-15 16:59:22,069]\u001b[0m Trial 41 finished with value: 0.8971904908922507 and parameters: {'max_depth': 7, 'min_samples_split': 11, 'min_samples_leaf': 10}. Best is trial 3 with value: 0.8971904908922507.\u001b[0m\n",
            "\u001b[32m[I 2021-08-15 16:59:22,090]\u001b[0m Trial 42 finished with value: 0.8971904908922507 and parameters: {'max_depth': 7, 'min_samples_split': 13, 'min_samples_leaf': 7}. Best is trial 3 with value: 0.8971904908922507.\u001b[0m\n",
            "\u001b[32m[I 2021-08-15 16:59:22,111]\u001b[0m Trial 43 finished with value: 0.8971904908922507 and parameters: {'max_depth': 8, 'min_samples_split': 15, 'min_samples_leaf': 12}. Best is trial 3 with value: 0.8971904908922507.\u001b[0m\n",
            "\u001b[32m[I 2021-08-15 16:59:22,135]\u001b[0m Trial 44 finished with value: 0.8965730163630751 and parameters: {'max_depth': 9, 'min_samples_split': 11, 'min_samples_leaf': 12}. Best is trial 3 with value: 0.8971904908922507.\u001b[0m\n",
            "\u001b[32m[I 2021-08-15 16:59:22,158]\u001b[0m Trial 45 finished with value: 0.8965730163630751 and parameters: {'max_depth': 10, 'min_samples_split': 14, 'min_samples_leaf': 9}. Best is trial 3 with value: 0.8971904908922507.\u001b[0m\n",
            "\u001b[32m[I 2021-08-15 16:59:22,178]\u001b[0m Trial 46 finished with value: 0.8970361222599568 and parameters: {'max_depth': 6, 'min_samples_split': 14, 'min_samples_leaf': 8}. Best is trial 3 with value: 0.8971904908922507.\u001b[0m\n",
            "\u001b[32m[I 2021-08-15 16:59:22,202]\u001b[0m Trial 47 finished with value: 0.8971904908922507 and parameters: {'max_depth': 7, 'min_samples_split': 13, 'min_samples_leaf': 7}. Best is trial 3 with value: 0.8971904908922507.\u001b[0m\n",
            "\u001b[32m[I 2021-08-15 16:59:22,223]\u001b[0m Trial 48 finished with value: 0.8970361222599568 and parameters: {'max_depth': 6, 'min_samples_split': 13, 'min_samples_leaf': 7}. Best is trial 3 with value: 0.8971904908922507.\u001b[0m\n",
            "\u001b[32m[I 2021-08-15 16:59:22,245]\u001b[0m Trial 49 finished with value: 0.8965730163630751 and parameters: {'max_depth': 9, 'min_samples_split': 9, 'min_samples_leaf': 10}. Best is trial 3 with value: 0.8971904908922507.\u001b[0m\n"
          ],
          "name": "stderr"
        },
        {
          "output_type": "stream",
          "text": [
            "FrozenTrial(number=3, values=[0.8971904908922507], datetime_start=datetime.datetime(2021, 8, 15, 16, 59, 21, 274140), datetime_complete=datetime.datetime(2021, 8, 15, 16, 59, 21, 286586), params={'max_depth': 7, 'min_samples_split': 12, 'min_samples_leaf': 6}, distributions={'max_depth': IntUniformDistribution(high=15, low=1, step=1), 'min_samples_split': IntUniformDistribution(high=15, low=3, step=1), 'min_samples_leaf': IntUniformDistribution(high=15, low=3, step=1)}, user_attrs={}, system_attrs={}, intermediate_values={}, trial_id=3, state=TrialState.COMPLETE, value=None)\n"
          ],
          "name": "stdout"
        }
      ]
    },
    {
      "cell_type": "code",
      "metadata": {
        "id": "anT_rU9XV3Ij",
        "colab": {
          "base_uri": "https://localhost:8080/"
        },
        "outputId": "bec6d2ad-3b81-4f4c-e610-a0af3203cf7c"
      },
      "source": [
        "print(study_dt.best_trial.value)\n",
        "print(study_dt.best_trial.params)"
      ],
      "execution_count": 57,
      "outputs": [
        {
          "output_type": "stream",
          "text": [
            "0.8971904908922507\n",
            "{'max_depth': 7, 'min_samples_split': 12, 'min_samples_leaf': 6}\n"
          ],
          "name": "stdout"
        }
      ]
    },
    {
      "cell_type": "markdown",
      "metadata": {
        "id": "HMJBg2N9R7_B"
      },
      "source": [
        "### Random Forest"
      ]
    },
    {
      "cell_type": "code",
      "metadata": {
        "id": "AEXZLSYwR-Mv",
        "colab": {
          "base_uri": "https://localhost:8080/"
        },
        "outputId": "88132965-8c81-46ae-8cab-7f8046c44721"
      },
      "source": [
        "def objective_randomForest(trial):\n",
        "    forrest_n_estimators = trial.suggest_int('n_estimators', 100, 1000)\n",
        "    forrest_criterion = trial.suggest_categorical('criterion', ['gini', 'entropy'])\n",
        "    forrest_max_features = trial.suggest_categorical('max_features', ['auto', 'sqrt', 'log2'])\n",
        "\n",
        "    randomForrest_selection = RandomForestClassifier(n_estimators=forrest_n_estimators, criterion=forrest_criterion, max_features=forrest_max_features)\n",
        "    randomForrest_selection.fit(X_train, y_train) \n",
        "\n",
        "    prediction_validation = randomForrest_selection.predict(X_valid)\n",
        "    accuracy_validation = accuracy_score(y_valid, prediction_validation)\n",
        "\n",
        "    return accuracy_validation\n",
        "\n",
        "study_rf = optuna.create_study(direction=\"maximize\")\n",
        "study_rf.optimize(objective_randomForest, n_trials=50)\n",
        "print(study_rf.best_trial)"
      ],
      "execution_count": 58,
      "outputs": [
        {
          "output_type": "stream",
          "text": [
            "\u001b[32m[I 2021-08-15 16:59:22,281]\u001b[0m A new study created in memory with name: no-name-5ac92943-f82a-4e77-a492-a2cf2db32531\u001b[0m\n",
            "\u001b[32m[I 2021-08-15 16:59:26,632]\u001b[0m Trial 0 finished with value: 0.8920963260265514 and parameters: {'n_estimators': 513, 'criterion': 'gini', 'max_features': 'sqrt'}. Best is trial 0 with value: 0.8920963260265514.\u001b[0m\n",
            "\u001b[32m[I 2021-08-15 16:59:31,120]\u001b[0m Trial 1 finished with value: 0.8914788514973757 and parameters: {'n_estimators': 544, 'criterion': 'gini', 'max_features': 'sqrt'}. Best is trial 0 with value: 0.8920963260265514.\u001b[0m\n",
            "\u001b[32m[I 2021-08-15 16:59:38,899]\u001b[0m Trial 2 finished with value: 0.8911701142327879 and parameters: {'n_estimators': 830, 'criterion': 'entropy', 'max_features': 'sqrt'}. Best is trial 0 with value: 0.8920963260265514.\u001b[0m\n",
            "\u001b[32m[I 2021-08-15 16:59:42,607]\u001b[0m Trial 3 finished with value: 0.8919419573942575 and parameters: {'n_estimators': 408, 'criterion': 'entropy', 'max_features': 'sqrt'}. Best is trial 0 with value: 0.8920963260265514.\u001b[0m\n",
            "\u001b[32m[I 2021-08-15 16:59:44,591]\u001b[0m Trial 4 finished with value: 0.8911701142327879 and parameters: {'n_estimators': 205, 'criterion': 'entropy', 'max_features': 'log2'}. Best is trial 0 with value: 0.8920963260265514.\u001b[0m\n",
            "\u001b[32m[I 2021-08-15 16:59:52,390]\u001b[0m Trial 5 finished with value: 0.8913244828650818 and parameters: {'n_estimators': 867, 'criterion': 'entropy', 'max_features': 'auto'}. Best is trial 0 with value: 0.8920963260265514.\u001b[0m\n",
            "\u001b[32m[I 2021-08-15 16:59:59,257]\u001b[0m Trial 6 finished with value: 0.8917875887619636 and parameters: {'n_estimators': 849, 'criterion': 'gini', 'max_features': 'sqrt'}. Best is trial 0 with value: 0.8920963260265514.\u001b[0m\n",
            "\u001b[32m[I 2021-08-15 17:00:04,315]\u001b[0m Trial 7 finished with value: 0.8911701142327879 and parameters: {'n_estimators': 612, 'criterion': 'gini', 'max_features': 'sqrt'}. Best is trial 0 with value: 0.8920963260265514.\u001b[0m\n",
            "\u001b[32m[I 2021-08-15 17:00:11,234]\u001b[0m Trial 8 finished with value: 0.8919419573942575 and parameters: {'n_estimators': 756, 'criterion': 'entropy', 'max_features': 'sqrt'}. Best is trial 0 with value: 0.8920963260265514.\u001b[0m\n",
            "\u001b[32m[I 2021-08-15 17:00:12,344]\u001b[0m Trial 9 finished with value: 0.8914788514973757 and parameters: {'n_estimators': 120, 'criterion': 'entropy', 'max_features': 'auto'}. Best is trial 0 with value: 0.8920963260265514.\u001b[0m\n",
            "\u001b[32m[I 2021-08-15 17:00:15,117]\u001b[0m Trial 10 finished with value: 0.8917875887619636 and parameters: {'n_estimators': 323, 'criterion': 'gini', 'max_features': 'log2'}. Best is trial 0 with value: 0.8920963260265514.\u001b[0m\n",
            "\u001b[32m[I 2021-08-15 17:00:18,684]\u001b[0m Trial 11 finished with value: 0.8914788514973757 and parameters: {'n_estimators': 429, 'criterion': 'gini', 'max_features': 'sqrt'}. Best is trial 0 with value: 0.8920963260265514.\u001b[0m\n",
            "\u001b[32m[I 2021-08-15 17:00:23,070]\u001b[0m Trial 12 finished with value: 0.8917875887619636 and parameters: {'n_estimators': 478, 'criterion': 'entropy', 'max_features': 'sqrt'}. Best is trial 0 with value: 0.8920963260265514.\u001b[0m\n",
            "\u001b[32m[I 2021-08-15 17:00:28,712]\u001b[0m Trial 13 finished with value: 0.8917875887619636 and parameters: {'n_estimators': 682, 'criterion': 'gini', 'max_features': 'sqrt'}. Best is trial 0 with value: 0.8920963260265514.\u001b[0m\n",
            "\u001b[32m[I 2021-08-15 17:00:31,634]\u001b[0m Trial 14 finished with value: 0.8911701142327879 and parameters: {'n_estimators': 347, 'criterion': 'gini', 'max_features': 'auto'}. Best is trial 0 with value: 0.8920963260265514.\u001b[0m\n",
            "\u001b[32m[I 2021-08-15 17:00:34,636]\u001b[0m Trial 15 finished with value: 0.8911701142327879 and parameters: {'n_estimators': 310, 'criterion': 'entropy', 'max_features': 'log2'}. Best is trial 0 with value: 0.8920963260265514.\u001b[0m\n",
            "\u001b[32m[I 2021-08-15 17:00:43,577]\u001b[0m Trial 16 finished with value: 0.8920963260265514 and parameters: {'n_estimators': 973, 'criterion': 'entropy', 'max_features': 'sqrt'}. Best is trial 0 with value: 0.8920963260265514.\u001b[0m\n",
            "\u001b[32m[I 2021-08-15 17:00:51,678]\u001b[0m Trial 17 finished with value: 0.8920963260265514 and parameters: {'n_estimators': 973, 'criterion': 'gini', 'max_features': 'sqrt'}. Best is trial 0 with value: 0.8920963260265514.\u001b[0m\n",
            "\u001b[32m[I 2021-08-15 17:00:57,004]\u001b[0m Trial 18 finished with value: 0.8917875887619636 and parameters: {'n_estimators': 621, 'criterion': 'gini', 'max_features': 'log2'}. Best is trial 0 with value: 0.8920963260265514.\u001b[0m\n",
            "\u001b[32m[I 2021-08-15 17:01:06,038]\u001b[0m Trial 19 finished with value: 0.8913244828650818 and parameters: {'n_estimators': 992, 'criterion': 'entropy', 'max_features': 'auto'}. Best is trial 0 with value: 0.8920963260265514.\u001b[0m\n",
            "\u001b[32m[I 2021-08-15 17:01:11,938]\u001b[0m Trial 20 finished with value: 0.8917875887619636 and parameters: {'n_estimators': 718, 'criterion': 'gini', 'max_features': 'sqrt'}. Best is trial 0 with value: 0.8920963260265514.\u001b[0m\n",
            "\u001b[32m[I 2021-08-15 17:01:20,087]\u001b[0m Trial 21 finished with value: 0.8913244828650818 and parameters: {'n_estimators': 991, 'criterion': 'gini', 'max_features': 'sqrt'}. Best is trial 0 with value: 0.8920963260265514.\u001b[0m\n",
            "\u001b[32m[I 2021-08-15 17:01:27,737]\u001b[0m Trial 22 finished with value: 0.8911701142327879 and parameters: {'n_estimators': 920, 'criterion': 'gini', 'max_features': 'sqrt'}. Best is trial 0 with value: 0.8920963260265514.\u001b[0m\n",
            "\u001b[32m[I 2021-08-15 17:01:34,177]\u001b[0m Trial 23 finished with value: 0.8914788514973757 and parameters: {'n_estimators': 774, 'criterion': 'gini', 'max_features': 'sqrt'}. Best is trial 0 with value: 0.8920963260265514.\u001b[0m\n",
            "\u001b[32m[I 2021-08-15 17:01:41,772]\u001b[0m Trial 24 finished with value: 0.8919419573942575 and parameters: {'n_estimators': 924, 'criterion': 'gini', 'max_features': 'sqrt'}. Best is trial 0 with value: 0.8920963260265514.\u001b[0m\n",
            "\u001b[32m[I 2021-08-15 17:01:46,204]\u001b[0m Trial 25 finished with value: 0.8914788514973757 and parameters: {'n_estimators': 541, 'criterion': 'gini', 'max_features': 'sqrt'}. Best is trial 0 with value: 0.8920963260265514.\u001b[0m\n",
            "\u001b[32m[I 2021-08-15 17:01:51,978]\u001b[0m Trial 26 finished with value: 0.8919419573942575 and parameters: {'n_estimators': 631, 'criterion': 'entropy', 'max_features': 'sqrt'}. Best is trial 0 with value: 0.8920963260265514.\u001b[0m\n",
            "\u001b[32m[I 2021-08-15 17:01:59,441]\u001b[0m Trial 27 finished with value: 0.8907070083359061 and parameters: {'n_estimators': 914, 'criterion': 'gini', 'max_features': 'sqrt'}. Best is trial 0 with value: 0.8920963260265514.\u001b[0m\n",
            "\u001b[32m[I 2021-08-15 17:02:06,964]\u001b[0m Trial 28 finished with value: 0.8911701142327879 and parameters: {'n_estimators': 794, 'criterion': 'entropy', 'max_features': 'log2'}. Best is trial 0 with value: 0.8920963260265514.\u001b[0m\n",
            "\u001b[32m[I 2021-08-15 17:02:11,407]\u001b[0m Trial 29 finished with value: 0.8914788514973757 and parameters: {'n_estimators': 545, 'criterion': 'gini', 'max_features': 'auto'}. Best is trial 0 with value: 0.8920963260265514.\u001b[0m\n",
            "\u001b[32m[I 2021-08-15 17:02:15,425]\u001b[0m Trial 30 finished with value: 0.8917875887619636 and parameters: {'n_estimators': 498, 'criterion': 'gini', 'max_features': 'sqrt'}. Best is trial 0 with value: 0.8920963260265514.\u001b[0m\n",
            "\u001b[32m[I 2021-08-15 17:02:21,008]\u001b[0m Trial 31 finished with value: 0.8913244828650818 and parameters: {'n_estimators': 607, 'criterion': 'entropy', 'max_features': 'sqrt'}. Best is trial 0 with value: 0.8920963260265514.\u001b[0m\n",
            "\u001b[32m[I 2021-08-15 17:02:24,712]\u001b[0m Trial 32 finished with value: 0.8920963260265514 and parameters: {'n_estimators': 401, 'criterion': 'entropy', 'max_features': 'sqrt'}. Best is trial 0 with value: 0.8920963260265514.\u001b[0m\n",
            "\u001b[32m[I 2021-08-15 17:02:28,305]\u001b[0m Trial 33 finished with value: 0.8916332201296696 and parameters: {'n_estimators': 390, 'criterion': 'entropy', 'max_features': 'sqrt'}. Best is trial 0 with value: 0.8920963260265514.\u001b[0m\n",
            "\u001b[32m[I 2021-08-15 17:02:30,493]\u001b[0m Trial 34 finished with value: 0.8913244828650818 and parameters: {'n_estimators': 233, 'criterion': 'entropy', 'max_features': 'sqrt'}. Best is trial 0 with value: 0.8920963260265514.\u001b[0m\n",
            "\u001b[32m[I 2021-08-15 17:02:34,692]\u001b[0m Trial 35 finished with value: 0.8920963260265514 and parameters: {'n_estimators': 464, 'criterion': 'entropy', 'max_features': 'sqrt'}. Best is trial 0 with value: 0.8920963260265514.\u001b[0m\n",
            "\u001b[32m[I 2021-08-15 17:02:37,096]\u001b[0m Trial 36 finished with value: 0.8905526397036122 and parameters: {'n_estimators': 265, 'criterion': 'entropy', 'max_features': 'sqrt'}. Best is trial 0 with value: 0.8920963260265514.\u001b[0m\n",
            "\u001b[32m[I 2021-08-15 17:02:40,885]\u001b[0m Trial 37 finished with value: 0.8911701142327879 and parameters: {'n_estimators': 410, 'criterion': 'entropy', 'max_features': 'sqrt'}. Best is trial 0 with value: 0.8920963260265514.\u001b[0m\n",
            "\u001b[32m[I 2021-08-15 17:02:45,306]\u001b[0m Trial 38 finished with value: 0.8908613769682001 and parameters: {'n_estimators': 481, 'criterion': 'entropy', 'max_features': 'sqrt'}. Best is trial 0 with value: 0.8920963260265514.\u001b[0m\n",
            "\u001b[32m[I 2021-08-15 17:02:53,316]\u001b[0m Trial 39 finished with value: 0.8914788514973757 and parameters: {'n_estimators': 830, 'criterion': 'entropy', 'max_features': 'log2'}. Best is trial 0 with value: 0.8920963260265514.\u001b[0m\n",
            "\u001b[32m[I 2021-08-15 17:02:59,001]\u001b[0m Trial 40 finished with value: 0.8911701142327879 and parameters: {'n_estimators': 699, 'criterion': 'gini', 'max_features': 'auto'}. Best is trial 0 with value: 0.8920963260265514.\u001b[0m\n",
            "\u001b[32m[I 2021-08-15 17:03:03,032]\u001b[0m Trial 41 finished with value: 0.8914788514973757 and parameters: {'n_estimators': 434, 'criterion': 'entropy', 'max_features': 'sqrt'}. Best is trial 0 with value: 0.8920963260265514.\u001b[0m\n",
            "\u001b[32m[I 2021-08-15 17:03:06,355]\u001b[0m Trial 42 finished with value: 0.8914788514973757 and parameters: {'n_estimators': 362, 'criterion': 'entropy', 'max_features': 'sqrt'}. Best is trial 0 with value: 0.8920963260265514.\u001b[0m\n",
            "\u001b[32m[I 2021-08-15 17:03:11,128]\u001b[0m Trial 43 finished with value: 0.8914788514973757 and parameters: {'n_estimators': 518, 'criterion': 'entropy', 'max_features': 'sqrt'}. Best is trial 0 with value: 0.8920963260265514.\u001b[0m\n",
            "\u001b[32m[I 2021-08-15 17:03:15,267]\u001b[0m Trial 44 finished with value: 0.8917875887619636 and parameters: {'n_estimators': 453, 'criterion': 'entropy', 'max_features': 'sqrt'}. Best is trial 0 with value: 0.8920963260265514.\u001b[0m\n",
            "\u001b[32m[I 2021-08-15 17:03:16,349]\u001b[0m Trial 45 finished with value: 0.8919419573942575 and parameters: {'n_estimators': 115, 'criterion': 'entropy', 'max_features': 'sqrt'}. Best is trial 0 with value: 0.8920963260265514.\u001b[0m\n",
            "\u001b[32m[I 2021-08-15 17:03:21,732]\u001b[0m Trial 46 finished with value: 0.8911701142327879 and parameters: {'n_estimators': 576, 'criterion': 'entropy', 'max_features': 'sqrt'}. Best is trial 0 with value: 0.8920963260265514.\u001b[0m\n",
            "\u001b[32m[I 2021-08-15 17:03:29,190]\u001b[0m Trial 47 finished with value: 0.8917875887619636 and parameters: {'n_estimators': 885, 'criterion': 'gini', 'max_features': 'sqrt'}. Best is trial 0 with value: 0.8920963260265514.\u001b[0m\n",
            "\u001b[32m[I 2021-08-15 17:03:32,100]\u001b[0m Trial 48 finished with value: 0.8916332201296696 and parameters: {'n_estimators': 312, 'criterion': 'entropy', 'max_features': 'sqrt'}. Best is trial 0 with value: 0.8920963260265514.\u001b[0m\n",
            "\u001b[32m[I 2021-08-15 17:03:33,551]\u001b[0m Trial 49 finished with value: 0.8903982710713183 and parameters: {'n_estimators': 169, 'criterion': 'gini', 'max_features': 'log2'}. Best is trial 0 with value: 0.8920963260265514.\u001b[0m\n"
          ],
          "name": "stderr"
        },
        {
          "output_type": "stream",
          "text": [
            "FrozenTrial(number=0, values=[0.8920963260265514], datetime_start=datetime.datetime(2021, 8, 15, 16, 59, 22, 284912), datetime_complete=datetime.datetime(2021, 8, 15, 16, 59, 26, 632351), params={'n_estimators': 513, 'criterion': 'gini', 'max_features': 'sqrt'}, distributions={'n_estimators': IntUniformDistribution(high=1000, low=100, step=1), 'criterion': CategoricalDistribution(choices=('gini', 'entropy')), 'max_features': CategoricalDistribution(choices=('auto', 'sqrt', 'log2'))}, user_attrs={}, system_attrs={}, intermediate_values={}, trial_id=0, state=TrialState.COMPLETE, value=None)\n"
          ],
          "name": "stdout"
        }
      ]
    },
    {
      "cell_type": "code",
      "metadata": {
        "id": "i8deD3QcW2u8",
        "colab": {
          "base_uri": "https://localhost:8080/"
        },
        "outputId": "a3af7d02-6a39-46eb-b3cf-a432e69f0784"
      },
      "source": [
        "print(study_rf.best_trial.value)\n",
        "print(study_rf.best_trial.params)"
      ],
      "execution_count": 59,
      "outputs": [
        {
          "output_type": "stream",
          "text": [
            "0.8920963260265514\n",
            "{'n_estimators': 513, 'criterion': 'gini', 'max_features': 'sqrt'}\n"
          ],
          "name": "stdout"
        }
      ]
    },
    {
      "cell_type": "markdown",
      "metadata": {
        "id": "ybLaeIKAQAFI"
      },
      "source": [
        "### Naive Bayes"
      ]
    },
    {
      "cell_type": "code",
      "metadata": {
        "id": "VjWgBLsbQTDE"
      },
      "source": [
        "def objective_naiveBayes(trial):\n",
        "    nb_var_smoothing = trial.suggest_float('var_smoothing', 1e-9, 1e9, log=True)\n",
        "\n",
        "    naiveBayes_selection = GaussianNB(var_smoothing=nb_var_smoothing)\n",
        "    naiveBayes_selection.fit(X_train, y_train)     \n",
        "\n",
        "    prediction_validation = naiveBayes_selection.predict(X_valid)\n",
        "    accuracy_validation = accuracy_score(y_valid, prediction_validation)\n",
        "\n",
        "    return accuracy_validation\n",
        "\n",
        "study_nb = optuna.create_study(direction=\"maximize\")\n",
        "study_nb.optimize(objective_naiveBayes, n_trials=50)\n",
        "print(study_nb.best_trial)"
      ],
      "execution_count": null,
      "outputs": []
    },
    {
      "cell_type": "code",
      "metadata": {
        "id": "B6zDH4ZrQsvL",
        "colab": {
          "base_uri": "https://localhost:8080/"
        },
        "outputId": "9415db86-1c09-4caf-d9e6-2a5b9cdabc36"
      },
      "source": [
        "print(study_nb.best_trial.value)\n",
        "print(study_nb.best_trial.params)"
      ],
      "execution_count": 61,
      "outputs": [
        {
          "output_type": "stream",
          "text": [
            "0.8934856437171966\n",
            "{'var_smoothing': 5.544667198090331e-06}\n"
          ],
          "name": "stdout"
        }
      ]
    },
    {
      "cell_type": "markdown",
      "metadata": {
        "id": "HM_16ifCYrDm"
      },
      "source": [
        "### MLP"
      ]
    },
    {
      "cell_type": "code",
      "metadata": {
        "id": "e7zPRGEyYvHu",
        "colab": {
          "base_uri": "https://localhost:8080/"
        },
        "outputId": "2261b8bb-ad86-4715-ffff-626396def106"
      },
      "source": [
        "def objective_MLP(trial):\n",
        "    layer_size = trial.suggest_int('hidden_layer_sizes', 10, 1000, 10)\n",
        "    activation = trial.suggest_categorical('activation', ['logistic', 'relu', 'tanh'])\n",
        "    solver = trial.suggest_categorical('solver', ['adam', 'sgd'])\n",
        "    mlp_selection = MLPClassifier(layer_size, activation=activation, solver=solver)\n",
        "    mlp_selection.fit(X_train, y_train)     \n",
        "\n",
        "    prediction_validation = mlp_selection.predict(X_valid)\n",
        "    accuracy_validation = accuracy_score(y_valid, prediction_validation)\n",
        "\n",
        "    return accuracy_validation\n",
        "\n",
        "study_mlp = optuna.create_study(direction=\"maximize\")\n",
        "study_mlp.optimize(objective_MLP, n_trials=50)\n",
        "print(study_mlp.best_trial)"
      ],
      "execution_count": 116,
      "outputs": [
        {
          "output_type": "stream",
          "text": [
            "\u001b[32m[I 2021-08-15 18:42:35,195]\u001b[0m A new study created in memory with name: no-name-dc5c6010-eb9f-4da4-94f4-31cf0c07be59\u001b[0m\n",
            "\u001b[32m[I 2021-08-15 18:42:41,212]\u001b[0m Trial 0 finished with value: 0.8471750540290213 and parameters: {'hidden_layer_sizes': 230, 'activation': 'relu', 'solver': 'adam'}. Best is trial 0 with value: 0.8471750540290213.\u001b[0m\n",
            "\u001b[32m[I 2021-08-15 18:42:46,035]\u001b[0m Trial 1 finished with value: 0.8672429762272307 and parameters: {'hidden_layer_sizes': 430, 'activation': 'logistic', 'solver': 'sgd'}. Best is trial 1 with value: 0.8672429762272307.\u001b[0m\n",
            "\u001b[32m[I 2021-08-15 18:42:53,116]\u001b[0m Trial 2 finished with value: 0.8511886384686632 and parameters: {'hidden_layer_sizes': 340, 'activation': 'relu', 'solver': 'adam'}. Best is trial 1 with value: 0.8672429762272307.\u001b[0m\n",
            "\u001b[32m[I 2021-08-15 18:42:55,892]\u001b[0m Trial 3 finished with value: 0.8672429762272307 and parameters: {'hidden_layer_sizes': 180, 'activation': 'logistic', 'solver': 'adam'}. Best is trial 1 with value: 0.8672429762272307.\u001b[0m\n",
            "\u001b[32m[I 2021-08-15 18:43:05,189]\u001b[0m Trial 4 finished with value: 0.8672429762272307 and parameters: {'hidden_layer_sizes': 800, 'activation': 'logistic', 'solver': 'adam'}. Best is trial 1 with value: 0.8672429762272307.\u001b[0m\n",
            "\u001b[32m[I 2021-08-15 18:43:11,847]\u001b[0m Trial 5 finished with value: 0.8481012658227848 and parameters: {'hidden_layer_sizes': 450, 'activation': 'relu', 'solver': 'adam'}. Best is trial 1 with value: 0.8672429762272307.\u001b[0m\n",
            "\u001b[32m[I 2021-08-15 18:43:16,144]\u001b[0m Trial 6 finished with value: 0.8607594936708861 and parameters: {'hidden_layer_sizes': 910, 'activation': 'relu', 'solver': 'adam'}. Best is trial 1 with value: 0.8672429762272307.\u001b[0m\n",
            "\u001b[32m[I 2021-08-15 18:43:22,009]\u001b[0m Trial 7 finished with value: 0.8673973448595246 and parameters: {'hidden_layer_sizes': 450, 'activation': 'tanh', 'solver': 'adam'}. Best is trial 7 with value: 0.8673973448595246.\u001b[0m\n",
            "\u001b[32m[I 2021-08-15 18:43:27,424]\u001b[0m Trial 8 finished with value: 0.8672429762272307 and parameters: {'hidden_layer_sizes': 530, 'activation': 'logistic', 'solver': 'sgd'}. Best is trial 7 with value: 0.8673973448595246.\u001b[0m\n",
            "\u001b[32m[I 2021-08-15 18:43:35,792]\u001b[0m Trial 9 finished with value: 0.8672429762272307 and parameters: {'hidden_layer_sizes': 790, 'activation': 'tanh', 'solver': 'sgd'}. Best is trial 7 with value: 0.8673973448595246.\u001b[0m\n",
            "\u001b[32m[I 2021-08-15 18:43:41,203]\u001b[0m Trial 10 finished with value: 0.8673973448595246 and parameters: {'hidden_layer_sizes': 660, 'activation': 'tanh', 'solver': 'adam'}. Best is trial 7 with value: 0.8673973448595246.\u001b[0m\n",
            "\u001b[32m[I 2021-08-15 18:43:47,317]\u001b[0m Trial 11 finished with value: 0.8672429762272307 and parameters: {'hidden_layer_sizes': 640, 'activation': 'tanh', 'solver': 'adam'}. Best is trial 7 with value: 0.8673973448595246.\u001b[0m\n",
            "\u001b[32m[I 2021-08-15 18:43:47,712]\u001b[0m Trial 12 finished with value: 0.8673973448595246 and parameters: {'hidden_layer_sizes': 30, 'activation': 'tanh', 'solver': 'adam'}. Best is trial 7 with value: 0.8673973448595246.\u001b[0m\n",
            "\u001b[32m[I 2021-08-15 18:43:53,982]\u001b[0m Trial 13 finished with value: 0.8672429762272307 and parameters: {'hidden_layer_sizes': 630, 'activation': 'tanh', 'solver': 'adam'}. Best is trial 7 with value: 0.8673973448595246.\u001b[0m\n",
            "\u001b[32m[I 2021-08-15 18:44:02,146]\u001b[0m Trial 14 finished with value: 0.8672429762272307 and parameters: {'hidden_layer_sizes': 650, 'activation': 'tanh', 'solver': 'adam'}. Best is trial 7 with value: 0.8673973448595246.\u001b[0m\n",
            "\u001b[32m[I 2021-08-15 18:44:17,551]\u001b[0m Trial 15 finished with value: 0.8672429762272307 and parameters: {'hidden_layer_sizes': 970, 'activation': 'tanh', 'solver': 'sgd'}. Best is trial 7 with value: 0.8673973448595246.\u001b[0m\n",
            "\u001b[32m[I 2021-08-15 18:44:20,607]\u001b[0m Trial 16 finished with value: 0.8672429762272307 and parameters: {'hidden_layer_sizes': 310, 'activation': 'tanh', 'solver': 'adam'}. Best is trial 7 with value: 0.8673973448595246.\u001b[0m\n",
            "\u001b[32m[I 2021-08-15 18:44:21,338]\u001b[0m Trial 17 finished with value: 0.8672429762272307 and parameters: {'hidden_layer_sizes': 50, 'activation': 'tanh', 'solver': 'adam'}. Best is trial 7 with value: 0.8673973448595246.\u001b[0m\n",
            "\u001b[32m[I 2021-08-15 18:44:21,628]\u001b[0m Trial 18 finished with value: 0.8672429762272307 and parameters: {'hidden_layer_sizes': 10, 'activation': 'tanh', 'solver': 'sgd'}. Best is trial 7 with value: 0.8673973448595246.\u001b[0m\n",
            "\u001b[32m[I 2021-08-15 18:44:22,865]\u001b[0m Trial 19 finished with value: 0.8673973448595246 and parameters: {'hidden_layer_sizes': 150, 'activation': 'tanh', 'solver': 'adam'}. Best is trial 7 with value: 0.8673973448595246.\u001b[0m\n",
            "\u001b[32m[I 2021-08-15 18:44:23,899]\u001b[0m Trial 20 finished with value: 0.8672429762272307 and parameters: {'hidden_layer_sizes': 110, 'activation': 'tanh', 'solver': 'adam'}. Best is trial 7 with value: 0.8673973448595246.\u001b[0m\n",
            "\u001b[32m[I 2021-08-15 18:44:29,047]\u001b[0m Trial 21 finished with value: 0.8672429762272307 and parameters: {'hidden_layer_sizes': 550, 'activation': 'tanh', 'solver': 'adam'}. Best is trial 7 with value: 0.8673973448595246.\u001b[0m\n",
            "\u001b[32m[I 2021-08-15 18:44:35,057]\u001b[0m Trial 22 finished with value: 0.8672429762272307 and parameters: {'hidden_layer_sizes': 790, 'activation': 'tanh', 'solver': 'adam'}. Best is trial 7 with value: 0.8673973448595246.\u001b[0m\n",
            "\u001b[32m[I 2021-08-15 18:44:41,561]\u001b[0m Trial 23 finished with value: 0.8673973448595246 and parameters: {'hidden_layer_sizes': 340, 'activation': 'tanh', 'solver': 'adam'}. Best is trial 7 with value: 0.8673973448595246.\u001b[0m\n",
            "\u001b[32m[I 2021-08-15 18:44:44,587]\u001b[0m Trial 24 finished with value: 0.8672429762272307 and parameters: {'hidden_layer_sizes': 300, 'activation': 'tanh', 'solver': 'adam'}. Best is trial 7 with value: 0.8673973448595246.\u001b[0m\n",
            "\u001b[32m[I 2021-08-15 18:44:45,866]\u001b[0m Trial 25 finished with value: 0.8672429762272307 and parameters: {'hidden_layer_sizes': 150, 'activation': 'tanh', 'solver': 'adam'}. Best is trial 7 with value: 0.8673973448595246.\u001b[0m\n",
            "\u001b[32m[I 2021-08-15 18:44:46,833]\u001b[0m Trial 26 finished with value: 0.8672429762272307 and parameters: {'hidden_layer_sizes': 90, 'activation': 'tanh', 'solver': 'sgd'}. Best is trial 7 with value: 0.8673973448595246.\u001b[0m\n",
            "\u001b[32m[I 2021-08-15 18:44:50,464]\u001b[0m Trial 27 finished with value: 0.8672429762272307 and parameters: {'hidden_layer_sizes': 400, 'activation': 'tanh', 'solver': 'adam'}. Best is trial 7 with value: 0.8673973448595246.\u001b[0m\n",
            "\u001b[32m[I 2021-08-15 18:44:55,626]\u001b[0m Trial 28 finished with value: 0.8672429762272307 and parameters: {'hidden_layer_sizes': 280, 'activation': 'logistic', 'solver': 'adam'}. Best is trial 7 with value: 0.8673973448595246.\u001b[0m\n",
            "\u001b[32m[I 2021-08-15 18:45:01,219]\u001b[0m Trial 29 finished with value: 0.8525779561593084 and parameters: {'hidden_layer_sizes': 180, 'activation': 'relu', 'solver': 'adam'}. Best is trial 7 with value: 0.8673973448595246.\u001b[0m\n",
            "\u001b[32m[I 2021-08-15 18:45:05,427]\u001b[0m Trial 30 finished with value: 0.849644952145724 and parameters: {'hidden_layer_sizes': 230, 'activation': 'relu', 'solver': 'adam'}. Best is trial 7 with value: 0.8673973448595246.\u001b[0m\n",
            "\u001b[32m[I 2021-08-15 18:45:14,186]\u001b[0m Trial 31 finished with value: 0.8672429762272307 and parameters: {'hidden_layer_sizes': 580, 'activation': 'tanh', 'solver': 'adam'}. Best is trial 7 with value: 0.8673973448595246.\u001b[0m\n",
            "\u001b[32m[I 2021-08-15 18:45:20,564]\u001b[0m Trial 32 finished with value: 0.8672429762272307 and parameters: {'hidden_layer_sizes': 480, 'activation': 'tanh', 'solver': 'adam'}. Best is trial 7 with value: 0.8673973448595246.\u001b[0m\n",
            "\u001b[32m[I 2021-08-15 18:45:27,088]\u001b[0m Trial 33 finished with value: 0.8672429762272307 and parameters: {'hidden_layer_sizes': 370, 'activation': 'tanh', 'solver': 'adam'}. Best is trial 7 with value: 0.8673973448595246.\u001b[0m\n",
            "\u001b[32m[I 2021-08-15 18:45:27,431]\u001b[0m Trial 34 finished with value: 0.8672429762272307 and parameters: {'hidden_layer_sizes': 10, 'activation': 'tanh', 'solver': 'adam'}. Best is trial 7 with value: 0.8673973448595246.\u001b[0m\n",
            "\u001b[32m[I 2021-08-15 18:45:34,757]\u001b[0m Trial 35 finished with value: 0.8673973448595246 and parameters: {'hidden_layer_sizes': 720, 'activation': 'logistic', 'solver': 'adam'}. Best is trial 7 with value: 0.8673973448595246.\u001b[0m\n",
            "\u001b[32m[I 2021-08-15 18:45:44,131]\u001b[0m Trial 36 finished with value: 0.8672429762272307 and parameters: {'hidden_layer_sizes': 730, 'activation': 'logistic', 'solver': 'sgd'}. Best is trial 7 with value: 0.8673973448595246.\u001b[0m\n",
            "\u001b[32m[I 2021-08-15 18:45:50,948]\u001b[0m Trial 37 finished with value: 0.8672429762272307 and parameters: {'hidden_layer_sizes': 490, 'activation': 'logistic', 'solver': 'adam'}. Best is trial 7 with value: 0.8673973448595246.\u001b[0m\n",
            "\u001b[32m[I 2021-08-15 18:45:54,469]\u001b[0m Trial 38 finished with value: 0.8672429762272307 and parameters: {'hidden_layer_sizes': 230, 'activation': 'logistic', 'solver': 'adam'}. Best is trial 7 with value: 0.8673973448595246.\u001b[0m\n",
            "\u001b[32m[I 2021-08-15 18:45:56,313]\u001b[0m Trial 39 finished with value: 0.8672429762272307 and parameters: {'hidden_layer_sizes': 160, 'activation': 'logistic', 'solver': 'adam'}. Best is trial 7 with value: 0.8673973448595246.\u001b[0m\n",
            "\u001b[32m[I 2021-08-15 18:46:01,496]\u001b[0m Trial 40 finished with value: 0.8672429762272307 and parameters: {'hidden_layer_sizes': 430, 'activation': 'logistic', 'solver': 'sgd'}. Best is trial 7 with value: 0.8673973448595246.\u001b[0m\n",
            "\u001b[32m[I 2021-08-15 18:46:14,656]\u001b[0m Trial 41 finished with value: 0.8460944736029639 and parameters: {'hidden_layer_sizes': 870, 'activation': 'relu', 'solver': 'adam'}. Best is trial 7 with value: 0.8673973448595246.\u001b[0m\n",
            "\u001b[32m[I 2021-08-15 18:46:17,719]\u001b[0m Trial 42 finished with value: 0.8672429762272307 and parameters: {'hidden_layer_sizes': 240, 'activation': 'logistic', 'solver': 'adam'}. Best is trial 7 with value: 0.8673973448595246.\u001b[0m\n",
            "\u001b[32m[I 2021-08-15 18:46:23,360]\u001b[0m Trial 43 finished with value: 0.8673973448595246 and parameters: {'hidden_layer_sizes': 720, 'activation': 'tanh', 'solver': 'adam'}. Best is trial 7 with value: 0.8673973448595246.\u001b[0m\n",
            "\u001b[32m[I 2021-08-15 18:46:27,631]\u001b[0m Trial 44 finished with value: 0.8673973448595246 and parameters: {'hidden_layer_sizes': 370, 'activation': 'tanh', 'solver': 'adam'}. Best is trial 7 with value: 0.8673973448595246.\u001b[0m\n",
            "\u001b[32m[I 2021-08-15 18:46:28,556]\u001b[0m Trial 45 finished with value: 0.8673973448595246 and parameters: {'hidden_layer_sizes': 90, 'activation': 'tanh', 'solver': 'adam'}. Best is trial 7 with value: 0.8673973448595246.\u001b[0m\n",
            "\u001b[32m[I 2021-08-15 18:46:29,520]\u001b[0m Trial 46 finished with value: 0.8673973448595246 and parameters: {'hidden_layer_sizes': 80, 'activation': 'tanh', 'solver': 'adam'}. Best is trial 7 with value: 0.8673973448595246.\u001b[0m\n",
            "\u001b[32m[I 2021-08-15 18:46:43,749]\u001b[0m Trial 47 finished with value: 0.8726458783575177 and parameters: {'hidden_layer_sizes': 730, 'activation': 'relu', 'solver': 'adam'}. Best is trial 47 with value: 0.8726458783575177.\u001b[0m\n",
            "\u001b[32m[I 2021-08-15 18:46:57,251]\u001b[0m Trial 48 finished with value: 0.5486261191725841 and parameters: {'hidden_layer_sizes': 720, 'activation': 'relu', 'solver': 'adam'}. Best is trial 47 with value: 0.8726458783575177.\u001b[0m\n",
            "\u001b[32m[I 2021-08-15 18:47:08,676]\u001b[0m Trial 49 finished with value: 0.5754862611917259 and parameters: {'hidden_layer_sizes': 870, 'activation': 'relu', 'solver': 'adam'}. Best is trial 47 with value: 0.8726458783575177.\u001b[0m\n"
          ],
          "name": "stderr"
        },
        {
          "output_type": "stream",
          "text": [
            "FrozenTrial(number=47, values=[0.8726458783575177], datetime_start=datetime.datetime(2021, 8, 15, 18, 46, 29, 522399), datetime_complete=datetime.datetime(2021, 8, 15, 18, 46, 43, 748545), params={'hidden_layer_sizes': 730, 'activation': 'relu', 'solver': 'adam'}, distributions={'hidden_layer_sizes': IntUniformDistribution(high=1000, low=10, step=10), 'activation': CategoricalDistribution(choices=('logistic', 'relu', 'tanh')), 'solver': CategoricalDistribution(choices=('adam', 'sgd'))}, user_attrs={}, system_attrs={}, intermediate_values={}, trial_id=47, state=TrialState.COMPLETE, value=None)\n"
          ],
          "name": "stdout"
        }
      ]
    },
    {
      "cell_type": "code",
      "metadata": {
        "id": "7FbY8v8QY1jF",
        "colab": {
          "base_uri": "https://localhost:8080/"
        },
        "outputId": "d43911a7-909d-47a1-d87e-25b3c070742c"
      },
      "source": [
        "print(study_mlp.best_trial.value)\n",
        "print(study_mlp.best_trial.params)"
      ],
      "execution_count": 117,
      "outputs": [
        {
          "output_type": "stream",
          "text": [
            "0.8726458783575177\n",
            "{'hidden_layer_sizes': 730, 'activation': 'relu', 'solver': 'adam'}\n"
          ],
          "name": "stdout"
        }
      ]
    },
    {
      "cell_type": "markdown",
      "metadata": {
        "id": "4eUNxuzEwjgX"
      },
      "source": [
        "## Diagnóstico de melhor modelo\n",
        "\n",
        "Após os testes realizados com o Random Forest, Decision Tree, Naive Bayes e MLP, encontramos que o algoritmo que melhor resultado obeteve foi blabla.\n"
      ]
    },
    {
      "cell_type": "code",
      "metadata": {
        "id": "De_chRehwnj_"
      },
      "source": [
        "## heatmap"
      ],
      "execution_count": null,
      "outputs": []
    },
    {
      "cell_type": "markdown",
      "metadata": {
        "id": "0gu_jbbCdpme"
      },
      "source": [
        "## Feature importance\n",
        "\n",
        "Verificamos o nível de relevância das colunas do dataset."
      ]
    },
    {
      "cell_type": "markdown",
      "metadata": {
        "id": "u2dT-3xlIFBU"
      },
      "source": [
        "# **MLP**"
      ]
    },
    {
      "cell_type": "code",
      "metadata": {
        "id": "twRVnMvKIHyq",
        "colab": {
          "base_uri": "https://localhost:8080/"
        },
        "outputId": "f6d5a1e0-3d70-466e-d287-1dd1b9e65677"
      },
      "source": [
        "import tensorflow\n",
        "from tensorflow import keras\n",
        "from tensorflow.keras import layers, optimizers, metrics, activations\n",
        "from keras.callbacks import EarlyStopping\n",
        "\n",
        "resolver = tensorflow.distribute.cluster_resolver.TPUClusterResolver(tpu='')\n",
        "tensorflow.config.experimental_connect_to_cluster(resolver)\n",
        "# This is the TPU initialization code that has to be at the beginning.\n",
        "tensorflow.tpu.experimental.initialize_tpu_system(resolver)\n",
        "print(\"All devices: \", tensorflow.config.list_logical_devices('TPU'))"
      ],
      "execution_count": 64,
      "outputs": [
        {
          "output_type": "stream",
          "text": [
            "WARNING:tensorflow:TPU system grpc://10.81.251.98:8470 has already been initialized. Reinitializing the TPU can cause previously created variables on TPU to be lost.\n"
          ],
          "name": "stdout"
        },
        {
          "output_type": "stream",
          "text": [
            "WARNING:tensorflow:TPU system grpc://10.81.251.98:8470 has already been initialized. Reinitializing the TPU can cause previously created variables on TPU to be lost.\n"
          ],
          "name": "stderr"
        },
        {
          "output_type": "stream",
          "text": [
            "INFO:tensorflow:Initializing the TPU system: grpc://10.81.251.98:8470\n"
          ],
          "name": "stdout"
        },
        {
          "output_type": "stream",
          "text": [
            "INFO:tensorflow:Initializing the TPU system: grpc://10.81.251.98:8470\n"
          ],
          "name": "stderr"
        },
        {
          "output_type": "stream",
          "text": [
            "INFO:tensorflow:Clearing out eager caches\n"
          ],
          "name": "stdout"
        },
        {
          "output_type": "stream",
          "text": [
            "INFO:tensorflow:Clearing out eager caches\n"
          ],
          "name": "stderr"
        },
        {
          "output_type": "stream",
          "text": [
            "INFO:tensorflow:Finished initializing TPU system.\n"
          ],
          "name": "stdout"
        },
        {
          "output_type": "stream",
          "text": [
            "INFO:tensorflow:Finished initializing TPU system.\n"
          ],
          "name": "stderr"
        },
        {
          "output_type": "stream",
          "text": [
            "All devices:  [LogicalDevice(name='/job:worker/replica:0/task:0/device:TPU:7', device_type='TPU'), LogicalDevice(name='/job:worker/replica:0/task:0/device:TPU:6', device_type='TPU'), LogicalDevice(name='/job:worker/replica:0/task:0/device:TPU:5', device_type='TPU'), LogicalDevice(name='/job:worker/replica:0/task:0/device:TPU:4', device_type='TPU'), LogicalDevice(name='/job:worker/replica:0/task:0/device:TPU:3', device_type='TPU'), LogicalDevice(name='/job:worker/replica:0/task:0/device:TPU:0', device_type='TPU'), LogicalDevice(name='/job:worker/replica:0/task:0/device:TPU:1', device_type='TPU'), LogicalDevice(name='/job:worker/replica:0/task:0/device:TPU:2', device_type='TPU')]\n"
          ],
          "name": "stdout"
        }
      ]
    },
    {
      "cell_type": "code",
      "metadata": {
        "id": "XyRk_bsjIezt"
      },
      "source": [
        "def MLP(input_shape):\n",
        "    curve = activations.sigmoid\n",
        "    model = keras.Sequential(\n",
        "        [\n",
        "            layers.InputLayer(input_shape),\n",
        "            layers.Dense(input_shape, activation=curve),\n",
        "            layers.Dense(input_shape, activation=curve),\n",
        "            layers.Dropout(0.1),\n",
        "            layers.Dense(input_shape, activation=curve),\n",
        "            layers.Dense(1, activation=activations.softmax)\n",
        "        ]\n",
        "    )\n",
        "    model.compile(loss=\"mean_squared_error\", optimizer=optimizers.SGD(learning_rate=1), metrics=[metrics.Accuracy(), metrics.Recall(), metrics.Precision()], steps_per_execution=50)\n",
        "\n",
        "    return model"
      ],
      "execution_count": 108,
      "outputs": []
    },
    {
      "cell_type": "code",
      "metadata": {
        "colab": {
          "base_uri": "https://localhost:8080/"
        },
        "id": "D6bq9AIKzrHC",
        "outputId": "bceefa90-ac30-4351-d955-5a199729fa2b"
      },
      "source": [
        "mlp = MLP(X_train.shape[1])\n",
        "mlp.fit(X_train, y_train, batch_size=100, epochs=1000, callbacks=[EarlyStopping(patience=10)], validation_data=(X_valid, y_valid))\n",
        "mlp.evaluate(X_test, y_test, batch_size=100)"
      ],
      "execution_count": 109,
      "outputs": [
        {
          "output_type": "stream",
          "text": [
            "Epoch 1/1000\n",
            "130/130 [==============================] - 2s 17ms/step - loss: 0.2438 - accuracy: 0.7562 - recall_4: 1.0000 - precision_4: 1.0000 - val_loss: 0.1328 - val_accuracy: 0.8672 - val_recall_4: 1.0000 - val_precision_4: 1.0000\n",
            "Epoch 2/1000\n",
            "130/130 [==============================] - 0s 939us/step - loss: 0.2438 - accuracy: 0.7562 - recall_4: 1.0000 - precision_4: 1.0000 - val_loss: 0.1328 - val_accuracy: 0.8672 - val_recall_4: 1.0000 - val_precision_4: 1.0000\n",
            "Epoch 3/1000\n",
            "130/130 [==============================] - 0s 977us/step - loss: 0.2438 - accuracy: 0.7562 - recall_4: 1.0000 - precision_4: 1.0000 - val_loss: 0.1328 - val_accuracy: 0.8672 - val_recall_4: 1.0000 - val_precision_4: 1.0000\n",
            "Epoch 4/1000\n",
            "130/130 [==============================] - 0s 961us/step - loss: 0.2438 - accuracy: 0.7562 - recall_4: 1.0000 - precision_4: 1.0000 - val_loss: 0.1328 - val_accuracy: 0.8672 - val_recall_4: 1.0000 - val_precision_4: 1.0000\n",
            "Epoch 5/1000\n",
            "130/130 [==============================] - 0s 929us/step - loss: 0.2438 - accuracy: 0.7562 - recall_4: 1.0000 - precision_4: 1.0000 - val_loss: 0.1328 - val_accuracy: 0.8672 - val_recall_4: 1.0000 - val_precision_4: 1.0000\n",
            "Epoch 6/1000\n",
            "130/130 [==============================] - 0s 874us/step - loss: 0.2438 - accuracy: 0.7562 - recall_4: 1.0000 - precision_4: 1.0000 - val_loss: 0.1328 - val_accuracy: 0.8672 - val_recall_4: 1.0000 - val_precision_4: 1.0000\n",
            "Epoch 7/1000\n",
            "130/130 [==============================] - 0s 921us/step - loss: 0.2438 - accuracy: 0.7562 - recall_4: 1.0000 - precision_4: 1.0000 - val_loss: 0.1328 - val_accuracy: 0.8672 - val_recall_4: 1.0000 - val_precision_4: 1.0000\n",
            "Epoch 8/1000\n",
            "130/130 [==============================] - 0s 922us/step - loss: 0.2438 - accuracy: 0.7562 - recall_4: 1.0000 - precision_4: 1.0000 - val_loss: 0.1328 - val_accuracy: 0.8672 - val_recall_4: 1.0000 - val_precision_4: 1.0000\n",
            "Epoch 9/1000\n",
            "130/130 [==============================] - 0s 894us/step - loss: 0.2438 - accuracy: 0.7562 - recall_4: 1.0000 - precision_4: 1.0000 - val_loss: 0.1328 - val_accuracy: 0.8672 - val_recall_4: 1.0000 - val_precision_4: 1.0000\n",
            "Epoch 10/1000\n",
            "130/130 [==============================] - 0s 873us/step - loss: 0.2438 - accuracy: 0.7562 - recall_4: 1.0000 - precision_4: 1.0000 - val_loss: 0.1328 - val_accuracy: 0.8672 - val_recall_4: 1.0000 - val_precision_4: 1.0000\n",
            "Epoch 11/1000\n",
            "130/130 [==============================] - 0s 874us/step - loss: 0.2438 - accuracy: 0.7562 - recall_4: 1.0000 - precision_4: 1.0000 - val_loss: 0.1328 - val_accuracy: 0.8672 - val_recall_4: 1.0000 - val_precision_4: 1.0000\n",
            "65/65 [==============================] - 0s 1ms/step - loss: 0.0982 - accuracy: 0.9018 - recall_4: 1.0000 - precision_4: 1.0000\n"
          ],
          "name": "stdout"
        },
        {
          "output_type": "execute_result",
          "data": {
            "text/plain": [
              "[0.09816329926252365, 0.9018366932868958, 1.0, 1.0]"
            ]
          },
          "metadata": {
            "tags": []
          },
          "execution_count": 109
        }
      ]
    }
  ]
}