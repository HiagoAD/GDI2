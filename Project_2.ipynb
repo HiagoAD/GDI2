{
  "nbformat": 4,
  "nbformat_minor": 0,
  "metadata": {
    "colab": {
      "name": "Project_2.ipynb",
      "provenance": [],
      "collapsed_sections": [],
      "include_colab_link": true
    },
    "kernelspec": {
      "name": "python3",
      "display_name": "Python 3"
    },
    "language_info": {
      "name": "python"
    },
    "accelerator": "TPU"
  },
  "cells": [
    {
      "cell_type": "markdown",
      "metadata": {
        "id": "view-in-github",
        "colab_type": "text"
      },
      "source": [
        "<a href=\"https://colab.research.google.com/github/HiagoAD/GDI2/blob/master/Project_2.ipynb\" target=\"_parent\"><img src=\"https://colab.research.google.com/assets/colab-badge.svg\" alt=\"Open In Colab\"/></a>"
      ]
    },
    {
      "cell_type": "code",
      "metadata": {
        "id": "qvSv-z8qYhrz"
      },
      "source": [
        "import numpy as np\n",
        "import pandas as pd\n",
        "from scipy import stats\n",
        "import seaborn as sns\n",
        "import matplotlib.pyplot as plt\n",
        "\n",
        "from sklearn.tree import DecisionTreeClassifier\n",
        "from sklearn.ensemble import RandomForestClassifier\n",
        "from sklearn.svm import SVC\n",
        "from sklearn.model_selection import train_test_split, cross_val_score\n",
        "from sklearn.naive_bayes import GaussianNB\n",
        "from sklearn.metrics import accuracy_score, confusion_matrix, roc_auc_score\n",
        "from sklearn.neighbors import KNeighborsClassifier\n",
        "from sklearn.neural_network import MLPClassifier"
      ],
      "execution_count": 1,
      "outputs": []
    },
    {
      "cell_type": "markdown",
      "metadata": {
        "id": "j7slQpPpsLN1"
      },
      "source": [
        "## Load datasets\n"
      ]
    },
    {
      "cell_type": "code",
      "metadata": {
        "id": "6HGU6r7p7T_t",
        "colab": {
          "base_uri": "https://localhost:8080/"
        },
        "outputId": "89f09d6c-49ac-4d41-de3e-d23c34a190b6"
      },
      "source": [
        "dengue = pd.read_csv(\"https://raw.githubusercontent.com/HiagoAD/GDI2/master/datasets/dengue2020.csv\", encoding =\"UTF-8\")\n",
        "emlurb = pd.read_csv(\"https://raw.githubusercontent.com/HiagoAD/GDI2/master/datasets/emlurb2020.csv\", encoding =\"UTF-8\")\n",
        "\n",
        "dengue19 = pd.read_csv(\"https://raw.githubusercontent.com/HiagoAD/GDI2/master/datasets/dengue2019.csv\", encoding =\"UTF-8\", error_bad_lines=False)\n",
        "emlurb19 = pd.read_csv(\"https://raw.githubusercontent.com/HiagoAD/GDI2/master/datasets/emlurb2019.csv\", encoding =\"UTF-8\")\n",
        "\n",
        "dengue18 = pd.read_csv(\"https://raw.githubusercontent.com/HiagoAD/GDI2/master/datasets/dengue2018.csv\", encoding =\"UTF-8\", error_bad_lines=False)\n",
        "emlurb18 = pd.read_csv(\"https://raw.githubusercontent.com/HiagoAD/GDI2/master/datasets/emlurb2018.csv\", encoding =\"UTF-8\")\n",
        "\n",
        "dengue17 = pd.read_csv(\"https://raw.githubusercontent.com/HiagoAD/GDI2/master/datasets/dengue2017.csv\", encoding =\"UTF-8\", error_bad_lines=False)\n",
        "emlurb17 = pd.read_csv(\"https://raw.githubusercontent.com/HiagoAD/GDI2/master/datasets/emlurb2017.csv\", encoding =\"UTF-8\")\n",
        "\n",
        "dengue16 = pd.read_csv(\"https://raw.githubusercontent.com/HiagoAD/GDI2/master/datasets/dengue2016.csv\", encoding =\"UTF-8\", error_bad_lines=False)\n",
        "emlurb16 = pd.read_csv(\"https://raw.githubusercontent.com/HiagoAD/GDI2/master/datasets/emlurb2016.csv\", encoding =\"UTF-8\")\n"
      ],
      "execution_count": 2,
      "outputs": [
        {
          "output_type": "stream",
          "text": [
            "b'Skipping line 108: expected 126 fields, saw 127\\nSkipping line 1485: expected 126 fields, saw 127\\nSkipping line 2584: expected 126 fields, saw 127\\nSkipping line 4415: expected 126 fields, saw 127\\nSkipping line 5659: expected 126 fields, saw 127\\nSkipping line 6469: expected 126 fields, saw 127\\n'\n",
            "/usr/local/lib/python3.7/dist-packages/IPython/core/interactiveshell.py:2718: DtypeWarning: Columns (8) have mixed types.Specify dtype option on import or set low_memory=False.\n",
            "  interactivity=interactivity, compiler=compiler, result=result)\n",
            "/usr/local/lib/python3.7/dist-packages/IPython/core/interactiveshell.py:2718: DtypeWarning: Columns (55,113) have mixed types.Specify dtype option on import or set low_memory=False.\n",
            "  interactivity=interactivity, compiler=compiler, result=result)\n"
          ],
          "name": "stderr"
        }
      ]
    },
    {
      "cell_type": "markdown",
      "metadata": {
        "id": "eIomzXQIQkgW"
      },
      "source": [
        "## Dados de 2020 - 2016\n",
        "\n",
        "\n",
        "Iremos fazer os mesmos tratamentos anteriores para os dados de 2019 até 2016."
      ]
    },
    {
      "cell_type": "code",
      "metadata": {
        "id": "30I8GCQLQn_S",
        "colab": {
          "base_uri": "https://localhost:8080/",
          "height": 414
        },
        "outputId": "fc157eac-5636-49d7-8e8b-8258f158e71d"
      },
      "source": [
        "# Dados Dengue\n",
        "\n",
        "merge_dengue = dengue.append([dengue19,dengue18,dengue17,dengue16], ignore_index = True)\n",
        "merge_dengue = merge_dengue[[\"febre\", \"mialgia\",'vomito', \"dt_notificacao\",'nu_idade','nausea','cefaleia','dor_costas','diabetes','renal']]\n",
        "merge_dengue['dt_notificacao'] = pd.to_datetime(merge_dengue['dt_notificacao'])\n",
        "\n",
        "# Agrupamos por número de casos por dia\n",
        "\n",
        "#merge_dengue = merge_dengue.groupby([pd.Grouper(key=\"dt_notificacao\", freq=\"D\")]).size().reset_index(name=\"CASOS_DENGUE\")\n",
        "\n",
        "\n",
        "# Dados Emlurb\n",
        "\n",
        "merge_emlurb = emlurb.append([emlurb19,emlurb18,emlurb17,emlurb16], ignore_index = True)\n",
        "merge_emlurb = merge_emlurb[[\"GRUPOSERVICO_CODIGO\", \"DATA_DEMANDA\"]]\n",
        "merge_emlurb = merge_emlurb[(merge_emlurb.GRUPOSERVICO_CODIGO == 11)]\n",
        "merge_emlurb[\"DATA_DEMANDA\"] = pd.to_datetime(merge_emlurb[\"DATA_DEMANDA\"],errors='coerce')\n",
        "\n",
        "# Agrupamos por número de solicitações por dia\n",
        "\n",
        "#merge_emlurb = merge_emlurb.groupby([pd.Grouper(key=\"DATA_DEMANDA\", freq=\"D\")]).size().reset_index(name=\"CHAMAD0S_EMLURB\")\n",
        "\n",
        "#year_filter = merge_emlurb[(merge_emlurb['DATA_DEMANDA'].dt.year == 2018)]\n",
        "\n",
        "\n",
        "merge_dengue = merge_dengue.dropna()\n",
        "merge_dengue['febre'] = merge_dengue['febre'].astype('int')\n",
        "merge_dengue['mialgia'] = merge_dengue['mialgia'].astype('int')\n",
        "merge_dengue['vomito'] = merge_dengue['vomito'].astype('int')\n",
        "merge_dengue['nausea'] = merge_dengue['nausea'].astype('int')\n",
        "merge_dengue['cefaleia'] = merge_dengue['cefaleia'].astype('int')\n",
        "merge_dengue['dor_costas'] = merge_dengue['dor_costas'].astype('int')\n",
        "merge_dengue['diabetes'] = merge_dengue['diabetes'].astype('int')\n",
        "merge_dengue['renal'] = merge_dengue['renal'].astype('int')\n",
        "merge_dengue"
      ],
      "execution_count": 3,
      "outputs": [
        {
          "output_type": "execute_result",
          "data": {
            "text/html": [
              "<div>\n",
              "<style scoped>\n",
              "    .dataframe tbody tr th:only-of-type {\n",
              "        vertical-align: middle;\n",
              "    }\n",
              "\n",
              "    .dataframe tbody tr th {\n",
              "        vertical-align: top;\n",
              "    }\n",
              "\n",
              "    .dataframe thead th {\n",
              "        text-align: right;\n",
              "    }\n",
              "</style>\n",
              "<table border=\"1\" class=\"dataframe\">\n",
              "  <thead>\n",
              "    <tr style=\"text-align: right;\">\n",
              "      <th></th>\n",
              "      <th>febre</th>\n",
              "      <th>mialgia</th>\n",
              "      <th>vomito</th>\n",
              "      <th>dt_notificacao</th>\n",
              "      <th>nu_idade</th>\n",
              "      <th>nausea</th>\n",
              "      <th>cefaleia</th>\n",
              "      <th>dor_costas</th>\n",
              "      <th>diabetes</th>\n",
              "      <th>renal</th>\n",
              "    </tr>\n",
              "  </thead>\n",
              "  <tbody>\n",
              "    <tr>\n",
              "      <th>0</th>\n",
              "      <td>1</td>\n",
              "      <td>1</td>\n",
              "      <td>2</td>\n",
              "      <td>2020-06-26</td>\n",
              "      <td>2021</td>\n",
              "      <td>2</td>\n",
              "      <td>1</td>\n",
              "      <td>2</td>\n",
              "      <td>2</td>\n",
              "      <td>2</td>\n",
              "    </tr>\n",
              "    <tr>\n",
              "      <th>1</th>\n",
              "      <td>2</td>\n",
              "      <td>2</td>\n",
              "      <td>2</td>\n",
              "      <td>2020-06-22</td>\n",
              "      <td>2001</td>\n",
              "      <td>2</td>\n",
              "      <td>2</td>\n",
              "      <td>2</td>\n",
              "      <td>2</td>\n",
              "      <td>2</td>\n",
              "    </tr>\n",
              "    <tr>\n",
              "      <th>2</th>\n",
              "      <td>1</td>\n",
              "      <td>1</td>\n",
              "      <td>1</td>\n",
              "      <td>2020-01-09</td>\n",
              "      <td>4029</td>\n",
              "      <td>1</td>\n",
              "      <td>1</td>\n",
              "      <td>2</td>\n",
              "      <td>2</td>\n",
              "      <td>2</td>\n",
              "    </tr>\n",
              "    <tr>\n",
              "      <th>3</th>\n",
              "      <td>1</td>\n",
              "      <td>1</td>\n",
              "      <td>2</td>\n",
              "      <td>2020-01-03</td>\n",
              "      <td>4039</td>\n",
              "      <td>2</td>\n",
              "      <td>2</td>\n",
              "      <td>2</td>\n",
              "      <td>2</td>\n",
              "      <td>2</td>\n",
              "    </tr>\n",
              "    <tr>\n",
              "      <th>4</th>\n",
              "      <td>2</td>\n",
              "      <td>1</td>\n",
              "      <td>1</td>\n",
              "      <td>2020-01-13</td>\n",
              "      <td>4062</td>\n",
              "      <td>1</td>\n",
              "      <td>2</td>\n",
              "      <td>2</td>\n",
              "      <td>2</td>\n",
              "      <td>2</td>\n",
              "    </tr>\n",
              "    <tr>\n",
              "      <th>...</th>\n",
              "      <td>...</td>\n",
              "      <td>...</td>\n",
              "      <td>...</td>\n",
              "      <td>...</td>\n",
              "      <td>...</td>\n",
              "      <td>...</td>\n",
              "      <td>...</td>\n",
              "      <td>...</td>\n",
              "      <td>...</td>\n",
              "      <td>...</td>\n",
              "    </tr>\n",
              "    <tr>\n",
              "      <th>32059</th>\n",
              "      <td>1</td>\n",
              "      <td>1</td>\n",
              "      <td>2</td>\n",
              "      <td>2016-12-29</td>\n",
              "      <td>4019</td>\n",
              "      <td>2</td>\n",
              "      <td>1</td>\n",
              "      <td>2</td>\n",
              "      <td>2</td>\n",
              "      <td>2</td>\n",
              "    </tr>\n",
              "    <tr>\n",
              "      <th>32060</th>\n",
              "      <td>1</td>\n",
              "      <td>2</td>\n",
              "      <td>2</td>\n",
              "      <td>2017-01-09</td>\n",
              "      <td>4031</td>\n",
              "      <td>2</td>\n",
              "      <td>1</td>\n",
              "      <td>2</td>\n",
              "      <td>2</td>\n",
              "      <td>2</td>\n",
              "    </tr>\n",
              "    <tr>\n",
              "      <th>32061</th>\n",
              "      <td>1</td>\n",
              "      <td>1</td>\n",
              "      <td>2</td>\n",
              "      <td>2017-01-02</td>\n",
              "      <td>4016</td>\n",
              "      <td>2</td>\n",
              "      <td>1</td>\n",
              "      <td>2</td>\n",
              "      <td>2</td>\n",
              "      <td>2</td>\n",
              "    </tr>\n",
              "    <tr>\n",
              "      <th>32062</th>\n",
              "      <td>1</td>\n",
              "      <td>2</td>\n",
              "      <td>2</td>\n",
              "      <td>2016-12-27</td>\n",
              "      <td>2010</td>\n",
              "      <td>2</td>\n",
              "      <td>2</td>\n",
              "      <td>2</td>\n",
              "      <td>2</td>\n",
              "      <td>2</td>\n",
              "    </tr>\n",
              "    <tr>\n",
              "      <th>32063</th>\n",
              "      <td>2</td>\n",
              "      <td>1</td>\n",
              "      <td>2</td>\n",
              "      <td>2017-02-06</td>\n",
              "      <td>4021</td>\n",
              "      <td>2</td>\n",
              "      <td>1</td>\n",
              "      <td>2</td>\n",
              "      <td>2</td>\n",
              "      <td>2</td>\n",
              "    </tr>\n",
              "  </tbody>\n",
              "</table>\n",
              "<p>25913 rows × 10 columns</p>\n",
              "</div>"
            ],
            "text/plain": [
              "       febre  mialgia  vomito  ... dor_costas  diabetes  renal\n",
              "0          1        1       2  ...          2         2      2\n",
              "1          2        2       2  ...          2         2      2\n",
              "2          1        1       1  ...          2         2      2\n",
              "3          1        1       2  ...          2         2      2\n",
              "4          2        1       1  ...          2         2      2\n",
              "...      ...      ...     ...  ...        ...       ...    ...\n",
              "32059      1        1       2  ...          2         2      2\n",
              "32060      1        2       2  ...          2         2      2\n",
              "32061      1        1       2  ...          2         2      2\n",
              "32062      1        2       2  ...          2         2      2\n",
              "32063      2        1       2  ...          2         2      2\n",
              "\n",
              "[25913 rows x 10 columns]"
            ]
          },
          "metadata": {
            "tags": []
          },
          "execution_count": 3
        }
      ]
    },
    {
      "cell_type": "markdown",
      "metadata": {
        "id": "lS7-iA53qFvv"
      },
      "source": [
        "## Feature de predição\n",
        "\n",
        "1.   Número de casos de dengue por dia.\n",
        "2.   Número de solicitações de drenagem por dia.\n",
        "\n"
      ]
    },
    {
      "cell_type": "markdown",
      "metadata": {
        "id": "uuyRRD5LrM_N"
      },
      "source": [
        "## Separação de dados: Treino, Validação e Teste\n",
        "\n",
        "Texto."
      ]
    },
    {
      "cell_type": "code",
      "metadata": {
        "id": "iz0VMrj9SQ7v"
      },
      "source": [
        "def split_values(df, column_name):\n",
        "  X = df.drop(columns=[column_name,'dt_notificacao']).values\n",
        "  y = df[column_name].values\n",
        "\n",
        "  return X, y"
      ],
      "execution_count": 4,
      "outputs": []
    },
    {
      "cell_type": "code",
      "metadata": {
        "id": "i941ZX3x_zrH"
      },
      "source": [
        "features_results = merge_dengue.drop(columns=['febre','dt_notificacao']).values\n",
        "labels_results = merge_dengue['febre'].values\n",
        "\n",
        "feature_train, feature_test, label_train, label_test = train_test_split(features_results, labels_results, test_size=0.2,random_state=1)\n",
        "feature_train, feature_validation, label_train, label_validation =  train_test_split(feature_train, label_train, test_size=0.25,random_state=1)"
      ],
      "execution_count": 26,
      "outputs": []
    },
    {
      "cell_type": "code",
      "metadata": {
        "id": "uSWTzBPhZtvX"
      },
      "source": [
        "train, validation, test = np.split(merge_dengue.sample(frac=1, random_state=42), [int(.6*len(merge_dengue)), int(.8*len(merge_dengue))])\n",
        "\n",
        "column_name = 'febre'\n",
        "\n",
        "X_train, y_train = split_values(train, column_name)\n",
        "X_valid, y_valid = split_values(validation, column_name)\n",
        "X_test,  y_test  = split_values(test, column_name)"
      ],
      "execution_count": 21,
      "outputs": []
    },
    {
      "cell_type": "code",
      "metadata": {
        "id": "Q8S8UimEc9tP",
        "colab": {
          "base_uri": "https://localhost:8080/"
        },
        "outputId": "138a6aea-dadf-46db-affa-aa8d916d4bc2"
      },
      "source": [
        "print(X_train.shape)\n",
        "print(X_test.shape)\n",
        "print(X_valid.shape)"
      ],
      "execution_count": 22,
      "outputs": [
        {
          "output_type": "stream",
          "text": [
            "(15547, 8)\n",
            "(5183, 8)\n",
            "(5183, 8)\n"
          ],
          "name": "stdout"
        }
      ]
    },
    {
      "cell_type": "markdown",
      "metadata": {
        "id": "TD9pFirere46"
      },
      "source": [
        "## Escolha de Algoritmos\n",
        "\n",
        "*   Decision Tree\n",
        "*   Random Forest\n",
        "*   Naive Bayes\n",
        "*   MLP\n",
        "*   KNN\n",
        "\n"
      ]
    },
    {
      "cell_type": "code",
      "metadata": {
        "id": "ZPPTtX4wiaQb"
      },
      "source": [
        "decision_tree = DecisionTreeClassifier()\n",
        "random_forest = RandomForestClassifier()\n",
        "naive_bayes   = GaussianNB()\n",
        "ml_perceptron = MLPClassifier()\n",
        "\n",
        "decision_tree.fit(X_train, y_train)\n",
        "y_decision_tree_train = decision_tree.predict(X_train)\n",
        "y_decision_tree_test  = decision_tree.predict(X_test)\n",
        "\n",
        "random_forest.fit(X_train, y_train)\n",
        "y_random_forest_train = random_forest.predict(X_train)\n",
        "y_random_forest_test  = random_forest.predict(X_test)\n",
        "\n",
        "naive_bayes.fit(X_train, y_train)\n",
        "y_naive_bayes_train = naive_bayes.predict(X_train)\n",
        "y_naive_bayes_test  = naive_bayes.predict(X_test)\n",
        "\n",
        "ml_perceptron.fit(X_train, y_train)\n",
        "y_ml_perceptron_train = ml_perceptron.predict(X_train)\n",
        "y_ml_perceptron_test  = ml_perceptron.predict(X_test)"
      ],
      "execution_count": 29,
      "outputs": []
    },
    {
      "cell_type": "code",
      "metadata": {
        "colab": {
          "base_uri": "https://localhost:8080/"
        },
        "id": "ZiLtX5Vtl5UQ",
        "outputId": "59c3ca64-4318-4959-ba8a-f7ee0fc25006"
      },
      "source": [
        "print(\"=== Precisão Testes === \\n\\n\")\n",
        "\n",
        "print(\"Precisão Decision Tree:\", accuracy_score(y_test, y_decision_tree_test))\n",
        "print(\"Precisão Random Forest:\", accuracy_score(y_test, y_random_forest_test))\n",
        "print(\"Precisão Naive Bayes:\" , accuracy_score(y_test, y_naive_bayes_test))\n",
        "print(\"Precisão MLP: \", accuracy_score(y_test, y_ml_perceptron_test))\n",
        "\n",
        "print(\"\\n\\n=== Precisão Treino === \\n\\n\")\n",
        "\n",
        "print(\"Precisão Decision Tree:\", accuracy_score(y_train, y_decision_tree_train))\n",
        "print(\"Precisão Random Forest:\", accuracy_score(y_train, y_random_forest_train))\n",
        "print(\"Precisão Naive Bayes:\" , accuracy_score(y_train, y_naive_bayes_train))\n",
        "print(\"Precisão MLP: \", accuracy_score(y_train, y_ml_perceptron_train))"
      ],
      "execution_count": 33,
      "outputs": [
        {
          "output_type": "stream",
          "text": [
            "=== Precisão Testes === \n",
            "\n",
            "\n",
            "Precisão Decision Tree: 0.8817287285355971\n",
            "Precisão Random Forest: 0.880764036272429\n",
            "Precisão Naive Bayes: 0.729500289407679\n",
            "Precisão MLP:  0.8126567624927649\n",
            "\n",
            "\n",
            "=== Precisão Treino === \n",
            "\n",
            "\n",
            "Precisão Decision Tree: 0.8882099440406509\n",
            "Precisão Random Forest: 0.8882099440406509\n",
            "Precisão Naive Bayes: 0.7263137582813405\n",
            "Precisão MLP:  0.8135974786132373\n"
          ],
          "name": "stdout"
        }
      ]
    },
    {
      "cell_type": "markdown",
      "metadata": {
        "id": "kLnDsQ1Xv2Rf"
      },
      "source": [
        "## MLFlow e Hiper-parâmetros\n",
        "\n",
        "Nessa etapa, adicionaremos o MLFlow e o Optuna para seleção de hiper-parâmetros sobre o conjunto de validação."
      ]
    },
    {
      "cell_type": "code",
      "metadata": {
        "id": "xTlRf22XOeBJ"
      },
      "source": [
        "!pip install mlflow --quiet\n",
        "!pip install optuna --quiet\n",
        "\n",
        "import mlflow\n",
        "import optuna"
      ],
      "execution_count": 36,
      "outputs": []
    },
    {
      "cell_type": "markdown",
      "metadata": {
        "id": "ounAhK61U9zL"
      },
      "source": [
        "### Decision Tree"
      ]
    },
    {
      "cell_type": "code",
      "metadata": {
        "id": "BUYekF1AVB3V"
      },
      "source": [
        "def objective_decisionTree(trial):\n",
        "    max_depth = trial.suggest_int(\"max_depth\", 1, 15, 1)\n",
        "    split     = trial.suggest_int('min_samples_split', 3, 15, 1)\n",
        "    leaf      = trial.suggest_int('min_samples_leaf', 3, 15, 1)\n",
        "\n",
        "    decisionTree_selection = DecisionTreeClassifier(max_depth=max_depth, min_samples_leaf=leaf, min_samples_split=split)\n",
        "    decisionTree_selection.fit(X_train, y_train)\n",
        "    \n",
        "    prediction_validation = decisionTree_selection.predict(X_valid)\n",
        "    accuracy_validation = accuracy_score(y_valid, prediction_validation)\n",
        "\n",
        "    return accuracy_validation\n",
        "\n",
        "study_dt = optuna.create_study(direction=\"maximize\")\n",
        "study_dt.optimize(objective_decisionTree, n_trials=50)\n",
        "print(study_dt.best_trial)"
      ],
      "execution_count": null,
      "outputs": []
    },
    {
      "cell_type": "code",
      "metadata": {
        "id": "anT_rU9XV3Ij"
      },
      "source": [
        "print(study_dt.best_trial.value)\n",
        "print(study_dt.best_trial.params)"
      ],
      "execution_count": null,
      "outputs": []
    },
    {
      "cell_type": "markdown",
      "metadata": {
        "id": "HMJBg2N9R7_B"
      },
      "source": [
        "### Random Forest"
      ]
    },
    {
      "cell_type": "code",
      "metadata": {
        "id": "AEXZLSYwR-Mv"
      },
      "source": [
        "def objective_randomForest(trial):\n",
        "    forrest_n_estimators = trial.suggest_int('n_estimators', 100, 1000)\n",
        "    forrest_criterion = trial.suggest_categorical('criterion', ['gini', 'entropy'])\n",
        "    forrest_max_features = trial.suggest_categorical('max_features', ['auto', 'sqrt', 'log2'])\n",
        "\n",
        "    randomForrest_selection = RandomForestClassifier(n_estimators=forrest_n_estimators, criterion=forrest_criterion, max_features=forrest_max_features)\n",
        "    randomForrest_selection.fit(X_train, y_train) \n",
        "\n",
        "    prediction_validation = randomForrest_selection.predict(X_valid)\n",
        "    accuracy_validation = accuracy_score(y_valid, prediction_validation)\n",
        "\n",
        "    return accuracy_validation\n",
        "\n",
        "study_rf = optuna.create_study(direction=\"maximize\")\n",
        "study_rf.optimize(objective_randomForest, n_trials=50)\n",
        "print(study_rf.best_trial)"
      ],
      "execution_count": null,
      "outputs": []
    },
    {
      "cell_type": "code",
      "metadata": {
        "id": "i8deD3QcW2u8",
        "outputId": "1c8f2209-af45-4417-f874-a285dfc75a19",
        "colab": {
          "base_uri": "https://localhost:8080/"
        }
      },
      "source": [
        "print(study_rf.best_trial.value)\n",
        "print(study_rf.best_trial.params)"
      ],
      "execution_count": 45,
      "outputs": [
        {
          "output_type": "stream",
          "text": [
            "0.8819216669882307\n",
            "{'n_estimators': 501, 'criterion': 'gini', 'max_features': 'sqrt'}\n"
          ],
          "name": "stdout"
        }
      ]
    },
    {
      "cell_type": "markdown",
      "metadata": {
        "id": "ybLaeIKAQAFI"
      },
      "source": [
        "### Naive Bayes"
      ]
    },
    {
      "cell_type": "code",
      "metadata": {
        "id": "VjWgBLsbQTDE"
      },
      "source": [
        "def objective_naiveBayes(trial):\n",
        "    nb_var_smoothing = trial.suggest_float('var_smoothing', 1e-9, 1e9, log=True)\n",
        "\n",
        "    naiveBayes_selection = GaussianNB(var_smoothing=nb_var_smoothing)\n",
        "    naiveBayes_selection.fit(X_train, y_train)     \n",
        "\n",
        "    prediction_validation = naiveBayes_selection.predict(X_valid)\n",
        "    accuracy_validation = accuracy_score(y_valid, prediction_validation)\n",
        "\n",
        "    return accuracy_validation\n",
        "\n",
        "study_nb = optuna.create_study(direction=\"maximize\")\n",
        "study_nb.optimize(objective_naiveBayes, n_trials=50)\n",
        "print(study_nb.best_trial)"
      ],
      "execution_count": null,
      "outputs": []
    },
    {
      "cell_type": "code",
      "metadata": {
        "id": "B6zDH4ZrQsvL",
        "outputId": "2750c04a-1882-4f32-bee1-4bcef3ad256c",
        "colab": {
          "base_uri": "https://localhost:8080/"
        }
      },
      "source": [
        "print(study_nb.best_trial.value)\n",
        "print(study_nb.best_trial.params)"
      ],
      "execution_count": 50,
      "outputs": [
        {
          "output_type": "stream",
          "text": [
            "0.8730464981670847\n",
            "{'var_smoothing': 1.941655811893446e-07}\n"
          ],
          "name": "stdout"
        }
      ]
    },
    {
      "cell_type": "markdown",
      "metadata": {
        "id": "HM_16ifCYrDm"
      },
      "source": [
        "### MLP"
      ]
    },
    {
      "cell_type": "code",
      "metadata": {
        "id": "e7zPRGEyYvHu"
      },
      "source": [
        "def objective_MLP(trial):\n",
        "\n",
        "    #mlp_selection = MLPClassifier()\n",
        "    #mlp_selection.fit(X_train, y_train)     \n",
        "\n",
        "    #prediction_validation = mlp_selection.predict(X_valid)\n",
        "    #accuracy_validation = accuracy_score(y_valid, prediction_validation)\n",
        "\n",
        "    return accuracy_validation\n",
        "\n",
        "study_mlp = optuna.create_study(direction=\"maximize\")\n",
        "study_mlp.optimize(objective_MLP, n_trials=50)\n",
        "print(study_mlp.best_trial)"
      ],
      "execution_count": null,
      "outputs": []
    },
    {
      "cell_type": "code",
      "metadata": {
        "id": "7FbY8v8QY1jF"
      },
      "source": [
        "print(study_mlp.best_trial.value)\n",
        "print(study_mlp.best_trial.params)"
      ],
      "execution_count": null,
      "outputs": []
    },
    {
      "cell_type": "markdown",
      "metadata": {
        "id": "4eUNxuzEwjgX"
      },
      "source": [
        "## Diagnóstico de melhor modelo\n",
        "\n",
        "Após os testes realizados com o Random Forest, Decision Tree, Naive Bayes e MLP, encontramos que o algoritmo que melhor resultado obeteve foi blabla.\n"
      ]
    },
    {
      "cell_type": "code",
      "metadata": {
        "id": "De_chRehwnj_"
      },
      "source": [
        "## heatmap"
      ],
      "execution_count": 51,
      "outputs": []
    },
    {
      "cell_type": "markdown",
      "metadata": {
        "id": "0gu_jbbCdpme"
      },
      "source": [
        "## Feature importance\n",
        "\n",
        "Verificamos o nível de relevância das colunas do dataset."
      ]
    },
    {
      "cell_type": "markdown",
      "metadata": {
        "id": "u2dT-3xlIFBU"
      },
      "source": [
        "# **MLP**"
      ]
    },
    {
      "cell_type": "code",
      "metadata": {
        "id": "twRVnMvKIHyq"
      },
      "source": [
        "import tensorflow\n",
        "from tensorflow import keras\n",
        "from tensorflow.keras import layers, optimizers, metrics, activations\n",
        "\n",
        "resolver = tensorflow.distribute.cluster_resolver.TPUClusterResolver(tpu='')\n",
        "tensorflow.config.experimental_connect_to_cluster(resolver)\n",
        "# This is the TPU initialization code that has to be at the beginning.\n",
        "tensorflow.tpu.experimental.initialize_tpu_system(resolver)\n",
        "print(\"All devices: \", tensorflow.config.list_logical_devices('TPU'))"
      ],
      "execution_count": null,
      "outputs": []
    },
    {
      "cell_type": "code",
      "metadata": {
        "id": "XyRk_bsjIezt"
      },
      "source": [
        "def MLP():\n",
        "    nu_shape = input_shape[0] * input_shape[1]\n",
        "    curve = activations.sigmoid\n",
        "    model = keras.Sequential(\n",
        "        [\n",
        "            layers.InputLayer(input_shape),\n",
        "            layers.Reshape((nu_shape,)),\n",
        "            layers.Dense(nu_shape, activation=curve),\n",
        "            layers.Dense(nu_shape, activation=curve),\n",
        "            layers.Dropout(0.1),\n",
        "            layers.Dense(nu_shape, activation=curve),\n",
        "            layers.Dense(num_classes, activation=activations.softmax)\n",
        "        ]\n",
        "    )\n",
        "    model.compile(loss=\"categorical_crossentropy\", optimizer=optimizers.SGD(learning_rate=1), metrics=[\"accuracy\", metrics.Recall(), metrics.Precision()], steps_per_execution=50)\n",
        "\n",
        "    return model"
      ],
      "execution_count": null,
      "outputs": []
    },
    {
      "cell_type": "code",
      "metadata": {
        "id": "HMlpre1oNwaK"
      },
      "source": [
        "def LSTM(hidden_layer_size, look_back = 7):\n",
        "  model = Sequential()\n",
        "  model.add(LSTM(hidden_layer_size, input_shape=(look_back,1)))\n",
        "  model.add(Dense(1)) # to have a regressor\n",
        "  model.compile(loss='mean_squared_error', optimizer='adam', steps_per_execution=50)\n",
        "  return model"
      ],
      "execution_count": null,
      "outputs": []
    }
  ]
}