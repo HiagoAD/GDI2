{
  "nbformat": 4,
  "nbformat_minor": 0,
  "metadata": {
    "colab": {
      "name": "Cópia de Project_1.ipynb",
      "provenance": [],
      "collapsed_sections": [],
      "include_colab_link": true
    },
    "kernelspec": {
      "name": "python3",
      "display_name": "Python 3"
    },
    "language_info": {
      "name": "python"
    }
  },
  "cells": [
    {
      "cell_type": "markdown",
      "metadata": {
        "id": "view-in-github",
        "colab_type": "text"
      },
      "source": [
        "<a href=\"https://colab.research.google.com/github/HiagoAD/GDI2/blob/master/Project_2.ipynb\" target=\"_parent\"><img src=\"https://colab.research.google.com/assets/colab-badge.svg\" alt=\"Open In Colab\"/></a>"
      ]
    },
    {
      "cell_type": "code",
      "metadata": {
        "id": "qvSv-z8qYhrz"
      },
      "source": [
        "import numpy as np\n",
        "import pandas as pd\n",
        "from scipy import stats\n",
        "import seaborn as sns\n",
        "import matplotlib.pyplot as plt\n",
        "import calendar"
      ],
      "execution_count": 13,
      "outputs": []
    },
    {
      "cell_type": "markdown",
      "metadata": {
        "id": "j7slQpPpsLN1"
      },
      "source": [
        "## Load datasets\n"
      ]
    },
    {
      "cell_type": "code",
      "metadata": {
        "id": "6HGU6r7p7T_t",
        "colab": {
          "base_uri": "https://localhost:8080/"
        },
        "outputId": "082af052-8db7-48f5-986d-2b0b4fbcdd92"
      },
      "source": [
        "dengue = pd.read_csv(\"https://raw.githubusercontent.com/HiagoAD/GDI2/master/datasets/dengue2020.csv\", encoding =\"UTF-8\")\n",
        "emlurb = pd.read_csv(\"https://raw.githubusercontent.com/HiagoAD/GDI2/master/datasets/emlurb2020.csv\", encoding =\"UTF-8\")\n",
        "\n",
        "dengue19 = pd.read_csv(\"https://raw.githubusercontent.com/HiagoAD/GDI2/master/datasets/dengue2019.csv\", encoding =\"UTF-8\", error_bad_lines=False)\n",
        "emlurb19 = pd.read_csv(\"https://raw.githubusercontent.com/HiagoAD/GDI2/master/datasets/emlurb2019.csv\", encoding =\"UTF-8\")\n",
        "\n",
        "dengue18 = pd.read_csv(\"https://raw.githubusercontent.com/HiagoAD/GDI2/master/datasets/dengue2018.csv\", encoding =\"UTF-8\", error_bad_lines=False)\n",
        "emlurb18 = pd.read_csv(\"https://raw.githubusercontent.com/HiagoAD/GDI2/master/datasets/emlurb2018.csv\", encoding =\"UTF-8\")\n",
        "\n",
        "dengue17 = pd.read_csv(\"https://raw.githubusercontent.com/HiagoAD/GDI2/master/datasets/dengue2017.csv\", encoding =\"UTF-8\", error_bad_lines=False)\n",
        "emlurb17 = pd.read_csv(\"https://raw.githubusercontent.com/HiagoAD/GDI2/master/datasets/emlurb2017.csv\", encoding =\"UTF-8\")\n",
        "\n",
        "dengue16 = pd.read_csv(\"https://raw.githubusercontent.com/HiagoAD/GDI2/master/datasets/dengue2016.csv\", encoding =\"UTF-8\", error_bad_lines=False)\n",
        "emlurb16 = pd.read_csv(\"https://raw.githubusercontent.com/HiagoAD/GDI2/master/datasets/emlurb2016.csv\", encoding =\"UTF-8\")\n"
      ],
      "execution_count": 53,
      "outputs": [
        {
          "output_type": "stream",
          "text": [
            "b'Skipping line 108: expected 126 fields, saw 127\\nSkipping line 1485: expected 126 fields, saw 127\\nSkipping line 2584: expected 126 fields, saw 127\\nSkipping line 4415: expected 126 fields, saw 127\\nSkipping line 5659: expected 126 fields, saw 127\\nSkipping line 6469: expected 126 fields, saw 127\\n'\n",
            "/usr/local/lib/python3.7/dist-packages/IPython/core/interactiveshell.py:2718: DtypeWarning: Columns (8) have mixed types.Specify dtype option on import or set low_memory=False.\n",
            "  interactivity=interactivity, compiler=compiler, result=result)\n",
            "/usr/local/lib/python3.7/dist-packages/IPython/core/interactiveshell.py:2718: DtypeWarning: Columns (55,113) have mixed types.Specify dtype option on import or set low_memory=False.\n",
            "  interactivity=interactivity, compiler=compiler, result=result)\n"
          ],
          "name": "stderr"
        }
      ]
    },
    {
      "cell_type": "markdown",
      "metadata": {
        "id": "eIomzXQIQkgW"
      },
      "source": [
        "## Dados de 2020 - 2016\n",
        "\n",
        "\n",
        "Iremos fazer os mesmos tratamentos anteriores para os dados de 2019 até 2016."
      ]
    },
    {
      "cell_type": "code",
      "metadata": {
        "id": "30I8GCQLQn_S",
        "colab": {
          "base_uri": "https://localhost:8080/"
        },
        "outputId": "6e69da1c-13c8-4b5a-b70c-f8d217bfdd23"
      },
      "source": [
        "# Utilizamos apenas as colunas de bairro e de data do registro do caso\n",
        "dengue_data = dengue[[\"no_bairro_residencia\", \"dt_notificacao\"]]\n",
        "dengue_data['dt_notificacao'] = pd.to_datetime(dengue_data['dt_notificacao'])\n",
        "\n",
        "dengue_data19 = dengue19[[\"no_bairro_residencia\", \"dt_notificacao\"]]\n",
        "dengue_data19['dt_notificacao'] = pd.to_datetime(dengue_data19['dt_notificacao'])\n",
        "\n",
        "dengue_data18 = dengue18[[\"no_bairro_residencia\", \"dt_notificacao\"]]\n",
        "dengue_data18['dt_notificacao'] = pd.to_datetime(dengue_data18['dt_notificacao'])\n",
        "\n",
        "dengue_data17 = dengue17[[\"no_bairro_residencia\", \"dt_notificacao\"]]\n",
        "dengue_data17['dt_notificacao'] = pd.to_datetime(dengue_data17['dt_notificacao'])\n",
        "\n",
        "dengue_data16 = dengue16[[\"no_bairro_residencia\", \"dt_notificacao\"]]\n",
        "dengue_data16['dt_notificacao'] = pd.to_datetime(dengue_data16['dt_notificacao'])\n",
        "\n",
        "# Número de casos por mês\n",
        "\n",
        "dengue_data = dengue_data.groupby([pd.Grouper(key=\"dt_notificacao\", freq=\"M\")]).size().reset_index(name=\"CASOS_DENGUE\")\n",
        "dengue_data = dengue_data.drop(dengue_data.index[[0]])\n",
        "\n",
        "dengue_data19 = dengue_data19.groupby([pd.Grouper(key=\"dt_notificacao\", freq=\"M\")]).size().reset_index(name=\"CASOS_DENGUE\")\n",
        "dengue_data19 = dengue_data19.drop(dengue_data19.index[[12,13]])\n",
        "\n",
        "dengue_data18 = dengue_data18.groupby([pd.Grouper(key=\"dt_notificacao\", freq=\"M\")]).size().reset_index(name=\"CASOS_DENGUE\")\n",
        "dengue_data18 = dengue_data18.drop(index=[12,13,14,15,16,17,18,19,20,21,22,23,24,25])\n",
        "\n",
        "dengue_data17 = dengue_data17.groupby([pd.Grouper(key=\"dt_notificacao\", freq=\"M\")]).size().reset_index(name=\"CASOS_DENGUE\")\n",
        "dengue_data17 = dengue_data17.drop(index=[12,13,14,15,16,17,18,19,20,21,22,23,24,25,26,27,28,29,30])\n",
        "\n",
        "dengue_data16 = dengue_data16.groupby([pd.Grouper(key=\"dt_notificacao\", freq=\"M\")]).size().reset_index(name=\"CASOS_DENGUE\")\n",
        "dengue_data16 = dengue_data16.drop(index=[12,13,14,15,16,17,18,19,20,21,22,23,24,25,26,27])\n"
      ],
      "execution_count": 49,
      "outputs": [
        {
          "output_type": "stream",
          "text": [
            "/usr/local/lib/python3.7/dist-packages/ipykernel_launcher.py:3: SettingWithCopyWarning: \n",
            "A value is trying to be set on a copy of a slice from a DataFrame.\n",
            "Try using .loc[row_indexer,col_indexer] = value instead\n",
            "\n",
            "See the caveats in the documentation: https://pandas.pydata.org/pandas-docs/stable/user_guide/indexing.html#returning-a-view-versus-a-copy\n",
            "  This is separate from the ipykernel package so we can avoid doing imports until\n",
            "/usr/local/lib/python3.7/dist-packages/ipykernel_launcher.py:6: SettingWithCopyWarning: \n",
            "A value is trying to be set on a copy of a slice from a DataFrame.\n",
            "Try using .loc[row_indexer,col_indexer] = value instead\n",
            "\n",
            "See the caveats in the documentation: https://pandas.pydata.org/pandas-docs/stable/user_guide/indexing.html#returning-a-view-versus-a-copy\n",
            "  \n",
            "/usr/local/lib/python3.7/dist-packages/ipykernel_launcher.py:9: SettingWithCopyWarning: \n",
            "A value is trying to be set on a copy of a slice from a DataFrame.\n",
            "Try using .loc[row_indexer,col_indexer] = value instead\n",
            "\n",
            "See the caveats in the documentation: https://pandas.pydata.org/pandas-docs/stable/user_guide/indexing.html#returning-a-view-versus-a-copy\n",
            "  if __name__ == '__main__':\n",
            "/usr/local/lib/python3.7/dist-packages/ipykernel_launcher.py:12: SettingWithCopyWarning: \n",
            "A value is trying to be set on a copy of a slice from a DataFrame.\n",
            "Try using .loc[row_indexer,col_indexer] = value instead\n",
            "\n",
            "See the caveats in the documentation: https://pandas.pydata.org/pandas-docs/stable/user_guide/indexing.html#returning-a-view-versus-a-copy\n",
            "  if sys.path[0] == '':\n",
            "/usr/local/lib/python3.7/dist-packages/ipykernel_launcher.py:15: SettingWithCopyWarning: \n",
            "A value is trying to be set on a copy of a slice from a DataFrame.\n",
            "Try using .loc[row_indexer,col_indexer] = value instead\n",
            "\n",
            "See the caveats in the documentation: https://pandas.pydata.org/pandas-docs/stable/user_guide/indexing.html#returning-a-view-versus-a-copy\n",
            "  from ipykernel import kernelapp as app\n"
          ],
          "name": "stderr"
        }
      ]
    },
    {
      "cell_type": "code",
      "metadata": {
        "id": "F7cn4tzVQuIX",
        "colab": {
          "base_uri": "https://localhost:8080/"
        },
        "outputId": "5985cb76-7831-42bf-8bf5-7cc63bd8cec6"
      },
      "source": [
        "# Utilizamos apenas as colunas de bairro, data de demanda e tipo de serviço\n",
        "\n",
        "emlurb_data = emlurb[[\"GRUPOSERVICO_DESCRICAO\", \"BAIRRO\", \"DATA_DEMANDA\"]]\n",
        "emlurb_data[\"DATA_DEMANDA\"] = pd.to_datetime(emlurb_data[\"DATA_DEMANDA\"])\n",
        "emlurb_data = emlurb_data[(emlurb_data.GRUPOSERVICO_DESCRICAO == \"DRENAGEM\")]\n",
        "\n",
        "emlurb_data19 = emlurb19[[\"GRUPOSERVICO_DESCRICAO\", \"BAIRRO\", \"DATA_DEMANDA\", \"SITUACAO\"]]\n",
        "emlurb_data19[\"DATA_DEMANDA\"] = pd.to_datetime(emlurb_data19[\"DATA_DEMANDA\"])\n",
        "emlurb_data19 = emlurb_data19[(emlurb_data19.GRUPOSERVICO_DESCRICAO == \"DRENAGEM\")]\n",
        "\n",
        "emlurb_data18 = emlurb18[[\"GRUPOSERVICO_DESCRICAO\", \"BAIRRO\", \"DATA_DEMANDA\", \"SITUACAO\"]]\n",
        "emlurb_data18[\"DATA_DEMANDA\"] = pd.to_datetime(emlurb_data18[\"DATA_DEMANDA\"])\n",
        "emlurb_data18 = emlurb_data18[(emlurb_data18.GRUPOSERVICO_DESCRICAO == \"DRENAGEM\")]\n",
        "\n",
        "emlurb_data17 = emlurb17[[\"GRUPOSERVICO_DESCRICAO\", \"BAIRRO\", \"DATA_DEMANDA\", \"SITUACAO\"]]\n",
        "emlurb_data17 = emlurb_data17[(emlurb_data17.GRUPOSERVICO_DESCRICAO == \"DRENAGEM\")]\n",
        "emlurb_data17[\"DATA_DEMANDA\"] = pd.to_datetime(emlurb_data17[\"DATA_DEMANDA\"])\n",
        "\n",
        "emlurb_data16 = emlurb16[[\"GRUPOSERVICO_DESCRICAO\", \"BAIRRO\", \"DATA_DEMANDA\", \"SITUACAO\"]]\n",
        "emlurb_data16[\"DATA_DEMANDA\"] = pd.to_datetime(emlurb_data16[\"DATA_DEMANDA\"])\n",
        "emlurb_data16 = emlurb_data16[(emlurb_data16.GRUPOSERVICO_DESCRICAO == \"DRENAGEM\")]\n",
        "\n",
        "# # Número de solicitações por mês\n",
        "emlurb_data   = emlurb_data.groupby([pd.Grouper(key=\"DATA_DEMANDA\", freq=\"M\")]).size().reset_index(name=\"CHAMADOS_EMLURB\")\n",
        "emlurb_data19 = emlurb_data19.groupby([pd.Grouper(key=\"DATA_DEMANDA\", freq=\"M\")]).size().reset_index(name=\"CHAMADOS_EMLURB\")\n",
        "emlurb_data18 = emlurb_data18.groupby([pd.Grouper(key=\"DATA_DEMANDA\", freq=\"M\")]).size().reset_index(name=\"CHAMADOS_EMLURB\")\n",
        "emlurb_data17 = emlurb_data17.groupby([pd.Grouper(key=\"DATA_DEMANDA\", freq=\"M\")]).size().reset_index(name=\"CHAMADOS_EMLURB\")\n",
        "emlurb_data16 = emlurb_data16.groupby([pd.Grouper(key=\"DATA_DEMANDA\", freq=\"M\")]).size().reset_index(name=\"CHAMADOS_EMLURB\")\n"
      ],
      "execution_count": 50,
      "outputs": [
        {
          "output_type": "stream",
          "text": [
            "/usr/local/lib/python3.7/dist-packages/ipykernel_launcher.py:4: SettingWithCopyWarning: \n",
            "A value is trying to be set on a copy of a slice from a DataFrame.\n",
            "Try using .loc[row_indexer,col_indexer] = value instead\n",
            "\n",
            "See the caveats in the documentation: https://pandas.pydata.org/pandas-docs/stable/user_guide/indexing.html#returning-a-view-versus-a-copy\n",
            "  after removing the cwd from sys.path.\n",
            "/usr/local/lib/python3.7/dist-packages/ipykernel_launcher.py:8: SettingWithCopyWarning: \n",
            "A value is trying to be set on a copy of a slice from a DataFrame.\n",
            "Try using .loc[row_indexer,col_indexer] = value instead\n",
            "\n",
            "See the caveats in the documentation: https://pandas.pydata.org/pandas-docs/stable/user_guide/indexing.html#returning-a-view-versus-a-copy\n",
            "  \n",
            "/usr/local/lib/python3.7/dist-packages/ipykernel_launcher.py:12: SettingWithCopyWarning: \n",
            "A value is trying to be set on a copy of a slice from a DataFrame.\n",
            "Try using .loc[row_indexer,col_indexer] = value instead\n",
            "\n",
            "See the caveats in the documentation: https://pandas.pydata.org/pandas-docs/stable/user_guide/indexing.html#returning-a-view-versus-a-copy\n",
            "  if sys.path[0] == '':\n",
            "/usr/local/lib/python3.7/dist-packages/ipykernel_launcher.py:20: SettingWithCopyWarning: \n",
            "A value is trying to be set on a copy of a slice from a DataFrame.\n",
            "Try using .loc[row_indexer,col_indexer] = value instead\n",
            "\n",
            "See the caveats in the documentation: https://pandas.pydata.org/pandas-docs/stable/user_guide/indexing.html#returning-a-view-versus-a-copy\n"
          ],
          "name": "stderr"
        }
      ]
    },
    {
      "cell_type": "code",
      "metadata": {
        "id": "yP3f5B00Q_0M"
      },
      "source": [
        "crossed_info = pd.merge(dengue_data, emlurb_data, left_on=[\"dt_notificacao\"],right_on=[\"DATA_DEMANDA\"])\n",
        "crossed_info19 = pd.merge(dengue_data19, emlurb_data19, left_on=[\"dt_notificacao\"],right_on=[\"DATA_DEMANDA\"])\n",
        "crossed_info18 = pd.merge(dengue_data18, emlurb_data18, left_on=[\"dt_notificacao\"],right_on=[\"DATA_DEMANDA\"])\n",
        "crossed_info17 = pd.merge(dengue_data17, emlurb_data17, left_on=[\"dt_notificacao\"],right_on=[\"DATA_DEMANDA\"])\n",
        "crossed_info16 = pd.merge(dengue_data16, emlurb_data16, left_on=[\"dt_notificacao\"],right_on=[\"DATA_DEMANDA\"])\n",
        "\n",
        "#Crossed info coluna mes\n",
        "\n",
        "crossed_info['mes']   = crossed_info.dt_notificacao.apply(lambda x: x.strftime('%m'))\n",
        "crossed_info19['mes'] = crossed_info19.dt_notificacao.apply(lambda x: x.strftime('%m'))\n",
        "crossed_info18['mes'] = crossed_info18.dt_notificacao.apply(lambda x: x.strftime('%m'))\n",
        "crossed_info17['mes'] = crossed_info17.dt_notificacao.apply(lambda x: x.strftime('%m'))\n",
        "crossed_info16['mes'] = crossed_info16.dt_notificacao.apply(lambda x: x.strftime('%m'))\n",
        "\n",
        "# Análise para Casos de dengue x Meses de 2020 a 2016\n",
        "\n",
        "crossed_info['mes'] = pd.to_numeric(crossed_info['mes'])\n",
        "crossed_info19['mes'] = pd.to_numeric(crossed_info19['mes'])\n",
        "crossed_info18['mes'] = pd.to_numeric(crossed_info18['mes'])\n",
        "crossed_info17['mes'] = pd.to_numeric(crossed_info17['mes'])\n",
        "crossed_info16['mes'] = pd.to_numeric(crossed_info16['mes'])\n",
        "\n",
        "crossed_info['month'] = crossed_info['mes'].apply(lambda x: calendar.month_abbr[x])\n",
        "crossed_info19['month'] = crossed_info19['mes'].apply(lambda x: calendar.month_abbr[x])\n",
        "crossed_info18['month'] = crossed_info18['mes'].apply(lambda x: calendar.month_abbr[x])\n",
        "crossed_info17['month'] = crossed_info17['mes'].apply(lambda x: calendar.month_abbr[x])\n",
        "crossed_info16['month'] = crossed_info16['mes'].apply(lambda x: calendar.month_abbr[x])"
      ],
      "execution_count": 51,
      "outputs": []
    },
    {
      "cell_type": "code",
      "metadata": {
        "id": "qn5YnYQ-ueQB"
      },
      "source": [
        "#Merge info geral\n",
        "\n",
        "data_temp_19 = crossed_info19\n",
        "data_temp_19 = data_temp_19.drop(data_temp_19.index[[7,8,9,10,11]])\n",
        "\n",
        "data_temp_18 = crossed_info18\n",
        "data_temp_18 = data_temp_18.drop(data_temp_18.index[[7,8,9,10,11]])\n",
        "\n",
        "data_temp_17 = crossed_info17\n",
        "data_temp_17 = data_temp_17.drop(data_temp_17.index[[7,8,9,10,11]])\n",
        "\n",
        "data_temp_16 = crossed_info16\n",
        "data_temp_16 = data_temp_16.drop(data_temp_16.index[[7,8,9,10,11]])\n",
        "\n",
        "data_temp_16 = data_temp_16[['CASOS_DENGUE', 'CHAMADOS_EMLURB', 'month']]\n",
        "data_temp_17 = data_temp_17[['CASOS_DENGUE', 'CHAMADOS_EMLURB', 'month']]\n",
        "data_temp_18 = data_temp_18[['CASOS_DENGUE', 'CHAMADOS_EMLURB', 'month']]\n",
        "data_temp_19 = data_temp_19[['CASOS_DENGUE', 'CHAMADOS_EMLURB', 'month']]\n",
        "data_temp_20 = crossed_info[['CASOS_DENGUE', 'CHAMADOS_EMLURB', 'month']]\n",
        "\n",
        "merge_info = data_temp_20.append([data_temp_19,data_temp_18,data_temp_17,data_temp_16], ignore_index = True)\n",
        "\n"
      ],
      "execution_count": 52,
      "outputs": []
    },
    {
      "cell_type": "markdown",
      "metadata": {
        "id": "lS7-iA53qFvv"
      },
      "source": [
        "## Feature de predição\n",
        "\n",
        "Texto."
      ]
    },
    {
      "cell_type": "markdown",
      "metadata": {
        "id": "uuyRRD5LrM_N"
      },
      "source": [
        "## Separação de dados: Treino, Validação e Teste\n",
        "\n",
        "Texto."
      ]
    },
    {
      "cell_type": "markdown",
      "metadata": {
        "id": "TD9pFirere46"
      },
      "source": [
        "## Escolha de Algoritmos\n",
        "\n",
        "*   Decision Tree\n",
        "*   Random Forest\n",
        "*   MLP\n",
        "*   KNN\n",
        "\n"
      ]
    },
    {
      "cell_type": "markdown",
      "metadata": {
        "id": "kLnDsQ1Xv2Rf"
      },
      "source": [
        "## MLFlow\n",
        "\n",
        "Texto."
      ]
    },
    {
      "cell_type": "markdown",
      "metadata": {
        "id": "g7Uhrb7wwIF9"
      },
      "source": [
        "## Seleção de hiper-parâmetros\n",
        "\n",
        "Texto.\n"
      ]
    },
    {
      "cell_type": "markdown",
      "metadata": {
        "id": "4eUNxuzEwjgX"
      },
      "source": [
        "## Diagnóstico de modelos\n",
        "\n",
        "Texto.\n"
      ]
    },
    {
      "cell_type": "code",
      "metadata": {
        "id": "De_chRehwnj_"
      },
      "source": [
        ""
      ],
      "execution_count": null,
      "outputs": []
    }
  ]
}