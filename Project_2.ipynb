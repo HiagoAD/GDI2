{
  "nbformat": 4,
  "nbformat_minor": 0,
  "metadata": {
    "colab": {
      "name": "Project_2.ipynb",
      "provenance": [],
      "collapsed_sections": [],
      "include_colab_link": true
    },
    "kernelspec": {
      "name": "python3",
      "display_name": "Python 3"
    },
    "language_info": {
      "name": "python"
    }
  },
  "cells": [
    {
      "cell_type": "markdown",
      "metadata": {
        "id": "view-in-github",
        "colab_type": "text"
      },
      "source": [
        "<a href=\"https://colab.research.google.com/github/HiagoAD/GDI2/blob/master/Project_2.ipynb\" target=\"_parent\"><img src=\"https://colab.research.google.com/assets/colab-badge.svg\" alt=\"Open In Colab\"/></a>"
      ]
    },
    {
      "cell_type": "code",
      "metadata": {
        "id": "qvSv-z8qYhrz"
      },
      "source": [
        "import numpy as np\n",
        "import pandas as pd\n",
        "from scipy import stats\n",
        "import seaborn as sns\n",
        "import matplotlib.pyplot as plt\n",
        "\n",
        "from sklearn.tree import DecisionTreeClassifier\n",
        "from sklearn.ensemble import RandomForestClassifier\n",
        "from sklearn.svm import SVC\n",
        "from sklearn.model_selection import train_test_split, cross_val_score\n",
        "from sklearn.naive_bayes import GaussianNB\n",
        "from sklearn.metrics import accuracy_score, confusion_matrix, roc_auc_score\n",
        "from sklearn.neighbors import KNeighborsClassifier\n",
        "from sklearn.neural_network import MLPClassifier"
      ],
      "execution_count": 2,
      "outputs": []
    },
    {
      "cell_type": "code",
      "metadata": {
        "id": "ofw0g7GggZy4",
        "outputId": "59677419-d824-4c6b-d10a-07b0d3aeaf11",
        "colab": {
          "base_uri": "https://localhost:8080/"
        }
      },
      "source": [
        "!pip install mlflow --quiet\n",
        "get_ipython().system_raw(\"mlflow ui --port 5000 &\")\n",
        "\n",
        "!pip install pyngrok --quiet\n",
        "\n",
        "from pyngrok import ngrok\n",
        "from getpass import getpass\n",
        "\n",
        "# Terminate open tunnels if exist\n",
        "ngrok.kill()\n",
        "\n",
        "# Setting the authtoken (optional)\n",
        "# Get your authtoken from https://dashboard.ngrok.com/auth\n",
        "NGROK_AUTH_TOKEN = getpass('Enter the ngrok authtoken: ')\n",
        "ngrok.set_auth_token(NGROK_AUTH_TOKEN)\n",
        "\n",
        "# Open an HTTPs tunnel on port 5000 for http://localhost:5000\n",
        "ngrok_tunnel = ngrok.connect(addr=\"5000\", proto=\"http\", bind_tls=True)\n",
        "print(\"MLflow Tracking UI:\", ngrok_tunnel.public_url)\n",
        "\n",
        "import mlflow"
      ],
      "execution_count": 4,
      "outputs": [
        {
          "output_type": "stream",
          "text": [
            "Enter the ngrok authtoken: ··········\n",
            "MLflow Tracking UI: https://b11d88cac023.ngrok.io\n"
          ],
          "name": "stdout"
        }
      ]
    },
    {
      "cell_type": "markdown",
      "metadata": {
        "id": "j7slQpPpsLN1"
      },
      "source": [
        "## Load datasets\n"
      ]
    },
    {
      "cell_type": "code",
      "metadata": {
        "id": "6HGU6r7p7T_t",
        "colab": {
          "base_uri": "https://localhost:8080/"
        },
        "outputId": "f4610b14-7050-46d8-ba3e-390e33905482"
      },
      "source": [
        "dengue = pd.read_csv(\"https://raw.githubusercontent.com/HiagoAD/GDI2/master/datasets/dengue2020.csv\", encoding =\"UTF-8\")\n",
        "emlurb = pd.read_csv(\"https://raw.githubusercontent.com/HiagoAD/GDI2/master/datasets/emlurb2020.csv\", encoding =\"UTF-8\")\n",
        "\n",
        "dengue19 = pd.read_csv(\"https://raw.githubusercontent.com/HiagoAD/GDI2/master/datasets/dengue2019.csv\", encoding =\"UTF-8\", error_bad_lines=False)\n",
        "emlurb19 = pd.read_csv(\"https://raw.githubusercontent.com/HiagoAD/GDI2/master/datasets/emlurb2019.csv\", encoding =\"UTF-8\")\n",
        "\n",
        "dengue18 = pd.read_csv(\"https://raw.githubusercontent.com/HiagoAD/GDI2/master/datasets/dengue2018.csv\", encoding =\"UTF-8\", error_bad_lines=False)\n",
        "emlurb18 = pd.read_csv(\"https://raw.githubusercontent.com/HiagoAD/GDI2/master/datasets/emlurb2018.csv\", encoding =\"UTF-8\")\n",
        "\n",
        "dengue17 = pd.read_csv(\"https://raw.githubusercontent.com/HiagoAD/GDI2/master/datasets/dengue2017.csv\", encoding =\"UTF-8\", error_bad_lines=False)\n",
        "emlurb17 = pd.read_csv(\"https://raw.githubusercontent.com/HiagoAD/GDI2/master/datasets/emlurb2017.csv\", encoding =\"UTF-8\")\n",
        "\n",
        "dengue16 = pd.read_csv(\"https://raw.githubusercontent.com/HiagoAD/GDI2/master/datasets/dengue2016.csv\", encoding =\"UTF-8\", error_bad_lines=False)\n",
        "emlurb16 = pd.read_csv(\"https://raw.githubusercontent.com/HiagoAD/GDI2/master/datasets/emlurb2016.csv\", encoding =\"UTF-8\")\n"
      ],
      "execution_count": 5,
      "outputs": [
        {
          "output_type": "stream",
          "text": [
            "b'Skipping line 108: expected 126 fields, saw 127\\nSkipping line 1485: expected 126 fields, saw 127\\nSkipping line 2584: expected 126 fields, saw 127\\nSkipping line 4415: expected 126 fields, saw 127\\nSkipping line 5659: expected 126 fields, saw 127\\nSkipping line 6469: expected 126 fields, saw 127\\n'\n",
            "/usr/local/lib/python3.7/dist-packages/IPython/core/interactiveshell.py:2718: DtypeWarning: Columns (8) have mixed types.Specify dtype option on import or set low_memory=False.\n",
            "  interactivity=interactivity, compiler=compiler, result=result)\n",
            "/usr/local/lib/python3.7/dist-packages/IPython/core/interactiveshell.py:2718: DtypeWarning: Columns (55,113) have mixed types.Specify dtype option on import or set low_memory=False.\n",
            "  interactivity=interactivity, compiler=compiler, result=result)\n"
          ],
          "name": "stderr"
        }
      ]
    },
    {
      "cell_type": "markdown",
      "metadata": {
        "id": "eIomzXQIQkgW"
      },
      "source": [
        "## Dados de 2020 - 2016\n",
        "\n",
        "\n",
        "Iremos fazer os mesmos tratamentos anteriores para os dados de 2019 até 2016."
      ]
    },
    {
      "cell_type": "code",
      "metadata": {
        "id": "30I8GCQLQn_S",
        "colab": {
          "base_uri": "https://localhost:8080/",
          "height": 424
        },
        "outputId": "c0f9e0fa-f483-432d-cbc1-8e78ba1e8137"
      },
      "source": [
        "# Dados Dengue\n",
        "\n",
        "merge_dengue = dengue.append([dengue19,dengue18,dengue17,dengue16], ignore_index = True)\n",
        "merge_dengue = merge_dengue[[\"febre\", \"mialgia\",'vomito', \"dt_notificacao\",'nu_idade','nausea','cefaleia','dor_costas','diabetes','renal']]\n",
        "merge_dengue['dt_notificacao'] = pd.to_datetime(merge_dengue['dt_notificacao'])\n",
        "\n",
        "# Agrupamos por número de casos por dia\n",
        "\n",
        "#merge_dengue = merge_dengue.groupby([pd.Grouper(key=\"dt_notificacao\", freq=\"D\")]).size().reset_index(name=\"CASOS_DENGUE\")\n",
        "\n",
        "\n",
        "# Dados Emlurb\n",
        "\n",
        "merge_emlurb = emlurb.append([emlurb19,emlurb18,emlurb17,emlurb16], ignore_index = True)\n",
        "merge_emlurb = merge_emlurb[[\"GRUPOSERVICO_CODIGO\", \"DATA_DEMANDA\"]]\n",
        "merge_emlurb = merge_emlurb[(merge_emlurb.GRUPOSERVICO_CODIGO == 11)]\n",
        "merge_emlurb[\"DATA_DEMANDA\"] = pd.to_datetime(merge_emlurb[\"DATA_DEMANDA\"],errors='coerce')\n",
        "\n",
        "# Agrupamos por número de solicitações por dia\n",
        "\n",
        "#merge_emlurb = merge_emlurb.groupby([pd.Grouper(key=\"DATA_DEMANDA\", freq=\"D\")]).size().reset_index(name=\"CHAMAD0S_EMLURB\")\n",
        "\n",
        "#year_filter = merge_emlurb[(merge_emlurb['DATA_DEMANDA'].dt.year == 2018)]\n",
        "\n",
        "\n",
        "merge_dengue = merge_dengue.dropna()\n",
        "merge_dengue['febre'] = merge_dengue['febre'].astype('int')\n",
        "merge_dengue['mialgia'] = merge_dengue['mialgia'].astype('int')\n",
        "merge_dengue['vomito'] = merge_dengue['vomito'].astype('int')\n",
        "merge_dengue['nausea'] = merge_dengue['nausea'].astype('int')\n",
        "merge_dengue['cefaleia'] = merge_dengue['cefaleia'].astype('int')\n",
        "merge_dengue['dor_costas'] = merge_dengue['dor_costas'].astype('int')\n",
        "merge_dengue['diabetes'] = merge_dengue['diabetes'].astype('int')\n",
        "merge_dengue['renal'] = merge_dengue['renal'].astype('int')\n",
        "merge_dengue = merge_dengue.sort_values('dt_notificacao')\n",
        "merge_dengue"
      ],
      "execution_count": 6,
      "outputs": [
        {
          "output_type": "execute_result",
          "data": {
            "text/html": [
              "<div>\n",
              "<style scoped>\n",
              "    .dataframe tbody tr th:only-of-type {\n",
              "        vertical-align: middle;\n",
              "    }\n",
              "\n",
              "    .dataframe tbody tr th {\n",
              "        vertical-align: top;\n",
              "    }\n",
              "\n",
              "    .dataframe thead th {\n",
              "        text-align: right;\n",
              "    }\n",
              "</style>\n",
              "<table border=\"1\" class=\"dataframe\">\n",
              "  <thead>\n",
              "    <tr style=\"text-align: right;\">\n",
              "      <th></th>\n",
              "      <th>febre</th>\n",
              "      <th>mialgia</th>\n",
              "      <th>vomito</th>\n",
              "      <th>dt_notificacao</th>\n",
              "      <th>nu_idade</th>\n",
              "      <th>nausea</th>\n",
              "      <th>cefaleia</th>\n",
              "      <th>dor_costas</th>\n",
              "      <th>diabetes</th>\n",
              "      <th>renal</th>\n",
              "    </tr>\n",
              "  </thead>\n",
              "  <tbody>\n",
              "    <tr>\n",
              "      <th>14367</th>\n",
              "      <td>1</td>\n",
              "      <td>1</td>\n",
              "      <td>2</td>\n",
              "      <td>2016-01-03</td>\n",
              "      <td>4024</td>\n",
              "      <td>2</td>\n",
              "      <td>2</td>\n",
              "      <td>2</td>\n",
              "      <td>2</td>\n",
              "      <td>2</td>\n",
              "    </tr>\n",
              "    <tr>\n",
              "      <th>13813</th>\n",
              "      <td>2</td>\n",
              "      <td>2</td>\n",
              "      <td>2</td>\n",
              "      <td>2016-01-03</td>\n",
              "      <td>4059</td>\n",
              "      <td>2</td>\n",
              "      <td>2</td>\n",
              "      <td>2</td>\n",
              "      <td>2</td>\n",
              "      <td>2</td>\n",
              "    </tr>\n",
              "    <tr>\n",
              "      <th>13658</th>\n",
              "      <td>1</td>\n",
              "      <td>1</td>\n",
              "      <td>2</td>\n",
              "      <td>2016-01-04</td>\n",
              "      <td>4017</td>\n",
              "      <td>1</td>\n",
              "      <td>1</td>\n",
              "      <td>2</td>\n",
              "      <td>2</td>\n",
              "      <td>2</td>\n",
              "    </tr>\n",
              "    <tr>\n",
              "      <th>13595</th>\n",
              "      <td>1</td>\n",
              "      <td>1</td>\n",
              "      <td>2</td>\n",
              "      <td>2016-01-04</td>\n",
              "      <td>4031</td>\n",
              "      <td>2</td>\n",
              "      <td>1</td>\n",
              "      <td>2</td>\n",
              "      <td>2</td>\n",
              "      <td>2</td>\n",
              "    </tr>\n",
              "    <tr>\n",
              "      <th>13781</th>\n",
              "      <td>1</td>\n",
              "      <td>1</td>\n",
              "      <td>2</td>\n",
              "      <td>2016-01-04</td>\n",
              "      <td>4054</td>\n",
              "      <td>2</td>\n",
              "      <td>1</td>\n",
              "      <td>2</td>\n",
              "      <td>2</td>\n",
              "      <td>2</td>\n",
              "    </tr>\n",
              "    <tr>\n",
              "      <th>...</th>\n",
              "      <td>...</td>\n",
              "      <td>...</td>\n",
              "      <td>...</td>\n",
              "      <td>...</td>\n",
              "      <td>...</td>\n",
              "      <td>...</td>\n",
              "      <td>...</td>\n",
              "      <td>...</td>\n",
              "      <td>...</td>\n",
              "      <td>...</td>\n",
              "    </tr>\n",
              "    <tr>\n",
              "      <th>975</th>\n",
              "      <td>1</td>\n",
              "      <td>1</td>\n",
              "      <td>1</td>\n",
              "      <td>2020-07-16</td>\n",
              "      <td>4008</td>\n",
              "      <td>1</td>\n",
              "      <td>1</td>\n",
              "      <td>2</td>\n",
              "      <td>2</td>\n",
              "      <td>2</td>\n",
              "    </tr>\n",
              "    <tr>\n",
              "      <th>1007</th>\n",
              "      <td>1</td>\n",
              "      <td>1</td>\n",
              "      <td>2</td>\n",
              "      <td>2020-07-17</td>\n",
              "      <td>4017</td>\n",
              "      <td>2</td>\n",
              "      <td>1</td>\n",
              "      <td>2</td>\n",
              "      <td>2</td>\n",
              "      <td>2</td>\n",
              "    </tr>\n",
              "    <tr>\n",
              "      <th>1005</th>\n",
              "      <td>1</td>\n",
              "      <td>2</td>\n",
              "      <td>2</td>\n",
              "      <td>2020-07-19</td>\n",
              "      <td>4010</td>\n",
              "      <td>2</td>\n",
              "      <td>2</td>\n",
              "      <td>2</td>\n",
              "      <td>2</td>\n",
              "      <td>2</td>\n",
              "    </tr>\n",
              "    <tr>\n",
              "      <th>1003</th>\n",
              "      <td>1</td>\n",
              "      <td>1</td>\n",
              "      <td>2</td>\n",
              "      <td>2020-07-20</td>\n",
              "      <td>3001</td>\n",
              "      <td>2</td>\n",
              "      <td>2</td>\n",
              "      <td>2</td>\n",
              "      <td>2</td>\n",
              "      <td>2</td>\n",
              "    </tr>\n",
              "    <tr>\n",
              "      <th>1000</th>\n",
              "      <td>1</td>\n",
              "      <td>1</td>\n",
              "      <td>1</td>\n",
              "      <td>2020-07-20</td>\n",
              "      <td>4003</td>\n",
              "      <td>1</td>\n",
              "      <td>1</td>\n",
              "      <td>2</td>\n",
              "      <td>2</td>\n",
              "      <td>2</td>\n",
              "    </tr>\n",
              "  </tbody>\n",
              "</table>\n",
              "<p>25913 rows × 10 columns</p>\n",
              "</div>"
            ],
            "text/plain": [
              "       febre  mialgia  vomito  ... dor_costas  diabetes  renal\n",
              "14367      1        1       2  ...          2         2      2\n",
              "13813      2        2       2  ...          2         2      2\n",
              "13658      1        1       2  ...          2         2      2\n",
              "13595      1        1       2  ...          2         2      2\n",
              "13781      1        1       2  ...          2         2      2\n",
              "...      ...      ...     ...  ...        ...       ...    ...\n",
              "975        1        1       1  ...          2         2      2\n",
              "1007       1        1       2  ...          2         2      2\n",
              "1005       1        2       2  ...          2         2      2\n",
              "1003       1        1       2  ...          2         2      2\n",
              "1000       1        1       1  ...          2         2      2\n",
              "\n",
              "[25913 rows x 10 columns]"
            ]
          },
          "metadata": {
            "tags": []
          },
          "execution_count": 6
        }
      ]
    },
    {
      "cell_type": "markdown",
      "metadata": {
        "id": "lS7-iA53qFvv"
      },
      "source": [
        "## Feature de predição\n",
        "\n",
        "1.   Número de casos de dengue por dia.\n",
        "2.   Número de solicitações de drenagem por dia.\n",
        "\n"
      ]
    },
    {
      "cell_type": "markdown",
      "metadata": {
        "id": "uuyRRD5LrM_N"
      },
      "source": [
        "## Separação de dados: Treino, Validação e Teste\n",
        "\n",
        "Os dados estão em ordem temporal, treino usa os primeiros 2/4 dos dados, em seguida 1/4 pra validação e 1/4 para testes."
      ]
    },
    {
      "cell_type": "code",
      "metadata": {
        "id": "iz0VMrj9SQ7v"
      },
      "source": [
        "def split_values(df, column_name):\n",
        "  X = df.drop(columns=[column_name,'dt_notificacao']).values\n",
        "  y = df[column_name].values\n",
        "\n",
        "  return X, y"
      ],
      "execution_count": 7,
      "outputs": []
    },
    {
      "cell_type": "code",
      "metadata": {
        "id": "i941ZX3x_zrH",
        "colab": {
          "base_uri": "https://localhost:8080/"
        },
        "outputId": "7ac8f8db-52a6-46b0-9e63-5b621c0c3281"
      },
      "source": [
        "features_results = merge_dengue.drop(columns=['febre','dt_notificacao']).values\n",
        "labels_results = merge_dengue['febre'].values\n",
        "\n",
        "feature_train, feature_test, label_train, label_test = train_test_split(features_results, labels_results, test_size=0.25, shuffle=False)\n",
        "feature_train, feature_validation, label_train, label_validation =  train_test_split(feature_train, label_train, test_size=(1/3), shuffle=False)\n",
        "\n",
        "print(features_results.shape)\n",
        "print(feature_train.shape)\n",
        "print(feature_test.shape)\n",
        "print(feature_validation.shape)"
      ],
      "execution_count": 8,
      "outputs": [
        {
          "output_type": "stream",
          "text": [
            "(25913, 8)\n",
            "(12956, 8)\n",
            "(6479, 8)\n",
            "(6478, 8)\n"
          ],
          "name": "stdout"
        }
      ]
    },
    {
      "cell_type": "code",
      "metadata": {
        "id": "uSWTzBPhZtvX"
      },
      "source": [
        "# train, validation, test = np.split(merge_dengue.sample(frac=1, random_state=42), [int(.6*len(merge_dengue)), int(.8*len(merge_dengue))])\n",
        "\n",
        "# column_name = 'febre'\n",
        "\n",
        "# X_train, y_train = split_values(train, column_name)\n",
        "# X_valid, y_valid = split_values(validation, column_name)\n",
        "# X_test,  y_test  = split_values(test, column_name)\n",
        "\n",
        "X_train, y_train = feature_train, label_train\n",
        "X_valid, y_valid = feature_validation, label_validation\n",
        "X_test, y_test = feature_test, label_test"
      ],
      "execution_count": 9,
      "outputs": []
    },
    {
      "cell_type": "code",
      "metadata": {
        "id": "Q8S8UimEc9tP",
        "colab": {
          "base_uri": "https://localhost:8080/"
        },
        "outputId": "3d55d10a-83dc-41d3-bbb0-b47b5af9dfc3"
      },
      "source": [
        "print(X_train.shape)\n",
        "print(X_test.shape)\n",
        "print(X_valid.shape)"
      ],
      "execution_count": 10,
      "outputs": [
        {
          "output_type": "stream",
          "text": [
            "(12956, 8)\n",
            "(6479, 8)\n",
            "(6478, 8)\n"
          ],
          "name": "stdout"
        }
      ]
    },
    {
      "cell_type": "markdown",
      "metadata": {
        "id": "TD9pFirere46"
      },
      "source": [
        "## Escolha de Algoritmos\n",
        "\n",
        "*   Decision Tree\n",
        "*   Random Forest\n",
        "*   Naive Bayes\n",
        "*   MLP\n",
        "*   KNN\n",
        "\n"
      ]
    },
    {
      "cell_type": "code",
      "metadata": {
        "id": "ZPPTtX4wiaQb"
      },
      "source": [
        "decision_tree = DecisionTreeClassifier()\n",
        "random_forest = RandomForestClassifier()\n",
        "naive_bayes   = GaussianNB()\n",
        "ml_perceptron = MLPClassifier()\n",
        "knn = KNeighborsClassifier()\n",
        "\n",
        "decision_tree.fit(X_train, y_train)\n",
        "y_decision_tree_train = decision_tree.predict(X_train)\n",
        "y_decision_tree_test  = decision_tree.predict(X_test)\n",
        "\n",
        "random_forest.fit(X_train, y_train)\n",
        "y_random_forest_train = random_forest.predict(X_train)\n",
        "y_random_forest_test  = random_forest.predict(X_test)\n",
        "\n",
        "naive_bayes.fit(X_train, y_train)\n",
        "y_naive_bayes_train = naive_bayes.predict(X_train)\n",
        "y_naive_bayes_test  = naive_bayes.predict(X_test)\n",
        "\n",
        "ml_perceptron.fit(X_train, y_train)\n",
        "y_ml_perceptron_train = ml_perceptron.predict(X_train)\n",
        "y_ml_perceptron_test  = ml_perceptron.predict(X_test)\n",
        "\n",
        "knn.fit(X_train, y_train)\n",
        "y_knn_train = knn.predict(X_train)\n",
        "y_knn_test = knn.predict(X_test)"
      ],
      "execution_count": 11,
      "outputs": []
    },
    {
      "cell_type": "code",
      "metadata": {
        "colab": {
          "base_uri": "https://localhost:8080/"
        },
        "id": "ZiLtX5Vtl5UQ",
        "outputId": "3ca89c60-dd6f-49b6-9b8b-bc18aca9414b"
      },
      "source": [
        "print(\"=== Precisão Testes === \\n\\n\")\n",
        "\n",
        "print(\"Precisão Decision Tree:\", accuracy_score(y_test, y_decision_tree_test))\n",
        "print(\"Precisão Random Forest:\", accuracy_score(y_test, y_random_forest_test))\n",
        "print(\"Precisão Naive Bayes:\" , accuracy_score(y_test, y_naive_bayes_test))\n",
        "print(\"Precisão MLP: \", accuracy_score(y_test, y_ml_perceptron_test))\n",
        "print(\"Precisão KNN: \", accuracy_score(y_test, y_knn_test))\n",
        "\n",
        "print(\"\\n\\n=== Precisão Treino === \\n\\n\")\n",
        "\n",
        "print(\"Precisão Decision Tree:\", accuracy_score(y_train, y_decision_tree_train))\n",
        "print(\"Precisão Random Forest:\", accuracy_score(y_train, y_random_forest_train))\n",
        "print(\"Precisão Naive Bayes:\" , accuracy_score(y_train, y_naive_bayes_train))\n",
        "print(\"Precisão MLP: \", accuracy_score(y_train, y_ml_perceptron_train))\n",
        "print(\"Precisão KNN: \", accuracy_score(y_train, y_knn_train))"
      ],
      "execution_count": 12,
      "outputs": [
        {
          "output_type": "stream",
          "text": [
            "=== Precisão Testes === \n",
            "\n",
            "\n",
            "Precisão Decision Tree: 0.8793023614755363\n",
            "Precisão Random Forest: 0.8786849822503473\n",
            "Precisão Naive Bayes: 0.735144312393888\n",
            "Precisão MLP:  0.8972063590060194\n",
            "Precisão KNN:  0.880845809538509\n",
            "\n",
            "\n",
            "=== Precisão Treino === \n",
            "\n",
            "\n",
            "Precisão Decision Tree: 0.8809817845013893\n",
            "Precisão Random Forest: 0.8809817845013893\n",
            "Precisão Naive Bayes: 0.7185087990120408\n",
            "Precisão MLP:  0.7540907687557888\n",
            "Precisão KNN:  0.8589070700833591\n"
          ],
          "name": "stdout"
        }
      ]
    },
    {
      "cell_type": "markdown",
      "metadata": {
        "id": "kLnDsQ1Xv2Rf"
      },
      "source": [
        "## MLFlow e Hiper-parâmetros\n",
        "\n",
        "Nessa etapa, adicionaremos o MLFlow e o Optuna para seleção de hiper-parâmetros sobre o conjunto de validação."
      ]
    },
    {
      "cell_type": "code",
      "metadata": {
        "id": "j7PqGdtZsoHh",
        "outputId": "9c839e19-5579-44b7-c897-37d830cb8cca",
        "colab": {
          "base_uri": "https://localhost:8080/"
        }
      },
      "source": [
        "from optuna.integration.mlflow import MLflowCallback\n",
        "mlflc = MLflowCallback(\n",
        "    tracking_uri=mlflow.get_tracking_uri(),\n",
        "    metric_name=\"Accuracy\",\n",
        "    \n",
        ")"
      ],
      "execution_count": 14,
      "outputs": [
        {
          "output_type": "stream",
          "text": [
            "/usr/local/lib/python3.7/dist-packages/ipykernel_launcher.py:4: ExperimentalWarning:\n",
            "\n",
            "MLflowCallback is experimental (supported from v1.4.0). The interface can change in the future.\n",
            "\n"
          ],
          "name": "stderr"
        }
      ]
    },
    {
      "cell_type": "markdown",
      "metadata": {
        "id": "ounAhK61U9zL"
      },
      "source": [
        "### Decision Tree"
      ]
    },
    {
      "cell_type": "code",
      "metadata": {
        "id": "BUYekF1AVB3V",
        "colab": {
          "base_uri": "https://localhost:8080/"
        },
        "outputId": "27d62716-77ae-40ca-80a6-74724b5ea638"
      },
      "source": [
        "@mlflc.track_in_mlflow()\n",
        "def objective_decisionTree(trial):\n",
        "    max_depth = trial.suggest_int(\"max_depth\", 1, 15, 1)\n",
        "    split     = trial.suggest_int('min_samples_split', 3, 15, 1)\n",
        "    leaf      = trial.suggest_int('min_samples_leaf', 3, 15, 1)\n",
        "\n",
        "    decisionTree_selection = DecisionTreeClassifier(max_depth=max_depth, min_samples_leaf=leaf, min_samples_split=split)\n",
        "    decisionTree_selection.fit(X_train, y_train)\n",
        "    \n",
        "    prediction_validation = decisionTree_selection.predict(X_valid)\n",
        "    accuracy_validation = accuracy_score(y_valid, prediction_validation)\n",
        "\n",
        "    return accuracy_validation\n",
        "\n",
        "study_dt = optuna.create_study(direction=\"maximize\", study_name=\"Decision Tree\")\n",
        "mlflow.end_run()\n",
        "study_dt.optimize(objective_decisionTree, n_trials=50, callbacks=[mlflc])\n",
        "print(study_dt.best_trial)"
      ],
      "execution_count": 15,
      "outputs": [
        {
          "output_type": "stream",
          "text": [
            "/usr/local/lib/python3.7/dist-packages/ipykernel_launcher.py:1: ExperimentalWarning:\n",
            "\n",
            "track_in_mlflow is experimental (supported from v2.9.0). The interface can change in the future.\n",
            "\n",
            "\u001b[32m[I 2021-08-15 21:33:43,661]\u001b[0m A new study created in memory with name: ASD\u001b[0m\n",
            "\u001b[32m[I 2021-08-15 21:33:43,781]\u001b[0m Trial 0 finished with value: 0.8965730163630751 and parameters: {'max_depth': 10, 'min_samples_split': 9, 'min_samples_leaf': 15}. Best is trial 0 with value: 0.8965730163630751.\u001b[0m\n",
            "\u001b[32m[I 2021-08-15 21:33:43,819]\u001b[0m Trial 1 finished with value: 0.8970361222599568 and parameters: {'max_depth': 6, 'min_samples_split': 4, 'min_samples_leaf': 8}. Best is trial 1 with value: 0.8970361222599568.\u001b[0m\n",
            "\u001b[32m[I 2021-08-15 21:33:43,855]\u001b[0m Trial 2 finished with value: 0.8965730163630751 and parameters: {'max_depth': 12, 'min_samples_split': 3, 'min_samples_leaf': 10}. Best is trial 1 with value: 0.8970361222599568.\u001b[0m\n"
          ],
          "name": "stderr"
        },
        {
          "output_type": "stream",
          "text": [
            "INFO: 'ASD' does not exist. Creating a new experiment\n"
          ],
          "name": "stdout"
        },
        {
          "output_type": "stream",
          "text": [
            "\u001b[32m[I 2021-08-15 21:33:43,896]\u001b[0m Trial 3 finished with value: 0.8962642790984872 and parameters: {'max_depth': 11, 'min_samples_split': 12, 'min_samples_leaf': 7}. Best is trial 1 with value: 0.8970361222599568.\u001b[0m\n",
            "\u001b[32m[I 2021-08-15 21:33:43,936]\u001b[0m Trial 4 finished with value: 0.8962642790984872 and parameters: {'max_depth': 15, 'min_samples_split': 10, 'min_samples_leaf': 6}. Best is trial 1 with value: 0.8970361222599568.\u001b[0m\n",
            "\u001b[32m[I 2021-08-15 21:33:43,974]\u001b[0m Trial 5 finished with value: 0.891015745600494 and parameters: {'max_depth': 4, 'min_samples_split': 8, 'min_samples_leaf': 10}. Best is trial 1 with value: 0.8970361222599568.\u001b[0m\n",
            "\u001b[32m[I 2021-08-15 21:33:44,013]\u001b[0m Trial 6 finished with value: 0.8956468045693116 and parameters: {'max_depth': 9, 'min_samples_split': 11, 'min_samples_leaf': 5}. Best is trial 1 with value: 0.8970361222599568.\u001b[0m\n",
            "\u001b[32m[I 2021-08-15 21:33:44,053]\u001b[0m Trial 7 finished with value: 0.8965730163630751 and parameters: {'max_depth': 15, 'min_samples_split': 8, 'min_samples_leaf': 10}. Best is trial 1 with value: 0.8970361222599568.\u001b[0m\n",
            "\u001b[32m[I 2021-08-15 21:33:44,085]\u001b[0m Trial 8 finished with value: 0.8672429762272307 and parameters: {'max_depth': 1, 'min_samples_split': 11, 'min_samples_leaf': 13}. Best is trial 1 with value: 0.8970361222599568.\u001b[0m\n",
            "\u001b[32m[I 2021-08-15 21:33:44,117]\u001b[0m Trial 9 finished with value: 0.8484100030873727 and parameters: {'max_depth': 2, 'min_samples_split': 9, 'min_samples_leaf': 5}. Best is trial 1 with value: 0.8970361222599568.\u001b[0m\n",
            "\u001b[32m[I 2021-08-15 21:33:44,156]\u001b[0m Trial 10 finished with value: 0.8970361222599568 and parameters: {'max_depth': 6, 'min_samples_split': 3, 'min_samples_leaf': 3}. Best is trial 1 with value: 0.8970361222599568.\u001b[0m\n",
            "\u001b[32m[I 2021-08-15 21:33:44,196]\u001b[0m Trial 11 finished with value: 0.8970361222599568 and parameters: {'max_depth': 6, 'min_samples_split': 3, 'min_samples_leaf': 4}. Best is trial 1 with value: 0.8970361222599568.\u001b[0m\n",
            "\u001b[32m[I 2021-08-15 21:33:44,241]\u001b[0m Trial 12 finished with value: 0.8962642790984872 and parameters: {'max_depth': 7, 'min_samples_split': 5, 'min_samples_leaf': 3}. Best is trial 1 with value: 0.8970361222599568.\u001b[0m\n",
            "\u001b[32m[I 2021-08-15 21:33:44,279]\u001b[0m Trial 13 finished with value: 0.891015745600494 and parameters: {'max_depth': 5, 'min_samples_split': 6, 'min_samples_leaf': 8}. Best is trial 1 with value: 0.8970361222599568.\u001b[0m\n",
            "\u001b[32m[I 2021-08-15 21:33:44,321]\u001b[0m Trial 14 finished with value: 0.8877740043223217 and parameters: {'max_depth': 3, 'min_samples_split': 14, 'min_samples_leaf': 12}. Best is trial 1 with value: 0.8970361222599568.\u001b[0m\n",
            "\u001b[32m[I 2021-08-15 21:33:44,360]\u001b[0m Trial 15 finished with value: 0.8962642790984872 and parameters: {'max_depth': 7, 'min_samples_split': 5, 'min_samples_leaf': 3}. Best is trial 1 with value: 0.8970361222599568.\u001b[0m\n",
            "\u001b[32m[I 2021-08-15 21:33:44,403]\u001b[0m Trial 16 finished with value: 0.8971904908922507 and parameters: {'max_depth': 8, 'min_samples_split': 6, 'min_samples_leaf': 8}. Best is trial 16 with value: 0.8971904908922507.\u001b[0m\n",
            "\u001b[32m[I 2021-08-15 21:33:44,446]\u001b[0m Trial 17 finished with value: 0.8971904908922507 and parameters: {'max_depth': 8, 'min_samples_split': 6, 'min_samples_leaf': 8}. Best is trial 16 with value: 0.8971904908922507.\u001b[0m\n",
            "\u001b[32m[I 2021-08-15 21:33:44,494]\u001b[0m Trial 18 finished with value: 0.8965730163630751 and parameters: {'max_depth': 12, 'min_samples_split': 7, 'min_samples_leaf': 12}. Best is trial 16 with value: 0.8971904908922507.\u001b[0m\n",
            "\u001b[32m[I 2021-08-15 21:33:44,545]\u001b[0m Trial 19 finished with value: 0.8965730163630751 and parameters: {'max_depth': 9, 'min_samples_split': 6, 'min_samples_leaf': 9}. Best is trial 16 with value: 0.8971904908922507.\u001b[0m\n",
            "\u001b[32m[I 2021-08-15 21:33:44,588]\u001b[0m Trial 20 finished with value: 0.8971904908922507 and parameters: {'max_depth': 8, 'min_samples_split': 15, 'min_samples_leaf': 7}. Best is trial 16 with value: 0.8971904908922507.\u001b[0m\n",
            "\u001b[32m[I 2021-08-15 21:33:44,631]\u001b[0m Trial 21 finished with value: 0.8971904908922507 and parameters: {'max_depth': 8, 'min_samples_split': 15, 'min_samples_leaf': 7}. Best is trial 16 with value: 0.8971904908922507.\u001b[0m\n",
            "\u001b[32m[I 2021-08-15 21:33:44,676]\u001b[0m Trial 22 finished with value: 0.8971904908922507 and parameters: {'max_depth': 8, 'min_samples_split': 13, 'min_samples_leaf': 8}. Best is trial 16 with value: 0.8971904908922507.\u001b[0m\n",
            "\u001b[32m[I 2021-08-15 21:33:44,720]\u001b[0m Trial 23 finished with value: 0.8965730163630751 and parameters: {'max_depth': 10, 'min_samples_split': 13, 'min_samples_leaf': 6}. Best is trial 16 with value: 0.8971904908922507.\u001b[0m\n",
            "\u001b[32m[I 2021-08-15 21:33:44,762]\u001b[0m Trial 24 finished with value: 0.8965730163630751 and parameters: {'max_depth': 9, 'min_samples_split': 15, 'min_samples_leaf': 6}. Best is trial 16 with value: 0.8971904908922507.\u001b[0m\n",
            "\u001b[32m[I 2021-08-15 21:33:44,807]\u001b[0m Trial 25 finished with value: 0.8962642790984872 and parameters: {'max_depth': 13, 'min_samples_split': 15, 'min_samples_leaf': 7}. Best is trial 16 with value: 0.8971904908922507.\u001b[0m\n",
            "\u001b[32m[I 2021-08-15 21:33:44,853]\u001b[0m Trial 26 finished with value: 0.8971904908922507 and parameters: {'max_depth': 7, 'min_samples_split': 14, 'min_samples_leaf': 9}. Best is trial 16 with value: 0.8971904908922507.\u001b[0m\n",
            "\u001b[32m[I 2021-08-15 21:33:44,892]\u001b[0m Trial 27 finished with value: 0.891015745600494 and parameters: {'max_depth': 4, 'min_samples_split': 13, 'min_samples_leaf': 11}. Best is trial 16 with value: 0.8971904908922507.\u001b[0m\n",
            "\u001b[32m[I 2021-08-15 21:33:44,934]\u001b[0m Trial 28 finished with value: 0.8965730163630751 and parameters: {'max_depth': 10, 'min_samples_split': 7, 'min_samples_leaf': 8}. Best is trial 16 with value: 0.8971904908922507.\u001b[0m\n",
            "\u001b[32m[I 2021-08-15 21:33:44,973]\u001b[0m Trial 29 finished with value: 0.8971904908922507 and parameters: {'max_depth': 7, 'min_samples_split': 13, 'min_samples_leaf': 14}. Best is trial 16 with value: 0.8971904908922507.\u001b[0m\n",
            "\u001b[32m[I 2021-08-15 21:33:45,016]\u001b[0m Trial 30 finished with value: 0.891015745600494 and parameters: {'max_depth': 5, 'min_samples_split': 13, 'min_samples_leaf': 15}. Best is trial 16 with value: 0.8971904908922507.\u001b[0m\n",
            "\u001b[32m[I 2021-08-15 21:33:45,056]\u001b[0m Trial 31 finished with value: 0.8971904908922507 and parameters: {'max_depth': 7, 'min_samples_split': 12, 'min_samples_leaf': 15}. Best is trial 16 with value: 0.8971904908922507.\u001b[0m\n",
            "\u001b[32m[I 2021-08-15 21:33:45,096]\u001b[0m Trial 32 finished with value: 0.8971904908922507 and parameters: {'max_depth': 7, 'min_samples_split': 12, 'min_samples_leaf': 15}. Best is trial 16 with value: 0.8971904908922507.\u001b[0m\n",
            "\u001b[32m[I 2021-08-15 21:33:45,138]\u001b[0m Trial 33 finished with value: 0.8971904908922507 and parameters: {'max_depth': 8, 'min_samples_split': 14, 'min_samples_leaf': 9}. Best is trial 16 with value: 0.8971904908922507.\u001b[0m\n",
            "\u001b[32m[I 2021-08-15 21:33:45,176]\u001b[0m Trial 34 finished with value: 0.891015745600494 and parameters: {'max_depth': 5, 'min_samples_split': 11, 'min_samples_leaf': 14}. Best is trial 16 with value: 0.8971904908922507.\u001b[0m\n",
            "\u001b[32m[I 2021-08-15 21:33:45,220]\u001b[0m Trial 35 finished with value: 0.8962642790984872 and parameters: {'max_depth': 11, 'min_samples_split': 15, 'min_samples_leaf': 7}. Best is trial 16 with value: 0.8971904908922507.\u001b[0m\n",
            "\u001b[32m[I 2021-08-15 21:33:45,259]\u001b[0m Trial 36 finished with value: 0.8970361222599568 and parameters: {'max_depth': 6, 'min_samples_split': 12, 'min_samples_leaf': 15}. Best is trial 16 with value: 0.8971904908922507.\u001b[0m\n",
            "\u001b[32m[I 2021-08-15 21:33:45,304]\u001b[0m Trial 37 finished with value: 0.8965730163630751 and parameters: {'max_depth': 9, 'min_samples_split': 14, 'min_samples_leaf': 9}. Best is trial 16 with value: 0.8971904908922507.\u001b[0m\n",
            "\u001b[32m[I 2021-08-15 21:33:45,351]\u001b[0m Trial 38 finished with value: 0.8971904908922507 and parameters: {'max_depth': 7, 'min_samples_split': 10, 'min_samples_leaf': 14}. Best is trial 16 with value: 0.8971904908922507.\u001b[0m\n",
            "\u001b[32m[I 2021-08-15 21:33:45,391]\u001b[0m Trial 39 finished with value: 0.891015745600494 and parameters: {'max_depth': 5, 'min_samples_split': 10, 'min_samples_leaf': 14}. Best is trial 16 with value: 0.8971904908922507.\u001b[0m\n",
            "\u001b[32m[I 2021-08-15 21:33:45,443]\u001b[0m Trial 40 finished with value: 0.8965730163630751 and parameters: {'max_depth': 11, 'min_samples_split': 4, 'min_samples_leaf': 10}. Best is trial 16 with value: 0.8971904908922507.\u001b[0m\n",
            "\u001b[32m[I 2021-08-15 21:33:45,485]\u001b[0m Trial 41 finished with value: 0.8971904908922507 and parameters: {'max_depth': 8, 'min_samples_split': 8, 'min_samples_leaf': 8}. Best is trial 16 with value: 0.8971904908922507.\u001b[0m\n",
            "\u001b[32m[I 2021-08-15 21:33:45,525]\u001b[0m Trial 42 finished with value: 0.8971904908922507 and parameters: {'max_depth': 7, 'min_samples_split': 12, 'min_samples_leaf': 15}. Best is trial 16 with value: 0.8971904908922507.\u001b[0m\n",
            "\u001b[32m[I 2021-08-15 21:33:45,564]\u001b[0m Trial 43 finished with value: 0.8970361222599568 and parameters: {'max_depth': 6, 'min_samples_split': 11, 'min_samples_leaf': 13}. Best is trial 16 with value: 0.8971904908922507.\u001b[0m\n",
            "\u001b[32m[I 2021-08-15 21:33:45,604]\u001b[0m Trial 44 finished with value: 0.8965730163630751 and parameters: {'max_depth': 9, 'min_samples_split': 10, 'min_samples_leaf': 10}. Best is trial 16 with value: 0.8971904908922507.\u001b[0m\n",
            "\u001b[32m[I 2021-08-15 21:33:45,646]\u001b[0m Trial 45 finished with value: 0.8962642790984872 and parameters: {'max_depth': 8, 'min_samples_split': 9, 'min_samples_leaf': 5}. Best is trial 16 with value: 0.8971904908922507.\u001b[0m\n",
            "\u001b[32m[I 2021-08-15 21:33:45,689]\u001b[0m Trial 46 finished with value: 0.8965730163630751 and parameters: {'max_depth': 10, 'min_samples_split': 14, 'min_samples_leaf': 9}. Best is trial 16 with value: 0.8971904908922507.\u001b[0m\n",
            "\u001b[32m[I 2021-08-15 21:33:45,730]\u001b[0m Trial 47 finished with value: 0.8971904908922507 and parameters: {'max_depth': 7, 'min_samples_split': 12, 'min_samples_leaf': 13}. Best is trial 16 with value: 0.8971904908922507.\u001b[0m\n",
            "\u001b[32m[I 2021-08-15 21:33:45,772]\u001b[0m Trial 48 finished with value: 0.891015745600494 and parameters: {'max_depth': 4, 'min_samples_split': 15, 'min_samples_leaf': 11}. Best is trial 16 with value: 0.8971904908922507.\u001b[0m\n",
            "\u001b[32m[I 2021-08-15 21:33:45,816]\u001b[0m Trial 49 finished with value: 0.8970361222599568 and parameters: {'max_depth': 6, 'min_samples_split': 13, 'min_samples_leaf': 6}. Best is trial 16 with value: 0.8971904908922507.\u001b[0m\n"
          ],
          "name": "stderr"
        },
        {
          "output_type": "stream",
          "text": [
            "FrozenTrial(number=16, values=[0.8971904908922507], datetime_start=datetime.datetime(2021, 8, 15, 21, 33, 44, 378156), datetime_complete=datetime.datetime(2021, 8, 15, 21, 33, 44, 402857), params={'max_depth': 8, 'min_samples_split': 6, 'min_samples_leaf': 8}, distributions={'max_depth': IntUniformDistribution(high=15, low=1, step=1), 'min_samples_split': IntUniformDistribution(high=15, low=3, step=1), 'min_samples_leaf': IntUniformDistribution(high=15, low=3, step=1)}, user_attrs={}, system_attrs={'mlflow_run_id': '920cbbe2bb124babbdf23d191060daff'}, intermediate_values={}, trial_id=16, state=TrialState.COMPLETE, value=None)\n"
          ],
          "name": "stdout"
        }
      ]
    },
    {
      "cell_type": "code",
      "metadata": {
        "id": "anT_rU9XV3Ij",
        "colab": {
          "base_uri": "https://localhost:8080/"
        },
        "outputId": "941c3baf-f21d-4cac-d17a-c02a1dc7a312"
      },
      "source": [
        "print(study_dt.best_trial.value)\n",
        "print(study_dt.best_trial.params)"
      ],
      "execution_count": 16,
      "outputs": [
        {
          "output_type": "stream",
          "text": [
            "0.8971904908922507\n",
            "{'max_depth': 8, 'min_samples_split': 6, 'min_samples_leaf': 8}\n"
          ],
          "name": "stdout"
        }
      ]
    },
    {
      "cell_type": "markdown",
      "metadata": {
        "id": "HMJBg2N9R7_B"
      },
      "source": [
        "### Random Forest"
      ]
    },
    {
      "cell_type": "code",
      "metadata": {
        "id": "AEXZLSYwR-Mv",
        "colab": {
          "base_uri": "https://localhost:8080/"
        },
        "outputId": "88f57431-19d2-4bf1-9058-118c1c5d4378"
      },
      "source": [
        "def objective_randomForest(trial):\n",
        "    forrest_n_estimators = trial.suggest_int('n_estimators', 100, 1000)\n",
        "    forrest_criterion = trial.suggest_categorical('criterion', ['gini', 'entropy'])\n",
        "    forrest_max_features = trial.suggest_categorical('max_features', ['auto', 'sqrt', 'log2'])\n",
        "\n",
        "    randomForrest_selection = RandomForestClassifier(n_estimators=forrest_n_estimators, criterion=forrest_criterion, max_features=forrest_max_features)\n",
        "    randomForrest_selection.fit(X_train, y_train) \n",
        "\n",
        "    prediction_validation = randomForrest_selection.predict(X_valid)\n",
        "    accuracy_validation = accuracy_score(y_valid, prediction_validation)\n",
        "\n",
        "    return accuracy_validation\n",
        "\n",
        "study_rf = optuna.create_study(direction=\"maximize\", study_name=\"Random Forest\")\n",
        "mlflow.end_run()\n",
        "study_rf.optimize(objective_randomForest, n_trials=50, callbacks=[mlflc])\n",
        "print(study_rf.best_trial)"
      ],
      "execution_count": 17,
      "outputs": [
        {
          "output_type": "stream",
          "text": [
            "\u001b[32m[I 2021-08-15 21:38:22,658]\u001b[0m A new study created in memory with name: Random Forest\u001b[0m\n",
            "\u001b[32m[I 2021-08-15 21:38:25,319]\u001b[0m Trial 0 finished with value: 0.8913244828650818 and parameters: {'n_estimators': 260, 'criterion': 'entropy', 'max_features': 'sqrt'}. Best is trial 0 with value: 0.8913244828650818.\u001b[0m\n"
          ],
          "name": "stderr"
        },
        {
          "output_type": "stream",
          "text": [
            "INFO: 'Random Forest' does not exist. Creating a new experiment\n"
          ],
          "name": "stdout"
        },
        {
          "output_type": "stream",
          "text": [
            "\u001b[32m[I 2021-08-15 21:38:31,015]\u001b[0m Trial 1 finished with value: 0.8916332201296696 and parameters: {'n_estimators': 609, 'criterion': 'gini', 'max_features': 'log2'}. Best is trial 1 with value: 0.8916332201296696.\u001b[0m\n",
            "\u001b[32m[I 2021-08-15 21:38:40,593]\u001b[0m Trial 2 finished with value: 0.8914788514973757 and parameters: {'n_estimators': 939, 'criterion': 'entropy', 'max_features': 'log2'}. Best is trial 1 with value: 0.8916332201296696.\u001b[0m\n",
            "\u001b[32m[I 2021-08-15 21:38:46,647]\u001b[0m Trial 3 finished with value: 0.8916332201296696 and parameters: {'n_estimators': 679, 'criterion': 'gini', 'max_features': 'sqrt'}. Best is trial 1 with value: 0.8916332201296696.\u001b[0m\n",
            "\u001b[32m[I 2021-08-15 21:38:50,443]\u001b[0m Trial 4 finished with value: 0.8916332201296696 and parameters: {'n_estimators': 369, 'criterion': 'entropy', 'max_features': 'log2'}. Best is trial 1 with value: 0.8916332201296696.\u001b[0m\n",
            "\u001b[32m[I 2021-08-15 21:38:55,428]\u001b[0m Trial 5 finished with value: 0.8920963260265514 and parameters: {'n_estimators': 508, 'criterion': 'entropy', 'max_features': 'auto'}. Best is trial 5 with value: 0.8920963260265514.\u001b[0m\n",
            "\u001b[32m[I 2021-08-15 21:39:03,864]\u001b[0m Trial 6 finished with value: 0.8911701142327879 and parameters: {'n_estimators': 867, 'criterion': 'entropy', 'max_features': 'sqrt'}. Best is trial 5 with value: 0.8920963260265514.\u001b[0m\n",
            "\u001b[32m[I 2021-08-15 21:39:08,716]\u001b[0m Trial 7 finished with value: 0.8917875887619636 and parameters: {'n_estimators': 557, 'criterion': 'gini', 'max_features': 'auto'}. Best is trial 5 with value: 0.8920963260265514.\u001b[0m\n",
            "\u001b[32m[I 2021-08-15 21:39:15,728]\u001b[0m Trial 8 finished with value: 0.8919419573942575 and parameters: {'n_estimators': 804, 'criterion': 'gini', 'max_features': 'sqrt'}. Best is trial 5 with value: 0.8920963260265514.\u001b[0m\n",
            "\u001b[32m[I 2021-08-15 21:39:24,386]\u001b[0m Trial 9 finished with value: 0.8914788514973757 and parameters: {'n_estimators': 855, 'criterion': 'entropy', 'max_features': 'log2'}. Best is trial 5 with value: 0.8920963260265514.\u001b[0m\n",
            "\u001b[32m[I 2021-08-15 21:39:25,879]\u001b[0m Trial 10 finished with value: 0.891015745600494 and parameters: {'n_estimators': 151, 'criterion': 'entropy', 'max_features': 'auto'}. Best is trial 5 with value: 0.8920963260265514.\u001b[0m\n",
            "\u001b[32m[I 2021-08-15 21:39:32,030]\u001b[0m Trial 11 finished with value: 0.8916332201296696 and parameters: {'n_estimators': 704, 'criterion': 'gini', 'max_features': 'auto'}. Best is trial 5 with value: 0.8920963260265514.\u001b[0m\n",
            "\u001b[32m[I 2021-08-15 21:39:35,692]\u001b[0m Trial 12 finished with value: 0.8916332201296696 and parameters: {'n_estimators': 416, 'criterion': 'gini', 'max_features': 'auto'}. Best is trial 5 with value: 0.8920963260265514.\u001b[0m\n",
            "\u001b[32m[I 2021-08-15 21:39:42,316]\u001b[0m Trial 13 finished with value: 0.8911701142327879 and parameters: {'n_estimators': 760, 'criterion': 'gini', 'max_features': 'sqrt'}. Best is trial 5 with value: 0.8920963260265514.\u001b[0m\n",
            "\u001b[32m[I 2021-08-15 21:39:46,205]\u001b[0m Trial 14 finished with value: 0.8914788514973757 and parameters: {'n_estimators': 438, 'criterion': 'gini', 'max_features': 'sqrt'}. Best is trial 5 with value: 0.8920963260265514.\u001b[0m\n",
            "\u001b[32m[I 2021-08-15 21:39:55,932]\u001b[0m Trial 15 finished with value: 0.8913244828650818 and parameters: {'n_estimators': 992, 'criterion': 'entropy', 'max_features': 'auto'}. Best is trial 5 with value: 0.8920963260265514.\u001b[0m\n",
            "\u001b[32m[I 2021-08-15 21:40:00,654]\u001b[0m Trial 16 finished with value: 0.8913244828650818 and parameters: {'n_estimators': 491, 'criterion': 'entropy', 'max_features': 'sqrt'}. Best is trial 5 with value: 0.8920963260265514.\u001b[0m\n",
            "\u001b[32m[I 2021-08-15 21:40:03,372]\u001b[0m Trial 17 finished with value: 0.8916332201296696 and parameters: {'n_estimators': 310, 'criterion': 'gini', 'max_features': 'auto'}. Best is trial 5 with value: 0.8920963260265514.\u001b[0m\n",
            "\u001b[32m[I 2021-08-15 21:40:11,213]\u001b[0m Trial 18 finished with value: 0.8916332201296696 and parameters: {'n_estimators': 811, 'criterion': 'entropy', 'max_features': 'auto'}. Best is trial 5 with value: 0.8920963260265514.\u001b[0m\n",
            "\u001b[32m[I 2021-08-15 21:40:16,903]\u001b[0m Trial 19 finished with value: 0.8917875887619636 and parameters: {'n_estimators': 640, 'criterion': 'gini', 'max_features': 'sqrt'}. Best is trial 5 with value: 0.8920963260265514.\u001b[0m\n",
            "\u001b[32m[I 2021-08-15 21:40:21,527]\u001b[0m Trial 20 finished with value: 0.8917875887619636 and parameters: {'n_estimators': 525, 'criterion': 'gini', 'max_features': 'sqrt'}. Best is trial 5 with value: 0.8920963260265514.\u001b[0m\n",
            "\u001b[32m[I 2021-08-15 21:40:25,814]\u001b[0m Trial 21 finished with value: 0.891015745600494 and parameters: {'n_estimators': 498, 'criterion': 'gini', 'max_features': 'sqrt'}. Best is trial 5 with value: 0.8920963260265514.\u001b[0m\n",
            "\u001b[32m[I 2021-08-15 21:40:31,386]\u001b[0m Trial 22 finished with value: 0.8919419573942575 and parameters: {'n_estimators': 642, 'criterion': 'gini', 'max_features': 'sqrt'}. Best is trial 5 with value: 0.8920963260265514.\u001b[0m\n",
            "\u001b[32m[I 2021-08-15 21:40:37,810]\u001b[0m Trial 23 finished with value: 0.8913244828650818 and parameters: {'n_estimators': 739, 'criterion': 'gini', 'max_features': 'sqrt'}. Best is trial 5 with value: 0.8920963260265514.\u001b[0m\n",
            "\u001b[32m[I 2021-08-15 21:40:42,721]\u001b[0m Trial 24 finished with value: 0.8913244828650818 and parameters: {'n_estimators': 569, 'criterion': 'gini', 'max_features': 'sqrt'}. Best is trial 5 with value: 0.8920963260265514.\u001b[0m\n",
            "\u001b[32m[I 2021-08-15 21:40:49,773]\u001b[0m Trial 25 finished with value: 0.8917875887619636 and parameters: {'n_estimators': 810, 'criterion': 'gini', 'max_features': 'auto'}. Best is trial 5 with value: 0.8920963260265514.\u001b[0m\n",
            "\u001b[32m[I 2021-08-15 21:40:55,997]\u001b[0m Trial 26 finished with value: 0.8916332201296696 and parameters: {'n_estimators': 638, 'criterion': 'entropy', 'max_features': 'sqrt'}. Best is trial 5 with value: 0.8920963260265514.\u001b[0m\n",
            "\u001b[32m[I 2021-08-15 21:41:03,932]\u001b[0m Trial 27 finished with value: 0.8914788514973757 and parameters: {'n_estimators': 911, 'criterion': 'gini', 'max_features': 'auto'}. Best is trial 5 with value: 0.8920963260265514.\u001b[0m\n",
            "\u001b[32m[I 2021-08-15 21:41:11,335]\u001b[0m Trial 28 finished with value: 0.8916332201296696 and parameters: {'n_estimators': 772, 'criterion': 'entropy', 'max_features': 'sqrt'}. Best is trial 5 with value: 0.8920963260265514.\u001b[0m\n",
            "\u001b[32m[I 2021-08-15 21:41:14,514]\u001b[0m Trial 29 finished with value: 0.8911701142327879 and parameters: {'n_estimators': 314, 'criterion': 'entropy', 'max_features': 'log2'}. Best is trial 5 with value: 0.8920963260265514.\u001b[0m\n",
            "\u001b[32m[I 2021-08-15 21:41:20,532]\u001b[0m Trial 30 finished with value: 0.891015745600494 and parameters: {'n_estimators': 687, 'criterion': 'gini', 'max_features': 'sqrt'}. Best is trial 5 with value: 0.8920963260265514.\u001b[0m\n",
            "\u001b[32m[I 2021-08-15 21:41:24,868]\u001b[0m Trial 31 finished with value: 0.8917875887619636 and parameters: {'n_estimators': 499, 'criterion': 'gini', 'max_features': 'sqrt'}. Best is trial 5 with value: 0.8920963260265514.\u001b[0m\n",
            "\u001b[32m[I 2021-08-15 21:41:30,029]\u001b[0m Trial 32 finished with value: 0.8911701142327879 and parameters: {'n_estimators': 599, 'criterion': 'gini', 'max_features': 'sqrt'}. Best is trial 5 with value: 0.8920963260265514.\u001b[0m\n",
            "\u001b[32m[I 2021-08-15 21:41:33,825]\u001b[0m Trial 33 finished with value: 0.8917875887619636 and parameters: {'n_estimators': 430, 'criterion': 'gini', 'max_features': 'sqrt'}. Best is trial 5 with value: 0.8920963260265514.\u001b[0m\n",
            "\u001b[32m[I 2021-08-15 21:41:38,359]\u001b[0m Trial 34 finished with value: 0.8914788514973757 and parameters: {'n_estimators': 516, 'criterion': 'gini', 'max_features': 'sqrt'}. Best is trial 5 with value: 0.8920963260265514.\u001b[0m\n",
            "\u001b[32m[I 2021-08-15 21:41:43,945]\u001b[0m Trial 35 finished with value: 0.8917875887619636 and parameters: {'n_estimators': 620, 'criterion': 'gini', 'max_features': 'log2'}. Best is trial 5 with value: 0.8920963260265514.\u001b[0m\n",
            "\u001b[32m[I 2021-08-15 21:41:49,703]\u001b[0m Trial 36 finished with value: 0.8911701142327879 and parameters: {'n_estimators': 628, 'criterion': 'gini', 'max_features': 'log2'}. Best is trial 5 with value: 0.8920963260265514.\u001b[0m\n",
            "\u001b[32m[I 2021-08-15 21:41:57,542]\u001b[0m Trial 37 finished with value: 0.8919419573942575 and parameters: {'n_estimators': 813, 'criterion': 'entropy', 'max_features': 'auto'}. Best is trial 5 with value: 0.8920963260265514.\u001b[0m\n",
            "\u001b[32m[I 2021-08-15 21:42:06,378]\u001b[0m Trial 38 finished with value: 0.891015745600494 and parameters: {'n_estimators': 910, 'criterion': 'entropy', 'max_features': 'auto'}. Best is trial 5 with value: 0.8920963260265514.\u001b[0m\n",
            "\u001b[32m[I 2021-08-15 21:42:14,776]\u001b[0m Trial 39 finished with value: 0.8913244828650818 and parameters: {'n_estimators': 853, 'criterion': 'entropy', 'max_features': 'auto'}. Best is trial 5 with value: 0.8920963260265514.\u001b[0m\n",
            "\u001b[32m[I 2021-08-15 21:42:21,802]\u001b[0m Trial 40 finished with value: 0.8916332201296696 and parameters: {'n_estimators': 722, 'criterion': 'entropy', 'max_features': 'auto'}. Best is trial 5 with value: 0.8920963260265514.\u001b[0m\n",
            "\u001b[32m[I 2021-08-15 21:42:27,291]\u001b[0m Trial 41 finished with value: 0.8911701142327879 and parameters: {'n_estimators': 563, 'criterion': 'entropy', 'max_features': 'sqrt'}. Best is trial 5 with value: 0.8920963260265514.\u001b[0m\n",
            "\u001b[32m[I 2021-08-15 21:42:35,072]\u001b[0m Trial 42 finished with value: 0.8919419573942575 and parameters: {'n_estimators': 796, 'criterion': 'entropy', 'max_features': 'auto'}. Best is trial 5 with value: 0.8920963260265514.\u001b[0m\n",
            "\u001b[32m[I 2021-08-15 21:42:42,718]\u001b[0m Trial 43 finished with value: 0.8919419573942575 and parameters: {'n_estimators': 804, 'criterion': 'entropy', 'max_features': 'auto'}. Best is trial 5 with value: 0.8920963260265514.\u001b[0m\n",
            "\u001b[32m[I 2021-08-15 21:42:51,967]\u001b[0m Trial 44 finished with value: 0.8914788514973757 and parameters: {'n_estimators': 964, 'criterion': 'entropy', 'max_features': 'auto'}. Best is trial 5 with value: 0.8920963260265514.\u001b[0m\n",
            "\u001b[32m[I 2021-08-15 21:43:00,542]\u001b[0m Trial 45 finished with value: 0.8908613769682001 and parameters: {'n_estimators': 891, 'criterion': 'entropy', 'max_features': 'auto'}. Best is trial 5 with value: 0.8920963260265514.\u001b[0m\n",
            "\u001b[32m[I 2021-08-15 21:43:08,723]\u001b[0m Trial 46 finished with value: 0.8916332201296696 and parameters: {'n_estimators': 848, 'criterion': 'entropy', 'max_features': 'auto'}. Best is trial 5 with value: 0.8920963260265514.\u001b[0m\n",
            "\u001b[32m[I 2021-08-15 21:43:16,103]\u001b[0m Trial 47 finished with value: 0.8919419573942575 and parameters: {'n_estimators': 764, 'criterion': 'entropy', 'max_features': 'auto'}. Best is trial 5 with value: 0.8920963260265514.\u001b[0m\n",
            "\u001b[32m[I 2021-08-15 21:43:22,586]\u001b[0m Trial 48 finished with value: 0.8919419573942575 and parameters: {'n_estimators': 671, 'criterion': 'entropy', 'max_features': 'auto'}. Best is trial 5 with value: 0.8920963260265514.\u001b[0m\n",
            "\u001b[32m[I 2021-08-15 21:43:29,171]\u001b[0m Trial 49 finished with value: 0.8917875887619636 and parameters: {'n_estimators': 686, 'criterion': 'entropy', 'max_features': 'auto'}. Best is trial 5 with value: 0.8920963260265514.\u001b[0m\n"
          ],
          "name": "stderr"
        },
        {
          "output_type": "stream",
          "text": [
            "FrozenTrial(number=5, values=[0.8920963260265514], datetime_start=datetime.datetime(2021, 8, 15, 21, 38, 50, 464775), datetime_complete=datetime.datetime(2021, 8, 15, 21, 38, 55, 427779), params={'n_estimators': 508, 'criterion': 'entropy', 'max_features': 'auto'}, distributions={'n_estimators': IntUniformDistribution(high=1000, low=100, step=1), 'criterion': CategoricalDistribution(choices=('gini', 'entropy')), 'max_features': CategoricalDistribution(choices=('auto', 'sqrt', 'log2'))}, user_attrs={}, system_attrs={}, intermediate_values={}, trial_id=5, state=TrialState.COMPLETE, value=None)\n"
          ],
          "name": "stdout"
        }
      ]
    },
    {
      "cell_type": "code",
      "metadata": {
        "id": "i8deD3QcW2u8",
        "colab": {
          "base_uri": "https://localhost:8080/"
        },
        "outputId": "3d932775-c8c3-48e4-86ab-58a56f077d0f"
      },
      "source": [
        "print(study_rf.best_trial.value)\n",
        "print(study_rf.best_trial.params)"
      ],
      "execution_count": 18,
      "outputs": [
        {
          "output_type": "stream",
          "text": [
            "0.8920963260265514\n",
            "{'n_estimators': 508, 'criterion': 'entropy', 'max_features': 'auto'}\n"
          ],
          "name": "stdout"
        }
      ]
    },
    {
      "cell_type": "markdown",
      "metadata": {
        "id": "ybLaeIKAQAFI"
      },
      "source": [
        "### Naive Bayes"
      ]
    },
    {
      "cell_type": "code",
      "metadata": {
        "id": "VjWgBLsbQTDE",
        "colab": {
          "base_uri": "https://localhost:8080/"
        },
        "outputId": "3fab927a-c07b-4e9c-f4f3-d9193fa485f0"
      },
      "source": [
        "def objective_naiveBayes(trial):\n",
        "    nb_var_smoothing = trial.suggest_float('var_smoothing', 1e-9, 1e9, log=True)\n",
        "\n",
        "    naiveBayes_selection = GaussianNB(var_smoothing=nb_var_smoothing)\n",
        "    naiveBayes_selection.fit(X_train, y_train)     \n",
        "\n",
        "    prediction_validation = naiveBayes_selection.predict(X_valid)\n",
        "    accuracy_validation = accuracy_score(y_valid, prediction_validation)\n",
        "\n",
        "    return accuracy_validation\n",
        "\n",
        "study_nb = optuna.create_study(direction=\"maximize\", study_name=\"Neive Bayes\")\n",
        "mlflow.end_run()\n",
        "study_nb.optimize(objective_naiveBayes, n_trials=50, callbacks=[mlflc])\n",
        "print(study_nb.best_trial)"
      ],
      "execution_count": 19,
      "outputs": [
        {
          "output_type": "stream",
          "text": [
            "\u001b[32m[I 2021-08-15 21:44:01,358]\u001b[0m A new study created in memory with name: Neive Bayes\u001b[0m\n",
            "\u001b[32m[I 2021-08-15 21:44:01,378]\u001b[0m Trial 0 finished with value: 0.8672429762272307 and parameters: {'var_smoothing': 6199.49291075694}. Best is trial 0 with value: 0.8672429762272307.\u001b[0m\n",
            "\u001b[32m[I 2021-08-15 21:44:01,408]\u001b[0m Trial 1 finished with value: 0.8672429762272307 and parameters: {'var_smoothing': 1616174.9364794856}. Best is trial 0 with value: 0.8672429762272307.\u001b[0m\n",
            "\u001b[32m[I 2021-08-15 21:44:01,434]\u001b[0m Trial 2 finished with value: 0.8672429762272307 and parameters: {'var_smoothing': 37.50502674308528}. Best is trial 0 with value: 0.8672429762272307.\u001b[0m\n",
            "\u001b[32m[I 2021-08-15 21:44:01,459]\u001b[0m Trial 3 finished with value: 0.8672429762272307 and parameters: {'var_smoothing': 0.0055743379014353755}. Best is trial 0 with value: 0.8672429762272307.\u001b[0m\n",
            "\u001b[32m[I 2021-08-15 21:44:01,485]\u001b[0m Trial 4 finished with value: 0.8672429762272307 and parameters: {'var_smoothing': 0.0002662308216903886}. Best is trial 0 with value: 0.8672429762272307.\u001b[0m\n",
            "\u001b[32m[I 2021-08-15 21:44:01,510]\u001b[0m Trial 5 finished with value: 0.8672429762272307 and parameters: {'var_smoothing': 0.0002285801653892024}. Best is trial 0 with value: 0.8672429762272307.\u001b[0m\n",
            "\u001b[32m[I 2021-08-15 21:44:01,534]\u001b[0m Trial 6 finished with value: 0.8672429762272307 and parameters: {'var_smoothing': 158318.43882428325}. Best is trial 0 with value: 0.8672429762272307.\u001b[0m\n",
            "\u001b[32m[I 2021-08-15 21:44:01,561]\u001b[0m Trial 7 finished with value: 0.8672429762272307 and parameters: {'var_smoothing': 244895.27098850955}. Best is trial 0 with value: 0.8672429762272307.\u001b[0m\n"
          ],
          "name": "stderr"
        },
        {
          "output_type": "stream",
          "text": [
            "INFO: 'Neive Bayes' does not exist. Creating a new experiment\n"
          ],
          "name": "stdout"
        },
        {
          "output_type": "stream",
          "text": [
            "\u001b[32m[I 2021-08-15 21:44:01,586]\u001b[0m Trial 8 finished with value: 0.8672429762272307 and parameters: {'var_smoothing': 2.3437422419670653e-05}. Best is trial 0 with value: 0.8672429762272307.\u001b[0m\n",
            "\u001b[32m[I 2021-08-15 21:44:01,619]\u001b[0m Trial 9 finished with value: 0.8672429762272307 and parameters: {'var_smoothing': 285.81567455809216}. Best is trial 0 with value: 0.8672429762272307.\u001b[0m\n",
            "\u001b[32m[I 2021-08-15 21:44:01,647]\u001b[0m Trial 10 finished with value: 0.8672429762272307 and parameters: {'var_smoothing': 495453407.3195298}. Best is trial 0 with value: 0.8672429762272307.\u001b[0m\n",
            "\u001b[32m[I 2021-08-15 21:44:01,674]\u001b[0m Trial 11 finished with value: 0.8672429762272307 and parameters: {'var_smoothing': 703153484.2152555}. Best is trial 0 with value: 0.8672429762272307.\u001b[0m\n",
            "\u001b[32m[I 2021-08-15 21:44:01,701]\u001b[0m Trial 12 finished with value: 0.7545538746526705 and parameters: {'var_smoothing': 7.805851603121682e-09}. Best is trial 0 with value: 0.8672429762272307.\u001b[0m\n",
            "\u001b[32m[I 2021-08-15 21:44:01,728]\u001b[0m Trial 13 finished with value: 0.8672429762272307 and parameters: {'var_smoothing': 46938.85978727609}. Best is trial 0 with value: 0.8672429762272307.\u001b[0m\n",
            "\u001b[32m[I 2021-08-15 21:44:01,755]\u001b[0m Trial 14 finished with value: 0.8672429762272307 and parameters: {'var_smoothing': 907.3055902085297}. Best is trial 0 with value: 0.8672429762272307.\u001b[0m\n",
            "\u001b[32m[I 2021-08-15 21:44:01,782]\u001b[0m Trial 15 finished with value: 0.8672429762272307 and parameters: {'var_smoothing': 0.518607347891381}. Best is trial 0 with value: 0.8672429762272307.\u001b[0m\n",
            "\u001b[32m[I 2021-08-15 21:44:01,811]\u001b[0m Trial 16 finished with value: 0.8672429762272307 and parameters: {'var_smoothing': 15761317.956357244}. Best is trial 0 with value: 0.8672429762272307.\u001b[0m\n",
            "\u001b[32m[I 2021-08-15 21:44:01,836]\u001b[0m Trial 17 finished with value: 0.8672429762272307 and parameters: {'var_smoothing': 633.9157435948458}. Best is trial 0 with value: 0.8672429762272307.\u001b[0m\n",
            "\u001b[32m[I 2021-08-15 21:44:01,863]\u001b[0m Trial 18 finished with value: 0.8672429762272307 and parameters: {'var_smoothing': 0.17075266944024647}. Best is trial 0 with value: 0.8672429762272307.\u001b[0m\n",
            "\u001b[32m[I 2021-08-15 21:44:01,890]\u001b[0m Trial 19 finished with value: 0.8672429762272307 and parameters: {'var_smoothing': 16950248.72582815}. Best is trial 0 with value: 0.8672429762272307.\u001b[0m\n",
            "\u001b[32m[I 2021-08-15 21:44:01,918]\u001b[0m Trial 20 finished with value: 0.8672429762272307 and parameters: {'var_smoothing': 2722.0114419638435}. Best is trial 0 with value: 0.8672429762272307.\u001b[0m\n",
            "\u001b[32m[I 2021-08-15 21:44:01,949]\u001b[0m Trial 21 finished with value: 0.8672429762272307 and parameters: {'var_smoothing': 1.8303564068674705}. Best is trial 0 with value: 0.8672429762272307.\u001b[0m\n",
            "\u001b[32m[I 2021-08-15 21:44:01,980]\u001b[0m Trial 22 finished with value: 0.8672429762272307 and parameters: {'var_smoothing': 1.2932916536117889}. Best is trial 0 with value: 0.8672429762272307.\u001b[0m\n",
            "\u001b[32m[I 2021-08-15 21:44:02,009]\u001b[0m Trial 23 finished with value: 0.8672429762272307 and parameters: {'var_smoothing': 13943.637223146796}. Best is trial 0 with value: 0.8672429762272307.\u001b[0m\n",
            "\u001b[32m[I 2021-08-15 21:44:02,037]\u001b[0m Trial 24 finished with value: 0.8672429762272307 and parameters: {'var_smoothing': 16.630097975727573}. Best is trial 0 with value: 0.8672429762272307.\u001b[0m\n",
            "\u001b[32m[I 2021-08-15 21:44:02,064]\u001b[0m Trial 25 finished with value: 0.8672429762272307 and parameters: {'var_smoothing': 0.03057164627197444}. Best is trial 0 with value: 0.8672429762272307.\u001b[0m\n",
            "\u001b[32m[I 2021-08-15 21:44:02,094]\u001b[0m Trial 26 finished with value: 0.8672429762272307 and parameters: {'var_smoothing': 15249.887972297283}. Best is trial 0 with value: 0.8672429762272307.\u001b[0m\n",
            "\u001b[32m[I 2021-08-15 21:44:02,121]\u001b[0m Trial 27 finished with value: 0.8672429762272307 and parameters: {'var_smoothing': 36.080114903025795}. Best is trial 0 with value: 0.8672429762272307.\u001b[0m\n",
            "\u001b[32m[I 2021-08-15 21:44:02,153]\u001b[0m Trial 28 finished with value: 0.757486878666255 and parameters: {'var_smoothing': 2.9844815681911433e-07}. Best is trial 0 with value: 0.8672429762272307.\u001b[0m\n",
            "\u001b[32m[I 2021-08-15 21:44:02,181]\u001b[0m Trial 29 finished with value: 0.8672429762272307 and parameters: {'var_smoothing': 0.021506477790841947}. Best is trial 0 with value: 0.8672429762272307.\u001b[0m\n",
            "\u001b[32m[I 2021-08-15 21:44:02,206]\u001b[0m Trial 30 finished with value: 0.8672429762272307 and parameters: {'var_smoothing': 3816130.3605606025}. Best is trial 0 with value: 0.8672429762272307.\u001b[0m\n",
            "\u001b[32m[I 2021-08-15 21:44:02,239]\u001b[0m Trial 31 finished with value: 0.8672429762272307 and parameters: {'var_smoothing': 26.725171281388644}. Best is trial 0 with value: 0.8672429762272307.\u001b[0m\n",
            "\u001b[32m[I 2021-08-15 21:44:02,269]\u001b[0m Trial 32 finished with value: 0.8672429762272307 and parameters: {'var_smoothing': 34.92086971660303}. Best is trial 0 with value: 0.8672429762272307.\u001b[0m\n",
            "\u001b[32m[I 2021-08-15 21:44:02,296]\u001b[0m Trial 33 finished with value: 0.8672429762272307 and parameters: {'var_smoothing': 2680867.9593809303}. Best is trial 0 with value: 0.8672429762272307.\u001b[0m\n",
            "\u001b[32m[I 2021-08-15 21:44:02,322]\u001b[0m Trial 34 finished with value: 0.8672429762272307 and parameters: {'var_smoothing': 0.030344349268183874}. Best is trial 0 with value: 0.8672429762272307.\u001b[0m\n",
            "\u001b[32m[I 2021-08-15 21:44:02,351]\u001b[0m Trial 35 finished with value: 0.8672429762272307 and parameters: {'var_smoothing': 8.199042805096006}. Best is trial 0 with value: 0.8672429762272307.\u001b[0m\n",
            "\u001b[32m[I 2021-08-15 21:44:02,377]\u001b[0m Trial 36 finished with value: 0.8672429762272307 and parameters: {'var_smoothing': 72854825.09570985}. Best is trial 0 with value: 0.8672429762272307.\u001b[0m\n",
            "\u001b[32m[I 2021-08-15 21:44:02,408]\u001b[0m Trial 37 finished with value: 0.8672429762272307 and parameters: {'var_smoothing': 1.8553599447747577}. Best is trial 0 with value: 0.8672429762272307.\u001b[0m\n",
            "\u001b[32m[I 2021-08-15 21:44:02,437]\u001b[0m Trial 38 finished with value: 0.8672429762272307 and parameters: {'var_smoothing': 0.0008857665130347235}. Best is trial 0 with value: 0.8672429762272307.\u001b[0m\n",
            "\u001b[32m[I 2021-08-15 21:44:02,465]\u001b[0m Trial 39 finished with value: 0.8672429762272307 and parameters: {'var_smoothing': 15851.589844934151}. Best is trial 0 with value: 0.8672429762272307.\u001b[0m\n",
            "\u001b[32m[I 2021-08-15 21:44:02,492]\u001b[0m Trial 40 finished with value: 0.8672429762272307 and parameters: {'var_smoothing': 1.717941692311576e-05}. Best is trial 0 with value: 0.8672429762272307.\u001b[0m\n",
            "\u001b[32m[I 2021-08-15 21:44:02,524]\u001b[0m Trial 41 finished with value: 0.8672429762272307 and parameters: {'var_smoothing': 172.9650741902344}. Best is trial 0 with value: 0.8672429762272307.\u001b[0m\n",
            "\u001b[32m[I 2021-08-15 21:44:02,551]\u001b[0m Trial 42 finished with value: 0.8672429762272307 and parameters: {'var_smoothing': 277555.5070147911}. Best is trial 0 with value: 0.8672429762272307.\u001b[0m\n",
            "\u001b[32m[I 2021-08-15 21:44:02,585]\u001b[0m Trial 43 finished with value: 0.8672429762272307 and parameters: {'var_smoothing': 11662.088667883674}. Best is trial 0 with value: 0.8672429762272307.\u001b[0m\n",
            "\u001b[32m[I 2021-08-15 21:44:02,613]\u001b[0m Trial 44 finished with value: 0.8672429762272307 and parameters: {'var_smoothing': 7232.969748440291}. Best is trial 0 with value: 0.8672429762272307.\u001b[0m\n",
            "\u001b[32m[I 2021-08-15 21:44:02,641]\u001b[0m Trial 45 finished with value: 0.8672429762272307 and parameters: {'var_smoothing': 90.14603575260546}. Best is trial 0 with value: 0.8672429762272307.\u001b[0m\n",
            "\u001b[32m[I 2021-08-15 21:44:02,668]\u001b[0m Trial 46 finished with value: 0.8672429762272307 and parameters: {'var_smoothing': 9.686470747530432}. Best is trial 0 with value: 0.8672429762272307.\u001b[0m\n",
            "\u001b[32m[I 2021-08-15 21:44:02,696]\u001b[0m Trial 47 finished with value: 0.8672429762272307 and parameters: {'var_smoothing': 0.010491794660641835}. Best is trial 0 with value: 0.8672429762272307.\u001b[0m\n",
            "\u001b[32m[I 2021-08-15 21:44:02,725]\u001b[0m Trial 48 finished with value: 0.8672429762272307 and parameters: {'var_smoothing': 0.04815349630909841}. Best is trial 0 with value: 0.8672429762272307.\u001b[0m\n",
            "\u001b[32m[I 2021-08-15 21:44:02,760]\u001b[0m Trial 49 finished with value: 0.8672429762272307 and parameters: {'var_smoothing': 1291727.5493473103}. Best is trial 0 with value: 0.8672429762272307.\u001b[0m\n"
          ],
          "name": "stderr"
        },
        {
          "output_type": "stream",
          "text": [
            "FrozenTrial(number=0, values=[0.8672429762272307], datetime_start=datetime.datetime(2021, 8, 15, 21, 44, 1, 367227), datetime_complete=datetime.datetime(2021, 8, 15, 21, 44, 1, 378154), params={'var_smoothing': 6199.49291075694}, distributions={'var_smoothing': LogUniformDistribution(high=1000000000.0, low=1e-09)}, user_attrs={}, system_attrs={}, intermediate_values={}, trial_id=0, state=TrialState.COMPLETE, value=None)\n"
          ],
          "name": "stdout"
        }
      ]
    },
    {
      "cell_type": "code",
      "metadata": {
        "id": "B6zDH4ZrQsvL",
        "colab": {
          "base_uri": "https://localhost:8080/"
        },
        "outputId": "e7f07c22-00ea-4bda-f1ec-d8048257eb5c"
      },
      "source": [
        "print(study_nb.best_trial.value)\n",
        "print(study_nb.best_trial.params)"
      ],
      "execution_count": 20,
      "outputs": [
        {
          "output_type": "stream",
          "text": [
            "0.8672429762272307\n",
            "{'var_smoothing': 6199.49291075694}\n"
          ],
          "name": "stdout"
        }
      ]
    },
    {
      "cell_type": "markdown",
      "metadata": {
        "id": "HM_16ifCYrDm"
      },
      "source": [
        "### MLP"
      ]
    },
    {
      "cell_type": "code",
      "metadata": {
        "id": "e7zPRGEyYvHu",
        "colab": {
          "base_uri": "https://localhost:8080/"
        },
        "outputId": "58a6e07d-db80-47b5-ea12-1a6a7bf25409"
      },
      "source": [
        "def objective_MLP(trial):\n",
        "    layer_size = trial.suggest_int('hidden_layer_sizes', 10, 1000, 10)\n",
        "    activation = trial.suggest_categorical('activation', ['logistic', 'relu', 'tanh'])\n",
        "    solver = trial.suggest_categorical('solver', ['adam', 'sgd'])\n",
        "    mlp_selection = MLPClassifier(layer_size, activation=activation, solver=solver)\n",
        "    mlp_selection.fit(X_train, y_train)     \n",
        "\n",
        "    prediction_validation = mlp_selection.predict(X_valid)\n",
        "    accuracy_validation = accuracy_score(y_valid, prediction_validation)\n",
        "\n",
        "    return accuracy_validation\n",
        "\n",
        "study_mlp = optuna.create_study(direction=\"maximize\", study_name=\"MLP\")\n",
        "mlflow.end_run()\n",
        "study_mlp.optimize(objective_MLP, n_trials=50, callbacks=[mlflc])\n",
        "print(study_mlp.best_trial)"
      ],
      "execution_count": 21,
      "outputs": [
        {
          "output_type": "stream",
          "text": [
            "\u001b[32m[I 2021-08-15 21:44:02,818]\u001b[0m A new study created in memory with name: MLP\u001b[0m\n",
            "\u001b[32m[I 2021-08-15 21:44:10,428]\u001b[0m Trial 0 finished with value: 0.8672429762272307 and parameters: {'hidden_layer_sizes': 440, 'activation': 'tanh', 'solver': 'adam'}. Best is trial 0 with value: 0.8672429762272307.\u001b[0m\n"
          ],
          "name": "stderr"
        },
        {
          "output_type": "stream",
          "text": [
            "INFO: 'MLP' does not exist. Creating a new experiment\n"
          ],
          "name": "stdout"
        },
        {
          "output_type": "stream",
          "text": [
            "\u001b[32m[I 2021-08-15 21:44:11,527]\u001b[0m Trial 1 finished with value: 0.8672429762272307 and parameters: {'hidden_layer_sizes': 70, 'activation': 'logistic', 'solver': 'adam'}. Best is trial 0 with value: 0.8672429762272307.\u001b[0m\n",
            "\u001b[32m[I 2021-08-15 21:44:15,702]\u001b[0m Trial 2 finished with value: 0.8672429762272307 and parameters: {'hidden_layer_sizes': 320, 'activation': 'relu', 'solver': 'sgd'}. Best is trial 0 with value: 0.8672429762272307.\u001b[0m\n",
            "\u001b[32m[I 2021-08-15 21:44:22,088]\u001b[0m Trial 3 finished with value: 0.8672429762272307 and parameters: {'hidden_layer_sizes': 620, 'activation': 'logistic', 'solver': 'sgd'}. Best is trial 0 with value: 0.8672429762272307.\u001b[0m\n",
            "\u001b[32m[I 2021-08-15 21:44:31,960]\u001b[0m Trial 4 finished with value: 0.8672429762272307 and parameters: {'hidden_layer_sizes': 930, 'activation': 'logistic', 'solver': 'adam'}. Best is trial 0 with value: 0.8672429762272307.\u001b[0m\n",
            "\u001b[32m[I 2021-08-15 21:44:43,669]\u001b[0m Trial 5 finished with value: 0.8672429762272307 and parameters: {'hidden_layer_sizes': 730, 'activation': 'tanh', 'solver': 'adam'}. Best is trial 0 with value: 0.8672429762272307.\u001b[0m\n",
            "\u001b[32m[I 2021-08-15 21:44:49,273]\u001b[0m Trial 6 finished with value: 0.8672429762272307 and parameters: {'hidden_layer_sizes': 480, 'activation': 'relu', 'solver': 'sgd'}. Best is trial 0 with value: 0.8672429762272307.\u001b[0m\n",
            "\u001b[32m[I 2021-08-15 21:44:52,641]\u001b[0m Trial 7 finished with value: 0.6894103118246372 and parameters: {'hidden_layer_sizes': 170, 'activation': 'relu', 'solver': 'adam'}. Best is trial 0 with value: 0.8672429762272307.\u001b[0m\n",
            "\u001b[32m[I 2021-08-15 21:44:59,436]\u001b[0m Trial 8 finished with value: 0.8672429762272307 and parameters: {'hidden_layer_sizes': 460, 'activation': 'logistic', 'solver': 'adam'}. Best is trial 0 with value: 0.8672429762272307.\u001b[0m\n",
            "\u001b[32m[I 2021-08-15 21:45:08,004]\u001b[0m Trial 9 finished with value: 0.8672429762272307 and parameters: {'hidden_layer_sizes': 710, 'activation': 'relu', 'solver': 'sgd'}. Best is trial 0 with value: 0.8672429762272307.\u001b[0m\n",
            "\u001b[32m[I 2021-08-15 21:45:10,743]\u001b[0m Trial 10 finished with value: 0.8672429762272307 and parameters: {'hidden_layer_sizes': 300, 'activation': 'tanh', 'solver': 'adam'}. Best is trial 0 with value: 0.8672429762272307.\u001b[0m\n",
            "\u001b[32m[I 2021-08-15 21:45:11,129]\u001b[0m Trial 11 finished with value: 0.8672429762272307 and parameters: {'hidden_layer_sizes': 20, 'activation': 'tanh', 'solver': 'adam'}. Best is trial 0 with value: 0.8672429762272307.\u001b[0m\n",
            "\u001b[32m[I 2021-08-15 21:45:11,647]\u001b[0m Trial 12 finished with value: 0.8672429762272307 and parameters: {'hidden_layer_sizes': 30, 'activation': 'logistic', 'solver': 'adam'}. Best is trial 0 with value: 0.8672429762272307.\u001b[0m\n",
            "\u001b[32m[I 2021-08-15 21:45:13,862]\u001b[0m Trial 13 finished with value: 0.8672429762272307 and parameters: {'hidden_layer_sizes': 240, 'activation': 'tanh', 'solver': 'adam'}. Best is trial 0 with value: 0.8672429762272307.\u001b[0m\n",
            "\u001b[32m[I 2021-08-15 21:45:24,472]\u001b[0m Trial 14 finished with value: 0.8672429762272307 and parameters: {'hidden_layer_sizes': 980, 'activation': 'logistic', 'solver': 'adam'}. Best is trial 0 with value: 0.8672429762272307.\u001b[0m\n",
            "\u001b[32m[I 2021-08-15 21:45:26,061]\u001b[0m Trial 15 finished with value: 0.8672429762272307 and parameters: {'hidden_layer_sizes': 140, 'activation': 'tanh', 'solver': 'adam'}. Best is trial 0 with value: 0.8672429762272307.\u001b[0m\n",
            "\u001b[32m[I 2021-08-15 21:45:30,266]\u001b[0m Trial 16 finished with value: 0.8673973448595246 and parameters: {'hidden_layer_sizes': 390, 'activation': 'logistic', 'solver': 'adam'}. Best is trial 16 with value: 0.8673973448595246.\u001b[0m\n",
            "\u001b[32m[I 2021-08-15 21:45:41,130]\u001b[0m Trial 17 finished with value: 0.8672429762272307 and parameters: {'hidden_layer_sizes': 970, 'activation': 'logistic', 'solver': 'adam'}. Best is trial 16 with value: 0.8673973448595246.\u001b[0m\n",
            "\u001b[32m[I 2021-08-15 21:45:45,576]\u001b[0m Trial 18 finished with value: 0.8672429762272307 and parameters: {'hidden_layer_sizes': 580, 'activation': 'tanh', 'solver': 'sgd'}. Best is trial 16 with value: 0.8673973448595246.\u001b[0m\n",
            "\u001b[32m[I 2021-08-15 21:45:51,832]\u001b[0m Trial 19 finished with value: 0.8672429762272307 and parameters: {'hidden_layer_sizes': 440, 'activation': 'tanh', 'solver': 'adam'}. Best is trial 16 with value: 0.8673973448595246.\u001b[0m\n",
            "\u001b[32m[I 2021-08-15 21:45:57,615]\u001b[0m Trial 20 finished with value: 0.8672429762272307 and parameters: {'hidden_layer_sizes': 370, 'activation': 'tanh', 'solver': 'adam'}. Best is trial 16 with value: 0.8673973448595246.\u001b[0m\n",
            "\u001b[32m[I 2021-08-15 21:46:02,053]\u001b[0m Trial 21 finished with value: 0.8673973448595246 and parameters: {'hidden_layer_sizes': 590, 'activation': 'tanh', 'solver': 'sgd'}. Best is trial 16 with value: 0.8673973448595246.\u001b[0m\n",
            "\u001b[32m[I 2021-08-15 21:46:08,411]\u001b[0m Trial 22 finished with value: 0.8672429762272307 and parameters: {'hidden_layer_sizes': 550, 'activation': 'tanh', 'solver': 'sgd'}. Best is trial 16 with value: 0.8673973448595246.\u001b[0m\n",
            "\u001b[32m[I 2021-08-15 21:46:12,743]\u001b[0m Trial 23 finished with value: 0.8672429762272307 and parameters: {'hidden_layer_sizes': 690, 'activation': 'tanh', 'solver': 'sgd'}. Best is trial 16 with value: 0.8673973448595246.\u001b[0m\n",
            "\u001b[32m[I 2021-08-15 21:46:21,614]\u001b[0m Trial 24 finished with value: 0.8672429762272307 and parameters: {'hidden_layer_sizes': 800, 'activation': 'tanh', 'solver': 'sgd'}. Best is trial 16 with value: 0.8673973448595246.\u001b[0m\n",
            "\u001b[32m[I 2021-08-15 21:46:25,680]\u001b[0m Trial 25 finished with value: 0.8672429762272307 and parameters: {'hidden_layer_sizes': 380, 'activation': 'logistic', 'solver': 'sgd'}. Best is trial 16 with value: 0.8673973448595246.\u001b[0m\n",
            "\u001b[32m[I 2021-08-15 21:46:29,284]\u001b[0m Trial 26 finished with value: 0.8672429762272307 and parameters: {'hidden_layer_sizes': 510, 'activation': 'tanh', 'solver': 'sgd'}. Best is trial 16 with value: 0.8673973448595246.\u001b[0m\n",
            "\u001b[32m[I 2021-08-15 21:46:36,195]\u001b[0m Trial 27 finished with value: 0.8672429762272307 and parameters: {'hidden_layer_sizes': 630, 'activation': 'logistic', 'solver': 'adam'}. Best is trial 16 with value: 0.8673973448595246.\u001b[0m\n",
            "\u001b[32m[I 2021-08-15 21:46:45,124]\u001b[0m Trial 28 finished with value: 0.8672429762272307 and parameters: {'hidden_layer_sizes': 820, 'activation': 'relu', 'solver': 'sgd'}. Best is trial 16 with value: 0.8673973448595246.\u001b[0m\n",
            "\u001b[32m[I 2021-08-15 21:46:48,560]\u001b[0m Trial 29 finished with value: 0.8672429762272307 and parameters: {'hidden_layer_sizes': 410, 'activation': 'tanh', 'solver': 'adam'}. Best is trial 16 with value: 0.8673973448595246.\u001b[0m\n",
            "\u001b[32m[I 2021-08-15 21:46:52,017]\u001b[0m Trial 30 finished with value: 0.8672429762272307 and parameters: {'hidden_layer_sizes': 310, 'activation': 'logistic', 'solver': 'adam'}. Best is trial 16 with value: 0.8673973448595246.\u001b[0m\n",
            "\u001b[32m[I 2021-08-15 21:47:01,151]\u001b[0m Trial 31 finished with value: 0.8672429762272307 and parameters: {'hidden_layer_sizes': 800, 'activation': 'relu', 'solver': 'sgd'}. Best is trial 16 with value: 0.8673973448595246.\u001b[0m\n",
            "\u001b[32m[I 2021-08-15 21:47:06,445]\u001b[0m Trial 32 finished with value: 0.8672429762272307 and parameters: {'hidden_layer_sizes': 430, 'activation': 'tanh', 'solver': 'adam'}. Best is trial 16 with value: 0.8673973448595246.\u001b[0m\n",
            "\u001b[32m[I 2021-08-15 21:47:09,832]\u001b[0m Trial 33 finished with value: 0.8672429762272307 and parameters: {'hidden_layer_sizes': 240, 'activation': 'logistic', 'solver': 'adam'}. Best is trial 16 with value: 0.8673973448595246.\u001b[0m\n",
            "\u001b[32m[I 2021-08-15 21:47:19,285]\u001b[0m Trial 34 finished with value: 0.8672429762272307 and parameters: {'hidden_layer_sizes': 880, 'activation': 'relu', 'solver': 'sgd'}. Best is trial 16 with value: 0.8673973448595246.\u001b[0m\n",
            "\u001b[32m[I 2021-08-15 21:47:24,800]\u001b[0m Trial 35 finished with value: 0.8672429762272307 and parameters: {'hidden_layer_sizes': 380, 'activation': 'tanh', 'solver': 'adam'}. Best is trial 16 with value: 0.8673973448595246.\u001b[0m\n",
            "\u001b[32m[I 2021-08-15 21:47:28,905]\u001b[0m Trial 36 finished with value: 0.8673973448595246 and parameters: {'hidden_layer_sizes': 520, 'activation': 'tanh', 'solver': 'adam'}. Best is trial 16 with value: 0.8673973448595246.\u001b[0m\n",
            "\u001b[32m[I 2021-08-15 21:47:34,113]\u001b[0m Trial 37 finished with value: 0.8673973448595246 and parameters: {'hidden_layer_sizes': 640, 'activation': 'tanh', 'solver': 'adam'}. Best is trial 16 with value: 0.8673973448595246.\u001b[0m\n",
            "\u001b[32m[I 2021-08-15 21:47:50,872]\u001b[0m Trial 38 finished with value: 0.8672429762272307 and parameters: {'hidden_layer_sizes': 640, 'activation': 'tanh', 'solver': 'adam'}. Best is trial 16 with value: 0.8673973448595246.\u001b[0m\n",
            "\u001b[32m[I 2021-08-15 21:48:06,551]\u001b[0m Trial 39 finished with value: 0.8672429762272307 and parameters: {'hidden_layer_sizes': 530, 'activation': 'tanh', 'solver': 'adam'}. Best is trial 16 with value: 0.8673973448595246.\u001b[0m\n",
            "\u001b[32m[I 2021-08-15 21:48:18,239]\u001b[0m Trial 40 finished with value: 0.8673973448595246 and parameters: {'hidden_layer_sizes': 580, 'activation': 'tanh', 'solver': 'adam'}. Best is trial 16 with value: 0.8673973448595246.\u001b[0m\n",
            "\u001b[32m[I 2021-08-15 21:48:26,139]\u001b[0m Trial 41 finished with value: 0.8673973448595246 and parameters: {'hidden_layer_sizes': 580, 'activation': 'tanh', 'solver': 'adam'}. Best is trial 16 with value: 0.8673973448595246.\u001b[0m\n",
            "\u001b[32m[I 2021-08-15 21:48:30,999]\u001b[0m Trial 42 finished with value: 0.8672429762272307 and parameters: {'hidden_layer_sizes': 570, 'activation': 'tanh', 'solver': 'adam'}. Best is trial 16 with value: 0.8673973448595246.\u001b[0m\n",
            "\u001b[32m[I 2021-08-15 21:48:39,373]\u001b[0m Trial 43 finished with value: 0.8672429762272307 and parameters: {'hidden_layer_sizes': 650, 'activation': 'tanh', 'solver': 'adam'}. Best is trial 16 with value: 0.8673973448595246.\u001b[0m\n",
            "\u001b[32m[I 2021-08-15 21:48:49,120]\u001b[0m Trial 44 finished with value: 0.8672429762272307 and parameters: {'hidden_layer_sizes': 740, 'activation': 'tanh', 'solver': 'adam'}. Best is trial 16 with value: 0.8673973448595246.\u001b[0m\n",
            "\u001b[32m[I 2021-08-15 21:48:52,976]\u001b[0m Trial 45 finished with value: 0.8672429762272307 and parameters: {'hidden_layer_sizes': 500, 'activation': 'tanh', 'solver': 'adam'}. Best is trial 16 with value: 0.8673973448595246.\u001b[0m\n",
            "\u001b[32m[I 2021-08-15 21:48:58,420]\u001b[0m Trial 46 finished with value: 0.8673973448595246 and parameters: {'hidden_layer_sizes': 480, 'activation': 'logistic', 'solver': 'adam'}. Best is trial 16 with value: 0.8673973448595246.\u001b[0m\n",
            "\u001b[32m[I 2021-08-15 21:49:02,944]\u001b[0m Trial 47 finished with value: 0.8673973448595246 and parameters: {'hidden_layer_sizes': 600, 'activation': 'tanh', 'solver': 'adam'}. Best is trial 16 with value: 0.8673973448595246.\u001b[0m\n",
            "\u001b[32m[I 2021-08-15 21:49:08,390]\u001b[0m Trial 48 finished with value: 0.8673973448595246 and parameters: {'hidden_layer_sizes': 700, 'activation': 'tanh', 'solver': 'adam'}. Best is trial 16 with value: 0.8673973448595246.\u001b[0m\n",
            "\u001b[32m[I 2021-08-15 21:49:16,290]\u001b[0m Trial 49 finished with value: 0.8672429762272307 and parameters: {'hidden_layer_sizes': 750, 'activation': 'logistic', 'solver': 'sgd'}. Best is trial 16 with value: 0.8673973448595246.\u001b[0m\n"
          ],
          "name": "stderr"
        },
        {
          "output_type": "stream",
          "text": [
            "FrozenTrial(number=16, values=[0.8673973448595246], datetime_start=datetime.datetime(2021, 8, 15, 21, 45, 26, 93838), datetime_complete=datetime.datetime(2021, 8, 15, 21, 45, 30, 265818), params={'hidden_layer_sizes': 390, 'activation': 'logistic', 'solver': 'adam'}, distributions={'hidden_layer_sizes': IntUniformDistribution(high=1000, low=10, step=10), 'activation': CategoricalDistribution(choices=('logistic', 'relu', 'tanh')), 'solver': CategoricalDistribution(choices=('adam', 'sgd'))}, user_attrs={}, system_attrs={}, intermediate_values={}, trial_id=16, state=TrialState.COMPLETE, value=None)\n"
          ],
          "name": "stdout"
        }
      ]
    },
    {
      "cell_type": "code",
      "metadata": {
        "id": "7FbY8v8QY1jF",
        "colab": {
          "base_uri": "https://localhost:8080/"
        },
        "outputId": "fcfb9c35-43e5-408f-84bf-ce2174d08422"
      },
      "source": [
        "print(study_mlp.best_trial.value)\n",
        "print(study_mlp.best_trial.params)"
      ],
      "execution_count": 22,
      "outputs": [
        {
          "output_type": "stream",
          "text": [
            "0.8673973448595246\n",
            "{'hidden_layer_sizes': 390, 'activation': 'logistic', 'solver': 'adam'}\n"
          ],
          "name": "stdout"
        }
      ]
    },
    {
      "cell_type": "markdown",
      "metadata": {
        "id": "Vf1oZrvbPgIO"
      },
      "source": [
        "### KNN"
      ]
    },
    {
      "cell_type": "code",
      "metadata": {
        "id": "jlrm6B3kPl5z",
        "outputId": "065e4e02-8825-4598-ad10-7043af045702",
        "colab": {
          "base_uri": "https://localhost:8080/"
        }
      },
      "source": [
        "def objective_KNN(trial):\n",
        "    n_neighbors = trial.suggest_int('n_neighbors', 5 , 500)\n",
        "    knn_selection = KNeighborsClassifier(n_neighbors)\n",
        "    knn_selection.fit(X_train, y_train)     \n",
        "\n",
        "    prediction_validation = knn_selection.predict(X_valid)\n",
        "    accuracy_validation = accuracy_score(y_valid, prediction_validation)\n",
        "\n",
        "    return accuracy_validation\n",
        "\n",
        "study_knn = optuna.create_study(direction=\"maximize\", study_name=\"KNN\")\n",
        "mlflow.end_run()\n",
        "study_knn.optimize(objective_KNN, n_trials=50, callbacks=[mlflc])\n",
        "print(study_knn.best_trial)"
      ],
      "execution_count": 23,
      "outputs": [
        {
          "output_type": "stream",
          "text": [
            "\u001b[32m[I 2021-08-15 21:49:16,378]\u001b[0m A new study created in memory with name: KNN\u001b[0m\n",
            "\u001b[32m[I 2021-08-15 21:49:17,026]\u001b[0m Trial 0 finished with value: 0.8859215807347947 and parameters: {'n_neighbors': 217}. Best is trial 0 with value: 0.8859215807347947.\u001b[0m\n"
          ],
          "name": "stderr"
        },
        {
          "output_type": "stream",
          "text": [
            "INFO: 'KNN' does not exist. Creating a new experiment\n"
          ],
          "name": "stdout"
        },
        {
          "output_type": "stream",
          "text": [
            "\u001b[32m[I 2021-08-15 21:49:17,770]\u001b[0m Trial 1 finished with value: 0.8757332510033962 and parameters: {'n_neighbors': 273}. Best is trial 0 with value: 0.8859215807347947.\u001b[0m\n",
            "\u001b[32m[I 2021-08-15 21:49:18,833]\u001b[0m Trial 2 finished with value: 0.8672429762272307 and parameters: {'n_neighbors': 441}. Best is trial 0 with value: 0.8859215807347947.\u001b[0m\n",
            "\u001b[32m[I 2021-08-15 21:49:19,376]\u001b[0m Trial 3 finished with value: 0.8862303179993826 and parameters: {'n_neighbors': 153}. Best is trial 3 with value: 0.8862303179993826.\u001b[0m\n",
            "\u001b[32m[I 2021-08-15 21:49:19,949]\u001b[0m Trial 4 finished with value: 0.8870021611608521 and parameters: {'n_neighbors': 161}. Best is trial 4 with value: 0.8870021611608521.\u001b[0m\n",
            "\u001b[32m[I 2021-08-15 21:49:20,731]\u001b[0m Trial 5 finished with value: 0.8728002469898116 and parameters: {'n_neighbors': 281}. Best is trial 4 with value: 0.8870021611608521.\u001b[0m\n",
            "\u001b[32m[I 2021-08-15 21:49:21,473]\u001b[0m Trial 6 finished with value: 0.8738808274158691 and parameters: {'n_neighbors': 276}. Best is trial 4 with value: 0.8870021611608521.\u001b[0m\n",
            "\u001b[32m[I 2021-08-15 21:49:22,021]\u001b[0m Trial 7 finished with value: 0.8846866316764433 and parameters: {'n_neighbors': 159}. Best is trial 4 with value: 0.8870021611608521.\u001b[0m\n",
            "\u001b[32m[I 2021-08-15 21:49:22,574]\u001b[0m Trial 8 finished with value: 0.8868477925285582 and parameters: {'n_neighbors': 165}. Best is trial 4 with value: 0.8870021611608521.\u001b[0m\n",
            "\u001b[32m[I 2021-08-15 21:49:22,872]\u001b[0m Trial 9 finished with value: 0.88731089842544 and parameters: {'n_neighbors': 8}. Best is trial 9 with value: 0.88731089842544.\u001b[0m\n",
            "\u001b[32m[I 2021-08-15 21:49:23,185]\u001b[0m Trial 10 finished with value: 0.889163322012967 and parameters: {'n_neighbors': 9}. Best is trial 10 with value: 0.889163322012967.\u001b[0m\n",
            "\u001b[32m[I 2021-08-15 21:49:23,499]\u001b[0m Trial 11 finished with value: 0.8879283729546156 and parameters: {'n_neighbors': 10}. Best is trial 10 with value: 0.889163322012967.\u001b[0m\n",
            "\u001b[32m[I 2021-08-15 21:49:23,793]\u001b[0m Trial 12 finished with value: 0.889163322012967 and parameters: {'n_neighbors': 9}. Best is trial 10 with value: 0.889163322012967.\u001b[0m\n",
            "\u001b[32m[I 2021-08-15 21:49:24,212]\u001b[0m Trial 13 finished with value: 0.88731089842544 and parameters: {'n_neighbors': 75}. Best is trial 10 with value: 0.889163322012967.\u001b[0m\n",
            "\u001b[32m[I 2021-08-15 21:49:24,647]\u001b[0m Trial 14 finished with value: 0.8866934238962643 and parameters: {'n_neighbors': 80}. Best is trial 10 with value: 0.889163322012967.\u001b[0m\n",
            "\u001b[32m[I 2021-08-15 21:49:25,578]\u001b[0m Trial 15 finished with value: 0.8672429762272307 and parameters: {'n_neighbors': 390}. Best is trial 10 with value: 0.889163322012967.\u001b[0m\n",
            "\u001b[32m[I 2021-08-15 21:49:25,988]\u001b[0m Trial 16 finished with value: 0.8899351651744366 and parameters: {'n_neighbors': 73}. Best is trial 16 with value: 0.8899351651744366.\u001b[0m\n",
            "\u001b[32m[I 2021-08-15 21:49:26,401]\u001b[0m Trial 17 finished with value: 0.8868477925285582 and parameters: {'n_neighbors': 82}. Best is trial 16 with value: 0.8899351651744366.\u001b[0m\n",
            "\u001b[32m[I 2021-08-15 21:49:26,796]\u001b[0m Trial 18 finished with value: 0.8887002161160852 and parameters: {'n_neighbors': 64}. Best is trial 16 with value: 0.8899351651744366.\u001b[0m\n",
            "\u001b[32m[I 2021-08-15 21:49:27,285]\u001b[0m Trial 19 finished with value: 0.8837604198826798 and parameters: {'n_neighbors': 115}. Best is trial 16 with value: 0.8899351651744366.\u001b[0m\n",
            "\u001b[32m[I 2021-08-15 21:49:27,920]\u001b[0m Trial 20 finished with value: 0.885458474837913 and parameters: {'n_neighbors': 219}. Best is trial 16 with value: 0.8899351651744366.\u001b[0m\n",
            "\u001b[32m[I 2021-08-15 21:49:28,211]\u001b[0m Trial 21 finished with value: 0.8829885767212102 and parameters: {'n_neighbors': 5}. Best is trial 16 with value: 0.8899351651744366.\u001b[0m\n",
            "\u001b[32m[I 2021-08-15 21:49:28,564]\u001b[0m Trial 22 finished with value: 0.8900895338067305 and parameters: {'n_neighbors': 38}. Best is trial 22 with value: 0.8900895338067305.\u001b[0m\n",
            "\u001b[32m[I 2021-08-15 21:49:28,961]\u001b[0m Trial 23 finished with value: 0.8894720592775548 and parameters: {'n_neighbors': 57}. Best is trial 22 with value: 0.8900895338067305.\u001b[0m\n",
            "\u001b[32m[I 2021-08-15 21:49:29,869]\u001b[0m Trial 24 finished with value: 0.8672429762272307 and parameters: {'n_neighbors': 351}. Best is trial 22 with value: 0.8900895338067305.\u001b[0m\n",
            "\u001b[32m[I 2021-08-15 21:49:30,338]\u001b[0m Trial 25 finished with value: 0.8837604198826798 and parameters: {'n_neighbors': 115}. Best is trial 22 with value: 0.8900895338067305.\u001b[0m\n",
            "\u001b[32m[I 2021-08-15 21:49:30,717]\u001b[0m Trial 26 finished with value: 0.8902439024390244 and parameters: {'n_neighbors': 46}. Best is trial 26 with value: 0.8902439024390244.\u001b[0m\n",
            "\u001b[32m[I 2021-08-15 21:49:31,192]\u001b[0m Trial 27 finished with value: 0.8836060512503859 and parameters: {'n_neighbors': 120}. Best is trial 26 with value: 0.8902439024390244.\u001b[0m\n",
            "\u001b[32m[I 2021-08-15 21:49:31,570]\u001b[0m Trial 28 finished with value: 0.8874652670577339 and parameters: {'n_neighbors': 53}. Best is trial 26 with value: 0.8902439024390244.\u001b[0m\n",
            "\u001b[32m[I 2021-08-15 21:49:32,691]\u001b[0m Trial 29 finished with value: 0.8672429762272307 and parameters: {'n_neighbors': 487}. Best is trial 26 with value: 0.8902439024390244.\u001b[0m\n",
            "\u001b[32m[I 2021-08-15 21:49:33,322]\u001b[0m Trial 30 finished with value: 0.8883914788514974 and parameters: {'n_neighbors': 215}. Best is trial 26 with value: 0.8902439024390244.\u001b[0m\n",
            "\u001b[32m[I 2021-08-15 21:49:33,690]\u001b[0m Trial 31 finished with value: 0.8874652670577339 and parameters: {'n_neighbors': 53}. Best is trial 26 with value: 0.8902439024390244.\u001b[0m\n",
            "\u001b[32m[I 2021-08-15 21:49:34,067]\u001b[0m Trial 32 finished with value: 0.8902439024390244 and parameters: {'n_neighbors': 46}. Best is trial 26 with value: 0.8902439024390244.\u001b[0m\n",
            "\u001b[32m[I 2021-08-15 21:49:34,438]\u001b[0m Trial 33 finished with value: 0.8900895338067305 and parameters: {'n_neighbors': 38}. Best is trial 26 with value: 0.8902439024390244.\u001b[0m\n",
            "\u001b[32m[I 2021-08-15 21:49:34,899]\u001b[0m Trial 34 finished with value: 0.8840691571472676 and parameters: {'n_neighbors': 111}. Best is trial 26 with value: 0.8902439024390244.\u001b[0m\n",
            "\u001b[32m[I 2021-08-15 21:49:35,271]\u001b[0m Trial 35 finished with value: 0.8883914788514974 and parameters: {'n_neighbors': 37}. Best is trial 26 with value: 0.8902439024390244.\u001b[0m\n",
            "\u001b[32m[I 2021-08-15 21:49:35,640]\u001b[0m Trial 36 finished with value: 0.8870021611608521 and parameters: {'n_neighbors': 33}. Best is trial 26 with value: 0.8902439024390244.\u001b[0m\n",
            "\u001b[32m[I 2021-08-15 21:49:36,260]\u001b[0m Trial 37 finished with value: 0.8899351651744366 and parameters: {'n_neighbors': 206}. Best is trial 26 with value: 0.8902439024390244.\u001b[0m\n",
            "\u001b[32m[I 2021-08-15 21:49:36,749]\u001b[0m Trial 38 finished with value: 0.8856128434702069 and parameters: {'n_neighbors': 131}. Best is trial 26 with value: 0.8902439024390244.\u001b[0m\n",
            "\u001b[32m[I 2021-08-15 21:49:37,215]\u001b[0m Trial 39 finished with value: 0.883451682618092 and parameters: {'n_neighbors': 93}. Best is trial 26 with value: 0.8902439024390244.\u001b[0m\n",
            "\u001b[32m[I 2021-08-15 21:49:37,807]\u001b[0m Trial 40 finished with value: 0.8907070083359061 and parameters: {'n_neighbors': 186}. Best is trial 40 with value: 0.8907070083359061.\u001b[0m\n",
            "\u001b[32m[I 2021-08-15 21:49:38,610]\u001b[0m Trial 41 finished with value: 0.8680148193887002 and parameters: {'n_neighbors': 311}. Best is trial 40 with value: 0.8907070083359061.\u001b[0m\n",
            "\u001b[32m[I 2021-08-15 21:49:39,127]\u001b[0m Trial 42 finished with value: 0.885149737573325 and parameters: {'n_neighbors': 144}. Best is trial 40 with value: 0.8907070083359061.\u001b[0m\n",
            "\u001b[32m[I 2021-08-15 21:49:39,758]\u001b[0m Trial 43 finished with value: 0.892868169188021 and parameters: {'n_neighbors': 195}. Best is trial 43 with value: 0.892868169188021.\u001b[0m\n",
            "\u001b[32m[I 2021-08-15 21:49:40,340]\u001b[0m Trial 44 finished with value: 0.8905526397036122 and parameters: {'n_neighbors': 182}. Best is trial 43 with value: 0.892868169188021.\u001b[0m\n",
            "\u001b[32m[I 2021-08-15 21:49:41,033]\u001b[0m Trial 45 finished with value: 0.8806730472368015 and parameters: {'n_neighbors': 242}. Best is trial 43 with value: 0.892868169188021.\u001b[0m\n",
            "\u001b[32m[I 2021-08-15 21:49:41,622]\u001b[0m Trial 46 finished with value: 0.8907070083359061 and parameters: {'n_neighbors': 187}. Best is trial 43 with value: 0.892868169188021.\u001b[0m\n",
            "\u001b[32m[I 2021-08-15 21:49:42,222]\u001b[0m Trial 47 finished with value: 0.8931769064526088 and parameters: {'n_neighbors': 191}. Best is trial 47 with value: 0.8931769064526088.\u001b[0m\n",
            "\u001b[32m[I 2021-08-15 21:49:42,800]\u001b[0m Trial 48 finished with value: 0.8905526397036122 and parameters: {'n_neighbors': 182}. Best is trial 47 with value: 0.8931769064526088.\u001b[0m\n",
            "\u001b[32m[I 2021-08-15 21:49:43,383]\u001b[0m Trial 49 finished with value: 0.8907070083359061 and parameters: {'n_neighbors': 183}. Best is trial 47 with value: 0.8931769064526088.\u001b[0m\n"
          ],
          "name": "stderr"
        },
        {
          "output_type": "stream",
          "text": [
            "FrozenTrial(number=47, values=[0.8931769064526088], datetime_start=datetime.datetime(2021, 8, 15, 21, 49, 41, 647127), datetime_complete=datetime.datetime(2021, 8, 15, 21, 49, 42, 222145), params={'n_neighbors': 191}, distributions={'n_neighbors': IntUniformDistribution(high=500, low=5, step=1)}, user_attrs={}, system_attrs={}, intermediate_values={}, trial_id=47, state=TrialState.COMPLETE, value=None)\n"
          ],
          "name": "stdout"
        }
      ]
    },
    {
      "cell_type": "code",
      "metadata": {
        "id": "l51RH8W3Qfx9",
        "outputId": "2ddb0070-adce-4234-b131-8434018a8223",
        "colab": {
          "base_uri": "https://localhost:8080/"
        }
      },
      "source": [
        "print(study_knn.best_trial.value)\n",
        "print(study_knn.best_trial.params)"
      ],
      "execution_count": 24,
      "outputs": [
        {
          "output_type": "stream",
          "text": [
            "0.8931769064526088\n",
            "{'n_neighbors': 191}\n"
          ],
          "name": "stdout"
        }
      ]
    },
    {
      "cell_type": "code",
      "metadata": {
        "id": "nHvKKAs-zWHb",
        "outputId": "20c65fcf-efa9-4c35-bf5e-b8b3c2f5ffe8",
        "colab": {
          "base_uri": "https://localhost:8080/"
        }
      },
      "source": [
        "study_mlp.best_trial.value\n"
      ],
      "execution_count": 28,
      "outputs": [
        {
          "output_type": "execute_result",
          "data": {
            "text/plain": [
              "0.8673973448595246"
            ]
          },
          "metadata": {
            "tags": []
          },
          "execution_count": 28
        }
      ]
    },
    {
      "cell_type": "markdown",
      "metadata": {
        "id": "4eUNxuzEwjgX"
      },
      "source": [
        "## Diagnóstico de melhor modelo\n",
        "\n",
        "Após os testes realizados com o Random Forest, Decision Tree, Naive Bayes, MLP e KNN, encontramos os seguintes resultados para seus melhores modelos:\n",
        "\n",
        "*   Decision Tree: 0.8971904908922507\n",
        "*   Random Forest: 0.8920963260265514\n",
        "*   Naive Bayes: 0.8672429762272307\n",
        "*   MLP: 0.8673973448595246\n",
        "*   KNN: 0.8931769064526088\n",
        "\n",
        "Sendo assim, a Decision Tree foi a que teve a maior acurácia, com o modelo abaixo sendo o melhor encontrado, usaremos esses valores para testar contra o grupo de testes.\n"
      ]
    },
    {
      "cell_type": "code",
      "metadata": {
        "id": "De_chRehwnj_"
      },
      "source": [
        "#{'max_depth': 8, 'min_samples_split': 6, 'min_samples_leaf': 8}\n",
        "\n",
        "max_depth = 8\n",
        "split     = 6\n",
        "leaf      = 8\n",
        "\n",
        "decisionTree_selection = DecisionTreeClassifier(max_depth=max_depth, min_samples_leaf=leaf, min_samples_split=split)\n",
        "decisionTree_selection.fit(X_train, y_train)\n",
        "\n",
        "y_test_prediction = decisionTree_selection.predict(X_test)\n",
        "accuracy_validation = accuracy_score(y_test, y_test_prediction)"
      ],
      "execution_count": 31,
      "outputs": []
    },
    {
      "cell_type": "code",
      "metadata": {
        "id": "AC63d_fM1ONc",
        "outputId": "8b921f7f-ee8c-4580-e604-94578974bad1",
        "colab": {
          "base_uri": "https://localhost:8080/"
        }
      },
      "source": [
        "print(\"Matriz de Confusão\")\n",
        "print(confusion_matrix(y_test, y_test_prediction))\n",
        "\n",
        "print(\"==========\")\n",
        "\n",
        "print(\"Acurácia\")\n",
        "print(accuracy_validation)"
      ],
      "execution_count": 32,
      "outputs": [
        {
          "output_type": "stream",
          "text": [
            "Matriz de Confusão\n",
            "[[5473  370]\n",
            " [ 370  266]]\n",
            "==========\n",
            "Acurácia\n",
            "0.8857848433400216\n"
          ],
          "name": "stdout"
        }
      ]
    },
    {
      "cell_type": "markdown",
      "metadata": {
        "id": "0gu_jbbCdpme"
      },
      "source": [
        "## Feature importance\n",
        "\n",
        "Verificamos o nível de relevância das colunas do dataset."
      ]
    }
  ]
}