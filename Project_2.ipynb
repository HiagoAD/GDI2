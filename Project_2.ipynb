{
  "nbformat": 4,
  "nbformat_minor": 0,
  "metadata": {
    "colab": {
      "name": "Project_2.ipynb",
      "provenance": [],
      "collapsed_sections": [],
      "include_colab_link": true
    },
    "kernelspec": {
      "name": "python3",
      "display_name": "Python 3"
    },
    "language_info": {
      "name": "python"
    }
  },
  "cells": [
    {
      "cell_type": "markdown",
      "metadata": {
        "id": "view-in-github",
        "colab_type": "text"
      },
      "source": [
        "<a href=\"https://colab.research.google.com/github/HiagoAD/GDI2/blob/master/Project_2.ipynb\" target=\"_parent\"><img src=\"https://colab.research.google.com/assets/colab-badge.svg\" alt=\"Open In Colab\"/></a>"
      ]
    },
    {
      "cell_type": "code",
      "metadata": {
        "id": "qvSv-z8qYhrz"
      },
      "source": [
        "import numpy as np\n",
        "import pandas as pd\n",
        "from scipy import stats\n",
        "import seaborn as sns\n",
        "import matplotlib.pyplot as plt\n",
        "import optuna\n",
        "\n",
        "from sklearn.tree import DecisionTreeClassifier\n",
        "from sklearn.ensemble import RandomForestClassifier\n",
        "from sklearn.svm import SVC\n",
        "from sklearn.model_selection import train_test_split, cross_val_score\n",
        "from sklearn.naive_bayes import GaussianNB\n",
        "from sklearn.metrics import accuracy_score, confusion_matrix\n",
        "from sklearn.neighbors import KNeighborsClassifier\n",
        "from sklearn.neural_network import MLPClassifier"
      ],
      "execution_count": 18,
      "outputs": []
    },
    {
      "cell_type": "code",
      "metadata": {
        "id": "ofw0g7GggZy4",
        "colab": {
          "base_uri": "https://localhost:8080/"
        },
        "outputId": "f618833f-112e-48a3-a98b-4c53e88abccd"
      },
      "source": [
        "!pip install mlflow --quiet\n",
        "!pip install optuna --quiet\n",
        "get_ipython().system_raw(\"mlflow ui --port 5000 &\")\n",
        "\n",
        "!pip install pyngrok --quiet\n",
        "\n",
        "from pyngrok import ngrok\n",
        "from getpass import getpass\n",
        "\n",
        "# Terminate open tunnels if exist\n",
        "ngrok.kill()\n",
        "\n",
        "# Setting the authtoken (optional)\n",
        "# Get your authtoken from https://dashboard.ngrok.com/auth\n",
        "NGROK_AUTH_TOKEN = getpass('Enter the ngrok authtoken: ')\n",
        "ngrok.set_auth_token(NGROK_AUTH_TOKEN)\n",
        "\n",
        "# Open an HTTPs tunnel on port 5000 for http://localhost:5000\n",
        "ngrok_tunnel = ngrok.connect(addr=\"5000\", proto=\"http\", bind_tls=True)\n",
        "print(\"MLflow Tracking UI:\", ngrok_tunnel.public_url)\n",
        "\n",
        "import mlflow"
      ],
      "execution_count": 11,
      "outputs": [
        {
          "output_type": "stream",
          "text": [
            "\u001b[K     |████████████████████████████████| 302 kB 4.1 MB/s \n",
            "\u001b[K     |████████████████████████████████| 80 kB 8.3 MB/s \n",
            "\u001b[K     |████████████████████████████████| 49 kB 5.5 MB/s \n",
            "\u001b[K     |████████████████████████████████| 141 kB 62.9 MB/s \n",
            "\u001b[K     |████████████████████████████████| 111 kB 69.3 MB/s \n",
            "\u001b[?25h  Building wheel for pyperclip (setup.py) ... \u001b[?25l\u001b[?25hdone\n",
            "Enter the ngrok authtoken: ··········\n",
            "MLflow Tracking UI: https://4e60fdd20c9b.ngrok.io\n"
          ],
          "name": "stdout"
        }
      ]
    },
    {
      "cell_type": "markdown",
      "metadata": {
        "id": "j7slQpPpsLN1"
      },
      "source": [
        "## Load datasets\n"
      ]
    },
    {
      "cell_type": "code",
      "metadata": {
        "id": "6HGU6r7p7T_t",
        "colab": {
          "base_uri": "https://localhost:8080/"
        },
        "outputId": "7f1f2da5-1b1e-4cf7-8179-ee2ab949c481"
      },
      "source": [
        "dengue = pd.read_csv(\"https://raw.githubusercontent.com/HiagoAD/GDI2/master/datasets/dengue2020.csv\", encoding =\"UTF-8\")\n",
        "emlurb = pd.read_csv(\"https://raw.githubusercontent.com/HiagoAD/GDI2/master/datasets/emlurb2020.csv\", encoding =\"UTF-8\")\n",
        "\n",
        "dengue19 = pd.read_csv(\"https://raw.githubusercontent.com/HiagoAD/GDI2/master/datasets/dengue2019.csv\", encoding =\"UTF-8\", error_bad_lines=False)\n",
        "emlurb19 = pd.read_csv(\"https://raw.githubusercontent.com/HiagoAD/GDI2/master/datasets/emlurb2019.csv\", encoding =\"UTF-8\")\n",
        "\n",
        "dengue18 = pd.read_csv(\"https://raw.githubusercontent.com/HiagoAD/GDI2/master/datasets/dengue2018.csv\", encoding =\"UTF-8\", error_bad_lines=False)\n",
        "emlurb18 = pd.read_csv(\"https://raw.githubusercontent.com/HiagoAD/GDI2/master/datasets/emlurb2018.csv\", encoding =\"UTF-8\")\n",
        "\n",
        "dengue17 = pd.read_csv(\"https://raw.githubusercontent.com/HiagoAD/GDI2/master/datasets/dengue2017.csv\", encoding =\"UTF-8\", error_bad_lines=False)\n",
        "emlurb17 = pd.read_csv(\"https://raw.githubusercontent.com/HiagoAD/GDI2/master/datasets/emlurb2017.csv\", encoding =\"UTF-8\")\n",
        "\n",
        "dengue16 = pd.read_csv(\"https://raw.githubusercontent.com/HiagoAD/GDI2/master/datasets/dengue2016.csv\", encoding =\"UTF-8\", error_bad_lines=False)\n",
        "emlurb16 = pd.read_csv(\"https://raw.githubusercontent.com/HiagoAD/GDI2/master/datasets/emlurb2016.csv\", encoding =\"UTF-8\")\n"
      ],
      "execution_count": 3,
      "outputs": [
        {
          "output_type": "stream",
          "text": [
            "b'Skipping line 108: expected 126 fields, saw 127\\nSkipping line 1485: expected 126 fields, saw 127\\nSkipping line 2584: expected 126 fields, saw 127\\nSkipping line 4415: expected 126 fields, saw 127\\nSkipping line 5659: expected 126 fields, saw 127\\nSkipping line 6469: expected 126 fields, saw 127\\n'\n",
            "/usr/local/lib/python3.7/dist-packages/IPython/core/interactiveshell.py:2718: DtypeWarning: Columns (8) have mixed types.Specify dtype option on import or set low_memory=False.\n",
            "  interactivity=interactivity, compiler=compiler, result=result)\n",
            "/usr/local/lib/python3.7/dist-packages/IPython/core/interactiveshell.py:2718: DtypeWarning: Columns (55,113) have mixed types.Specify dtype option on import or set low_memory=False.\n",
            "  interactivity=interactivity, compiler=compiler, result=result)\n"
          ],
          "name": "stderr"
        }
      ]
    },
    {
      "cell_type": "markdown",
      "metadata": {
        "id": "eIomzXQIQkgW"
      },
      "source": [
        "## Dados de 2020 - 2016\n",
        "\n",
        "\n",
        "Iremos fazer os mesmos tratamentos anteriores para os dados de 2019 até 2016."
      ]
    },
    {
      "cell_type": "code",
      "metadata": {
        "id": "30I8GCQLQn_S",
        "colab": {
          "base_uri": "https://localhost:8080/",
          "height": 0
        },
        "outputId": "4a43c327-705f-4c2e-c0c0-a5e0fe459caa"
      },
      "source": [
        "# Dados Dengue\n",
        "\n",
        "merge_dengue = dengue.append([dengue19,dengue18,dengue17,dengue16], ignore_index = True)\n",
        "merge_dengue = merge_dengue[[\"febre\", \"mialgia\",'vomito', \"dt_notificacao\",'nu_idade','nausea','cefaleia','dor_costas','diabetes','renal']]\n",
        "merge_dengue['dt_notificacao'] = pd.to_datetime(merge_dengue['dt_notificacao'])\n",
        "\n",
        "# Agrupamos por número de casos por dia\n",
        "\n",
        "#merge_dengue = merge_dengue.groupby([pd.Grouper(key=\"dt_notificacao\", freq=\"D\")]).size().reset_index(name=\"CASOS_DENGUE\")\n",
        "\n",
        "\n",
        "# Dados Emlurb\n",
        "\n",
        "merge_emlurb = emlurb.append([emlurb19,emlurb18,emlurb17,emlurb16], ignore_index = True)\n",
        "merge_emlurb = merge_emlurb[[\"GRUPOSERVICO_CODIGO\", \"DATA_DEMANDA\"]]\n",
        "merge_emlurb = merge_emlurb[(merge_emlurb.GRUPOSERVICO_CODIGO == 11)]\n",
        "merge_emlurb[\"DATA_DEMANDA\"] = pd.to_datetime(merge_emlurb[\"DATA_DEMANDA\"],errors='coerce')\n",
        "\n",
        "# Agrupamos por número de solicitações por dia\n",
        "\n",
        "#merge_emlurb = merge_emlurb.groupby([pd.Grouper(key=\"DATA_DEMANDA\", freq=\"D\")]).size().reset_index(name=\"CHAMAD0S_EMLURB\")\n",
        "\n",
        "#year_filter = merge_emlurb[(merge_emlurb['DATA_DEMANDA'].dt.year == 2018)]\n",
        "\n",
        "\n",
        "merge_dengue = merge_dengue.dropna()\n",
        "merge_dengue['febre'] = merge_dengue['febre'].astype('int')\n",
        "merge_dengue['mialgia'] = merge_dengue['mialgia'].astype('int')\n",
        "merge_dengue['vomito'] = merge_dengue['vomito'].astype('int')\n",
        "merge_dengue['nausea'] = merge_dengue['nausea'].astype('int')\n",
        "merge_dengue['cefaleia'] = merge_dengue['cefaleia'].astype('int')\n",
        "merge_dengue['dor_costas'] = merge_dengue['dor_costas'].astype('int')\n",
        "merge_dengue['diabetes'] = merge_dengue['diabetes'].astype('int')\n",
        "merge_dengue['renal'] = merge_dengue['renal'].astype('int')\n",
        "merge_dengue = merge_dengue.sort_values('dt_notificacao')\n",
        "merge_dengue"
      ],
      "execution_count": 4,
      "outputs": [
        {
          "output_type": "execute_result",
          "data": {
            "text/html": [
              "<div>\n",
              "<style scoped>\n",
              "    .dataframe tbody tr th:only-of-type {\n",
              "        vertical-align: middle;\n",
              "    }\n",
              "\n",
              "    .dataframe tbody tr th {\n",
              "        vertical-align: top;\n",
              "    }\n",
              "\n",
              "    .dataframe thead th {\n",
              "        text-align: right;\n",
              "    }\n",
              "</style>\n",
              "<table border=\"1\" class=\"dataframe\">\n",
              "  <thead>\n",
              "    <tr style=\"text-align: right;\">\n",
              "      <th></th>\n",
              "      <th>febre</th>\n",
              "      <th>mialgia</th>\n",
              "      <th>vomito</th>\n",
              "      <th>dt_notificacao</th>\n",
              "      <th>nu_idade</th>\n",
              "      <th>nausea</th>\n",
              "      <th>cefaleia</th>\n",
              "      <th>dor_costas</th>\n",
              "      <th>diabetes</th>\n",
              "      <th>renal</th>\n",
              "    </tr>\n",
              "  </thead>\n",
              "  <tbody>\n",
              "    <tr>\n",
              "      <th>14367</th>\n",
              "      <td>1</td>\n",
              "      <td>1</td>\n",
              "      <td>2</td>\n",
              "      <td>2016-01-03</td>\n",
              "      <td>4024</td>\n",
              "      <td>2</td>\n",
              "      <td>2</td>\n",
              "      <td>2</td>\n",
              "      <td>2</td>\n",
              "      <td>2</td>\n",
              "    </tr>\n",
              "    <tr>\n",
              "      <th>13813</th>\n",
              "      <td>2</td>\n",
              "      <td>2</td>\n",
              "      <td>2</td>\n",
              "      <td>2016-01-03</td>\n",
              "      <td>4059</td>\n",
              "      <td>2</td>\n",
              "      <td>2</td>\n",
              "      <td>2</td>\n",
              "      <td>2</td>\n",
              "      <td>2</td>\n",
              "    </tr>\n",
              "    <tr>\n",
              "      <th>13658</th>\n",
              "      <td>1</td>\n",
              "      <td>1</td>\n",
              "      <td>2</td>\n",
              "      <td>2016-01-04</td>\n",
              "      <td>4017</td>\n",
              "      <td>1</td>\n",
              "      <td>1</td>\n",
              "      <td>2</td>\n",
              "      <td>2</td>\n",
              "      <td>2</td>\n",
              "    </tr>\n",
              "    <tr>\n",
              "      <th>13595</th>\n",
              "      <td>1</td>\n",
              "      <td>1</td>\n",
              "      <td>2</td>\n",
              "      <td>2016-01-04</td>\n",
              "      <td>4031</td>\n",
              "      <td>2</td>\n",
              "      <td>1</td>\n",
              "      <td>2</td>\n",
              "      <td>2</td>\n",
              "      <td>2</td>\n",
              "    </tr>\n",
              "    <tr>\n",
              "      <th>13781</th>\n",
              "      <td>1</td>\n",
              "      <td>1</td>\n",
              "      <td>2</td>\n",
              "      <td>2016-01-04</td>\n",
              "      <td>4054</td>\n",
              "      <td>2</td>\n",
              "      <td>1</td>\n",
              "      <td>2</td>\n",
              "      <td>2</td>\n",
              "      <td>2</td>\n",
              "    </tr>\n",
              "    <tr>\n",
              "      <th>...</th>\n",
              "      <td>...</td>\n",
              "      <td>...</td>\n",
              "      <td>...</td>\n",
              "      <td>...</td>\n",
              "      <td>...</td>\n",
              "      <td>...</td>\n",
              "      <td>...</td>\n",
              "      <td>...</td>\n",
              "      <td>...</td>\n",
              "      <td>...</td>\n",
              "    </tr>\n",
              "    <tr>\n",
              "      <th>975</th>\n",
              "      <td>1</td>\n",
              "      <td>1</td>\n",
              "      <td>1</td>\n",
              "      <td>2020-07-16</td>\n",
              "      <td>4008</td>\n",
              "      <td>1</td>\n",
              "      <td>1</td>\n",
              "      <td>2</td>\n",
              "      <td>2</td>\n",
              "      <td>2</td>\n",
              "    </tr>\n",
              "    <tr>\n",
              "      <th>1007</th>\n",
              "      <td>1</td>\n",
              "      <td>1</td>\n",
              "      <td>2</td>\n",
              "      <td>2020-07-17</td>\n",
              "      <td>4017</td>\n",
              "      <td>2</td>\n",
              "      <td>1</td>\n",
              "      <td>2</td>\n",
              "      <td>2</td>\n",
              "      <td>2</td>\n",
              "    </tr>\n",
              "    <tr>\n",
              "      <th>1005</th>\n",
              "      <td>1</td>\n",
              "      <td>2</td>\n",
              "      <td>2</td>\n",
              "      <td>2020-07-19</td>\n",
              "      <td>4010</td>\n",
              "      <td>2</td>\n",
              "      <td>2</td>\n",
              "      <td>2</td>\n",
              "      <td>2</td>\n",
              "      <td>2</td>\n",
              "    </tr>\n",
              "    <tr>\n",
              "      <th>1003</th>\n",
              "      <td>1</td>\n",
              "      <td>1</td>\n",
              "      <td>2</td>\n",
              "      <td>2020-07-20</td>\n",
              "      <td>3001</td>\n",
              "      <td>2</td>\n",
              "      <td>2</td>\n",
              "      <td>2</td>\n",
              "      <td>2</td>\n",
              "      <td>2</td>\n",
              "    </tr>\n",
              "    <tr>\n",
              "      <th>1000</th>\n",
              "      <td>1</td>\n",
              "      <td>1</td>\n",
              "      <td>1</td>\n",
              "      <td>2020-07-20</td>\n",
              "      <td>4003</td>\n",
              "      <td>1</td>\n",
              "      <td>1</td>\n",
              "      <td>2</td>\n",
              "      <td>2</td>\n",
              "      <td>2</td>\n",
              "    </tr>\n",
              "  </tbody>\n",
              "</table>\n",
              "<p>25913 rows × 10 columns</p>\n",
              "</div>"
            ],
            "text/plain": [
              "       febre  mialgia  vomito  ... dor_costas  diabetes  renal\n",
              "14367      1        1       2  ...          2         2      2\n",
              "13813      2        2       2  ...          2         2      2\n",
              "13658      1        1       2  ...          2         2      2\n",
              "13595      1        1       2  ...          2         2      2\n",
              "13781      1        1       2  ...          2         2      2\n",
              "...      ...      ...     ...  ...        ...       ...    ...\n",
              "975        1        1       1  ...          2         2      2\n",
              "1007       1        1       2  ...          2         2      2\n",
              "1005       1        2       2  ...          2         2      2\n",
              "1003       1        1       2  ...          2         2      2\n",
              "1000       1        1       1  ...          2         2      2\n",
              "\n",
              "[25913 rows x 10 columns]"
            ]
          },
          "metadata": {
            "tags": []
          },
          "execution_count": 4
        }
      ]
    },
    {
      "cell_type": "markdown",
      "metadata": {
        "id": "lS7-iA53qFvv"
      },
      "source": [
        "## Feature de predição\n",
        "\n",
        "1.   Ocorrência de febre em casos de dengue por dia.\n",
        "2.   Número de solicitações de drenagem por dia.\n",
        "\n"
      ]
    },
    {
      "cell_type": "markdown",
      "metadata": {
        "id": "uuyRRD5LrM_N"
      },
      "source": [
        "## Separação de dados: Treino, Validação e Teste\n",
        "\n",
        "Os dados estão em ordem temporal, treino usa os primeiros 2/4 dos dados, em seguida 1/4 pra validação e 1/4 para testes."
      ]
    },
    {
      "cell_type": "code",
      "metadata": {
        "id": "iz0VMrj9SQ7v"
      },
      "source": [
        "def split_values(df, column_name):\n",
        "  X = df.drop(columns=[column_name,'dt_notificacao']).values\n",
        "  y = df[column_name].values\n",
        "\n",
        "  return X, y"
      ],
      "execution_count": 5,
      "outputs": []
    },
    {
      "cell_type": "code",
      "metadata": {
        "id": "i941ZX3x_zrH",
        "colab": {
          "base_uri": "https://localhost:8080/"
        },
        "outputId": "d5ecfccb-2640-457f-cb98-6fe56f815693"
      },
      "source": [
        "features_results = merge_dengue.drop(columns=['febre','dt_notificacao'])\n",
        "labels_results = merge_dengue['febre']\n",
        "\n",
        "X_train, X_test, y_train, y_test = train_test_split(features_results, labels_results, test_size=0.25, shuffle=False)\n",
        "X_train, X_valid, y_train, y_valid =  train_test_split(X_train, y_train, test_size=(1/3), shuffle=False)\n",
        "\n",
        "print(features_results.shape)\n",
        "print(X_train.shape)\n",
        "print(X_test.shape)\n",
        "print(X_valid.shape)"
      ],
      "execution_count": 27,
      "outputs": [
        {
          "output_type": "stream",
          "text": [
            "(25913, 8)\n",
            "(12956, 8)\n",
            "(6479, 8)\n",
            "(6478, 8)\n"
          ],
          "name": "stdout"
        }
      ]
    },
    {
      "cell_type": "code",
      "metadata": {
        "id": "uSWTzBPhZtvX"
      },
      "source": [
        "# train, validation, test = np.split(merge_dengue.sample(frac=1, random_state=42), [int(.6*len(merge_dengue)), int(.8*len(merge_dengue))])\n",
        "\n",
        "# column_name = 'febre'\n",
        "\n",
        "# X_train, y_train = split_values(train, column_name)\n",
        "# X_valid, y_valid = split_values(validation, column_name)\n",
        "# X_test,  y_test  = split_values(test, column_name)\n",
        "\n",
        "X_train, y_train = feature_train, label_train\n",
        "X_valid, y_valid = feature_validation, label_validation\n",
        "X_test, y_test = feature_test, label_test"
      ],
      "execution_count": null,
      "outputs": []
    },
    {
      "cell_type": "markdown",
      "metadata": {
        "id": "TD9pFirere46"
      },
      "source": [
        "## Escolha de Algoritmos\n",
        "\n",
        "*   Decision Tree\n",
        "*   Random Forest\n",
        "*   Naive Bayes\n",
        "*   MLP\n",
        "*   KNN\n",
        "\n"
      ]
    },
    {
      "cell_type": "code",
      "metadata": {
        "id": "ZPPTtX4wiaQb"
      },
      "source": [
        "decision_tree = DecisionTreeClassifier()\n",
        "random_forest = RandomForestClassifier()\n",
        "naive_bayes   = GaussianNB()\n",
        "ml_perceptron = MLPClassifier()\n",
        "knn = KNeighborsClassifier()\n",
        "\n",
        "decision_tree.fit(X_train, y_train)\n",
        "y_decision_tree_train = decision_tree.predict(X_train)\n",
        "y_decision_tree_test  = decision_tree.predict(X_test)\n",
        "\n",
        "random_forest.fit(X_train, y_train)\n",
        "y_random_forest_train = random_forest.predict(X_train)\n",
        "y_random_forest_test  = random_forest.predict(X_test)\n",
        "\n",
        "naive_bayes.fit(X_train, y_train)\n",
        "y_naive_bayes_train = naive_bayes.predict(X_train)\n",
        "y_naive_bayes_test  = naive_bayes.predict(X_test)\n",
        "\n",
        "ml_perceptron.fit(X_train, y_train)\n",
        "y_ml_perceptron_train = ml_perceptron.predict(X_train)\n",
        "y_ml_perceptron_test  = ml_perceptron.predict(X_test)\n",
        "\n",
        "knn.fit(X_train, y_train)\n",
        "y_knn_train = knn.predict(X_train)\n",
        "y_knn_test = knn.predict(X_test)"
      ],
      "execution_count": 7,
      "outputs": []
    },
    {
      "cell_type": "code",
      "metadata": {
        "colab": {
          "base_uri": "https://localhost:8080/"
        },
        "id": "ZiLtX5Vtl5UQ",
        "outputId": "bf748179-68b9-4e6f-f9f4-dd1cc547dce7"
      },
      "source": [
        "print(\"=== Precisão Testes === \\n\\n\")\n",
        "\n",
        "print(\"Precisão Decision Tree:\", accuracy_score(y_test, y_decision_tree_test))\n",
        "print(\"Precisão Random Forest:\", accuracy_score(y_test, y_random_forest_test))\n",
        "print(\"Precisão Naive Bayes:\" , accuracy_score(y_test, y_naive_bayes_test))\n",
        "print(\"Precisão MLP: \", accuracy_score(y_test, y_ml_perceptron_test))\n",
        "print(\"Precisão KNN: \", accuracy_score(y_test, y_knn_test))\n",
        "\n",
        "print(\"\\n\\n=== Precisão Treino === \\n\\n\")\n",
        "\n",
        "print(\"Precisão Decision Tree:\", accuracy_score(y_train, y_decision_tree_train))\n",
        "print(\"Precisão Random Forest:\", accuracy_score(y_train, y_random_forest_train))\n",
        "print(\"Precisão Naive Bayes:\" , accuracy_score(y_train, y_naive_bayes_train))\n",
        "print(\"Precisão MLP: \", accuracy_score(y_train, y_ml_perceptron_train))\n",
        "print(\"Precisão KNN: \", accuracy_score(y_train, y_knn_train))"
      ],
      "execution_count": 8,
      "outputs": [
        {
          "output_type": "stream",
          "text": [
            "=== Precisão Testes === \n",
            "\n",
            "\n",
            "Precisão Decision Tree: 0.8789936718629419\n",
            "Precisão Random Forest: 0.8779132582188609\n",
            "Precisão Naive Bayes: 0.735144312393888\n",
            "Precisão MLP:  0.8885630498533724\n",
            "Precisão KNN:  0.880845809538509\n",
            "\n",
            "\n",
            "=== Precisão Treino === \n",
            "\n",
            "\n",
            "Precisão Decision Tree: 0.8809817845013893\n",
            "Precisão Random Forest: 0.8809817845013893\n",
            "Precisão Naive Bayes: 0.7185087990120408\n",
            "Precisão MLP:  0.7521611608521148\n",
            "Precisão KNN:  0.8589070700833591\n"
          ],
          "name": "stdout"
        }
      ]
    },
    {
      "cell_type": "markdown",
      "metadata": {
        "id": "kLnDsQ1Xv2Rf"
      },
      "source": [
        "## MLFlow e Hiper-parâmetros\n",
        "\n",
        "Nessa etapa, adicionaremos o MLFlow e o Optuna para seleção de hiper-parâmetros sobre o conjunto de validação."
      ]
    },
    {
      "cell_type": "code",
      "metadata": {
        "id": "j7PqGdtZsoHh",
        "colab": {
          "base_uri": "https://localhost:8080/"
        },
        "outputId": "ef2dcaa8-eb9d-4e86-cf16-962cf91fb161"
      },
      "source": [
        "from optuna.integration.mlflow import MLflowCallback\n",
        "mlflc = MLflowCallback(\n",
        "    tracking_uri=mlflow.get_tracking_uri(),\n",
        "    metric_name=\"Accuracy\",\n",
        "    \n",
        ")"
      ],
      "execution_count": 13,
      "outputs": [
        {
          "output_type": "stream",
          "text": [
            "/usr/local/lib/python3.7/dist-packages/ipykernel_launcher.py:4: ExperimentalWarning:\n",
            "\n",
            "MLflowCallback is experimental (supported from v1.4.0). The interface can change in the future.\n",
            "\n"
          ],
          "name": "stderr"
        }
      ]
    },
    {
      "cell_type": "markdown",
      "metadata": {
        "id": "ounAhK61U9zL"
      },
      "source": [
        "### Decision Tree"
      ]
    },
    {
      "cell_type": "code",
      "metadata": {
        "id": "BUYekF1AVB3V"
      },
      "source": [
        "@mlflc.track_in_mlflow()\n",
        "def objective_decisionTree(trial):\n",
        "    max_depth = trial.suggest_int(\"max_depth\", 1, 15, 1)\n",
        "    split     = trial.suggest_int('min_samples_split', 3, 15, 1)\n",
        "    leaf      = trial.suggest_int('min_samples_leaf', 3, 15, 1)\n",
        "\n",
        "    decisionTree_selection = DecisionTreeClassifier(max_depth=max_depth, min_samples_leaf=leaf, min_samples_split=split)\n",
        "    decisionTree_selection.fit(X_train, y_train)\n",
        "    \n",
        "    prediction_validation = decisionTree_selection.predict(X_valid)\n",
        "    accuracy_validation = accuracy_score(y_valid, prediction_validation)\n",
        "\n",
        "    return accuracy_validation\n",
        "\n",
        "study_dt = optuna.create_study(direction=\"maximize\", study_name=\"Decision Tree\")\n",
        "mlflow.end_run()\n",
        "study_dt.optimize(objective_decisionTree, n_trials=50, callbacks=[mlflc])\n",
        "print(study_dt.best_trial)"
      ],
      "execution_count": null,
      "outputs": []
    },
    {
      "cell_type": "code",
      "metadata": {
        "id": "anT_rU9XV3Ij",
        "colab": {
          "base_uri": "https://localhost:8080/"
        },
        "outputId": "59a6defc-8214-4f37-ca17-68cccc589e08"
      },
      "source": [
        "print(study_dt.best_trial.value)\n",
        "print(study_dt.best_trial.params)"
      ],
      "execution_count": 15,
      "outputs": [
        {
          "output_type": "stream",
          "text": [
            "0.8971904908922507\n",
            "{'max_depth': 7, 'min_samples_split': 4, 'min_samples_leaf': 13}\n"
          ],
          "name": "stdout"
        }
      ]
    },
    {
      "cell_type": "markdown",
      "metadata": {
        "id": "HMJBg2N9R7_B"
      },
      "source": [
        "### Random Forest"
      ]
    },
    {
      "cell_type": "code",
      "metadata": {
        "id": "AEXZLSYwR-Mv"
      },
      "source": [
        "def objective_randomForest(trial):\n",
        "    forrest_n_estimators = trial.suggest_int('n_estimators', 100, 1000)\n",
        "    forrest_criterion = trial.suggest_categorical('criterion', ['gini', 'entropy'])\n",
        "    forrest_max_features = trial.suggest_categorical('max_features', ['auto', 'sqrt', 'log2'])\n",
        "\n",
        "    randomForrest_selection = RandomForestClassifier(n_estimators=forrest_n_estimators, criterion=forrest_criterion, max_features=forrest_max_features)\n",
        "    randomForrest_selection.fit(X_train, y_train) \n",
        "\n",
        "    prediction_validation = randomForrest_selection.predict(X_valid)\n",
        "    accuracy_validation = accuracy_score(y_valid, prediction_validation)\n",
        "\n",
        "    return accuracy_validation\n",
        "\n",
        "study_rf = optuna.create_study(direction=\"maximize\", study_name=\"Random Forest\")\n",
        "mlflow.end_run()\n",
        "study_rf.optimize(objective_randomForest, n_trials=50, callbacks=[mlflc])\n",
        "print(study_rf.best_trial)"
      ],
      "execution_count": null,
      "outputs": []
    },
    {
      "cell_type": "code",
      "metadata": {
        "id": "i8deD3QcW2u8",
        "colab": {
          "base_uri": "https://localhost:8080/"
        },
        "outputId": "3d932775-c8c3-48e4-86ab-58a56f077d0f"
      },
      "source": [
        "print(study_rf.best_trial.value)\n",
        "print(study_rf.best_trial.params)"
      ],
      "execution_count": null,
      "outputs": [
        {
          "output_type": "stream",
          "text": [
            "0.8920963260265514\n",
            "{'n_estimators': 508, 'criterion': 'entropy', 'max_features': 'auto'}\n"
          ],
          "name": "stdout"
        }
      ]
    },
    {
      "cell_type": "markdown",
      "metadata": {
        "id": "ybLaeIKAQAFI"
      },
      "source": [
        "### Naive Bayes"
      ]
    },
    {
      "cell_type": "code",
      "metadata": {
        "id": "VjWgBLsbQTDE"
      },
      "source": [
        "def objective_naiveBayes(trial):\n",
        "    nb_var_smoothing = trial.suggest_float('var_smoothing', 1e-9, 1e9, log=True)\n",
        "\n",
        "    naiveBayes_selection = GaussianNB(var_smoothing=nb_var_smoothing)\n",
        "    naiveBayes_selection.fit(X_train, y_train)     \n",
        "\n",
        "    prediction_validation = naiveBayes_selection.predict(X_valid)\n",
        "    accuracy_validation = accuracy_score(y_valid, prediction_validation)\n",
        "\n",
        "    return accuracy_validation\n",
        "\n",
        "study_nb = optuna.create_study(direction=\"maximize\", study_name=\"Neive Bayes\")\n",
        "mlflow.end_run()\n",
        "study_nb.optimize(objective_naiveBayes, n_trials=50, callbacks=[mlflc])\n",
        "print(study_nb.best_trial)"
      ],
      "execution_count": null,
      "outputs": []
    },
    {
      "cell_type": "code",
      "metadata": {
        "id": "B6zDH4ZrQsvL",
        "colab": {
          "base_uri": "https://localhost:8080/"
        },
        "outputId": "e7f07c22-00ea-4bda-f1ec-d8048257eb5c"
      },
      "source": [
        "print(study_nb.best_trial.value)\n",
        "print(study_nb.best_trial.params)"
      ],
      "execution_count": null,
      "outputs": [
        {
          "output_type": "stream",
          "text": [
            "0.8672429762272307\n",
            "{'var_smoothing': 6199.49291075694}\n"
          ],
          "name": "stdout"
        }
      ]
    },
    {
      "cell_type": "markdown",
      "metadata": {
        "id": "HM_16ifCYrDm"
      },
      "source": [
        "### MLP"
      ]
    },
    {
      "cell_type": "code",
      "metadata": {
        "id": "e7zPRGEyYvHu"
      },
      "source": [
        "def objective_MLP(trial):\n",
        "    layer_size = trial.suggest_int('hidden_layer_sizes', 10, 1000, 10)\n",
        "    activation = trial.suggest_categorical('activation', ['logistic', 'relu', 'tanh'])\n",
        "    solver = trial.suggest_categorical('solver', ['adam', 'sgd'])\n",
        "    mlp_selection = MLPClassifier(layer_size, activation=activation, solver=solver)\n",
        "    mlp_selection.fit(X_train, y_train)     \n",
        "\n",
        "    prediction_validation = mlp_selection.predict(X_valid)\n",
        "    accuracy_validation = accuracy_score(y_valid, prediction_validation)\n",
        "\n",
        "    return accuracy_validation\n",
        "\n",
        "study_mlp = optuna.create_study(direction=\"maximize\", study_name=\"MLP\")\n",
        "mlflow.end_run()\n",
        "study_mlp.optimize(objective_MLP, n_trials=50, callbacks=[mlflc])\n",
        "print(study_mlp.best_trial)"
      ],
      "execution_count": null,
      "outputs": []
    },
    {
      "cell_type": "code",
      "metadata": {
        "id": "7FbY8v8QY1jF",
        "colab": {
          "base_uri": "https://localhost:8080/"
        },
        "outputId": "fcfb9c35-43e5-408f-84bf-ce2174d08422"
      },
      "source": [
        "print(study_mlp.best_trial.value)\n",
        "print(study_mlp.best_trial.params)"
      ],
      "execution_count": null,
      "outputs": [
        {
          "output_type": "stream",
          "text": [
            "0.8673973448595246\n",
            "{'hidden_layer_sizes': 390, 'activation': 'logistic', 'solver': 'adam'}\n"
          ],
          "name": "stdout"
        }
      ]
    },
    {
      "cell_type": "markdown",
      "metadata": {
        "id": "Vf1oZrvbPgIO"
      },
      "source": [
        "### KNN"
      ]
    },
    {
      "cell_type": "code",
      "metadata": {
        "id": "jlrm6B3kPl5z"
      },
      "source": [
        "def objective_KNN(trial):\n",
        "    n_neighbors = trial.suggest_int('n_neighbors', 5 , 500)\n",
        "    knn_selection = KNeighborsClassifier(n_neighbors)\n",
        "    knn_selection.fit(X_train, y_train)     \n",
        "\n",
        "    prediction_validation = knn_selection.predict(X_valid)\n",
        "    accuracy_validation = accuracy_score(y_valid, prediction_validation)\n",
        "\n",
        "    return accuracy_validation\n",
        "\n",
        "study_knn = optuna.create_study(direction=\"maximize\", study_name=\"KNN\")\n",
        "mlflow.end_run()\n",
        "study_knn.optimize(objective_KNN, n_trials=50, callbacks=[mlflc])\n",
        "print(study_knn.best_trial)"
      ],
      "execution_count": null,
      "outputs": []
    },
    {
      "cell_type": "code",
      "metadata": {
        "id": "l51RH8W3Qfx9",
        "colab": {
          "base_uri": "https://localhost:8080/"
        },
        "outputId": "2ddb0070-adce-4234-b131-8434018a8223"
      },
      "source": [
        "print(study_knn.best_trial.value)\n",
        "print(study_knn.best_trial.params)"
      ],
      "execution_count": null,
      "outputs": [
        {
          "output_type": "stream",
          "text": [
            "0.8931769064526088\n",
            "{'n_neighbors': 191}\n"
          ],
          "name": "stdout"
        }
      ]
    },
    {
      "cell_type": "code",
      "metadata": {
        "id": "nHvKKAs-zWHb",
        "colab": {
          "base_uri": "https://localhost:8080/"
        },
        "outputId": "20c65fcf-efa9-4c35-bf5e-b8b3c2f5ffe8"
      },
      "source": [
        "study_mlp.best_trial.value\n"
      ],
      "execution_count": null,
      "outputs": [
        {
          "output_type": "execute_result",
          "data": {
            "text/plain": [
              "0.8673973448595246"
            ]
          },
          "metadata": {
            "tags": []
          },
          "execution_count": 28
        }
      ]
    },
    {
      "cell_type": "markdown",
      "metadata": {
        "id": "4eUNxuzEwjgX"
      },
      "source": [
        "## Diagnóstico de melhor modelo\n",
        "\n",
        "Após os testes realizados com o Random Forest, Decision Tree, Naive Bayes, MLP e KNN, encontramos os seguintes resultados para seus melhores modelos:\n",
        "\n",
        "*   Decision Tree: 0.8971904908922507\n",
        "*   Random Forest: 0.8920963260265514\n",
        "*   Naive Bayes: 0.8672429762272307\n",
        "*   MLP: 0.8673973448595246\n",
        "*   KNN: 0.8931769064526088\n",
        "\n",
        "Sendo assim, a Decision Tree foi a que teve a maior acurácia, com o modelo abaixo sendo o melhor encontrado, usaremos esses valores para testar contra o grupo de testes.\n"
      ]
    },
    {
      "cell_type": "code",
      "metadata": {
        "id": "De_chRehwnj_"
      },
      "source": [
        "#{'max_depth': 8, 'min_samples_split': 6, 'min_samples_leaf': 8}\n",
        "\n",
        "max_depth = 8\n",
        "split     = 6\n",
        "leaf      = 8\n",
        "\n",
        "decisionTree_selection = DecisionTreeClassifier(max_depth=max_depth, min_samples_leaf=leaf, min_samples_split=split)\n",
        "decisionTree_selection.fit(X_train, y_train)\n",
        "\n",
        "y_test_prediction   = decisionTree_selection.predict(X_test)\n",
        "accuracy_validation = accuracy_score(y_test, y_test_prediction)"
      ],
      "execution_count": 17,
      "outputs": []
    },
    {
      "cell_type": "code",
      "metadata": {
        "id": "AC63d_fM1ONc",
        "colab": {
          "base_uri": "https://localhost:8080/",
          "height": 314
        },
        "outputId": "21d20de7-fb76-414a-aea5-4da8c5b582dc"
      },
      "source": [
        "confusionMatrix = confusion_matrix(y_test, y_test_prediction)\n",
        "\n",
        "sns.heatmap(confusionMatrix.T, square=True, annot=True, fmt='d', cbar=False)\n",
        "plt.xlabel('Valor real')\n",
        "plt.ylabel('Valor previsto');\n",
        "\n",
        "print(\"Precisão Decision Tree\")\n",
        "print(accuracy_validation)"
      ],
      "execution_count": 28,
      "outputs": [
        {
          "output_type": "stream",
          "text": [
            "Precisão Decision Tree\n",
            "0.8857848433400216\n"
          ],
          "name": "stdout"
        },
        {
          "output_type": "display_data",
          "data": {
            "image/png": "[encoded data removed]",
            "text/plain": [
              "<Figure size 432x288 with 1 Axes>"
            ]
          },
          "metadata": {
            "tags": [],
            "needs_background": "light"
          }
        }
      ]
    },
    {
      "cell_type": "markdown",
      "metadata": {
        "id": "0gu_jbbCdpme"
      },
      "source": [
        "### Columns importance\n",
        "\n",
        "Verificamos o nível de relevância das colunas do dataset."
      ]
    },
    {
      "cell_type": "code",
      "metadata": {
        "id": "saSIsm418b-w",
        "outputId": "60a85072-e17f-4b01-f0ca-7960cad0b120",
        "colab": {
          "base_uri": "https://localhost:8080/",
          "height": 294
        }
      },
      "source": [
        "column_importance = pd.DataFrame({'column': X_train.columns, 'column_importance': decisionTree_selection.feature_importances_})\n",
        "column_importance = column_importance.sort_values('column_importance', ascending=False).reset_index(drop=True)\n",
        "column_importance"
      ],
      "execution_count": 30,
      "outputs": [
        {
          "output_type": "execute_result",
          "data": {
            "text/html": [
              "<div>\n",
              "<style scoped>\n",
              "    .dataframe tbody tr th:only-of-type {\n",
              "        vertical-align: middle;\n",
              "    }\n",
              "\n",
              "    .dataframe tbody tr th {\n",
              "        vertical-align: top;\n",
              "    }\n",
              "\n",
              "    .dataframe thead th {\n",
              "        text-align: right;\n",
              "    }\n",
              "</style>\n",
              "<table border=\"1\" class=\"dataframe\">\n",
              "  <thead>\n",
              "    <tr style=\"text-align: right;\">\n",
              "      <th></th>\n",
              "      <th>column</th>\n",
              "      <th>column_importance</th>\n",
              "    </tr>\n",
              "  </thead>\n",
              "  <tbody>\n",
              "    <tr>\n",
              "      <th>0</th>\n",
              "      <td>cefaleia</td>\n",
              "      <td>0.474449</td>\n",
              "    </tr>\n",
              "    <tr>\n",
              "      <th>1</th>\n",
              "      <td>mialgia</td>\n",
              "      <td>0.336682</td>\n",
              "    </tr>\n",
              "    <tr>\n",
              "      <th>2</th>\n",
              "      <td>vomito</td>\n",
              "      <td>0.111698</td>\n",
              "    </tr>\n",
              "    <tr>\n",
              "      <th>3</th>\n",
              "      <td>nu_idade</td>\n",
              "      <td>0.045331</td>\n",
              "    </tr>\n",
              "    <tr>\n",
              "      <th>4</th>\n",
              "      <td>nausea</td>\n",
              "      <td>0.027116</td>\n",
              "    </tr>\n",
              "    <tr>\n",
              "      <th>5</th>\n",
              "      <td>dor_costas</td>\n",
              "      <td>0.003637</td>\n",
              "    </tr>\n",
              "    <tr>\n",
              "      <th>6</th>\n",
              "      <td>diabetes</td>\n",
              "      <td>0.001086</td>\n",
              "    </tr>\n",
              "    <tr>\n",
              "      <th>7</th>\n",
              "      <td>renal</td>\n",
              "      <td>0.000000</td>\n",
              "    </tr>\n",
              "  </tbody>\n",
              "</table>\n",
              "</div>"
            ],
            "text/plain": [
              "       column  column_importance\n",
              "0    cefaleia           0.474449\n",
              "1     mialgia           0.336682\n",
              "2      vomito           0.111698\n",
              "3    nu_idade           0.045331\n",
              "4      nausea           0.027116\n",
              "5  dor_costas           0.003637\n",
              "6    diabetes           0.001086\n",
              "7       renal           0.000000"
            ]
          },
          "metadata": {
            "tags": []
          },
          "execution_count": 30
        }
      ]
    },
    {
      "cell_type": "code",
      "metadata": {
        "id": "fQYeDH48CAbF",
        "outputId": "beaccbc4-cdde-4408-bf89-d93a9a47bfad",
        "colab": {
          "base_uri": "https://localhost:8080/",
          "height": 318
        }
      },
      "source": [
        "sns.barplot(x = 'column_importance', y='column', data=column_importance, orient='h', color='green').set_title('Column Importance', fontsize = 20)"
      ],
      "execution_count": 31,
      "outputs": [
        {
          "output_type": "execute_result",
          "data": {
            "text/plain": [
              "Text(0.5, 1.0, 'Column Importance')"
            ]
          },
          "metadata": {
            "tags": []
          },
          "execution_count": 31
        },
        {
          "output_type": "display_data",
          "data": {
            "image/png": "[encoded data removed]",
            "text/plain": [
              "<Figure size 432x288 with 1 Axes>"
            ]
          },
          "metadata": {
            "tags": [],
            "needs_background": "light"
          }
        }
      ]
    }
  ]
}