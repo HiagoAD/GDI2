{
  "nbformat": 4,
  "nbformat_minor": 0,
  "metadata": {
    "colab": {
      "name": "Project_2.ipynb",
      "provenance": [],
      "collapsed_sections": [],
      "include_colab_link": true
    },
    "kernelspec": {
      "name": "python3",
      "display_name": "Python 3"
    },
    "language_info": {
      "name": "python"
    },
    "accelerator": "TPU"
  },
  "cells": [
    {
      "cell_type": "markdown",
      "metadata": {
        "id": "view-in-github",
        "colab_type": "text"
      },
      "source": [
        "<a href=\"https://colab.research.google.com/github/HiagoAD/GDI2/blob/master/Project_2.ipynb\" target=\"_parent\"><img src=\"https://colab.research.google.com/assets/colab-badge.svg\" alt=\"Open In Colab\"/></a>"
      ]
    },
    {
      "cell_type": "code",
      "metadata": {
        "id": "qvSv-z8qYhrz"
      },
      "source": [
        "import numpy as np\n",
        "import pandas as pd\n",
        "from scipy import stats\n",
        "import seaborn as sns\n",
        "import matplotlib.pyplot as plt\n",
        "\n",
        "from sklearn.tree import DecisionTreeClassifier\n",
        "from sklearn.ensemble import RandomForestClassifier\n",
        "from sklearn.svm import SVC\n",
        "from sklearn.model_selection import train_test_split, cross_val_score\n",
        "from sklearn.naive_bayes import GaussianNB\n",
        "from sklearn.metrics import accuracy_score, confusion_matrix, roc_auc_score\n",
        "from sklearn.neighbors import KNeighborsClassifier\n",
        "from sklearn.neural_network import MLPClassifier"
      ],
      "execution_count": 1,
      "outputs": []
    },
    {
      "cell_type": "markdown",
      "metadata": {
        "id": "j7slQpPpsLN1"
      },
      "source": [
        "## Load datasets\n"
      ]
    },
    {
      "cell_type": "code",
      "metadata": {
        "id": "6HGU6r7p7T_t",
        "colab": {
          "base_uri": "https://localhost:8080/"
        },
        "outputId": "c982cea5-9191-4686-d9d1-831e3a891513"
      },
      "source": [
        "dengue = pd.read_csv(\"https://raw.githubusercontent.com/HiagoAD/GDI2/master/datasets/dengue2020.csv\", encoding =\"UTF-8\")\n",
        "emlurb = pd.read_csv(\"https://raw.githubusercontent.com/HiagoAD/GDI2/master/datasets/emlurb2020.csv\", encoding =\"UTF-8\")\n",
        "\n",
        "dengue19 = pd.read_csv(\"https://raw.githubusercontent.com/HiagoAD/GDI2/master/datasets/dengue2019.csv\", encoding =\"UTF-8\", error_bad_lines=False)\n",
        "emlurb19 = pd.read_csv(\"https://raw.githubusercontent.com/HiagoAD/GDI2/master/datasets/emlurb2019.csv\", encoding =\"UTF-8\")\n",
        "\n",
        "dengue18 = pd.read_csv(\"https://raw.githubusercontent.com/HiagoAD/GDI2/master/datasets/dengue2018.csv\", encoding =\"UTF-8\", error_bad_lines=False)\n",
        "emlurb18 = pd.read_csv(\"https://raw.githubusercontent.com/HiagoAD/GDI2/master/datasets/emlurb2018.csv\", encoding =\"UTF-8\")\n",
        "\n",
        "dengue17 = pd.read_csv(\"https://raw.githubusercontent.com/HiagoAD/GDI2/master/datasets/dengue2017.csv\", encoding =\"UTF-8\", error_bad_lines=False)\n",
        "emlurb17 = pd.read_csv(\"https://raw.githubusercontent.com/HiagoAD/GDI2/master/datasets/emlurb2017.csv\", encoding =\"UTF-8\")\n",
        "\n",
        "dengue16 = pd.read_csv(\"https://raw.githubusercontent.com/HiagoAD/GDI2/master/datasets/dengue2016.csv\", encoding =\"UTF-8\", error_bad_lines=False)\n",
        "emlurb16 = pd.read_csv(\"https://raw.githubusercontent.com/HiagoAD/GDI2/master/datasets/emlurb2016.csv\", encoding =\"UTF-8\")\n"
      ],
      "execution_count": 2,
      "outputs": [
        {
          "output_type": "stream",
          "text": [
            "b'Skipping line 108: expected 126 fields, saw 127\\nSkipping line 1485: expected 126 fields, saw 127\\nSkipping line 2584: expected 126 fields, saw 127\\nSkipping line 4415: expected 126 fields, saw 127\\nSkipping line 5659: expected 126 fields, saw 127\\nSkipping line 6469: expected 126 fields, saw 127\\n'\n",
            "/usr/local/lib/python3.7/dist-packages/IPython/core/interactiveshell.py:2718: DtypeWarning: Columns (8) have mixed types.Specify dtype option on import or set low_memory=False.\n",
            "  interactivity=interactivity, compiler=compiler, result=result)\n",
            "/usr/local/lib/python3.7/dist-packages/IPython/core/interactiveshell.py:2718: DtypeWarning: Columns (55,113) have mixed types.Specify dtype option on import or set low_memory=False.\n",
            "  interactivity=interactivity, compiler=compiler, result=result)\n"
          ],
          "name": "stderr"
        }
      ]
    },
    {
      "cell_type": "markdown",
      "metadata": {
        "id": "eIomzXQIQkgW"
      },
      "source": [
        "## Dados de 2020 - 2016\n",
        "\n",
        "\n",
        "Iremos fazer os mesmos tratamentos anteriores para os dados de 2019 até 2016."
      ]
    },
    {
      "cell_type": "code",
      "metadata": {
        "id": "30I8GCQLQn_S",
        "colab": {
          "base_uri": "https://localhost:8080/",
          "height": 424
        },
        "outputId": "0f2decd1-4465-45c2-c4ad-5d45c349888e"
      },
      "source": [
        "# Dados Dengue\n",
        "\n",
        "merge_dengue = dengue.append([dengue19,dengue18,dengue17,dengue16], ignore_index = True)\n",
        "merge_dengue = merge_dengue[[\"febre\", \"mialgia\",'vomito', \"dt_notificacao\",'nu_idade','nausea','cefaleia','dor_costas','diabetes','renal']]\n",
        "merge_dengue['dt_notificacao'] = pd.to_datetime(merge_dengue['dt_notificacao'])\n",
        "\n",
        "# Agrupamos por número de casos por dia\n",
        "\n",
        "#merge_dengue = merge_dengue.groupby([pd.Grouper(key=\"dt_notificacao\", freq=\"D\")]).size().reset_index(name=\"CASOS_DENGUE\")\n",
        "\n",
        "\n",
        "# Dados Emlurb\n",
        "\n",
        "merge_emlurb = emlurb.append([emlurb19,emlurb18,emlurb17,emlurb16], ignore_index = True)\n",
        "merge_emlurb = merge_emlurb[[\"GRUPOSERVICO_CODIGO\", \"DATA_DEMANDA\"]]\n",
        "merge_emlurb = merge_emlurb[(merge_emlurb.GRUPOSERVICO_CODIGO == 11)]\n",
        "merge_emlurb[\"DATA_DEMANDA\"] = pd.to_datetime(merge_emlurb[\"DATA_DEMANDA\"],errors='coerce')\n",
        "\n",
        "# Agrupamos por número de solicitações por dia\n",
        "\n",
        "#merge_emlurb = merge_emlurb.groupby([pd.Grouper(key=\"DATA_DEMANDA\", freq=\"D\")]).size().reset_index(name=\"CHAMAD0S_EMLURB\")\n",
        "\n",
        "#year_filter = merge_emlurb[(merge_emlurb['DATA_DEMANDA'].dt.year == 2018)]\n",
        "\n",
        "\n",
        "merge_dengue = merge_dengue.dropna()\n",
        "merge_dengue['febre'] = merge_dengue['febre'].astype('int')\n",
        "merge_dengue['mialgia'] = merge_dengue['mialgia'].astype('int')\n",
        "merge_dengue['vomito'] = merge_dengue['vomito'].astype('int')\n",
        "merge_dengue['nausea'] = merge_dengue['nausea'].astype('int')\n",
        "merge_dengue['cefaleia'] = merge_dengue['cefaleia'].astype('int')\n",
        "merge_dengue['dor_costas'] = merge_dengue['dor_costas'].astype('int')\n",
        "merge_dengue['diabetes'] = merge_dengue['diabetes'].astype('int')\n",
        "merge_dengue['renal'] = merge_dengue['renal'].astype('int')\n",
        "merge_dengue = merge_dengue.sort_values('dt_notificacao')\n",
        "merge_dengue"
      ],
      "execution_count": 19,
      "outputs": [
        {
          "output_type": "execute_result",
          "data": {
            "text/html": [
              "<div>\n",
              "<style scoped>\n",
              "    .dataframe tbody tr th:only-of-type {\n",
              "        vertical-align: middle;\n",
              "    }\n",
              "\n",
              "    .dataframe tbody tr th {\n",
              "        vertical-align: top;\n",
              "    }\n",
              "\n",
              "    .dataframe thead th {\n",
              "        text-align: right;\n",
              "    }\n",
              "</style>\n",
              "<table border=\"1\" class=\"dataframe\">\n",
              "  <thead>\n",
              "    <tr style=\"text-align: right;\">\n",
              "      <th></th>\n",
              "      <th>febre</th>\n",
              "      <th>mialgia</th>\n",
              "      <th>vomito</th>\n",
              "      <th>dt_notificacao</th>\n",
              "      <th>nu_idade</th>\n",
              "      <th>nausea</th>\n",
              "      <th>cefaleia</th>\n",
              "      <th>dor_costas</th>\n",
              "      <th>diabetes</th>\n",
              "      <th>renal</th>\n",
              "    </tr>\n",
              "  </thead>\n",
              "  <tbody>\n",
              "    <tr>\n",
              "      <th>14367</th>\n",
              "      <td>1</td>\n",
              "      <td>1</td>\n",
              "      <td>2</td>\n",
              "      <td>2016-01-03</td>\n",
              "      <td>4024</td>\n",
              "      <td>2</td>\n",
              "      <td>2</td>\n",
              "      <td>2</td>\n",
              "      <td>2</td>\n",
              "      <td>2</td>\n",
              "    </tr>\n",
              "    <tr>\n",
              "      <th>13813</th>\n",
              "      <td>2</td>\n",
              "      <td>2</td>\n",
              "      <td>2</td>\n",
              "      <td>2016-01-03</td>\n",
              "      <td>4059</td>\n",
              "      <td>2</td>\n",
              "      <td>2</td>\n",
              "      <td>2</td>\n",
              "      <td>2</td>\n",
              "      <td>2</td>\n",
              "    </tr>\n",
              "    <tr>\n",
              "      <th>13658</th>\n",
              "      <td>1</td>\n",
              "      <td>1</td>\n",
              "      <td>2</td>\n",
              "      <td>2016-01-04</td>\n",
              "      <td>4017</td>\n",
              "      <td>1</td>\n",
              "      <td>1</td>\n",
              "      <td>2</td>\n",
              "      <td>2</td>\n",
              "      <td>2</td>\n",
              "    </tr>\n",
              "    <tr>\n",
              "      <th>13595</th>\n",
              "      <td>1</td>\n",
              "      <td>1</td>\n",
              "      <td>2</td>\n",
              "      <td>2016-01-04</td>\n",
              "      <td>4031</td>\n",
              "      <td>2</td>\n",
              "      <td>1</td>\n",
              "      <td>2</td>\n",
              "      <td>2</td>\n",
              "      <td>2</td>\n",
              "    </tr>\n",
              "    <tr>\n",
              "      <th>13781</th>\n",
              "      <td>1</td>\n",
              "      <td>1</td>\n",
              "      <td>2</td>\n",
              "      <td>2016-01-04</td>\n",
              "      <td>4054</td>\n",
              "      <td>2</td>\n",
              "      <td>1</td>\n",
              "      <td>2</td>\n",
              "      <td>2</td>\n",
              "      <td>2</td>\n",
              "    </tr>\n",
              "    <tr>\n",
              "      <th>...</th>\n",
              "      <td>...</td>\n",
              "      <td>...</td>\n",
              "      <td>...</td>\n",
              "      <td>...</td>\n",
              "      <td>...</td>\n",
              "      <td>...</td>\n",
              "      <td>...</td>\n",
              "      <td>...</td>\n",
              "      <td>...</td>\n",
              "      <td>...</td>\n",
              "    </tr>\n",
              "    <tr>\n",
              "      <th>975</th>\n",
              "      <td>1</td>\n",
              "      <td>1</td>\n",
              "      <td>1</td>\n",
              "      <td>2020-07-16</td>\n",
              "      <td>4008</td>\n",
              "      <td>1</td>\n",
              "      <td>1</td>\n",
              "      <td>2</td>\n",
              "      <td>2</td>\n",
              "      <td>2</td>\n",
              "    </tr>\n",
              "    <tr>\n",
              "      <th>1007</th>\n",
              "      <td>1</td>\n",
              "      <td>1</td>\n",
              "      <td>2</td>\n",
              "      <td>2020-07-17</td>\n",
              "      <td>4017</td>\n",
              "      <td>2</td>\n",
              "      <td>1</td>\n",
              "      <td>2</td>\n",
              "      <td>2</td>\n",
              "      <td>2</td>\n",
              "    </tr>\n",
              "    <tr>\n",
              "      <th>1005</th>\n",
              "      <td>1</td>\n",
              "      <td>2</td>\n",
              "      <td>2</td>\n",
              "      <td>2020-07-19</td>\n",
              "      <td>4010</td>\n",
              "      <td>2</td>\n",
              "      <td>2</td>\n",
              "      <td>2</td>\n",
              "      <td>2</td>\n",
              "      <td>2</td>\n",
              "    </tr>\n",
              "    <tr>\n",
              "      <th>1003</th>\n",
              "      <td>1</td>\n",
              "      <td>1</td>\n",
              "      <td>2</td>\n",
              "      <td>2020-07-20</td>\n",
              "      <td>3001</td>\n",
              "      <td>2</td>\n",
              "      <td>2</td>\n",
              "      <td>2</td>\n",
              "      <td>2</td>\n",
              "      <td>2</td>\n",
              "    </tr>\n",
              "    <tr>\n",
              "      <th>1000</th>\n",
              "      <td>1</td>\n",
              "      <td>1</td>\n",
              "      <td>1</td>\n",
              "      <td>2020-07-20</td>\n",
              "      <td>4003</td>\n",
              "      <td>1</td>\n",
              "      <td>1</td>\n",
              "      <td>2</td>\n",
              "      <td>2</td>\n",
              "      <td>2</td>\n",
              "    </tr>\n",
              "  </tbody>\n",
              "</table>\n",
              "<p>25913 rows × 10 columns</p>\n",
              "</div>"
            ],
            "text/plain": [
              "       febre  mialgia  vomito  ... dor_costas  diabetes  renal\n",
              "14367      1        1       2  ...          2         2      2\n",
              "13813      2        2       2  ...          2         2      2\n",
              "13658      1        1       2  ...          2         2      2\n",
              "13595      1        1       2  ...          2         2      2\n",
              "13781      1        1       2  ...          2         2      2\n",
              "...      ...      ...     ...  ...        ...       ...    ...\n",
              "975        1        1       1  ...          2         2      2\n",
              "1007       1        1       2  ...          2         2      2\n",
              "1005       1        2       2  ...          2         2      2\n",
              "1003       1        1       2  ...          2         2      2\n",
              "1000       1        1       1  ...          2         2      2\n",
              "\n",
              "[25913 rows x 10 columns]"
            ]
          },
          "metadata": {
            "tags": []
          },
          "execution_count": 19
        }
      ]
    },
    {
      "cell_type": "markdown",
      "metadata": {
        "id": "lS7-iA53qFvv"
      },
      "source": [
        "## Feature de predição\n",
        "\n",
        "1.   Número de casos de dengue por dia.\n",
        "2.   Número de solicitações de drenagem por dia.\n",
        "\n"
      ]
    },
    {
      "cell_type": "markdown",
      "metadata": {
        "id": "uuyRRD5LrM_N"
      },
      "source": [
        "## Separação de dados: Treino, Validação e Teste\n",
        "\n",
        "Texto."
      ]
    },
    {
      "cell_type": "code",
      "metadata": {
        "id": "iz0VMrj9SQ7v"
      },
      "source": [
        "def split_values(df, column_name):\n",
        "  X = df.drop(columns=[column_name,'dt_notificacao']).values\n",
        "  y = df[column_name].values\n",
        "\n",
        "  return X, y"
      ],
      "execution_count": 4,
      "outputs": []
    },
    {
      "cell_type": "code",
      "metadata": {
        "id": "i941ZX3x_zrH"
      },
      "source": [
        "features_results = merge_dengue.drop(columns=['febre','dt_notificacao']).values\n",
        "labels_results = merge_dengue['febre'].values\n",
        "\n",
        "feature_train, feature_test, label_train, label_test = train_test_split(features_results, labels_results, test_size=0.2,random_state=1)\n",
        "feature_train, feature_validation, label_train, label_validation =  train_test_split(feature_train, label_train, test_size=0.25,random_state=1)"
      ],
      "execution_count": 5,
      "outputs": []
    },
    {
      "cell_type": "code",
      "metadata": {
        "id": "uSWTzBPhZtvX"
      },
      "source": [
        "train, validation, test = np.split(merge_dengue.sample(frac=1, random_state=42), [int(.6*len(merge_dengue)), int(.8*len(merge_dengue))])\n",
        "\n",
        "column_name = 'febre'\n",
        "\n",
        "X_train, y_train = split_values(train, column_name)\n",
        "X_valid, y_valid = split_values(validation, column_name)\n",
        "X_test,  y_test  = split_values(test, column_name)"
      ],
      "execution_count": 6,
      "outputs": []
    },
    {
      "cell_type": "code",
      "metadata": {
        "id": "Q8S8UimEc9tP",
        "colab": {
          "base_uri": "https://localhost:8080/"
        },
        "outputId": "0361dc85-ece3-4d25-ea0b-4a3ba4052ee0"
      },
      "source": [
        "print(X_train.shape)\n",
        "print(X_test.shape)\n",
        "print(X_valid.shape)"
      ],
      "execution_count": 7,
      "outputs": [
        {
          "output_type": "stream",
          "text": [
            "(15547, 8)\n",
            "(5183, 8)\n",
            "(5183, 8)\n"
          ],
          "name": "stdout"
        }
      ]
    },
    {
      "cell_type": "markdown",
      "metadata": {
        "id": "TD9pFirere46"
      },
      "source": [
        "## Escolha de Algoritmos\n",
        "\n",
        "*   Decision Tree\n",
        "*   Random Forest\n",
        "*   Naive Bayes\n",
        "*   MLP\n",
        "*   KNN\n",
        "\n"
      ]
    },
    {
      "cell_type": "code",
      "metadata": {
        "id": "ZPPTtX4wiaQb"
      },
      "source": [
        "decision_tree = DecisionTreeClassifier()\n",
        "random_forest = RandomForestClassifier()\n",
        "naive_bayes   = GaussianNB()\n",
        "ml_perceptron = MLPClassifier()\n",
        "\n",
        "decision_tree.fit(X_train, y_train)\n",
        "y_decision_tree_train = decision_tree.predict(X_train)\n",
        "y_decision_tree_test  = decision_tree.predict(X_test)\n",
        "\n",
        "random_forest.fit(X_train, y_train)\n",
        "y_random_forest_train = random_forest.predict(X_train)\n",
        "y_random_forest_test  = random_forest.predict(X_test)\n",
        "\n",
        "naive_bayes.fit(X_train, y_train)\n",
        "y_naive_bayes_train = naive_bayes.predict(X_train)\n",
        "y_naive_bayes_test  = naive_bayes.predict(X_test)\n",
        "\n",
        "ml_perceptron.fit(X_train, y_train)\n",
        "y_ml_perceptron_train = ml_perceptron.predict(X_train)\n",
        "y_ml_perceptron_test  = ml_perceptron.predict(X_test)"
      ],
      "execution_count": 8,
      "outputs": []
    },
    {
      "cell_type": "code",
      "metadata": {
        "colab": {
          "base_uri": "https://localhost:8080/"
        },
        "id": "ZiLtX5Vtl5UQ",
        "outputId": "5a0f19d4-88fa-4cb7-ef47-f8a1c089655c"
      },
      "source": [
        "print(\"=== Precisão Testes === \\n\\n\")\n",
        "\n",
        "print(\"Precisão Decision Tree:\", accuracy_score(y_test, y_decision_tree_test))\n",
        "print(\"Precisão Random Forest:\", accuracy_score(y_test, y_random_forest_test))\n",
        "print(\"Precisão Naive Bayes:\" , accuracy_score(y_test, y_naive_bayes_test))\n",
        "print(\"Precisão MLP: \", accuracy_score(y_test, y_ml_perceptron_test))\n",
        "\n",
        "print(\"\\n\\n=== Precisão Treino === \\n\\n\")\n",
        "\n",
        "print(\"Precisão Decision Tree:\", accuracy_score(y_train, y_decision_tree_train))\n",
        "print(\"Precisão Random Forest:\", accuracy_score(y_train, y_random_forest_train))\n",
        "print(\"Precisão Naive Bayes:\" , accuracy_score(y_train, y_naive_bayes_train))\n",
        "print(\"Precisão MLP: \", accuracy_score(y_train, y_ml_perceptron_train))"
      ],
      "execution_count": 9,
      "outputs": [
        {
          "output_type": "stream",
          "text": [
            "=== Precisão Testes === \n",
            "\n",
            "\n",
            "Precisão Decision Tree: 0.8815357900829636\n",
            "Precisão Random Forest: 0.8792205286513602\n",
            "Precisão Naive Bayes: 0.729500289407679\n",
            "Precisão MLP:  0.1794327609492572\n",
            "\n",
            "\n",
            "=== Precisão Treino === \n",
            "\n",
            "\n",
            "Precisão Decision Tree: 0.8882099440406509\n",
            "Precisão Random Forest: 0.8881456229497652\n",
            "Precisão Naive Bayes: 0.7263137582813405\n",
            "Precisão MLP:  0.17958448575287836\n"
          ],
          "name": "stdout"
        }
      ]
    },
    {
      "cell_type": "markdown",
      "metadata": {
        "id": "kLnDsQ1Xv2Rf"
      },
      "source": [
        "## MLFlow e Hiper-parâmetros\n",
        "\n",
        "Nessa etapa, adicionaremos o MLFlow e o Optuna para seleção de hiper-parâmetros sobre o conjunto de validação."
      ]
    },
    {
      "cell_type": "code",
      "metadata": {
        "id": "xTlRf22XOeBJ",
        "outputId": "90c217a4-a1d7-4619-9d11-5e5af00d5d7a",
        "colab": {
          "base_uri": "https://localhost:8080/"
        }
      },
      "source": [
        "!pip install mlflow --quiet\n",
        "!pip install optuna --quiet\n",
        "\n",
        "import mlflow\n",
        "import optuna"
      ],
      "execution_count": 10,
      "outputs": [
        {
          "output_type": "stream",
          "text": [
            "\u001b[K     |████████████████████████████████| 14.4 MB 60 kB/s \n",
            "\u001b[K     |████████████████████████████████| 146 kB 56.2 MB/s \n",
            "\u001b[K     |████████████████████████████████| 636 kB 56.1 MB/s \n",
            "\u001b[K     |████████████████████████████████| 56 kB 4.8 MB/s \n",
            "\u001b[K     |████████████████████████████████| 79 kB 8.0 MB/s \n",
            "\u001b[K     |████████████████████████████████| 170 kB 63.7 MB/s \n",
            "\u001b[K     |████████████████████████████████| 1.1 MB 56.4 MB/s \n",
            "\u001b[K     |████████████████████████████████| 75 kB 4.4 MB/s \n",
            "\u001b[K     |████████████████████████████████| 52 kB 1.6 MB/s \n",
            "\u001b[K     |████████████████████████████████| 63 kB 1.9 MB/s \n",
            "\u001b[?25h  Building wheel for alembic (setup.py) ... \u001b[?25l\u001b[?25hdone\n",
            "  Building wheel for databricks-cli (setup.py) ... \u001b[?25l\u001b[?25hdone\n",
            "  Building wheel for prometheus-flask-exporter (setup.py) ... \u001b[?25l\u001b[?25hdone\n",
            "\u001b[K     |████████████████████████████████| 302 kB 5.3 MB/s \n",
            "\u001b[K     |████████████████████████████████| 80 kB 5.4 MB/s \n",
            "\u001b[K     |████████████████████████████████| 111 kB 10.3 MB/s \n",
            "\u001b[K     |████████████████████████████████| 141 kB 9.4 MB/s \n",
            "\u001b[K     |████████████████████████████████| 49 kB 3.7 MB/s \n",
            "\u001b[?25h  Building wheel for pyperclip (setup.py) ... \u001b[?25l\u001b[?25hdone\n"
          ],
          "name": "stdout"
        }
      ]
    },
    {
      "cell_type": "markdown",
      "metadata": {
        "id": "ounAhK61U9zL"
      },
      "source": [
        "### Decision Tree"
      ]
    },
    {
      "cell_type": "code",
      "metadata": {
        "id": "BUYekF1AVB3V",
        "outputId": "ed4553e5-1a9a-4a97-d27b-2c892e0cade0",
        "colab": {
          "base_uri": "https://localhost:8080/"
        }
      },
      "source": [
        "def objective_decisionTree(trial):\n",
        "    max_depth = trial.suggest_int(\"max_depth\", 1, 15, 1)\n",
        "    split     = trial.suggest_int('min_samples_split', 3, 15, 1)\n",
        "    leaf      = trial.suggest_int('min_samples_leaf', 3, 15, 1)\n",
        "\n",
        "    decisionTree_selection = DecisionTreeClassifier(max_depth=max_depth, min_samples_leaf=leaf, min_samples_split=split)\n",
        "    decisionTree_selection.fit(X_train, y_train)\n",
        "    \n",
        "    prediction_validation = decisionTree_selection.predict(X_valid)\n",
        "    accuracy_validation = accuracy_score(y_valid, prediction_validation)\n",
        "\n",
        "    return accuracy_validation\n",
        "\n",
        "study_dt = optuna.create_study(direction=\"maximize\")\n",
        "study_dt.optimize(objective_decisionTree, n_trials=50)\n",
        "print(study_dt.best_trial)"
      ],
      "execution_count": 11,
      "outputs": [
        {
          "output_type": "stream",
          "text": [
            "\u001b[32m[I 2021-08-15 15:05:13,450]\u001b[0m A new study created in memory with name: no-name-c32b60f6-80a3-43ad-a5b8-676124c0cf00\u001b[0m\n",
            "\u001b[32m[I 2021-08-15 15:05:13,471]\u001b[0m Trial 0 finished with value: 0.8844298668724677 and parameters: {'max_depth': 13, 'min_samples_split': 12, 'min_samples_leaf': 9}. Best is trial 0 with value: 0.8844298668724677.\u001b[0m\n",
            "\u001b[32m[I 2021-08-15 15:05:13,493]\u001b[0m Trial 1 finished with value: 0.882307543893498 and parameters: {'max_depth': 14, 'min_samples_split': 7, 'min_samples_leaf': 3}. Best is trial 0 with value: 0.8844298668724677.\u001b[0m\n",
            "\u001b[32m[I 2021-08-15 15:05:13,505]\u001b[0m Trial 2 finished with value: 0.8722747443565503 and parameters: {'max_depth': 3, 'min_samples_split': 8, 'min_samples_leaf': 10}. Best is trial 0 with value: 0.8844298668724677.\u001b[0m\n",
            "\u001b[32m[I 2021-08-15 15:05:13,524]\u001b[0m Trial 3 finished with value: 0.8863592513988038 and parameters: {'max_depth': 9, 'min_samples_split': 10, 'min_samples_leaf': 15}. Best is trial 3 with value: 0.8863592513988038.\u001b[0m\n",
            "\u001b[32m[I 2021-08-15 15:05:13,543]\u001b[0m Trial 4 finished with value: 0.8863592513988038 and parameters: {'max_depth': 11, 'min_samples_split': 4, 'min_samples_leaf': 14}. Best is trial 3 with value: 0.8863592513988038.\u001b[0m\n",
            "\u001b[32m[I 2021-08-15 15:05:13,563]\u001b[0m Trial 5 finished with value: 0.8859733744935365 and parameters: {'max_depth': 7, 'min_samples_split': 4, 'min_samples_leaf': 7}. Best is trial 3 with value: 0.8863592513988038.\u001b[0m\n",
            "\u001b[32m[I 2021-08-15 15:05:13,578]\u001b[0m Trial 6 finished with value: 0.8799922824618946 and parameters: {'max_depth': 4, 'min_samples_split': 3, 'min_samples_leaf': 13}. Best is trial 3 with value: 0.8863592513988038.\u001b[0m\n",
            "\u001b[32m[I 2021-08-15 15:05:13,699]\u001b[0m Trial 7 finished with value: 0.8863592513988038 and parameters: {'max_depth': 8, 'min_samples_split': 8, 'min_samples_leaf': 14}. Best is trial 3 with value: 0.8863592513988038.\u001b[0m\n",
            "\u001b[32m[I 2021-08-15 15:05:13,718]\u001b[0m Trial 8 finished with value: 0.8863592513988038 and parameters: {'max_depth': 9, 'min_samples_split': 5, 'min_samples_leaf': 15}. Best is trial 3 with value: 0.8863592513988038.\u001b[0m\n",
            "\u001b[32m[I 2021-08-15 15:05:13,736]\u001b[0m Trial 9 finished with value: 0.8859733744935365 and parameters: {'max_depth': 7, 'min_samples_split': 14, 'min_samples_leaf': 6}. Best is trial 3 with value: 0.8863592513988038.\u001b[0m\n",
            "\u001b[32m[I 2021-08-15 15:05:13,750]\u001b[0m Trial 10 finished with value: 0.819988423692842 and parameters: {'max_depth': 1, 'min_samples_split': 11, 'min_samples_leaf': 11}. Best is trial 3 with value: 0.8863592513988038.\u001b[0m\n",
            "\u001b[32m[I 2021-08-15 15:05:13,773]\u001b[0m Trial 11 finished with value: 0.8863592513988038 and parameters: {'max_depth': 11, 'min_samples_split': 11, 'min_samples_leaf': 12}. Best is trial 3 with value: 0.8863592513988038.\u001b[0m\n",
            "\u001b[32m[I 2021-08-15 15:05:13,796]\u001b[0m Trial 12 finished with value: 0.8863592513988038 and parameters: {'max_depth': 11, 'min_samples_split': 6, 'min_samples_leaf': 15}. Best is trial 3 with value: 0.8863592513988038.\u001b[0m\n",
            "\u001b[32m[I 2021-08-15 15:05:13,819]\u001b[0m Trial 13 finished with value: 0.8863592513988038 and parameters: {'max_depth': 11, 'min_samples_split': 10, 'min_samples_leaf': 13}. Best is trial 3 with value: 0.8863592513988038.\u001b[0m\n",
            "\u001b[32m[I 2021-08-15 15:05:13,844]\u001b[0m Trial 14 finished with value: 0.8852016206830021 and parameters: {'max_depth': 15, 'min_samples_split': 14, 'min_samples_leaf': 15}. Best is trial 3 with value: 0.8863592513988038.\u001b[0m\n",
            "\u001b[32m[I 2021-08-15 15:05:13,863]\u001b[0m Trial 15 finished with value: 0.8846228053251013 and parameters: {'max_depth': 5, 'min_samples_split': 6, 'min_samples_leaf': 8}. Best is trial 3 with value: 0.8863592513988038.\u001b[0m\n",
            "\u001b[32m[I 2021-08-15 15:05:13,887]\u001b[0m Trial 16 finished with value: 0.8863592513988038 and parameters: {'max_depth': 10, 'min_samples_split': 9, 'min_samples_leaf': 12}. Best is trial 3 with value: 0.8863592513988038.\u001b[0m\n",
            "\u001b[32m[I 2021-08-15 15:05:13,911]\u001b[0m Trial 17 finished with value: 0.8863592513988038 and parameters: {'max_depth': 12, 'min_samples_split': 5, 'min_samples_leaf': 13}. Best is trial 3 with value: 0.8863592513988038.\u001b[0m\n",
            "\u001b[32m[I 2021-08-15 15:05:13,931]\u001b[0m Trial 18 finished with value: 0.8861663129461702 and parameters: {'max_depth': 6, 'min_samples_split': 13, 'min_samples_leaf': 11}. Best is trial 3 with value: 0.8863592513988038.\u001b[0m\n",
            "\u001b[32m[I 2021-08-15 15:05:13,955]\u001b[0m Trial 19 finished with value: 0.8863592513988038 and parameters: {'max_depth': 10, 'min_samples_split': 9, 'min_samples_leaf': 12}. Best is trial 3 with value: 0.8863592513988038.\u001b[0m\n",
            "\u001b[32m[I 2021-08-15 15:05:13,980]\u001b[0m Trial 20 finished with value: 0.8853945591356357 and parameters: {'max_depth': 13, 'min_samples_split': 7, 'min_samples_leaf': 10}. Best is trial 3 with value: 0.8863592513988038.\u001b[0m\n",
            "\u001b[32m[I 2021-08-15 15:05:14,019]\u001b[0m Trial 21 finished with value: 0.8863592513988038 and parameters: {'max_depth': 12, 'min_samples_split': 3, 'min_samples_leaf': 14}. Best is trial 3 with value: 0.8863592513988038.\u001b[0m\n",
            "\u001b[32m[I 2021-08-15 15:05:14,049]\u001b[0m Trial 22 finished with value: 0.8863592513988038 and parameters: {'max_depth': 12, 'min_samples_split': 6, 'min_samples_leaf': 14}. Best is trial 3 with value: 0.8863592513988038.\u001b[0m\n",
            "\u001b[32m[I 2021-08-15 15:05:14,073]\u001b[0m Trial 23 finished with value: 0.8863592513988038 and parameters: {'max_depth': 9, 'min_samples_split': 12, 'min_samples_leaf': 12}. Best is trial 3 with value: 0.8863592513988038.\u001b[0m\n",
            "\u001b[32m[I 2021-08-15 15:05:14,099]\u001b[0m Trial 24 finished with value: 0.8863592513988038 and parameters: {'max_depth': 14, 'min_samples_split': 15, 'min_samples_leaf': 12}. Best is trial 3 with value: 0.8863592513988038.\u001b[0m\n",
            "\u001b[32m[I 2021-08-15 15:05:14,125]\u001b[0m Trial 25 finished with value: 0.8863592513988038 and parameters: {'max_depth': 12, 'min_samples_split': 3, 'min_samples_leaf': 14}. Best is trial 3 with value: 0.8863592513988038.\u001b[0m\n",
            "\u001b[32m[I 2021-08-15 15:05:14,148]\u001b[0m Trial 26 finished with value: 0.8863592513988038 and parameters: {'max_depth': 9, 'min_samples_split': 6, 'min_samples_leaf': 15}. Best is trial 3 with value: 0.8863592513988038.\u001b[0m\n",
            "\u001b[32m[I 2021-08-15 15:05:14,175]\u001b[0m Trial 27 finished with value: 0.8853945591356357 and parameters: {'max_depth': 15, 'min_samples_split': 15, 'min_samples_leaf': 10}. Best is trial 3 with value: 0.8863592513988038.\u001b[0m\n",
            "\u001b[32m[I 2021-08-15 15:05:14,199]\u001b[0m Trial 28 finished with value: 0.8863592513988038 and parameters: {'max_depth': 10, 'min_samples_split': 9, 'min_samples_leaf': 13}. Best is trial 3 with value: 0.8863592513988038.\u001b[0m\n",
            "\u001b[32m[I 2021-08-15 15:05:14,226]\u001b[0m Trial 29 finished with value: 0.8844298668724677 and parameters: {'max_depth': 13, 'min_samples_split': 9, 'min_samples_leaf': 9}. Best is trial 3 with value: 0.8863592513988038.\u001b[0m\n",
            "\u001b[32m[I 2021-08-15 15:05:14,251]\u001b[0m Trial 30 finished with value: 0.8861663129461702 and parameters: {'max_depth': 10, 'min_samples_split': 12, 'min_samples_leaf': 11}. Best is trial 3 with value: 0.8863592513988038.\u001b[0m\n",
            "\u001b[32m[I 2021-08-15 15:05:14,277]\u001b[0m Trial 31 finished with value: 0.8863592513988038 and parameters: {'max_depth': 12, 'min_samples_split': 4, 'min_samples_leaf': 13}. Best is trial 3 with value: 0.8863592513988038.\u001b[0m\n",
            "\u001b[32m[I 2021-08-15 15:05:14,306]\u001b[0m Trial 32 finished with value: 0.8863592513988038 and parameters: {'max_depth': 13, 'min_samples_split': 4, 'min_samples_leaf': 14}. Best is trial 3 with value: 0.8863592513988038.\u001b[0m\n",
            "\u001b[32m[I 2021-08-15 15:05:14,330]\u001b[0m Trial 33 finished with value: 0.8863592513988038 and parameters: {'max_depth': 8, 'min_samples_split': 8, 'min_samples_leaf': 13}. Best is trial 3 with value: 0.8863592513988038.\u001b[0m\n",
            "\u001b[32m[I 2021-08-15 15:05:14,357]\u001b[0m Trial 34 finished with value: 0.8834651746092996 and parameters: {'max_depth': 10, 'min_samples_split': 7, 'min_samples_leaf': 4}. Best is trial 3 with value: 0.8863592513988038.\u001b[0m\n",
            "\u001b[32m[I 2021-08-15 15:05:14,384]\u001b[0m Trial 35 finished with value: 0.8863592513988038 and parameters: {'max_depth': 14, 'min_samples_split': 5, 'min_samples_leaf': 15}. Best is trial 3 with value: 0.8863592513988038.\u001b[0m\n",
            "\u001b[32m[I 2021-08-15 15:05:14,412]\u001b[0m Trial 36 finished with value: 0.8863592513988038 and parameters: {'max_depth': 14, 'min_samples_split': 4, 'min_samples_leaf': 13}. Best is trial 3 with value: 0.8863592513988038.\u001b[0m\n",
            "\u001b[32m[I 2021-08-15 15:05:14,438]\u001b[0m Trial 37 finished with value: 0.8863592513988038 and parameters: {'max_depth': 14, 'min_samples_split': 12, 'min_samples_leaf': 12}. Best is trial 3 with value: 0.8863592513988038.\u001b[0m\n",
            "\u001b[32m[I 2021-08-15 15:05:14,465]\u001b[0m Trial 38 finished with value: 0.8853945591356357 and parameters: {'max_depth': 14, 'min_samples_split': 13, 'min_samples_leaf': 11}. Best is trial 3 with value: 0.8863592513988038.\u001b[0m\n",
            "\u001b[32m[I 2021-08-15 15:05:14,489]\u001b[0m Trial 39 finished with value: 0.885780436040903 and parameters: {'max_depth': 8, 'min_samples_split': 15, 'min_samples_leaf': 8}. Best is trial 3 with value: 0.8863592513988038.\u001b[0m\n",
            "\u001b[32m[I 2021-08-15 15:05:14,512]\u001b[0m Trial 40 finished with value: 0.8863592513988038 and parameters: {'max_depth': 7, 'min_samples_split': 11, 'min_samples_leaf': 10}. Best is trial 3 with value: 0.8863592513988038.\u001b[0m\n",
            "\u001b[32m[I 2021-08-15 15:05:14,534]\u001b[0m Trial 41 finished with value: 0.8861663129461702 and parameters: {'max_depth': 6, 'min_samples_split': 3, 'min_samples_leaf': 10}. Best is trial 3 with value: 0.8863592513988038.\u001b[0m\n",
            "\u001b[32m[I 2021-08-15 15:05:14,557]\u001b[0m Trial 42 finished with value: 0.8863592513988038 and parameters: {'max_depth': 8, 'min_samples_split': 8, 'min_samples_leaf': 12}. Best is trial 3 with value: 0.8863592513988038.\u001b[0m\n",
            "\u001b[32m[I 2021-08-15 15:05:14,584]\u001b[0m Trial 43 finished with value: 0.8852016206830021 and parameters: {'max_depth': 15, 'min_samples_split': 5, 'min_samples_leaf': 14}. Best is trial 3 with value: 0.8863592513988038.\u001b[0m\n",
            "\u001b[32m[I 2021-08-15 15:05:14,611]\u001b[0m Trial 44 finished with value: 0.8863592513988038 and parameters: {'max_depth': 12, 'min_samples_split': 4, 'min_samples_leaf': 15}. Best is trial 3 with value: 0.8863592513988038.\u001b[0m\n",
            "\u001b[32m[I 2021-08-15 15:05:14,637]\u001b[0m Trial 45 finished with value: 0.8863592513988038 and parameters: {'max_depth': 12, 'min_samples_split': 3, 'min_samples_leaf': 14}. Best is trial 3 with value: 0.8863592513988038.\u001b[0m\n",
            "\u001b[32m[I 2021-08-15 15:05:14,662]\u001b[0m Trial 46 finished with value: 0.8863592513988038 and parameters: {'max_depth': 11, 'min_samples_split': 14, 'min_samples_leaf': 14}. Best is trial 3 with value: 0.8863592513988038.\u001b[0m\n",
            "\u001b[32m[I 2021-08-15 15:05:14,689]\u001b[0m Trial 47 finished with value: 0.8863592513988038 and parameters: {'max_depth': 13, 'min_samples_split': 3, 'min_samples_leaf': 14}. Best is trial 3 with value: 0.8863592513988038.\u001b[0m\n",
            "\u001b[32m[I 2021-08-15 15:05:14,715]\u001b[0m Trial 48 finished with value: 0.8863592513988038 and parameters: {'max_depth': 11, 'min_samples_split': 15, 'min_samples_leaf': 14}. Best is trial 3 with value: 0.8863592513988038.\u001b[0m\n",
            "\u001b[32m[I 2021-08-15 15:05:14,740]\u001b[0m Trial 49 finished with value: 0.8863592513988038 and parameters: {'max_depth': 9, 'min_samples_split': 13, 'min_samples_leaf': 15}. Best is trial 3 with value: 0.8863592513988038.\u001b[0m\n"
          ],
          "name": "stderr"
        },
        {
          "output_type": "stream",
          "text": [
            "FrozenTrial(number=3, values=[0.8863592513988038], datetime_start=datetime.datetime(2021, 8, 15, 15, 5, 13, 508141), datetime_complete=datetime.datetime(2021, 8, 15, 15, 5, 13, 523758), params={'max_depth': 9, 'min_samples_split': 10, 'min_samples_leaf': 15}, distributions={'max_depth': IntUniformDistribution(high=15, low=1, step=1), 'min_samples_split': IntUniformDistribution(high=15, low=3, step=1), 'min_samples_leaf': IntUniformDistribution(high=15, low=3, step=1)}, user_attrs={}, system_attrs={}, intermediate_values={}, trial_id=3, state=TrialState.COMPLETE, value=None)\n"
          ],
          "name": "stdout"
        }
      ]
    },
    {
      "cell_type": "code",
      "metadata": {
        "id": "anT_rU9XV3Ij",
        "outputId": "8408313b-458d-4295-8a99-3a71885295c8",
        "colab": {
          "base_uri": "https://localhost:8080/"
        }
      },
      "source": [
        "print(study_dt.best_trial.value)\n",
        "print(study_dt.best_trial.params)"
      ],
      "execution_count": 12,
      "outputs": [
        {
          "output_type": "stream",
          "text": [
            "0.8863592513988038\n",
            "{'max_depth': 9, 'min_samples_split': 10, 'min_samples_leaf': 15}\n"
          ],
          "name": "stdout"
        }
      ]
    },
    {
      "cell_type": "markdown",
      "metadata": {
        "id": "HMJBg2N9R7_B"
      },
      "source": [
        "### Random Forest"
      ]
    },
    {
      "cell_type": "code",
      "metadata": {
        "id": "AEXZLSYwR-Mv",
        "outputId": "858a5312-fe14-4c9e-8909-ac50e568d53a",
        "colab": {
          "base_uri": "https://localhost:8080/"
        }
      },
      "source": [
        "def objective_randomForest(trial):\n",
        "    forrest_n_estimators = trial.suggest_int('n_estimators', 100, 1000)\n",
        "    forrest_criterion = trial.suggest_categorical('criterion', ['gini', 'entropy'])\n",
        "    forrest_max_features = trial.suggest_categorical('max_features', ['auto', 'sqrt', 'log2'])\n",
        "\n",
        "    randomForrest_selection = RandomForestClassifier(n_estimators=forrest_n_estimators, criterion=forrest_criterion, max_features=forrest_max_features)\n",
        "    randomForrest_selection.fit(X_train, y_train) \n",
        "\n",
        "    prediction_validation = randomForrest_selection.predict(X_valid)\n",
        "    accuracy_validation = accuracy_score(y_valid, prediction_validation)\n",
        "\n",
        "    return accuracy_validation\n",
        "\n",
        "study_rf = optuna.create_study(direction=\"maximize\")\n",
        "study_rf.optimize(objective_randomForest, n_trials=50)\n",
        "print(study_rf.best_trial)"
      ],
      "execution_count": 13,
      "outputs": [
        {
          "output_type": "stream",
          "text": [
            "\u001b[32m[I 2021-08-15 15:05:14,778]\u001b[0m A new study created in memory with name: no-name-814404f9-e2fb-4446-991e-683e97eac712\u001b[0m\n",
            "\u001b[32m[I 2021-08-15 15:05:20,132]\u001b[0m Trial 0 finished with value: 0.8809569747250627 and parameters: {'n_estimators': 521, 'criterion': 'entropy', 'max_features': 'sqrt'}. Best is trial 0 with value: 0.8809569747250627.\u001b[0m\n",
            "\u001b[32m[I 2021-08-15 15:05:21,885]\u001b[0m Trial 1 finished with value: 0.8803781593671619 and parameters: {'n_estimators': 185, 'criterion': 'gini', 'max_features': 'log2'}. Best is trial 0 with value: 0.8809569747250627.\u001b[0m\n",
            "\u001b[32m[I 2021-08-15 15:05:25,806]\u001b[0m Trial 2 finished with value: 0.8803781593671619 and parameters: {'n_estimators': 373, 'criterion': 'entropy', 'max_features': 'log2'}. Best is trial 0 with value: 0.8809569747250627.\u001b[0m\n",
            "\u001b[32m[I 2021-08-15 15:05:32,483]\u001b[0m Trial 3 finished with value: 0.8811499131776963 and parameters: {'n_estimators': 736, 'criterion': 'gini', 'max_features': 'auto'}. Best is trial 3 with value: 0.8811499131776963.\u001b[0m\n",
            "\u001b[32m[I 2021-08-15 15:05:40,364]\u001b[0m Trial 4 finished with value: 0.8817287285355971 and parameters: {'n_estimators': 831, 'criterion': 'gini', 'max_features': 'log2'}. Best is trial 4 with value: 0.8817287285355971.\u001b[0m\n",
            "\u001b[32m[I 2021-08-15 15:05:47,243]\u001b[0m Trial 5 finished with value: 0.8803781593671619 and parameters: {'n_estimators': 731, 'criterion': 'gini', 'max_features': 'log2'}. Best is trial 4 with value: 0.8817287285355971.\u001b[0m\n",
            "\u001b[32m[I 2021-08-15 15:05:51,419]\u001b[0m Trial 6 finished with value: 0.8809569747250627 and parameters: {'n_estimators': 460, 'criterion': 'gini', 'max_features': 'sqrt'}. Best is trial 4 with value: 0.8817287285355971.\u001b[0m\n",
            "\u001b[32m[I 2021-08-15 15:05:56,968]\u001b[0m Trial 7 finished with value: 0.8801852209145282 and parameters: {'n_estimators': 545, 'criterion': 'entropy', 'max_features': 'sqrt'}. Best is trial 4 with value: 0.8817287285355971.\u001b[0m\n",
            "\u001b[32m[I 2021-08-15 15:06:04,103]\u001b[0m Trial 8 finished with value: 0.8805710978197955 and parameters: {'n_estimators': 746, 'criterion': 'gini', 'max_features': 'log2'}. Best is trial 4 with value: 0.8817287285355971.\u001b[0m\n",
            "\u001b[32m[I 2021-08-15 15:06:09,492]\u001b[0m Trial 9 finished with value: 0.8809569747250627 and parameters: {'n_estimators': 537, 'criterion': 'entropy', 'max_features': 'sqrt'}. Best is trial 4 with value: 0.8817287285355971.\u001b[0m\n",
            "\u001b[32m[I 2021-08-15 15:06:17,919]\u001b[0m Trial 10 finished with value: 0.8813428516303299 and parameters: {'n_estimators': 930, 'criterion': 'gini', 'max_features': 'auto'}. Best is trial 4 with value: 0.8817287285355971.\u001b[0m\n",
            "\u001b[32m[I 2021-08-15 15:06:26,822]\u001b[0m Trial 11 finished with value: 0.8803781593671619 and parameters: {'n_estimators': 995, 'criterion': 'gini', 'max_features': 'auto'}. Best is trial 4 with value: 0.8817287285355971.\u001b[0m\n",
            "\u001b[32m[I 2021-08-15 15:06:35,726]\u001b[0m Trial 12 finished with value: 0.8815357900829636 and parameters: {'n_estimators': 989, 'criterion': 'gini', 'max_features': 'auto'}. Best is trial 4 with value: 0.8817287285355971.\u001b[0m\n",
            "\u001b[32m[I 2021-08-15 15:06:43,492]\u001b[0m Trial 13 finished with value: 0.8796064055566274 and parameters: {'n_estimators': 864, 'criterion': 'gini', 'max_features': 'auto'}. Best is trial 4 with value: 0.8817287285355971.\u001b[0m\n",
            "\u001b[32m[I 2021-08-15 15:06:51,262]\u001b[0m Trial 14 finished with value: 0.8813428516303299 and parameters: {'n_estimators': 855, 'criterion': 'gini', 'max_features': 'auto'}. Best is trial 4 with value: 0.8817287285355971.\u001b[0m\n",
            "\u001b[32m[I 2021-08-15 15:06:57,812]\u001b[0m Trial 15 finished with value: 0.8805710978197955 and parameters: {'n_estimators': 700, 'criterion': 'gini', 'max_features': 'log2'}. Best is trial 4 with value: 0.8817287285355971.\u001b[0m\n",
            "\u001b[32m[I 2021-08-15 15:07:07,232]\u001b[0m Trial 16 finished with value: 0.8809569747250627 and parameters: {'n_estimators': 999, 'criterion': 'gini', 'max_features': 'log2'}. Best is trial 4 with value: 0.8817287285355971.\u001b[0m\n",
            "\u001b[32m[I 2021-08-15 15:07:14,778]\u001b[0m Trial 17 finished with value: 0.8803781593671619 and parameters: {'n_estimators': 842, 'criterion': 'gini', 'max_features': 'auto'}. Best is trial 4 with value: 0.8817287285355971.\u001b[0m\n",
            "\u001b[32m[I 2021-08-15 15:07:21,075]\u001b[0m Trial 18 finished with value: 0.8809569747250627 and parameters: {'n_estimators': 632, 'criterion': 'entropy', 'max_features': 'auto'}. Best is trial 4 with value: 0.8817287285355971.\u001b[0m\n",
            "\u001b[32m[I 2021-08-15 15:07:24,016]\u001b[0m Trial 19 finished with value: 0.8811499131776963 and parameters: {'n_estimators': 316, 'criterion': 'gini', 'max_features': 'log2'}. Best is trial 4 with value: 0.8817287285355971.\u001b[0m\n",
            "\u001b[32m[I 2021-08-15 15:07:32,527]\u001b[0m Trial 20 finished with value: 0.8805710978197955 and parameters: {'n_estimators': 902, 'criterion': 'gini', 'max_features': 'log2'}. Best is trial 4 with value: 0.8817287285355971.\u001b[0m\n",
            "\u001b[32m[I 2021-08-15 15:07:40,793]\u001b[0m Trial 21 finished with value: 0.8815357900829636 and parameters: {'n_estimators': 919, 'criterion': 'gini', 'max_features': 'auto'}. Best is trial 4 with value: 0.8817287285355971.\u001b[0m\n",
            "\u001b[32m[I 2021-08-15 15:07:48,293]\u001b[0m Trial 22 finished with value: 0.880764036272429 and parameters: {'n_estimators': 822, 'criterion': 'gini', 'max_features': 'auto'}. Best is trial 4 with value: 0.8817287285355971.\u001b[0m\n",
            "\u001b[32m[I 2021-08-15 15:07:56,643]\u001b[0m Trial 23 finished with value: 0.8815357900829636 and parameters: {'n_estimators': 935, 'criterion': 'gini', 'max_features': 'auto'}. Best is trial 4 with value: 0.8817287285355971.\u001b[0m\n",
            "\u001b[32m[I 2021-08-15 15:08:03,823]\u001b[0m Trial 24 finished with value: 0.8803781593671619 and parameters: {'n_estimators': 801, 'criterion': 'gini', 'max_features': 'auto'}. Best is trial 4 with value: 0.8817287285355971.\u001b[0m\n",
            "\u001b[32m[I 2021-08-15 15:08:09,684]\u001b[0m Trial 25 finished with value: 0.8817287285355971 and parameters: {'n_estimators': 637, 'criterion': 'gini', 'max_features': 'auto'}. Best is trial 4 with value: 0.8817287285355971.\u001b[0m\n",
            "\u001b[32m[I 2021-08-15 15:08:16,307]\u001b[0m Trial 26 finished with value: 0.880764036272429 and parameters: {'n_estimators': 642, 'criterion': 'entropy', 'max_features': 'auto'}. Best is trial 4 with value: 0.8817287285355971.\u001b[0m\n",
            "\u001b[32m[I 2021-08-15 15:08:22,493]\u001b[0m Trial 27 finished with value: 0.8817287285355971 and parameters: {'n_estimators': 648, 'criterion': 'gini', 'max_features': 'log2'}. Best is trial 4 with value: 0.8817287285355971.\u001b[0m\n",
            "\u001b[32m[I 2021-08-15 15:08:28,663]\u001b[0m Trial 28 finished with value: 0.8805710978197955 and parameters: {'n_estimators': 641, 'criterion': 'gini', 'max_features': 'log2'}. Best is trial 4 with value: 0.8817287285355971.\u001b[0m\n",
            "\u001b[32m[I 2021-08-15 15:08:33,669]\u001b[0m Trial 29 finished with value: 0.8815357900829636 and parameters: {'n_estimators': 468, 'criterion': 'entropy', 'max_features': 'log2'}. Best is trial 4 with value: 0.8817287285355971.\u001b[0m\n",
            "\u001b[32m[I 2021-08-15 15:08:39,464]\u001b[0m Trial 30 finished with value: 0.8803781593671619 and parameters: {'n_estimators': 629, 'criterion': 'gini', 'max_features': 'sqrt'}. Best is trial 4 with value: 0.8817287285355971.\u001b[0m\n",
            "\u001b[32m[I 2021-08-15 15:08:44,830]\u001b[0m Trial 31 finished with value: 0.8803781593671619 and parameters: {'n_estimators': 501, 'criterion': 'entropy', 'max_features': 'log2'}. Best is trial 4 with value: 0.8817287285355971.\u001b[0m\n",
            "\u001b[32m[I 2021-08-15 15:08:49,354]\u001b[0m Trial 32 finished with value: 0.8805710978197955 and parameters: {'n_estimators': 421, 'criterion': 'entropy', 'max_features': 'log2'}. Best is trial 4 with value: 0.8817287285355971.\u001b[0m\n",
            "\u001b[32m[I 2021-08-15 15:08:52,211]\u001b[0m Trial 33 finished with value: 0.8811499131776963 and parameters: {'n_estimators': 270, 'criterion': 'entropy', 'max_features': 'log2'}. Best is trial 4 with value: 0.8817287285355971.\u001b[0m\n",
            "\u001b[32m[I 2021-08-15 15:08:53,398]\u001b[0m Trial 34 finished with value: 0.8809569747250627 and parameters: {'n_estimators': 110, 'criterion': 'entropy', 'max_features': 'log2'}. Best is trial 4 with value: 0.8817287285355971.\u001b[0m\n",
            "\u001b[32m[I 2021-08-15 15:08:59,537]\u001b[0m Trial 35 finished with value: 0.8803781593671619 and parameters: {'n_estimators': 576, 'criterion': 'entropy', 'max_features': 'log2'}. Best is trial 4 with value: 0.8817287285355971.\u001b[0m\n",
            "\u001b[32m[I 2021-08-15 15:09:06,452]\u001b[0m Trial 36 finished with value: 0.8803781593671619 and parameters: {'n_estimators': 758, 'criterion': 'gini', 'max_features': 'auto'}. Best is trial 4 with value: 0.8817287285355971.\u001b[0m\n",
            "\u001b[32m[I 2021-08-15 15:09:10,562]\u001b[0m Trial 37 finished with value: 0.8801852209145282 and parameters: {'n_estimators': 390, 'criterion': 'entropy', 'max_features': 'log2'}. Best is trial 4 with value: 0.8817287285355971.\u001b[0m\n",
            "\u001b[32m[I 2021-08-15 15:09:15,566]\u001b[0m Trial 38 finished with value: 0.880764036272429 and parameters: {'n_estimators': 477, 'criterion': 'entropy', 'max_features': 'log2'}. Best is trial 4 with value: 0.8817287285355971.\u001b[0m\n",
            "\u001b[32m[I 2021-08-15 15:09:21,765]\u001b[0m Trial 39 finished with value: 0.8803781593671619 and parameters: {'n_estimators': 690, 'criterion': 'gini', 'max_features': 'sqrt'}. Best is trial 4 with value: 0.8817287285355971.\u001b[0m\n",
            "\u001b[32m[I 2021-08-15 15:09:27,153]\u001b[0m Trial 40 finished with value: 0.8811499131776963 and parameters: {'n_estimators': 577, 'criterion': 'gini', 'max_features': 'log2'}. Best is trial 4 with value: 0.8817287285355971.\u001b[0m\n",
            "\u001b[32m[I 2021-08-15 15:09:34,474]\u001b[0m Trial 41 finished with value: 0.8809569747250627 and parameters: {'n_estimators': 771, 'criterion': 'gini', 'max_features': 'log2'}. Best is trial 4 with value: 0.8817287285355971.\u001b[0m\n",
            "\u001b[32m[I 2021-08-15 15:09:38,499]\u001b[0m Trial 42 finished with value: 0.880764036272429 and parameters: {'n_estimators': 443, 'criterion': 'gini', 'max_features': 'sqrt'}. Best is trial 4 with value: 0.8817287285355971.\u001b[0m\n",
            "\u001b[32m[I 2021-08-15 15:09:46,925]\u001b[0m Trial 43 finished with value: 0.8817287285355971 and parameters: {'n_estimators': 895, 'criterion': 'gini', 'max_features': 'log2'}. Best is trial 4 with value: 0.8817287285355971.\u001b[0m\n",
            "\u001b[32m[I 2021-08-15 15:09:53,743]\u001b[0m Trial 44 finished with value: 0.8805710978197955 and parameters: {'n_estimators': 715, 'criterion': 'gini', 'max_features': 'log2'}. Best is trial 4 with value: 0.8817287285355971.\u001b[0m\n",
            "\u001b[32m[I 2021-08-15 15:10:02,427]\u001b[0m Trial 45 finished with value: 0.8819216669882307 and parameters: {'n_estimators': 951, 'criterion': 'gini', 'max_features': 'auto'}. Best is trial 45 with value: 0.8819216669882307.\u001b[0m\n",
            "\u001b[32m[I 2021-08-15 15:10:09,703]\u001b[0m Trial 46 finished with value: 0.8799922824618946 and parameters: {'n_estimators': 796, 'criterion': 'gini', 'max_features': 'auto'}. Best is trial 45 with value: 0.8819216669882307.\u001b[0m\n",
            "\u001b[32m[I 2021-08-15 15:10:17,841]\u001b[0m Trial 47 finished with value: 0.8813428516303299 and parameters: {'n_estimators': 889, 'criterion': 'gini', 'max_features': 'sqrt'}. Best is trial 45 with value: 0.8819216669882307.\u001b[0m\n",
            "\u001b[32m[I 2021-08-15 15:10:26,541]\u001b[0m Trial 48 finished with value: 0.8813428516303299 and parameters: {'n_estimators': 954, 'criterion': 'gini', 'max_features': 'auto'}. Best is trial 45 with value: 0.8819216669882307.\u001b[0m\n",
            "\u001b[32m[I 2021-08-15 15:10:34,847]\u001b[0m Trial 49 finished with value: 0.8813428516303299 and parameters: {'n_estimators': 870, 'criterion': 'gini', 'max_features': 'log2'}. Best is trial 45 with value: 0.8819216669882307.\u001b[0m\n"
          ],
          "name": "stderr"
        },
        {
          "output_type": "stream",
          "text": [
            "FrozenTrial(number=45, values=[0.8819216669882307], datetime_start=datetime.datetime(2021, 8, 15, 15, 9, 53, 744981), datetime_complete=datetime.datetime(2021, 8, 15, 15, 10, 2, 427372), params={'n_estimators': 951, 'criterion': 'gini', 'max_features': 'auto'}, distributions={'n_estimators': IntUniformDistribution(high=1000, low=100, step=1), 'criterion': CategoricalDistribution(choices=('gini', 'entropy')), 'max_features': CategoricalDistribution(choices=('auto', 'sqrt', 'log2'))}, user_attrs={}, system_attrs={}, intermediate_values={}, trial_id=45, state=TrialState.COMPLETE, value=None)\n"
          ],
          "name": "stdout"
        }
      ]
    },
    {
      "cell_type": "code",
      "metadata": {
        "id": "i8deD3QcW2u8",
        "colab": {
          "base_uri": "https://localhost:8080/"
        },
        "outputId": "0c2a181c-cd12-4c93-b498-3ef694b539fb"
      },
      "source": [
        "print(study_rf.best_trial.value)\n",
        "print(study_rf.best_trial.params)"
      ],
      "execution_count": 14,
      "outputs": [
        {
          "output_type": "stream",
          "text": [
            "0.8819216669882307\n",
            "{'n_estimators': 951, 'criterion': 'gini', 'max_features': 'auto'}\n"
          ],
          "name": "stdout"
        }
      ]
    },
    {
      "cell_type": "markdown",
      "metadata": {
        "id": "ybLaeIKAQAFI"
      },
      "source": [
        "### Naive Bayes"
      ]
    },
    {
      "cell_type": "code",
      "metadata": {
        "id": "VjWgBLsbQTDE",
        "outputId": "6da96f68-94a7-4724-b77a-ede5cd73b19e",
        "colab": {
          "base_uri": "https://localhost:8080/"
        }
      },
      "source": [
        "def objective_naiveBayes(trial):\n",
        "    nb_var_smoothing = trial.suggest_float('var_smoothing', 1e-9, 1e9, log=True)\n",
        "\n",
        "    naiveBayes_selection = GaussianNB(var_smoothing=nb_var_smoothing)\n",
        "    naiveBayes_selection.fit(X_train, y_train)     \n",
        "\n",
        "    prediction_validation = naiveBayes_selection.predict(X_valid)\n",
        "    accuracy_validation = accuracy_score(y_valid, prediction_validation)\n",
        "\n",
        "    return accuracy_validation\n",
        "\n",
        "study_nb = optuna.create_study(direction=\"maximize\")\n",
        "study_nb.optimize(objective_naiveBayes, n_trials=50)\n",
        "print(study_nb.best_trial)"
      ],
      "execution_count": 15,
      "outputs": [
        {
          "output_type": "stream",
          "text": [
            "\u001b[32m[I 2021-08-15 15:10:34,886]\u001b[0m A new study created in memory with name: no-name-958153f0-3fed-4fa3-85d7-cf86cb8c4208\u001b[0m\n",
            "\u001b[32m[I 2021-08-15 15:10:34,904]\u001b[0m Trial 0 finished with value: 0.819988423692842 and parameters: {'var_smoothing': 306.9631182608007}. Best is trial 0 with value: 0.819988423692842.\u001b[0m\n",
            "\u001b[32m[I 2021-08-15 15:10:34,918]\u001b[0m Trial 1 finished with value: 0.819988423692842 and parameters: {'var_smoothing': 56512985.99715345}. Best is trial 0 with value: 0.819988423692842.\u001b[0m\n",
            "\u001b[32m[I 2021-08-15 15:10:34,928]\u001b[0m Trial 2 finished with value: 0.8143932085664672 and parameters: {'var_smoothing': 6.69732922040443e-05}. Best is trial 0 with value: 0.819988423692842.\u001b[0m\n",
            "\u001b[32m[I 2021-08-15 15:10:34,938]\u001b[0m Trial 3 finished with value: 0.8143932085664672 and parameters: {'var_smoothing': 0.0002454127560356398}. Best is trial 0 with value: 0.819988423692842.\u001b[0m\n",
            "\u001b[32m[I 2021-08-15 15:10:34,949]\u001b[0m Trial 4 finished with value: 0.819988423692842 and parameters: {'var_smoothing': 1569952.360597796}. Best is trial 0 with value: 0.819988423692842.\u001b[0m\n",
            "\u001b[32m[I 2021-08-15 15:10:34,959]\u001b[0m Trial 5 finished with value: 0.819988423692842 and parameters: {'var_smoothing': 12996015.351935124}. Best is trial 0 with value: 0.819988423692842.\u001b[0m\n",
            "\u001b[32m[I 2021-08-15 15:10:34,970]\u001b[0m Trial 6 finished with value: 0.8197954852402084 and parameters: {'var_smoothing': 1.0015705305669236}. Best is trial 0 with value: 0.819988423692842.\u001b[0m\n",
            "\u001b[32m[I 2021-08-15 15:10:34,980]\u001b[0m Trial 7 finished with value: 0.819988423692842 and parameters: {'var_smoothing': 20.109137766213944}. Best is trial 0 with value: 0.819988423692842.\u001b[0m\n",
            "\u001b[32m[I 2021-08-15 15:10:34,991]\u001b[0m Trial 8 finished with value: 0.8697665444723134 and parameters: {'var_smoothing': 2.40101296867091e-06}. Best is trial 8 with value: 0.8697665444723134.\u001b[0m\n",
            "\u001b[32m[I 2021-08-15 15:10:35,001]\u001b[0m Trial 9 finished with value: 0.819988423692842 and parameters: {'var_smoothing': 667.3070786014447}. Best is trial 8 with value: 0.8697665444723134.\u001b[0m\n",
            "\u001b[32m[I 2021-08-15 15:10:35,013]\u001b[0m Trial 10 finished with value: 0.7302720432182134 and parameters: {'var_smoothing': 2.1402503383105627e-08}. Best is trial 8 with value: 0.8697665444723134.\u001b[0m\n",
            "\u001b[32m[I 2021-08-15 15:10:35,024]\u001b[0m Trial 11 finished with value: 0.8143932085664672 and parameters: {'var_smoothing': 0.00035164234612285666}. Best is trial 8 with value: 0.8697665444723134.\u001b[0m\n",
            "\u001b[32m[I 2021-08-15 15:10:35,036]\u001b[0m Trial 12 finished with value: 0.7302720432182134 and parameters: {'var_smoothing': 5.303958675569993e-09}. Best is trial 8 with value: 0.8697665444723134.\u001b[0m\n",
            "\u001b[32m[I 2021-08-15 15:10:35,047]\u001b[0m Trial 13 finished with value: 0.8143932085664672 and parameters: {'var_smoothing': 0.031112884284831135}. Best is trial 8 with value: 0.8697665444723134.\u001b[0m\n",
            "\u001b[32m[I 2021-08-15 15:10:35,058]\u001b[0m Trial 14 finished with value: 0.819988423692842 and parameters: {'var_smoothing': 2344.884390671652}. Best is trial 8 with value: 0.8697665444723134.\u001b[0m\n",
            "\u001b[32m[I 2021-08-15 15:10:35,070]\u001b[0m Trial 15 finished with value: 0.819988423692842 and parameters: {'var_smoothing': 50468.93786571334}. Best is trial 8 with value: 0.8697665444723134.\u001b[0m\n",
            "\u001b[32m[I 2021-08-15 15:10:35,083]\u001b[0m Trial 16 finished with value: 0.8722747443565503 and parameters: {'var_smoothing': 5.620575209913383e-07}. Best is trial 16 with value: 0.8722747443565503.\u001b[0m\n",
            "\u001b[32m[I 2021-08-15 15:10:35,095]\u001b[0m Trial 17 finished with value: 0.7302720432182134 and parameters: {'var_smoothing': 5.810595468331901e-08}. Best is trial 16 with value: 0.8722747443565503.\u001b[0m\n",
            "\u001b[32m[I 2021-08-15 15:10:35,107]\u001b[0m Trial 18 finished with value: 0.869959482924947 and parameters: {'var_smoothing': 1.926421991181483e-06}. Best is trial 16 with value: 0.8722747443565503.\u001b[0m\n",
            "\u001b[32m[I 2021-08-15 15:10:35,120]\u001b[0m Trial 19 finished with value: 0.8703453598302142 and parameters: {'var_smoothing': 1.4983438797155103e-06}. Best is trial 16 with value: 0.8722747443565503.\u001b[0m\n",
            "\u001b[32m[I 2021-08-15 15:10:35,136]\u001b[0m Trial 20 finished with value: 0.8143932085664672 and parameters: {'var_smoothing': 0.06811488817337354}. Best is trial 16 with value: 0.8722747443565503.\u001b[0m\n",
            "\u001b[32m[I 2021-08-15 15:10:35,148]\u001b[0m Trial 21 finished with value: 0.8703453598302142 and parameters: {'var_smoothing': 1.4683081069219365e-06}. Best is trial 16 with value: 0.8722747443565503.\u001b[0m\n",
            "\u001b[32m[I 2021-08-15 15:10:35,160]\u001b[0m Trial 22 finished with value: 0.8720818059039166 and parameters: {'var_smoothing': 1.2636325483645494e-06}. Best is trial 16 with value: 0.8722747443565503.\u001b[0m\n",
            "\u001b[32m[I 2021-08-15 15:10:35,173]\u001b[0m Trial 23 finished with value: 0.7302720432182134 and parameters: {'var_smoothing': 2.228273381503794e-09}. Best is trial 16 with value: 0.8722747443565503.\u001b[0m\n",
            "\u001b[32m[I 2021-08-15 15:10:35,186]\u001b[0m Trial 24 finished with value: 0.8143932085664672 and parameters: {'var_smoothing': 0.004354190936901298}. Best is trial 16 with value: 0.8722747443565503.\u001b[0m\n",
            "\u001b[32m[I 2021-08-15 15:10:35,198]\u001b[0m Trial 25 finished with value: 0.8724676828091839 and parameters: {'var_smoothing': 3.5300573712871084e-07}. Best is trial 25 with value: 0.8724676828091839.\u001b[0m\n",
            "\u001b[32m[I 2021-08-15 15:10:35,211]\u001b[0m Trial 26 finished with value: 0.7302720432182134 and parameters: {'var_smoothing': 1.2839479235158548e-07}. Best is trial 25 with value: 0.8724676828091839.\u001b[0m\n",
            "\u001b[32m[I 2021-08-15 15:10:35,223]\u001b[0m Trial 27 finished with value: 0.8111132548716959 and parameters: {'var_smoothing': 1.8606975951921398e-05}. Best is trial 25 with value: 0.8724676828091839.\u001b[0m\n",
            "\u001b[32m[I 2021-08-15 15:10:35,235]\u001b[0m Trial 28 finished with value: 0.8143932085664672 and parameters: {'var_smoothing': 0.00154678826375659}. Best is trial 25 with value: 0.8724676828091839.\u001b[0m\n",
            "\u001b[32m[I 2021-08-15 15:10:35,248]\u001b[0m Trial 29 finished with value: 0.8730464981670847 and parameters: {'var_smoothing': 1.8753756875332642e-07}. Best is trial 29 with value: 0.8730464981670847.\u001b[0m\n",
            "\u001b[32m[I 2021-08-15 15:10:35,261]\u001b[0m Trial 30 finished with value: 0.7302720432182134 and parameters: {'var_smoothing': 2.157666080029203e-09}. Best is trial 29 with value: 0.8730464981670847.\u001b[0m\n",
            "\u001b[32m[I 2021-08-15 15:10:35,274]\u001b[0m Trial 31 finished with value: 0.7302720432182134 and parameters: {'var_smoothing': 5.9178023948065746e-08}. Best is trial 29 with value: 0.8730464981670847.\u001b[0m\n",
            "\u001b[32m[I 2021-08-15 15:10:35,288]\u001b[0m Trial 32 finished with value: 0.809569747250627 and parameters: {'var_smoothing': 6.123065957595481e-06}. Best is trial 29 with value: 0.8730464981670847.\u001b[0m\n",
            "\u001b[32m[I 2021-08-15 15:10:35,304]\u001b[0m Trial 33 finished with value: 0.8724676828091839 and parameters: {'var_smoothing': 2.55023534568482e-07}. Best is trial 29 with value: 0.8730464981670847.\u001b[0m\n",
            "\u001b[32m[I 2021-08-15 15:10:35,323]\u001b[0m Trial 34 finished with value: 0.8143932085664672 and parameters: {'var_smoothing': 9.752794440998662e-05}. Best is trial 29 with value: 0.8730464981670847.\u001b[0m\n",
            "\u001b[32m[I 2021-08-15 15:10:35,336]\u001b[0m Trial 35 finished with value: 0.8730464981670847 and parameters: {'var_smoothing': 1.8677516374450425e-07}. Best is trial 29 with value: 0.8730464981670847.\u001b[0m\n",
            "\u001b[32m[I 2021-08-15 15:10:35,349]\u001b[0m Trial 36 finished with value: 0.8143932085664672 and parameters: {'var_smoothing': 4.142344715031695e-05}. Best is trial 29 with value: 0.8730464981670847.\u001b[0m\n",
            "\u001b[32m[I 2021-08-15 15:10:35,362]\u001b[0m Trial 37 finished with value: 0.7302720432182134 and parameters: {'var_smoothing': 1.1596870830453223e-07}. Best is trial 29 with value: 0.8730464981670847.\u001b[0m\n",
            "\u001b[32m[I 2021-08-15 15:10:35,386]\u001b[0m Trial 38 finished with value: 0.7302720432182134 and parameters: {'var_smoothing': 1.0439648332655473e-09}. Best is trial 29 with value: 0.8730464981670847.\u001b[0m\n",
            "\u001b[32m[I 2021-08-15 15:10:35,403]\u001b[0m Trial 39 finished with value: 0.819988423692842 and parameters: {'var_smoothing': 2.8331067305289457}. Best is trial 29 with value: 0.8730464981670847.\u001b[0m\n",
            "\u001b[32m[I 2021-08-15 15:10:35,417]\u001b[0m Trial 40 finished with value: 0.819988423692842 and parameters: {'var_smoothing': 779318352.4711909}. Best is trial 29 with value: 0.8730464981670847.\u001b[0m\n",
            "\u001b[32m[I 2021-08-15 15:10:35,430]\u001b[0m Trial 41 finished with value: 0.8728535597144511 and parameters: {'var_smoothing': 3.747380072985391e-07}. Best is trial 29 with value: 0.8730464981670847.\u001b[0m\n",
            "\u001b[32m[I 2021-08-15 15:10:35,442]\u001b[0m Trial 42 finished with value: 0.7302720432182134 and parameters: {'var_smoothing': 2.080761186755646e-08}. Best is trial 29 with value: 0.8730464981670847.\u001b[0m\n",
            "\u001b[32m[I 2021-08-15 15:10:35,455]\u001b[0m Trial 43 finished with value: 0.8113061933243295 and parameters: {'var_smoothing': 1.1005859404375638e-05}. Best is trial 29 with value: 0.8730464981670847.\u001b[0m\n",
            "\u001b[32m[I 2021-08-15 15:10:35,470]\u001b[0m Trial 44 finished with value: 0.8726606212618174 and parameters: {'var_smoothing': 2.292702079589156e-07}. Best is trial 29 with value: 0.8730464981670847.\u001b[0m\n",
            "\u001b[32m[I 2021-08-15 15:10:35,483]\u001b[0m Trial 45 finished with value: 0.7302720432182134 and parameters: {'var_smoothing': 1.2304072012205082e-08}. Best is trial 29 with value: 0.8730464981670847.\u001b[0m\n",
            "\u001b[32m[I 2021-08-15 15:10:35,501]\u001b[0m Trial 46 finished with value: 0.8143932085664672 and parameters: {'var_smoothing': 0.0010785648308166524}. Best is trial 29 with value: 0.8730464981670847.\u001b[0m\n",
            "\u001b[32m[I 2021-08-15 15:10:35,517]\u001b[0m Trial 47 finished with value: 0.8143932085664672 and parameters: {'var_smoothing': 0.00013764644569424906}. Best is trial 29 with value: 0.8730464981670847.\u001b[0m\n",
            "\u001b[32m[I 2021-08-15 15:10:35,531]\u001b[0m Trial 48 finished with value: 0.8143932085664672 and parameters: {'var_smoothing': 0.0264943822299948}. Best is trial 29 with value: 0.8730464981670847.\u001b[0m\n",
            "\u001b[32m[I 2021-08-15 15:10:35,548]\u001b[0m Trial 49 finished with value: 0.8724676828091839 and parameters: {'var_smoothing': 2.572240210959542e-07}. Best is trial 29 with value: 0.8730464981670847.\u001b[0m\n"
          ],
          "name": "stderr"
        },
        {
          "output_type": "stream",
          "text": [
            "FrozenTrial(number=29, values=[0.8730464981670847], datetime_start=datetime.datetime(2021, 8, 15, 15, 10, 35, 237413), datetime_complete=datetime.datetime(2021, 8, 15, 15, 10, 35, 248210), params={'var_smoothing': 1.8753756875332642e-07}, distributions={'var_smoothing': LogUniformDistribution(high=1000000000.0, low=1e-09)}, user_attrs={}, system_attrs={}, intermediate_values={}, trial_id=29, state=TrialState.COMPLETE, value=None)\n"
          ],
          "name": "stdout"
        }
      ]
    },
    {
      "cell_type": "code",
      "metadata": {
        "id": "B6zDH4ZrQsvL",
        "colab": {
          "base_uri": "https://localhost:8080/"
        },
        "outputId": "9fcae20a-3525-44ca-d980-964fb3af5ed0"
      },
      "source": [
        "print(study_nb.best_trial.value)\n",
        "print(study_nb.best_trial.params)"
      ],
      "execution_count": 16,
      "outputs": [
        {
          "output_type": "stream",
          "text": [
            "0.8730464981670847\n",
            "{'var_smoothing': 1.8753756875332642e-07}\n"
          ],
          "name": "stdout"
        }
      ]
    },
    {
      "cell_type": "markdown",
      "metadata": {
        "id": "HM_16ifCYrDm"
      },
      "source": [
        "### MLP"
      ]
    },
    {
      "cell_type": "code",
      "metadata": {
        "id": "e7zPRGEyYvHu",
        "outputId": "65140bde-62d4-40ce-8871-28cb524554ed",
        "colab": {
          "base_uri": "https://localhost:8080/",
          "height": 527
        }
      },
      "source": [
        "def objective_MLP(trial):\n",
        "\n",
        "    #mlp_selection = MLPClassifier()\n",
        "    #mlp_selection.fit(X_train, y_train)     \n",
        "\n",
        "    #prediction_validation = mlp_selection.predict(X_valid)\n",
        "    #accuracy_validation = accuracy_score(y_valid, prediction_validation)\n",
        "\n",
        "    return accuracy_validation\n",
        "\n",
        "study_mlp = optuna.create_study(direction=\"maximize\")\n",
        "study_mlp.optimize(objective_MLP, n_trials=50)\n",
        "print(study_mlp.best_trial)"
      ],
      "execution_count": 17,
      "outputs": [
        {
          "output_type": "stream",
          "text": [
            "\u001b[32m[I 2021-08-15 15:10:35,579]\u001b[0m A new study created in memory with name: no-name-160e30ba-9e37-4f6d-804a-8dfadb355072\u001b[0m\n",
            "\u001b[33m[W 2021-08-15 15:10:35,584]\u001b[0m Trial 0 failed because of the following error: NameError(\"name 'accuracy_validation' is not defined\")\n",
            "Traceback (most recent call last):\n",
            "  File \"/usr/local/lib/python3.7/dist-packages/optuna/study/_optimize.py\", line 213, in _run_trial\n",
            "    value_or_values = func(trial)\n",
            "  File \"<ipython-input-17-30c8ea155a76>\", line 9, in objective_MLP\n",
            "    return accuracy_validation\n",
            "NameError: name 'accuracy_validation' is not defined\u001b[0m\n"
          ],
          "name": "stderr"
        },
        {
          "output_type": "error",
          "ename": "NameError",
          "evalue": "ignored",
          "traceback": [
            "\u001b[0;31m---------------------------------------------------------------------------\u001b[0m",
            "\u001b[0;31mNameError\u001b[0m                                 Traceback (most recent call last)",
            "\u001b[0;32m<ipython-input-17-30c8ea155a76>\u001b[0m in \u001b[0;36m<module>\u001b[0;34m()\u001b[0m\n\u001b[1;32m     10\u001b[0m \u001b[0;34m\u001b[0m\u001b[0m\n\u001b[1;32m     11\u001b[0m \u001b[0mstudy_mlp\u001b[0m \u001b[0;34m=\u001b[0m \u001b[0moptuna\u001b[0m\u001b[0;34m.\u001b[0m\u001b[0mcreate_study\u001b[0m\u001b[0;34m(\u001b[0m\u001b[0mdirection\u001b[0m\u001b[0;34m=\u001b[0m\u001b[0;34m\"maximize\"\u001b[0m\u001b[0;34m)\u001b[0m\u001b[0;34m\u001b[0m\u001b[0;34m\u001b[0m\u001b[0m\n\u001b[0;32m---> 12\u001b[0;31m \u001b[0mstudy_mlp\u001b[0m\u001b[0;34m.\u001b[0m\u001b[0moptimize\u001b[0m\u001b[0;34m(\u001b[0m\u001b[0mobjective_MLP\u001b[0m\u001b[0;34m,\u001b[0m \u001b[0mn_trials\u001b[0m\u001b[0;34m=\u001b[0m\u001b[0;36m50\u001b[0m\u001b[0;34m)\u001b[0m\u001b[0;34m\u001b[0m\u001b[0;34m\u001b[0m\u001b[0m\n\u001b[0m\u001b[1;32m     13\u001b[0m \u001b[0mprint\u001b[0m\u001b[0;34m(\u001b[0m\u001b[0mstudy_mlp\u001b[0m\u001b[0;34m.\u001b[0m\u001b[0mbest_trial\u001b[0m\u001b[0;34m)\u001b[0m\u001b[0;34m\u001b[0m\u001b[0;34m\u001b[0m\u001b[0m\n",
            "\u001b[0;32m/usr/local/lib/python3.7/dist-packages/optuna/study/study.py\u001b[0m in \u001b[0;36moptimize\u001b[0;34m(self, func, n_trials, timeout, n_jobs, catch, callbacks, gc_after_trial, show_progress_bar)\u001b[0m\n\u001b[1;32m    407\u001b[0m             \u001b[0mcallbacks\u001b[0m\u001b[0;34m=\u001b[0m\u001b[0mcallbacks\u001b[0m\u001b[0;34m,\u001b[0m\u001b[0;34m\u001b[0m\u001b[0;34m\u001b[0m\u001b[0m\n\u001b[1;32m    408\u001b[0m             \u001b[0mgc_after_trial\u001b[0m\u001b[0;34m=\u001b[0m\u001b[0mgc_after_trial\u001b[0m\u001b[0;34m,\u001b[0m\u001b[0;34m\u001b[0m\u001b[0;34m\u001b[0m\u001b[0m\n\u001b[0;32m--> 409\u001b[0;31m             \u001b[0mshow_progress_bar\u001b[0m\u001b[0;34m=\u001b[0m\u001b[0mshow_progress_bar\u001b[0m\u001b[0;34m,\u001b[0m\u001b[0;34m\u001b[0m\u001b[0;34m\u001b[0m\u001b[0m\n\u001b[0m\u001b[1;32m    410\u001b[0m         )\n\u001b[1;32m    411\u001b[0m \u001b[0;34m\u001b[0m\u001b[0m\n",
            "\u001b[0;32m/usr/local/lib/python3.7/dist-packages/optuna/study/_optimize.py\u001b[0m in \u001b[0;36m_optimize\u001b[0;34m(study, func, n_trials, timeout, n_jobs, catch, callbacks, gc_after_trial, show_progress_bar)\u001b[0m\n\u001b[1;32m     74\u001b[0m                 \u001b[0mreseed_sampler_rng\u001b[0m\u001b[0;34m=\u001b[0m\u001b[0;32mFalse\u001b[0m\u001b[0;34m,\u001b[0m\u001b[0;34m\u001b[0m\u001b[0;34m\u001b[0m\u001b[0m\n\u001b[1;32m     75\u001b[0m                 \u001b[0mtime_start\u001b[0m\u001b[0;34m=\u001b[0m\u001b[0;32mNone\u001b[0m\u001b[0;34m,\u001b[0m\u001b[0;34m\u001b[0m\u001b[0;34m\u001b[0m\u001b[0m\n\u001b[0;32m---> 76\u001b[0;31m                 \u001b[0mprogress_bar\u001b[0m\u001b[0;34m=\u001b[0m\u001b[0mprogress_bar\u001b[0m\u001b[0;34m,\u001b[0m\u001b[0;34m\u001b[0m\u001b[0;34m\u001b[0m\u001b[0m\n\u001b[0m\u001b[1;32m     77\u001b[0m             )\n\u001b[1;32m     78\u001b[0m         \u001b[0;32melse\u001b[0m\u001b[0;34m:\u001b[0m\u001b[0;34m\u001b[0m\u001b[0;34m\u001b[0m\u001b[0m\n",
            "\u001b[0;32m/usr/local/lib/python3.7/dist-packages/optuna/study/_optimize.py\u001b[0m in \u001b[0;36m_optimize_sequential\u001b[0;34m(study, func, n_trials, timeout, catch, callbacks, gc_after_trial, reseed_sampler_rng, time_start, progress_bar)\u001b[0m\n\u001b[1;32m    161\u001b[0m \u001b[0;34m\u001b[0m\u001b[0m\n\u001b[1;32m    162\u001b[0m         \u001b[0;32mtry\u001b[0m\u001b[0;34m:\u001b[0m\u001b[0;34m\u001b[0m\u001b[0;34m\u001b[0m\u001b[0m\n\u001b[0;32m--> 163\u001b[0;31m             \u001b[0mtrial\u001b[0m \u001b[0;34m=\u001b[0m \u001b[0m_run_trial\u001b[0m\u001b[0;34m(\u001b[0m\u001b[0mstudy\u001b[0m\u001b[0;34m,\u001b[0m \u001b[0mfunc\u001b[0m\u001b[0;34m,\u001b[0m \u001b[0mcatch\u001b[0m\u001b[0;34m)\u001b[0m\u001b[0;34m\u001b[0m\u001b[0;34m\u001b[0m\u001b[0m\n\u001b[0m\u001b[1;32m    164\u001b[0m         \u001b[0;32mexcept\u001b[0m \u001b[0mException\u001b[0m\u001b[0;34m:\u001b[0m\u001b[0;34m\u001b[0m\u001b[0;34m\u001b[0m\u001b[0m\n\u001b[1;32m    165\u001b[0m             \u001b[0;32mraise\u001b[0m\u001b[0;34m\u001b[0m\u001b[0;34m\u001b[0m\u001b[0m\n",
            "\u001b[0;32m/usr/local/lib/python3.7/dist-packages/optuna/study/_optimize.py\u001b[0m in \u001b[0;36m_run_trial\u001b[0;34m(study, func, catch)\u001b[0m\n\u001b[1;32m    262\u001b[0m \u001b[0;34m\u001b[0m\u001b[0m\n\u001b[1;32m    263\u001b[0m     \u001b[0;32mif\u001b[0m \u001b[0mstate\u001b[0m \u001b[0;34m==\u001b[0m \u001b[0mTrialState\u001b[0m\u001b[0;34m.\u001b[0m\u001b[0mFAIL\u001b[0m \u001b[0;32mand\u001b[0m \u001b[0mfunc_err\u001b[0m \u001b[0;32mis\u001b[0m \u001b[0;32mnot\u001b[0m \u001b[0;32mNone\u001b[0m \u001b[0;32mand\u001b[0m \u001b[0;32mnot\u001b[0m \u001b[0misinstance\u001b[0m\u001b[0;34m(\u001b[0m\u001b[0mfunc_err\u001b[0m\u001b[0;34m,\u001b[0m \u001b[0mcatch\u001b[0m\u001b[0;34m)\u001b[0m\u001b[0;34m:\u001b[0m\u001b[0;34m\u001b[0m\u001b[0;34m\u001b[0m\u001b[0m\n\u001b[0;32m--> 264\u001b[0;31m         \u001b[0;32mraise\u001b[0m \u001b[0mfunc_err\u001b[0m\u001b[0;34m\u001b[0m\u001b[0;34m\u001b[0m\u001b[0m\n\u001b[0m\u001b[1;32m    265\u001b[0m     \u001b[0;32mreturn\u001b[0m \u001b[0mtrial\u001b[0m\u001b[0;34m\u001b[0m\u001b[0;34m\u001b[0m\u001b[0m\n\u001b[1;32m    266\u001b[0m \u001b[0;34m\u001b[0m\u001b[0m\n",
            "\u001b[0;32m/usr/local/lib/python3.7/dist-packages/optuna/study/_optimize.py\u001b[0m in \u001b[0;36m_run_trial\u001b[0;34m(study, func, catch)\u001b[0m\n\u001b[1;32m    211\u001b[0m \u001b[0;34m\u001b[0m\u001b[0m\n\u001b[1;32m    212\u001b[0m     \u001b[0;32mtry\u001b[0m\u001b[0;34m:\u001b[0m\u001b[0;34m\u001b[0m\u001b[0;34m\u001b[0m\u001b[0m\n\u001b[0;32m--> 213\u001b[0;31m         \u001b[0mvalue_or_values\u001b[0m \u001b[0;34m=\u001b[0m \u001b[0mfunc\u001b[0m\u001b[0;34m(\u001b[0m\u001b[0mtrial\u001b[0m\u001b[0;34m)\u001b[0m\u001b[0;34m\u001b[0m\u001b[0;34m\u001b[0m\u001b[0m\n\u001b[0m\u001b[1;32m    214\u001b[0m     \u001b[0;32mexcept\u001b[0m \u001b[0mexceptions\u001b[0m\u001b[0;34m.\u001b[0m\u001b[0mTrialPruned\u001b[0m \u001b[0;32mas\u001b[0m \u001b[0me\u001b[0m\u001b[0;34m:\u001b[0m\u001b[0;34m\u001b[0m\u001b[0;34m\u001b[0m\u001b[0m\n\u001b[1;32m    215\u001b[0m         \u001b[0;31m# TODO(mamu): Handle multi-objective cases.\u001b[0m\u001b[0;34m\u001b[0m\u001b[0;34m\u001b[0m\u001b[0;34m\u001b[0m\u001b[0m\n",
            "\u001b[0;32m<ipython-input-17-30c8ea155a76>\u001b[0m in \u001b[0;36mobjective_MLP\u001b[0;34m(trial)\u001b[0m\n\u001b[1;32m      7\u001b[0m     \u001b[0;31m#accuracy_validation = accuracy_score(y_valid, prediction_validation)\u001b[0m\u001b[0;34m\u001b[0m\u001b[0;34m\u001b[0m\u001b[0;34m\u001b[0m\u001b[0m\n\u001b[1;32m      8\u001b[0m \u001b[0;34m\u001b[0m\u001b[0m\n\u001b[0;32m----> 9\u001b[0;31m     \u001b[0;32mreturn\u001b[0m \u001b[0maccuracy_validation\u001b[0m\u001b[0;34m\u001b[0m\u001b[0;34m\u001b[0m\u001b[0m\n\u001b[0m\u001b[1;32m     10\u001b[0m \u001b[0;34m\u001b[0m\u001b[0m\n\u001b[1;32m     11\u001b[0m \u001b[0mstudy_mlp\u001b[0m \u001b[0;34m=\u001b[0m \u001b[0moptuna\u001b[0m\u001b[0;34m.\u001b[0m\u001b[0mcreate_study\u001b[0m\u001b[0;34m(\u001b[0m\u001b[0mdirection\u001b[0m\u001b[0;34m=\u001b[0m\u001b[0;34m\"maximize\"\u001b[0m\u001b[0;34m)\u001b[0m\u001b[0;34m\u001b[0m\u001b[0;34m\u001b[0m\u001b[0m\n",
            "\u001b[0;31mNameError\u001b[0m: name 'accuracy_validation' is not defined"
          ]
        }
      ]
    },
    {
      "cell_type": "code",
      "metadata": {
        "id": "7FbY8v8QY1jF"
      },
      "source": [
        "print(study_mlp.best_trial.value)\n",
        "print(study_mlp.best_trial.params)"
      ],
      "execution_count": null,
      "outputs": []
    },
    {
      "cell_type": "markdown",
      "metadata": {
        "id": "4eUNxuzEwjgX"
      },
      "source": [
        "## Diagnóstico de melhor modelo\n",
        "\n",
        "Após os testes realizados com o Random Forest, Decision Tree, Naive Bayes e MLP, encontramos que o algoritmo que melhor resultado obeteve foi blabla.\n"
      ]
    },
    {
      "cell_type": "code",
      "metadata": {
        "id": "De_chRehwnj_"
      },
      "source": [
        "## heatmap"
      ],
      "execution_count": null,
      "outputs": []
    },
    {
      "cell_type": "markdown",
      "metadata": {
        "id": "0gu_jbbCdpme"
      },
      "source": [
        "## Feature importance\n",
        "\n",
        "Verificamos o nível de relevância das colunas do dataset."
      ]
    },
    {
      "cell_type": "markdown",
      "metadata": {
        "id": "u2dT-3xlIFBU"
      },
      "source": [
        "# **MLP**"
      ]
    },
    {
      "cell_type": "code",
      "metadata": {
        "id": "twRVnMvKIHyq"
      },
      "source": [
        "import tensorflow\n",
        "from tensorflow import keras\n",
        "from tensorflow.keras import layers, optimizers, metrics, activations\n",
        "\n",
        "resolver = tensorflow.distribute.cluster_resolver.TPUClusterResolver(tpu='')\n",
        "tensorflow.config.experimental_connect_to_cluster(resolver)\n",
        "# This is the TPU initialization code that has to be at the beginning.\n",
        "tensorflow.tpu.experimental.initialize_tpu_system(resolver)\n",
        "print(\"All devices: \", tensorflow.config.list_logical_devices('TPU'))"
      ],
      "execution_count": null,
      "outputs": []
    },
    {
      "cell_type": "code",
      "metadata": {
        "id": "XyRk_bsjIezt"
      },
      "source": [
        "def MLP():\n",
        "    nu_shape = input_shape[0] * input_shape[1]\n",
        "    curve = activations.sigmoid\n",
        "    model = keras.Sequential(\n",
        "        [\n",
        "            layers.InputLayer(input_shape),\n",
        "            layers.Reshape((nu_shape,)),\n",
        "            layers.Dense(nu_shape, activation=curve),\n",
        "            layers.Dense(nu_shape, activation=curve),\n",
        "            layers.Dropout(0.1),\n",
        "            layers.Dense(nu_shape, activation=curve),\n",
        "            layers.Dense(num_classes, activation=activations.softmax)\n",
        "        ]\n",
        "    )\n",
        "    model.compile(loss=\"categorical_crossentropy\", optimizer=optimizers.SGD(learning_rate=1), metrics=[\"accuracy\", metrics.Recall(), metrics.Precision()], steps_per_execution=50)\n",
        "\n",
        "    return model"
      ],
      "execution_count": null,
      "outputs": []
    },
    {
      "cell_type": "code",
      "metadata": {
        "id": "HMlpre1oNwaK"
      },
      "source": [
        "def LSTM(hidden_layer_size, look_back = 7):\n",
        "  model = Sequential()\n",
        "  model.add(LSTM(hidden_layer_size, input_shape=(look_back,1)))\n",
        "  model.add(Dense(1)) # to have a regressor\n",
        "  model.compile(loss='mean_squared_error', optimizer='adam', steps_per_execution=50)\n",
        "  return model"
      ],
      "execution_count": null,
      "outputs": []
    }
  ]
}